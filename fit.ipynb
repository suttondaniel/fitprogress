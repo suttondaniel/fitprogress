{
 "cells": [
  {
   "attachments": {},
   "cell_type": "markdown",
   "metadata": {},
   "source": [
    "#### Flow chart\n",
    "* Strava API --> Local script (EXTRACT)\n",
    "* Local script (TRANSFORM)\n",
    "* Local script --> BigQuery (LOAD)\n",
    "* BigQuery --> Tableau (VISUALIZE)"
   ]
  },
  {
   "cell_type": "code",
   "execution_count": 22,
   "metadata": {},
   "outputs": [],
   "source": [
    "from api_calls import get_strava_data\n",
    "from get_data import prepare_data, city_state_county\n",
    "\n",
    "import pandas as pd\n",
    "#pd.options.display.max_rows = 999\n",
    "\n",
    "import time\n",
    "import datetime as dt\n",
    "import numpy as np\n",
    "from pathlib import Path\n",
    "import requests\n",
    "import json\n",
    "import urllib3\n",
    "urllib3.disable_warnings(urllib3.exceptions.InsecureRequestWarning)\n",
    "\n",
    "#import streamlit as st\n",
    "import time\n",
    "\n",
    "import plotly.express as px\n",
    "import plotly.graph_objs as go\n",
    "#import matplotlib.pyplot as plt\n",
    "\n",
    "pd.options.mode.chained_assignment = None\n"
   ]
  },
  {
   "cell_type": "code",
   "execution_count": 23,
   "metadata": {},
   "outputs": [],
   "source": [
    "from google.cloud import bigquery\n",
    "#import pandas_gbq\n",
    "import pandas as pd"
   ]
  },
  {
   "cell_type": "code",
   "execution_count": 3,
   "metadata": {},
   "outputs": [],
   "source": [
    "project_id = 'playground-371704'\n",
    "\n",
    "sql = '''\n",
    "select \n",
    "  NAME, \n",
    "  ADDRESS, \n",
    "  BLDG_SQFT, \n",
    "  Type_Description\n",
    "FROM `grocery1.grocery`\n",
    "ORDER BY 3 DESC\n",
    "LIMIT 10\n",
    "'''"
   ]
  },
  {
   "cell_type": "code",
   "execution_count": 4,
   "metadata": {},
   "outputs": [],
   "source": [
    "client = bigquery.Client(project_id)"
   ]
  },
  {
   "cell_type": "code",
   "execution_count": 5,
   "metadata": {},
   "outputs": [],
   "source": [
    "table_id = 'playground-371704.grocery1.activities'\n",
    "#schema = [\n",
    " #   bigquery.SchemaField(\"full_name\", \"STRING\", mode=\"REQUIRED\"),\n",
    "  #  bigquery.SchemaField(\"age\", \"STRING\", mode=\"REQUIRED\")]\n",
    "table = bigquery.Table(table_id)\n",
    "# table = client.create_table(table)"
   ]
  },
  {
   "cell_type": "code",
   "execution_count": 18,
   "metadata": {},
   "outputs": [
    {
     "data": {
      "text/plain": [
       "Index(['name', 'distance', 'moving_time', 'elapsed_time',\n",
       "       'total_elevation_gain', 'type'],\n",
       "      dtype='object')"
      ]
     },
     "execution_count": 18,
     "metadata": {},
     "output_type": "execute_result"
    }
   ],
   "source": [
    "activities.columns"
   ]
  },
  {
   "cell_type": "code",
   "execution_count": 20,
   "metadata": {},
   "outputs": [],
   "source": [
    "activities = pd.read_csv('strava_activities.csv')\n",
    "activities = activities.iloc[:, 2:8]"
   ]
  },
  {
   "cell_type": "code",
   "execution_count": 21,
   "metadata": {},
   "outputs": [
    {
     "data": {
      "text/plain": [
       "LoadJob<project=playground-371704, location=us-west1, id=30a8b5cf-94bc-49f8-b7bc-d217fb86bd8c>"
      ]
     },
     "execution_count": 21,
     "metadata": {},
     "output_type": "execute_result"
    }
   ],
   "source": [
    "client.load_table_from_dataframe(activities, table)"
   ]
  },
  {
   "cell_type": "code",
   "execution_count": null,
   "metadata": {},
   "outputs": [],
   "source": []
  },
  {
   "cell_type": "code",
   "execution_count": 57,
   "metadata": {},
   "outputs": [],
   "source": [
    "# run this to update the activity data\n",
    "activities_raw = get_strava_data('strava_activities.csv')\n",
    "\n",
    "# run this to use what's saved in directory\n",
    "#activities_raw = pd.read_csv('strava_activities.csv')"
   ]
  },
  {
   "cell_type": "code",
   "execution_count": 60,
   "metadata": {},
   "outputs": [],
   "source": [
    "# CLEAN THE DATA\n",
    "activities_clean = prepare_data(activities_raw)"
   ]
  },
  {
   "cell_type": "code",
   "execution_count": 61,
   "metadata": {},
   "outputs": [
    {
     "data": {
      "text/plain": [
       "NaN                                         15\n",
       "[45.559195, -122.674891]                     1\n",
       "[45.560843, -122.674843]                     1\n",
       "[45.559581, -122.674898]                     1\n",
       "[45.559429, -122.674865]                     1\n",
       "                                            ..\n",
       "[45.52720343694091, -122.60262859985232]     1\n",
       "[45.52726252935827, -122.60258166119456]     1\n",
       "[45.52647840231657, -122.6021517533809]      1\n",
       "[45.52644135430455, -122.60234059765935]     1\n",
       "[45.544204, -122.668089]                     1\n",
       "Name: start_latlng, Length: 940, dtype: int64"
      ]
     },
     "execution_count": 61,
     "metadata": {},
     "output_type": "execute_result"
    }
   ],
   "source": [
    "activities_clean.start_latlng.value_counts(dropna=False)"
   ]
  },
  {
   "cell_type": "code",
   "execution_count": 42,
   "metadata": {},
   "outputs": [],
   "source": [
    "test = activities_raw.start_latlng[1]"
   ]
  },
  {
   "cell_type": "code",
   "execution_count": 50,
   "metadata": {},
   "outputs": [
    {
     "data": {
      "text/plain": [
       "-122.60258870199323"
      ]
     },
     "execution_count": 50,
     "metadata": {},
     "output_type": "execute_result"
    }
   ],
   "source": [
    "#        return [float(coord) for coord in elem.split('[')[1].str.split(']')[0].str.split(',')]\n",
    "test[1]\n",
    "\n",
    "return [float(coord) for coord in elem]"
   ]
  },
  {
   "cell_type": "code",
   "execution_count": null,
   "metadata": {},
   "outputs": [],
   "source": [
    "activities_clean[activities_clean.index > '2022-07-08']"
   ]
  },
  {
   "cell_type": "code",
   "execution_count": null,
   "metadata": {},
   "outputs": [],
   "source": [
    "activities_clean.head()"
   ]
  },
  {
   "cell_type": "code",
   "execution_count": null,
   "metadata": {},
   "outputs": [],
   "source": [
    "runs = activities_clean[activities_clean['sport_type'] == 'Run']\n",
    "runs_2022 = runs[runs.index.year == 2022]"
   ]
  },
  {
   "cell_type": "code",
   "execution_count": null,
   "metadata": {},
   "outputs": [],
   "source": [
    "runs_2022.loc['2022-04-06':'2022-07-07'].distance.sum()"
   ]
  },
  {
   "cell_type": "code",
   "execution_count": null,
   "metadata": {},
   "outputs": [],
   "source": [
    "runs_2022[runs_2022.index > '2022-07-08'].distance.sum()"
   ]
  },
  {
   "cell_type": "code",
   "execution_count": null,
   "metadata": {},
   "outputs": [],
   "source": [
    "runs_2022.columns"
   ]
  },
  {
   "cell_type": "code",
   "execution_count": null,
   "metadata": {},
   "outputs": [],
   "source": [
    "# RUN THIS TO GET THE CITY, STATE, AND COUNTY DATA FROM THE NOMINATIM API\n",
    "activities_clean = activities_clean.apply(city_state_county, axis=1)"
   ]
  },
  {
   "cell_type": "code",
   "execution_count": null,
   "metadata": {},
   "outputs": [],
   "source": [
    "activities_clean.head()"
   ]
  },
  {
   "cell_type": "code",
   "execution_count": null,
   "metadata": {},
   "outputs": [],
   "source": [
    "# this is a geolocation unsuccessful [43.775811, -121.515433]\n",
    "\n",
    "location = geolocator.reverse('43.775811' + ',' + '-121.515433')\n"
   ]
  },
  {
   "cell_type": "code",
   "execution_count": null,
   "metadata": {},
   "outputs": [],
   "source": [
    "location.raw['address'].get('county', 'na')"
   ]
  },
  {
   "cell_type": "code",
   "execution_count": null,
   "metadata": {},
   "outputs": [],
   "source": [
    "activities = prepare_data()"
   ]
  },
  {
   "cell_type": "markdown",
   "metadata": {},
   "source": [
    "### Strava Mobile Line Graph\n",
    "Characteristics: \n",
    "* 12 weeks\n",
    "* Select your activity at the top\n",
    "* Header: Week of [Month day] - [Month day]\n",
    "* Subheaders: \n",
    "  * Distance\n",
    "  * Time in xh xxm\n",
    "  * Elevation"
   ]
  },
  {
   "cell_type": "code",
   "execution_count": null,
   "metadata": {},
   "outputs": [],
   "source": [
    "to_time_readout(runs_2022.moving_time.sum())"
   ]
  },
  {
   "cell_type": "code",
   "execution_count": null,
   "metadata": {},
   "outputs": [],
   "source": [
    "def to_time_readout(element):\n",
    "    time = element / 60 / 60\n",
    "    hrs = int(time)\n",
    "    mins = (time - hrs) * 60\n",
    "    return f'{int(round(hrs, 0))}h {int(mins)}m'\n"
   ]
  },
  {
   "cell_type": "code",
   "execution_count": null,
   "metadata": {},
   "outputs": [],
   "source": [
    "run_activities = activities[activities['sport_type'] == 'Run']\n",
    "run_by_week = run_activities.resample('W-Mon', closed='left')\n",
    "run_by_week_agg = run_by_week.agg({'distance': 'sum', 'moving_time': 'sum', 'total_elevation_gain': 'sum'})\n",
    "run_by_week_agg['total_elevation_gain'] = run_by_week_agg['total_elevation_gain'] * 3.28084\n",
    "run_by_week_agg.moving_time = run_by_week_agg.moving_time.apply(to_time_readout)\n",
    "#run_by_week_agg.moving_time = pd.to_datetime(run_by_week_agg.moving_time)\n"
   ]
  },
  {
   "cell_type": "code",
   "execution_count": null,
   "metadata": {},
   "outputs": [],
   "source": [
    "activities_by_week = activities.resample('W-Mon', closed='left')\n",
    "activities_by_week_agg = activities_by_week.agg({'distance': 'sum', 'moving_time': 'sum', 'total_elevation_gain': 'sum'})\n",
    "activities_by_week_agg['total_elevation_gain'] = activities_by_week_agg['total_elevation_gain'] * 3.28084\n",
    "activities_by_week_agg.moving_time = activities_by_week_agg.moving_time.apply(to_time_readout)\n",
    "#run_by_week_agg.moving_time = pd.to_datetime(run_by_week_agg.moving_time)"
   ]
  },
  {
   "cell_type": "code",
   "execution_count": null,
   "metadata": {},
   "outputs": [],
   "source": [
    "activities_by_week_agg"
   ]
  },
  {
   "cell_type": "code",
   "execution_count": null,
   "metadata": {},
   "outputs": [],
   "source": []
  },
  {
   "cell_type": "code",
   "execution_count": null,
   "metadata": {},
   "outputs": [],
   "source": [
    "run_by_week_agg.moving_time = run_by_week_agg.moving_time.apply(to_time_readout)"
   ]
  },
  {
   "cell_type": "code",
   "execution_count": null,
   "metadata": {},
   "outputs": [],
   "source": [
    "to_time_readout(26363)"
   ]
  },
  {
   "cell_type": "code",
   "execution_count": null,
   "metadata": {},
   "outputs": [],
   "source": [
    "run_by_week_agg"
   ]
  },
  {
   "cell_type": "code",
   "execution_count": null,
   "metadata": {},
   "outputs": [],
   "source": [
    "int(7.99)"
   ]
  },
  {
   "cell_type": "code",
   "execution_count": null,
   "metadata": {},
   "outputs": [],
   "source": [
    "(7.32 - round(26363 / 60 / 60, 0)) * 60"
   ]
  },
  {
   "cell_type": "code",
   "execution_count": null,
   "metadata": {},
   "outputs": [],
   "source": [
    "run_by_week_agg.moving_time = run_by_week_agg.moving_time.apply(lambda x: y := x, f'{int(round(x, 0))}h {int(round((y - round(y)) * 60))}m')"
   ]
  },
  {
   "cell_type": "code",
   "execution_count": null,
   "metadata": {},
   "outputs": [],
   "source": [
    "run_by_week_agg.moving_time[4].minutes"
   ]
  },
  {
   "cell_type": "code",
   "execution_count": null,
   "metadata": {},
   "outputs": [],
   "source": [
    "# week of 7/11 should be 7 hrs 19m in time\n",
    "#run_by_week_agg.moving_time = dt.timedelta(seconds=run_by_week_agg.moving_time)\n"
   ]
  },
  {
   "cell_type": "code",
   "execution_count": null,
   "metadata": {},
   "outputs": [],
   "source": [
    "f'{int(round(time_wk, 0))}h {int(round((time_wk - round(time_wk)) * 60))}m'"
   ]
  },
  {
   "cell_type": "code",
   "execution_count": null,
   "metadata": {},
   "outputs": [],
   "source": [
    "print(dt.timedelta(seconds=26363))"
   ]
  },
  {
   "cell_type": "code",
   "execution_count": null,
   "metadata": {},
   "outputs": [],
   "source": [
    "# run_by_week_display = \n",
    "#run_by_week_agg.distance.round(2)\n",
    "#run_by_week_agg.total_elevation_gain.round().astype(int)\n"
   ]
  },
  {
   "cell_type": "code",
   "execution_count": null,
   "metadata": {},
   "outputs": [],
   "source": [
    "time_wk = 26363/60/60"
   ]
  },
  {
   "cell_type": "code",
   "execution_count": null,
   "metadata": {},
   "outputs": [],
   "source": [
    "run_activities.iloc[[3]]"
   ]
  },
  {
   "cell_type": "code",
   "execution_count": null,
   "metadata": {},
   "outputs": [],
   "source": []
  },
  {
   "cell_type": "code",
   "execution_count": null,
   "metadata": {},
   "outputs": [],
   "source": [
    "# 154 ft\n",
    "run_activities.total_elevation_gain[3] * 3.28084"
   ]
  },
  {
   "cell_type": "code",
   "execution_count": null,
   "metadata": {},
   "outputs": [],
   "source": [
    "from datetime import timedelta\n",
    "\n",
    "# create timedelta\n",
    "sample_timedelta = timedelta(\n",
    "    days=40,\n",
    "    seconds=3,\n",
    "    microseconds=2,\n",
    "    milliseconds=1200,\n",
    "    minutes=3,\n",
    "    hours=23,\n",
    "    weeks=3\n",
    ")"
   ]
  },
  {
   "cell_type": "code",
   "execution_count": null,
   "metadata": {},
   "outputs": [],
   "source": [
    "sample_timedelta.seconds"
   ]
  },
  {
   "cell_type": "code",
   "execution_count": null,
   "metadata": {},
   "outputs": [],
   "source": [
    "#st.index = st.index.strftime('%B %Y')\n",
    "st"
   ]
  },
  {
   "cell_type": "code",
   "execution_count": null,
   "metadata": {},
   "outputs": [],
   "source": [
    "#strava_activities_clean[strava_activities_clean['sport_type'] == 'Run'].head(30)\n",
    "strava_activities_clean.columns"
   ]
  },
  {
   "cell_type": "code",
   "execution_count": null,
   "metadata": {},
   "outputs": [],
   "source": [
    "strava_activities_raw.start_latlng[109]"
   ]
  },
  {
   "cell_type": "code",
   "execution_count": null,
   "metadata": {},
   "outputs": [],
   "source": [
    "x = 'start_time'\n",
    "y = 'average_speed'\n",
    "df = strava_activities_clean[(strava_activities_clean.sport_type == 'Run') & (strava_activities_clean.distance.between(3.99, 8.5))]\n",
    "\n",
    "fig = px.scatter(data_frame=df, \n",
    "                        y=y,   # choice \n",
    "                        x=x,\n",
    "                        #hover_data=['distance', 'calories'], \n",
    "                        #labels=dict(x='Date', time='Time', avg_run_cadence='Average Run Cadence', avg_pace='Average Pace'), \n",
    "                        title=str(y + ' x ' + x),\n",
    "                        #size='distance',\n",
    "                        #color='distance',\n",
    "                        template='plotly',\n",
    "                        height=500, \n",
    "                        width=800, \n",
    "                        #trendline='ols'\n",
    "                        )"
   ]
  },
  {
   "cell_type": "code",
   "execution_count": null,
   "metadata": {},
   "outputs": [],
   "source": [
    "fig.show()"
   ]
  },
  {
   "cell_type": "code",
   "execution_count": null,
   "metadata": {},
   "outputs": [],
   "source": [
    "type(strava_activities_clean['start_time'][2])"
   ]
  },
  {
   "cell_type": "code",
   "execution_count": null,
   "metadata": {},
   "outputs": [],
   "source": []
  },
  {
   "cell_type": "code",
   "execution_count": null,
   "metadata": {},
   "outputs": [],
   "source": [
    "pd_dt_obj"
   ]
  },
  {
   "cell_type": "code",
   "execution_count": null,
   "metadata": {},
   "outputs": [],
   "source": [
    "pd_dt_obj + pd.Timedelta(3600, unit='sec')"
   ]
  },
  {
   "cell_type": "code",
   "execution_count": null,
   "metadata": {},
   "outputs": [],
   "source": [
    "regular_dt_obj"
   ]
  },
  {
   "cell_type": "code",
   "execution_count": null,
   "metadata": {},
   "outputs": [],
   "source": []
  },
  {
   "cell_type": "code",
   "execution_count": null,
   "metadata": {},
   "outputs": [],
   "source": [
    "df_slice = runs_2022[runs_2022['sport_type'] == 'Run'].resample('W-Mon', closed='left').distance.sum().tail(12)"
   ]
  },
  {
   "cell_type": "code",
   "execution_count": null,
   "metadata": {},
   "outputs": [],
   "source": [
    "px.line(df_slice, range_y=[0,df_slice.max()])"
   ]
  },
  {
   "cell_type": "code",
   "execution_count": null,
   "metadata": {},
   "outputs": [],
   "source": [
    "choices = {'W-Mon': '%A, %b %d %Y', 'M': '%B %Y', 'Y': '%Y'}\n",
    "choices_txt = {'By Week': 'W-Mon', 'By Month': 'M', 'By Year': 'Y'}\n",
    "\n",
    "choice_selector = st.radio('Totals by Week, Month, or Year', choices_txt.keys())\n",
    "choice = choices_txt[choice_selector]\n",
    "\n",
    "# #strava_activities_clean[strava_activities_clean['sport_type'] == 'Run'].resample('W-Mon', closed='left').distance.sum().tail(15)\n",
    "df_slice = activities[activities['sport_type'] == 'Run'].resample(choice, closed='left').distance.sum().tail(5)\n",
    "#df_slice.index = df_slice.index.strftime('%B %Y')\n",
    "df_slice.index = df_slice.index.strftime(choices[choice])\n",
    "st.dataframe(df_slice)\n",
    "\n",
    "        # #strava_activities_clean[strava_activities_clean['sport_type'] == 'Run'].resample('W-Mon', closed='left').distance.sum().tail(15)\n",
    "df_slice_2 = activities[activities['sport_type'] == 'Run'].resample(choice, closed='left')[['distance', 'total_elevation_gain']].sum().tail(5)\n",
    "#df_slice.index = df_slice.index.strftime('%B %Y')\n",
    "df_slice_2.index = df_slice_2.index.strftime(choices[choice])\n",
    "st.dataframe(df_slice_2)"
   ]
  }
 ],
 "metadata": {
  "kernelspec": {
   "display_name": "fitenv",
   "language": "python",
   "name": "python3"
  },
  "language_info": {
   "codemirror_mode": {
    "name": "ipython",
    "version": 3
   },
   "file_extension": ".py",
   "mimetype": "text/x-python",
   "name": "python",
   "nbconvert_exporter": "python",
   "pygments_lexer": "ipython3",
   "version": "3.10.4"
  },
  "orig_nbformat": 4,
  "vscode": {
   "interpreter": {
    "hash": "aa41fd63d626749efe36bc8d2d9c0cee9baac5e0011d961c92820e04ca9bec88"
   }
  }
 },
 "nbformat": 4,
 "nbformat_minor": 2
}
