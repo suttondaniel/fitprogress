{
 "metadata": {
  "language_info": {
   "codemirror_mode": {
    "name": "ipython",
    "version": 3
   },
   "file_extension": ".py",
   "mimetype": "text/x-python",
   "name": "python",
   "nbconvert_exporter": "python",
   "pygments_lexer": "ipython3",
   "version": "3.8.3-final"
  },
  "orig_nbformat": 2,
  "kernelspec": {
   "name": "python3",
   "display_name": "Python 3.8.3 64-bit ('base': conda)",
   "metadata": {
    "interpreter": {
     "hash": "2322ce920161c83c201cd4a228da5fa4455453e5eea4aa1e99995639f32427c9"
    }
   }
  }
 },
 "nbformat": 4,
 "nbformat_minor": 2,
 "cells": [
  {
   "cell_type": "code",
   "execution_count": 40,
   "metadata": {},
   "outputs": [],
   "source": [
    "import pandas as pd\n",
    "import datetime as dt\n",
    "import numpy as np\n",
    "import shutil\n",
    "import os\n",
    "from pathlib import Path\n",
    "\n",
    "import plotly.express as px\n",
    "import matplotlib.pyplot as plt"
   ]
  },
  {
   "cell_type": "code",
   "execution_count": 2,
   "metadata": {},
   "outputs": [],
   "source": [
    "p = Path.home()\n",
    "cwd = Path.cwd()\n",
    "readme = cwd / 'README.md'\n",
    "activities_csv_downloaded = str(p / 'Downloads' / 'Activities.csv')\n",
    "activities_csv_raw = str(cwd / 'data' / '01_raw' / 'Activities.csv')\n",
    "activities_csv_processed = str(cwd / 'data' / '02_processed' / 'Activities_processed.csv')"
   ]
  },
  {
   "cell_type": "code",
   "execution_count": 184,
   "metadata": {},
   "outputs": [],
   "source": [
    "activities_df_downloaded = pd.read_csv(activities_csv_downloaded)\n",
    "activities_df_raw = pd.read_csv(activities_csv_raw)\n",
    "activities_df_raw = pd.concat([activities_df_downloaded, activities_df_raw]).drop_duplicates(subset='Date')\n",
    "activities_df_raw.to_csv(activities_csv_raw)\n",
    "os.remove(activities_csv_downloaded)"
   ]
  },
  {
   "cell_type": "code",
   "execution_count": 74,
   "metadata": {},
   "outputs": [],
   "source": [
    "    data = pd.read_csv(activities_csv_processed, index_col='date', parse_dates=True)\n",
    "    data = clean_and_convert(data)\n",
    "    run, bike = split_run_and_bike(data)\n",
    "    run = clean_run_pace(run)\n",
    "    bike = clean_bike_pace(bike)"
   ]
  },
  {
   "cell_type": "code",
   "execution_count": 76,
   "metadata": {},
   "outputs": [
    {
     "output_type": "execute_result",
     "data": {
      "text/plain": [
       "DatetimeIndex(['2020-11-10 15:12:40'], dtype='datetime64[ns]', name='date', freq=None)"
      ]
     },
     "metadata": {},
     "execution_count": 76
    }
   ],
   "source": [
    "run.index[:1]"
   ]
  },
  {
   "cell_type": "code",
   "execution_count": 84,
   "metadata": {},
   "outputs": [
    {
     "output_type": "execute_result",
     "data": {
      "text/plain": [
       "Index(['activity_type', 'title', 'distance', 'calories', 'time', 'avg_hr',\n",
       "       'max_hr', 'aerobic_te', 'avg_run_cadence', 'max_run_cadence',\n",
       "       'avg_pace', 'best_pace', 'elev_gain', 'elev_loss', 'avg_stride_length'],\n",
       "      dtype='object')"
      ]
     },
     "metadata": {},
     "execution_count": 84
    }
   ],
   "source": [
    "run.columns"
   ]
  },
  {
   "cell_type": "code",
   "execution_count": 87,
   "metadata": {},
   "outputs": [
    {
     "output_type": "display_data",
     "data": {
      "application/vnd.plotly.v1+json": {
       "config": {
        "plotlyServerURL": "https://plotly.com"
       },
       "data": [
        {
         "customdata": [
          [
           3.11,
           "463"
          ],
          [
           6.26,
           "1,011"
          ],
          [
           4.35,
           "703"
          ],
          [
           4,
           "638"
          ],
          [
           4.01,
           "623"
          ],
          [
           4.01,
           "657"
          ],
          [
           3.11,
           "488"
          ],
          [
           6.21,
           "1,044"
          ],
          [
           5.02,
           "854"
          ],
          [
           4.02,
           "644"
          ],
          [
           3.11,
           "484"
          ],
          [
           5.02,
           "819"
          ],
          [
           5.01,
           "814"
          ],
          [
           3.14,
           "493"
          ],
          [
           4.02,
           "625"
          ],
          [
           3.11,
           "513"
          ],
          [
           3.14,
           "489"
          ],
          [
           5.01,
           "821"
          ],
          [
           3.11,
           "487"
          ],
          [
           4.01,
           "645"
          ],
          [
           3.11,
           "494"
          ],
          [
           2.01,
           "309"
          ],
          [
           7.02,
           "1,157"
          ],
          [
           3.11,
           "493"
          ],
          [
           3.11,
           "493"
          ],
          [
           5.02,
           "796"
          ],
          [
           4.01,
           "656"
          ],
          [
           3.13,
           "504"
          ],
          [
           3.11,
           "482"
          ],
          [
           4.02,
           "650"
          ],
          [
           4.01,
           "669"
          ],
          [
           3.11,
           "499"
          ],
          [
           6.21,
           "1,033"
          ],
          [
           3.11,
           "494"
          ],
          [
           3.11,
           "426"
          ],
          [
           3.11,
           "518"
          ],
          [
           4.01,
           "689"
          ],
          [
           2.01,
           "308"
          ],
          [
           3.11,
           "496"
          ],
          [
           1.01,
           "159"
          ],
          [
           1.01,
           "142"
          ],
          [
           2,
           "313"
          ],
          [
           3.11,
           "475"
          ],
          [
           4.02,
           "657"
          ],
          [
           3.11,
           "477"
          ],
          [
           3.1,
           "477"
          ],
          [
           3.1,
           "498"
          ],
          [
           4.01,
           "681"
          ],
          [
           3.11,
           "514"
          ],
          [
           3,
           "490"
          ],
          [
           3.01,
           "482"
          ],
          [
           4.01,
           "656"
          ],
          [
           3.11,
           "500"
          ],
          [
           3,
           "488"
          ],
          [
           3.11,
           "503"
          ],
          [
           3.1,
           "502"
          ],
          [
           3.11,
           "510"
          ],
          [
           2.01,
           "323"
          ],
          [
           2.01,
           "279"
          ],
          [
           3.01,
           "491"
          ],
          [
           3.12,
           "488"
          ],
          [
           2.01,
           "271"
          ],
          [
           2.01,
           "312"
          ],
          [
           3.11,
           "473"
          ],
          [
           4.05,
           "641"
          ],
          [
           2.01,
           "266"
          ],
          [
           2.01,
           "301"
          ],
          [
           3.01,
           "488"
          ],
          [
           3,
           "475"
          ],
          [
           3.11,
           "437"
          ],
          [
           6.22,
           "1,002"
          ],
          [
           3.11,
           "489"
          ],
          [
           4.01,
           "633"
          ],
          [
           3.13,
           "495"
          ],
          [
           3,
           "442"
          ],
          [
           2.01,
           "283"
          ],
          [
           6.24,
           "1,001"
          ],
          [
           4.01,
           "630"
          ],
          [
           3.27,
           "530"
          ],
          [
           3.1,
           "467"
          ],
          [
           4,
           "659"
          ],
          [
           3.01,
           "473"
          ],
          [
           3.01,
           "497"
          ],
          [
           2.02,
           "322"
          ],
          [
           2,
           "286"
          ],
          [
           4.01,
           "651"
          ],
          [
           2.01,
           "288"
          ],
          [
           2.01,
           "293"
          ],
          [
           3.01,
           "486"
          ],
          [
           2,
           "314"
          ],
          [
           3.12,
           "501"
          ],
          [
           3.01,
           "493"
          ],
          [
           1.01,
           "140"
          ],
          [
           2.01,
           "316"
          ],
          [
           1.46,
           "158"
          ],
          [
           2,
           "321"
          ],
          [
           5,
           "812"
          ],
          [
           2.01,
           "324"
          ],
          [
           3.01,
           "465"
          ],
          [
           3.01,
           "498"
          ],
          [
           3.01,
           "484"
          ],
          [
           3.02,
           "503"
          ],
          [
           2.01,
           "316"
          ],
          [
           2.03,
           "322"
          ],
          [
           1.01,
           "127"
          ],
          [
           2.03,
           "333"
          ],
          [
           2.02,
           "349"
          ],
          [
           2.02,
           "343"
          ],
          [
           1.44,
           "242"
          ],
          [
           2.01,
           "337"
          ],
          [
           2.22,
           "287"
          ],
          [
           1.03,
           "156"
          ],
          [
           1,
           "162"
          ],
          [
           1.02,
           "145"
          ],
          [
           0.62,
           "100"
          ],
          [
           0.78,
           "109"
          ],
          [
           1.51,
           "233"
          ],
          [
           1.04,
           "158"
          ],
          [
           1.5,
           "242"
          ],
          [
           1.03,
           "159"
          ],
          [
           1.01,
           "168"
          ],
          [
           1.01,
           "144"
          ],
          [
           11.52,
           "2,185"
          ],
          [
           2.28,
           "437"
          ],
          [
           5.01,
           "899"
          ],
          [
           6.01,
           "1,205"
          ]
         ],
         "hovertemplate": "date=%{x}<br>avg_pace=%{y}<br>distance=%{customdata[0]}<br>calories=%{customdata[1]}<extra></extra>",
         "legendgroup": "",
         "marker": {
          "color": "#636efa",
          "symbol": "circle"
         },
         "mode": "markers",
         "name": "",
         "orientation": "v",
         "showlegend": false,
         "type": "scatter",
         "x": [
          "2020-11-10T15:12:40",
          "2020-11-08T16:14:17",
          "2020-11-06T14:33:08",
          "2020-11-04T12:16:30",
          "2020-11-03T14:17:58",
          "2020-11-01T13:21:42",
          "2020-10-30T12:35:45",
          "2020-10-29T13:12:43",
          "2020-10-27T14:07:59",
          "2020-10-25T13:33:49",
          "2020-10-24T11:23:26",
          "2020-10-23T14:04:25",
          "2020-10-21T13:36:20",
          "2020-10-19T07:18:15",
          "2020-10-18T11:27:14",
          "2020-10-15T13:08:12",
          "2020-10-14T12:58:51",
          "2020-10-10T15:31:39",
          "2020-10-09T17:25:55",
          "2020-10-08T13:17:44",
          "2020-10-06T17:24:35",
          "2020-10-05T19:21:10",
          "2020-10-04T15:47:11",
          "2020-10-02T17:07:48",
          "2020-09-30T14:30:18",
          "2020-09-28T17:56:57",
          "2020-09-25T18:22:29",
          "2020-09-24T13:57:19",
          "2020-09-22T14:25:45",
          "2020-09-20T14:24:14",
          "2020-09-19T10:32:09",
          "2020-09-09T12:26:49",
          "2020-09-05T17:03:41",
          "2020-09-02T13:02:06",
          "2020-08-29T16:28:26",
          "2020-08-28T19:17:01",
          "2020-08-20T12:48:59",
          "2020-08-19T17:43:10",
          "2020-08-18T14:02:38",
          "2020-08-16T15:20:47",
          "2020-08-15T18:57:52",
          "2020-08-13T20:45:01",
          "2020-08-12T13:10:10",
          "2020-08-08T16:56:25",
          "2020-08-04T14:01:12",
          "2020-08-02T15:29:17",
          "2020-08-01T19:43:23",
          "2020-07-29T12:42:13",
          "2020-07-23T16:49:24",
          "2020-07-22T15:04:46",
          "2020-07-16T11:58:58",
          "2020-07-14T13:26:36",
          "2020-07-07T17:47:15",
          "2020-07-01T19:43:40",
          "2020-06-25T18:15:10",
          "2020-06-24T12:39:09",
          "2020-06-23T12:30:53",
          "2020-06-22T17:46:47",
          "2020-06-18T12:33:33",
          "2020-06-17T12:27:24",
          "2020-06-15T12:44:41",
          "2020-06-14T10:02:12",
          "2020-06-12T18:34:48",
          "2020-06-07T17:13:49",
          "2020-06-06T13:21:26",
          "2020-06-02T13:34:42",
          "2020-05-30T19:29:48",
          "2020-05-29T12:34:59",
          "2020-05-26T11:47:18",
          "2020-05-18T18:02:52",
          "2020-05-17T15:36:32",
          "2020-05-15T12:32:59",
          "2020-05-12T19:12:31",
          "2020-05-08T16:33:27",
          "2020-05-06T13:44:04",
          "2020-05-04T17:50:35",
          "2020-05-03T14:58:19",
          "2020-05-02T17:56:17",
          "2020-05-01T12:10:23",
          "2020-04-27T12:36:54",
          "2020-04-24T13:32:27",
          "2020-04-22T11:46:28",
          "2020-04-20T13:15:41",
          "2020-04-09T16:22:01",
          "2020-04-08T12:36:28",
          "2020-04-06T14:02:11",
          "2020-04-04T14:40:31",
          "2020-04-02T14:25:32",
          "2020-03-31T13:08:12",
          "2020-03-27T12:55:51",
          "2020-03-19T12:18:49",
          "2020-03-16T12:29:09",
          "2020-03-14T17:45:18",
          "2020-03-14T17:18:07",
          "2020-03-13T17:34:56",
          "2020-03-12T16:28:19",
          "2020-03-07T14:41:22",
          "2020-03-04T17:53:41",
          "2020-03-01T13:57:46",
          "2020-02-27T18:54:07",
          "2020-02-23T18:00:39",
          "2020-02-08T15:28:10",
          "2020-01-18T15:50:08",
          "2020-01-11T12:42:28",
          "2019-11-03T15:54:19",
          "2019-10-19T14:26:35",
          "2019-09-03T20:00:43",
          "2019-08-26T20:41:18",
          "2019-08-25T16:08:04",
          "2019-08-24T13:06:18",
          "2019-07-29T20:46:33",
          "2019-07-20T10:47:28",
          "2019-06-30T19:24:11",
          "2019-06-18T19:04:15",
          "2019-05-05T19:11:48",
          "2019-04-22T13:35:55",
          "2019-04-21T10:42:57",
          "2019-04-15T10:24:28",
          "2019-04-11T07:43:19",
          "2019-03-01T16:06:38",
          "2019-03-01T15:45:03",
          "2018-09-20T18:03:06",
          "2018-09-15T20:31:46",
          "2018-09-10T18:09:12",
          "2018-09-08T08:08:11",
          "2018-09-05T18:07:48"
         ],
         "xaxis": "x",
         "y": [
          "1900-01-01T00:08:16",
          "1900-01-01T00:09:17",
          "1900-01-01T00:08:53",
          "1900-01-01T00:08:45",
          "1900-01-01T00:08:54",
          "1900-01-01T00:09:34",
          "1900-01-01T00:09:00",
          "1900-01-01T00:09:20",
          "1900-01-01T00:09:19",
          "1900-01-01T00:09:27",
          "1900-01-01T00:08:54",
          "1900-01-01T00:09:00",
          "1900-01-01T00:09:05",
          "1900-01-01T00:09:22",
          "1900-01-01T00:08:49",
          "1900-01-01T00:09:16",
          "1900-01-01T00:09:02",
          "1900-01-01T00:09:33",
          "1900-01-01T00:09:30",
          "1900-01-01T00:09:11",
          "1900-01-01T00:09:01",
          "1900-01-01T00:09:31",
          "1900-01-01T00:09:31",
          "1900-01-01T00:09:10",
          "1900-01-01T00:08:41",
          "1900-01-01T00:09:20",
          "1900-01-01T00:09:28",
          "1900-01-01T00:09:08",
          "1900-01-01T00:09:02",
          "1900-01-01T00:09:08",
          "1900-01-01T00:09:06",
          "1900-01-01T00:08:53",
          "1900-01-01T00:09:40",
          "1900-01-01T00:09:36",
          "1900-01-01T00:08:55",
          "1900-01-01T00:09:53",
          "1900-01-01T00:09:52",
          "1900-01-01T00:08:57",
          "1900-01-01T00:09:26",
          "1900-01-01T00:09:55",
          "1900-01-01T00:07:33",
          "1900-01-01T00:09:15",
          "1900-01-01T00:08:48",
          "1900-01-01T00:09:18",
          "1900-01-01T00:09:10",
          "1900-01-01T00:09:21",
          "1900-01-01T00:09:17",
          "1900-01-01T00:09:51",
          "1900-01-01T00:09:47",
          "1900-01-01T00:09:19",
          "1900-01-01T00:09:28",
          "1900-01-01T00:09:41",
          "1900-01-01T00:09:13",
          "1900-01-01T00:09:55",
          "1900-01-01T00:09:09",
          "1900-01-01T00:09:11",
          "1900-01-01T00:09:46",
          "1900-01-01T00:09:40",
          "1900-01-01T00:08:47",
          "1900-01-01T00:09:21",
          "1900-01-01T00:09:02",
          "1900-01-01T00:08:26",
          "1900-01-01T00:09:23",
          "1900-01-01T00:08:55",
          "1900-01-01T00:09:24",
          "1900-01-01T00:08:42",
          "1900-01-01T00:09:13",
          "1900-01-01T00:09:54",
          "1900-01-01T00:09:15",
          "1900-01-01T00:08:39",
          "1900-01-01T00:09:34",
          "1900-01-01T00:09:22",
          "1900-01-01T00:09:37",
          "1900-01-01T00:09:30",
          "1900-01-01T00:08:59",
          "1900-01-01T00:08:27",
          "1900-01-01T00:10:09",
          "1900-01-01T00:09:42",
          "1900-01-01T00:09:46",
          "1900-01-01T00:09:15",
          "1900-01-01T00:09:57",
          "1900-01-01T00:09:46",
          "1900-01-01T00:09:55",
          "1900-01-01T00:09:44",
          "1900-01-01T00:09:09",
          "1900-01-01T00:10:04",
          "1900-01-01T00:09:11",
          "1900-01-01T00:09:08",
          "1900-01-01T00:09:53",
          "1900-01-01T00:10:15",
          "1900-01-01T00:09:32",
          "1900-01-01T00:10:20",
          "1900-01-01T00:08:27",
          "1900-01-01T00:09:41",
          "1900-01-01T00:10:14",
          "1900-01-01T00:10:08",
          "1900-01-01T00:10:07",
          "1900-01-01T00:09:37",
          "1900-01-01T00:10:12",
          "1900-01-01T00:10:40",
          "1900-01-01T00:10:23",
          "1900-01-01T00:10:35",
          "1900-01-01T00:09:54",
          "1900-01-01T00:10:28",
          "1900-01-01T00:09:37",
          "1900-01-01T00:10:39",
          "1900-01-01T00:10:25",
          "1900-01-01T00:11:04",
          "1900-01-01T00:10:14",
          "1900-01-01T00:09:56",
          "1900-01-01T00:19:39",
          "1900-01-01T00:10:24",
          "1900-01-01T00:10:15",
          "1900-01-01T00:10:33",
          "1900-01-01T00:11:00",
          "1900-01-01T00:10:48",
          "1900-01-01T00:10:45",
          "1900-01-01T00:10:24",
          "1900-01-01T00:10:53",
          "1900-01-01T00:12:30",
          "1900-01-01T00:10:54",
          "1900-01-01T00:09:49",
          "1900-01-01T00:21:15",
          "1900-01-01T00:12:47",
          "1900-01-01T00:11:40",
          "1900-01-01T00:10:51"
         ],
         "yaxis": "y"
        }
       ],
       "layout": {
        "legend": {
         "tracegroupgap": 0
        },
        "margin": {
         "t": 60
        },
        "template": {
         "data": {
          "bar": [
           {
            "error_x": {
             "color": "#2a3f5f"
            },
            "error_y": {
             "color": "#2a3f5f"
            },
            "marker": {
             "line": {
              "color": "#E5ECF6",
              "width": 0.5
             }
            },
            "type": "bar"
           }
          ],
          "barpolar": [
           {
            "marker": {
             "line": {
              "color": "#E5ECF6",
              "width": 0.5
             }
            },
            "type": "barpolar"
           }
          ],
          "carpet": [
           {
            "aaxis": {
             "endlinecolor": "#2a3f5f",
             "gridcolor": "white",
             "linecolor": "white",
             "minorgridcolor": "white",
             "startlinecolor": "#2a3f5f"
            },
            "baxis": {
             "endlinecolor": "#2a3f5f",
             "gridcolor": "white",
             "linecolor": "white",
             "minorgridcolor": "white",
             "startlinecolor": "#2a3f5f"
            },
            "type": "carpet"
           }
          ],
          "choropleth": [
           {
            "colorbar": {
             "outlinewidth": 0,
             "ticks": ""
            },
            "type": "choropleth"
           }
          ],
          "contour": [
           {
            "colorbar": {
             "outlinewidth": 0,
             "ticks": ""
            },
            "colorscale": [
             [
              0,
              "#0d0887"
             ],
             [
              0.1111111111111111,
              "#46039f"
             ],
             [
              0.2222222222222222,
              "#7201a8"
             ],
             [
              0.3333333333333333,
              "#9c179e"
             ],
             [
              0.4444444444444444,
              "#bd3786"
             ],
             [
              0.5555555555555556,
              "#d8576b"
             ],
             [
              0.6666666666666666,
              "#ed7953"
             ],
             [
              0.7777777777777778,
              "#fb9f3a"
             ],
             [
              0.8888888888888888,
              "#fdca26"
             ],
             [
              1,
              "#f0f921"
             ]
            ],
            "type": "contour"
           }
          ],
          "contourcarpet": [
           {
            "colorbar": {
             "outlinewidth": 0,
             "ticks": ""
            },
            "type": "contourcarpet"
           }
          ],
          "heatmap": [
           {
            "colorbar": {
             "outlinewidth": 0,
             "ticks": ""
            },
            "colorscale": [
             [
              0,
              "#0d0887"
             ],
             [
              0.1111111111111111,
              "#46039f"
             ],
             [
              0.2222222222222222,
              "#7201a8"
             ],
             [
              0.3333333333333333,
              "#9c179e"
             ],
             [
              0.4444444444444444,
              "#bd3786"
             ],
             [
              0.5555555555555556,
              "#d8576b"
             ],
             [
              0.6666666666666666,
              "#ed7953"
             ],
             [
              0.7777777777777778,
              "#fb9f3a"
             ],
             [
              0.8888888888888888,
              "#fdca26"
             ],
             [
              1,
              "#f0f921"
             ]
            ],
            "type": "heatmap"
           }
          ],
          "heatmapgl": [
           {
            "colorbar": {
             "outlinewidth": 0,
             "ticks": ""
            },
            "colorscale": [
             [
              0,
              "#0d0887"
             ],
             [
              0.1111111111111111,
              "#46039f"
             ],
             [
              0.2222222222222222,
              "#7201a8"
             ],
             [
              0.3333333333333333,
              "#9c179e"
             ],
             [
              0.4444444444444444,
              "#bd3786"
             ],
             [
              0.5555555555555556,
              "#d8576b"
             ],
             [
              0.6666666666666666,
              "#ed7953"
             ],
             [
              0.7777777777777778,
              "#fb9f3a"
             ],
             [
              0.8888888888888888,
              "#fdca26"
             ],
             [
              1,
              "#f0f921"
             ]
            ],
            "type": "heatmapgl"
           }
          ],
          "histogram": [
           {
            "marker": {
             "colorbar": {
              "outlinewidth": 0,
              "ticks": ""
             }
            },
            "type": "histogram"
           }
          ],
          "histogram2d": [
           {
            "colorbar": {
             "outlinewidth": 0,
             "ticks": ""
            },
            "colorscale": [
             [
              0,
              "#0d0887"
             ],
             [
              0.1111111111111111,
              "#46039f"
             ],
             [
              0.2222222222222222,
              "#7201a8"
             ],
             [
              0.3333333333333333,
              "#9c179e"
             ],
             [
              0.4444444444444444,
              "#bd3786"
             ],
             [
              0.5555555555555556,
              "#d8576b"
             ],
             [
              0.6666666666666666,
              "#ed7953"
             ],
             [
              0.7777777777777778,
              "#fb9f3a"
             ],
             [
              0.8888888888888888,
              "#fdca26"
             ],
             [
              1,
              "#f0f921"
             ]
            ],
            "type": "histogram2d"
           }
          ],
          "histogram2dcontour": [
           {
            "colorbar": {
             "outlinewidth": 0,
             "ticks": ""
            },
            "colorscale": [
             [
              0,
              "#0d0887"
             ],
             [
              0.1111111111111111,
              "#46039f"
             ],
             [
              0.2222222222222222,
              "#7201a8"
             ],
             [
              0.3333333333333333,
              "#9c179e"
             ],
             [
              0.4444444444444444,
              "#bd3786"
             ],
             [
              0.5555555555555556,
              "#d8576b"
             ],
             [
              0.6666666666666666,
              "#ed7953"
             ],
             [
              0.7777777777777778,
              "#fb9f3a"
             ],
             [
              0.8888888888888888,
              "#fdca26"
             ],
             [
              1,
              "#f0f921"
             ]
            ],
            "type": "histogram2dcontour"
           }
          ],
          "mesh3d": [
           {
            "colorbar": {
             "outlinewidth": 0,
             "ticks": ""
            },
            "type": "mesh3d"
           }
          ],
          "parcoords": [
           {
            "line": {
             "colorbar": {
              "outlinewidth": 0,
              "ticks": ""
             }
            },
            "type": "parcoords"
           }
          ],
          "pie": [
           {
            "automargin": true,
            "type": "pie"
           }
          ],
          "scatter": [
           {
            "marker": {
             "colorbar": {
              "outlinewidth": 0,
              "ticks": ""
             }
            },
            "type": "scatter"
           }
          ],
          "scatter3d": [
           {
            "line": {
             "colorbar": {
              "outlinewidth": 0,
              "ticks": ""
             }
            },
            "marker": {
             "colorbar": {
              "outlinewidth": 0,
              "ticks": ""
             }
            },
            "type": "scatter3d"
           }
          ],
          "scattercarpet": [
           {
            "marker": {
             "colorbar": {
              "outlinewidth": 0,
              "ticks": ""
             }
            },
            "type": "scattercarpet"
           }
          ],
          "scattergeo": [
           {
            "marker": {
             "colorbar": {
              "outlinewidth": 0,
              "ticks": ""
             }
            },
            "type": "scattergeo"
           }
          ],
          "scattergl": [
           {
            "marker": {
             "colorbar": {
              "outlinewidth": 0,
              "ticks": ""
             }
            },
            "type": "scattergl"
           }
          ],
          "scattermapbox": [
           {
            "marker": {
             "colorbar": {
              "outlinewidth": 0,
              "ticks": ""
             }
            },
            "type": "scattermapbox"
           }
          ],
          "scatterpolar": [
           {
            "marker": {
             "colorbar": {
              "outlinewidth": 0,
              "ticks": ""
             }
            },
            "type": "scatterpolar"
           }
          ],
          "scatterpolargl": [
           {
            "marker": {
             "colorbar": {
              "outlinewidth": 0,
              "ticks": ""
             }
            },
            "type": "scatterpolargl"
           }
          ],
          "scatterternary": [
           {
            "marker": {
             "colorbar": {
              "outlinewidth": 0,
              "ticks": ""
             }
            },
            "type": "scatterternary"
           }
          ],
          "surface": [
           {
            "colorbar": {
             "outlinewidth": 0,
             "ticks": ""
            },
            "colorscale": [
             [
              0,
              "#0d0887"
             ],
             [
              0.1111111111111111,
              "#46039f"
             ],
             [
              0.2222222222222222,
              "#7201a8"
             ],
             [
              0.3333333333333333,
              "#9c179e"
             ],
             [
              0.4444444444444444,
              "#bd3786"
             ],
             [
              0.5555555555555556,
              "#d8576b"
             ],
             [
              0.6666666666666666,
              "#ed7953"
             ],
             [
              0.7777777777777778,
              "#fb9f3a"
             ],
             [
              0.8888888888888888,
              "#fdca26"
             ],
             [
              1,
              "#f0f921"
             ]
            ],
            "type": "surface"
           }
          ],
          "table": [
           {
            "cells": {
             "fill": {
              "color": "#EBF0F8"
             },
             "line": {
              "color": "white"
             }
            },
            "header": {
             "fill": {
              "color": "#C8D4E3"
             },
             "line": {
              "color": "white"
             }
            },
            "type": "table"
           }
          ]
         },
         "layout": {
          "annotationdefaults": {
           "arrowcolor": "#2a3f5f",
           "arrowhead": 0,
           "arrowwidth": 1
          },
          "coloraxis": {
           "colorbar": {
            "outlinewidth": 0,
            "ticks": ""
           }
          },
          "colorscale": {
           "diverging": [
            [
             0,
             "#8e0152"
            ],
            [
             0.1,
             "#c51b7d"
            ],
            [
             0.2,
             "#de77ae"
            ],
            [
             0.3,
             "#f1b6da"
            ],
            [
             0.4,
             "#fde0ef"
            ],
            [
             0.5,
             "#f7f7f7"
            ],
            [
             0.6,
             "#e6f5d0"
            ],
            [
             0.7,
             "#b8e186"
            ],
            [
             0.8,
             "#7fbc41"
            ],
            [
             0.9,
             "#4d9221"
            ],
            [
             1,
             "#276419"
            ]
           ],
           "sequential": [
            [
             0,
             "#0d0887"
            ],
            [
             0.1111111111111111,
             "#46039f"
            ],
            [
             0.2222222222222222,
             "#7201a8"
            ],
            [
             0.3333333333333333,
             "#9c179e"
            ],
            [
             0.4444444444444444,
             "#bd3786"
            ],
            [
             0.5555555555555556,
             "#d8576b"
            ],
            [
             0.6666666666666666,
             "#ed7953"
            ],
            [
             0.7777777777777778,
             "#fb9f3a"
            ],
            [
             0.8888888888888888,
             "#fdca26"
            ],
            [
             1,
             "#f0f921"
            ]
           ],
           "sequentialminus": [
            [
             0,
             "#0d0887"
            ],
            [
             0.1111111111111111,
             "#46039f"
            ],
            [
             0.2222222222222222,
             "#7201a8"
            ],
            [
             0.3333333333333333,
             "#9c179e"
            ],
            [
             0.4444444444444444,
             "#bd3786"
            ],
            [
             0.5555555555555556,
             "#d8576b"
            ],
            [
             0.6666666666666666,
             "#ed7953"
            ],
            [
             0.7777777777777778,
             "#fb9f3a"
            ],
            [
             0.8888888888888888,
             "#fdca26"
            ],
            [
             1,
             "#f0f921"
            ]
           ]
          },
          "colorway": [
           "#636efa",
           "#EF553B",
           "#00cc96",
           "#ab63fa",
           "#FFA15A",
           "#19d3f3",
           "#FF6692",
           "#B6E880",
           "#FF97FF",
           "#FECB52"
          ],
          "font": {
           "color": "#2a3f5f"
          },
          "geo": {
           "bgcolor": "white",
           "lakecolor": "white",
           "landcolor": "#E5ECF6",
           "showlakes": true,
           "showland": true,
           "subunitcolor": "white"
          },
          "hoverlabel": {
           "align": "left"
          },
          "hovermode": "closest",
          "mapbox": {
           "style": "light"
          },
          "paper_bgcolor": "white",
          "plot_bgcolor": "#E5ECF6",
          "polar": {
           "angularaxis": {
            "gridcolor": "white",
            "linecolor": "white",
            "ticks": ""
           },
           "bgcolor": "#E5ECF6",
           "radialaxis": {
            "gridcolor": "white",
            "linecolor": "white",
            "ticks": ""
           }
          },
          "scene": {
           "xaxis": {
            "backgroundcolor": "#E5ECF6",
            "gridcolor": "white",
            "gridwidth": 2,
            "linecolor": "white",
            "showbackground": true,
            "ticks": "",
            "zerolinecolor": "white"
           },
           "yaxis": {
            "backgroundcolor": "#E5ECF6",
            "gridcolor": "white",
            "gridwidth": 2,
            "linecolor": "white",
            "showbackground": true,
            "ticks": "",
            "zerolinecolor": "white"
           },
           "zaxis": {
            "backgroundcolor": "#E5ECF6",
            "gridcolor": "white",
            "gridwidth": 2,
            "linecolor": "white",
            "showbackground": true,
            "ticks": "",
            "zerolinecolor": "white"
           }
          },
          "shapedefaults": {
           "line": {
            "color": "#2a3f5f"
           }
          },
          "ternary": {
           "aaxis": {
            "gridcolor": "white",
            "linecolor": "white",
            "ticks": ""
           },
           "baxis": {
            "gridcolor": "white",
            "linecolor": "white",
            "ticks": ""
           },
           "bgcolor": "#E5ECF6",
           "caxis": {
            "gridcolor": "white",
            "linecolor": "white",
            "ticks": ""
           }
          },
          "title": {
           "x": 0.05
          },
          "xaxis": {
           "automargin": true,
           "gridcolor": "white",
           "linecolor": "white",
           "ticks": "",
           "title": {
            "standoff": 15
           },
           "zerolinecolor": "white",
           "zerolinewidth": 2
          },
          "yaxis": {
           "automargin": true,
           "gridcolor": "white",
           "linecolor": "white",
           "ticks": "",
           "title": {
            "standoff": 15
           },
           "zerolinecolor": "white",
           "zerolinewidth": 2
          }
         }
        },
        "xaxis": {
         "anchor": "y",
         "domain": [
          0,
          1
         ],
         "title": {
          "text": "date"
         }
        },
        "yaxis": {
         "anchor": "x",
         "domain": [
          0,
          1
         ],
         "title": {
          "text": "avg_pace"
         }
        }
       }
      }
     },
     "metadata": {}
    }
   ],
   "source": [
    "fig2 = px.scatter(run, y='avg_pace', hover_data=['distance', 'calories'])\n",
    "fig2.show()"
   ]
  },
  {
   "cell_type": "code",
   "execution_count": 80,
   "metadata": {},
   "outputs": [
    {
     "output_type": "execute_result",
     "data": {
      "text/plain": [
       "33"
      ]
     },
     "metadata": {},
     "execution_count": 80
    }
   ],
   "source": [
    "x[2].minute"
   ]
  },
  {
   "cell_type": "code",
   "execution_count": 88,
   "metadata": {},
   "outputs": [
    {
     "output_type": "error",
     "ename": "TypeError",
     "evalue": "scatter() got an unexpected keyword argument 'data'",
     "traceback": [
      "\u001b[0;31m---------------------------------------------------------------------------\u001b[0m",
      "\u001b[0;31mTypeError\u001b[0m                                 Traceback (most recent call last)",
      "\u001b[0;32m<ipython-input-88-6625a5ecd89b>\u001b[0m in \u001b[0;36m<module>\u001b[0;34m\u001b[0m\n\u001b[1;32m      4\u001b[0m \u001b[0mx\u001b[0m \u001b[0;34m=\u001b[0m \u001b[0mrun\u001b[0m\u001b[0;34m.\u001b[0m\u001b[0mindex\u001b[0m\u001b[0;34m[\u001b[0m\u001b[0;34m:\u001b[0m\u001b[0;36m10\u001b[0m\u001b[0;34m]\u001b[0m\u001b[0;34m\u001b[0m\u001b[0;34m\u001b[0m\u001b[0m\n\u001b[1;32m      5\u001b[0m \u001b[0my\u001b[0m \u001b[0;34m=\u001b[0m \u001b[0mrun\u001b[0m\u001b[0;34m.\u001b[0m\u001b[0mavg_pace\u001b[0m\u001b[0;34m[\u001b[0m\u001b[0;34m:\u001b[0m\u001b[0;36m10\u001b[0m\u001b[0;34m]\u001b[0m\u001b[0;34m.\u001b[0m\u001b[0mvalues\u001b[0m\u001b[0;34m\u001b[0m\u001b[0;34m\u001b[0m\u001b[0m\n\u001b[0;32m----> 6\u001b[0;31m fig = px.scatter(data=run_slice, \n\u001b[0m\u001b[1;32m      7\u001b[0m                 \u001b[0my\u001b[0m\u001b[0;34m=\u001b[0m\u001b[0;34m'avg_pace'\u001b[0m\u001b[0;34m,\u001b[0m\u001b[0;34m\u001b[0m\u001b[0;34m\u001b[0m\u001b[0m\n\u001b[1;32m      8\u001b[0m                 \u001b[0mhover_data\u001b[0m\u001b[0;34m=\u001b[0m\u001b[0;34m[\u001b[0m\u001b[0;34m'distance'\u001b[0m\u001b[0;34m,\u001b[0m \u001b[0;34m'calories'\u001b[0m\u001b[0;34m]\u001b[0m\u001b[0;34m\u001b[0m\u001b[0;34m\u001b[0m\u001b[0m\n",
      "\u001b[0;31mTypeError\u001b[0m: scatter() got an unexpected keyword argument 'data'"
     ]
    }
   ],
   "source": [
    "#y = [8, 8.5, 9, 8.5, 8, 9, 8, 8.5, 9, 10]\n",
    "\n",
    "run_slice = run.iloc[:10]\n",
    "x = run.index[:10]\n",
    "y = run.avg_pace[:10].values\n",
    "fig = px.scatter(data_frame=run_slice, \n",
    "                y='avg_pace', \n",
    "                hover_data=['distance', 'calories']\n",
    "                )\n",
    "\n",
    "fig.show()"
   ]
  },
  {
   "cell_type": "code",
   "execution_count": 73,
   "metadata": {},
   "outputs": [],
   "source": [
    "def clean_and_convert(df):\n",
    "    df = clean_time(df)\n",
    "    df = cols_to_float(df)\n",
    "    return df\n",
    "\n",
    "def clean_run_pace(df):\n",
    "    df.best_pace = df.best_pace.apply(lambda x: dt.datetime.strptime(x, '%M:%S'))\n",
    "    #df.best_pace = df.best_pace.dt.time\n",
    "    df.avg_pace = df.avg_pace.apply(lambda x: dt.datetime.strptime(x, '%M:%S'))\n",
    "    #df.avg_pace = df.avg_pace.dt.time\n",
    "    return df\n",
    "\n",
    "def clean_bike_pace(df):\n",
    "    df.avg_pace = df.avg_pace.astype(float)\n",
    "    return df\n",
    "\n",
    "def download_to_raw():\n",
    "    activities_df_downloaded = pd.read_csv(activities_csv_downloaded)\n",
    "    activities_df_raw = pd.read_csv(activities_csv_raw)\n",
    "    activities_df_raw = pd.concat([activities_df_downloaded, activities_df_raw]).drop_duplicates(subset='Date')\n",
    "    activities_df_raw.to_csv(activities_csv_raw)\n",
    "    os.remove(activities_csv_downloaded)\n",
    "\n",
    "def prep_df(df):\n",
    "    df.columns = df.columns.str.lower().str.replace(' ', '_')\n",
    "    df.drop(df.columns[17:], axis=1, inplace=True)\n",
    "    df.drop(['favorite'], axis=1, inplace=True)\n",
    "    df.replace('--', '0', inplace=True)\n",
    "    df.date = pd.to_datetime(df.date)\n",
    "    df.set_index('date', inplace=True)\n",
    "    return df\n",
    "\n",
    "def clean_time(df):\n",
    "    df.time = df.time.apply(lambda x: x.split('.')[0])\n",
    "    df.time = df.time.apply(lambda x: dt.datetime.strptime(x, '%H:%M:%S'))\n",
    "    df.time = df.time.dt.time\n",
    "    return df\n",
    "\n",
    "def cols_to_float(df):\n",
    "    df.calories.str.replace(',', '').astype(float)\n",
    "    df.iloc[:, 5:10] = df.iloc[:, 5:10].replace('--', '0')\n",
    "    df.iloc[:, 5:10] = df.iloc[:, 5:10].astype(float)\n",
    "    return df\n",
    "\n",
    "def split_run_and_bike(df):\n",
    "    run = df[df.activity_type == 'Running']\n",
    "    bike = df[df.activity_type == 'Cycling']\n",
    "    return run, bike"
   ]
  },
  {
   "cell_type": "code",
   "execution_count": 219,
   "metadata": {},
   "outputs": [],
   "source": [
    "last_15_weeks = pd.DataFrame(data[data.activity_type == 'Running'].resample('W-MON').distance.sum().tail(15))"
   ]
  },
  {
   "cell_type": "code",
   "execution_count": 7,
   "metadata": {},
   "outputs": [],
   "source": [
    "activity_choice_last_5 = data[data.activity_type == 'Running'].head(5)"
   ]
  },
  {
   "cell_type": "code",
   "execution_count": 16,
   "metadata": {},
   "outputs": [
    {
     "output_type": "execute_result",
     "data": {
      "text/plain": [
       "                     distance calories      time avg_pace\n",
       "date                                                     \n",
       "2020-11-10 15:12:40      3.11      463  00:25:42     8:16\n",
       "2020-11-08 16:14:17      6.26    1,011  00:58:11     9:17\n",
       "2020-11-06 14:33:08      4.35      703  00:38:38     8:53\n",
       "2020-11-04 12:16:30      4.00      638  00:35:02     8:45\n",
       "2020-11-03 14:17:58      4.01      623  00:35:40     8:54"
      ],
      "text/html": "<div>\n<style scoped>\n    .dataframe tbody tr th:only-of-type {\n        vertical-align: middle;\n    }\n\n    .dataframe tbody tr th {\n        vertical-align: top;\n    }\n\n    .dataframe thead th {\n        text-align: right;\n    }\n</style>\n<table border=\"1\" class=\"dataframe\">\n  <thead>\n    <tr style=\"text-align: right;\">\n      <th></th>\n      <th>distance</th>\n      <th>calories</th>\n      <th>time</th>\n      <th>avg_pace</th>\n    </tr>\n    <tr>\n      <th>date</th>\n      <th></th>\n      <th></th>\n      <th></th>\n      <th></th>\n    </tr>\n  </thead>\n  <tbody>\n    <tr>\n      <th>2020-11-10 15:12:40</th>\n      <td>3.11</td>\n      <td>463</td>\n      <td>00:25:42</td>\n      <td>8:16</td>\n    </tr>\n    <tr>\n      <th>2020-11-08 16:14:17</th>\n      <td>6.26</td>\n      <td>1,011</td>\n      <td>00:58:11</td>\n      <td>9:17</td>\n    </tr>\n    <tr>\n      <th>2020-11-06 14:33:08</th>\n      <td>4.35</td>\n      <td>703</td>\n      <td>00:38:38</td>\n      <td>8:53</td>\n    </tr>\n    <tr>\n      <th>2020-11-04 12:16:30</th>\n      <td>4.00</td>\n      <td>638</td>\n      <td>00:35:02</td>\n      <td>8:45</td>\n    </tr>\n    <tr>\n      <th>2020-11-03 14:17:58</th>\n      <td>4.01</td>\n      <td>623</td>\n      <td>00:35:40</td>\n      <td>8:54</td>\n    </tr>\n  </tbody>\n</table>\n</div>"
     },
     "metadata": {},
     "execution_count": 16
    }
   ],
   "source": [
    "activity_choice_last_5[['distance', 'calories', 'time', 'avg_pace']].copy()"
   ]
  },
  {
   "cell_type": "code",
   "execution_count": 15,
   "metadata": {},
   "outputs": [
    {
     "output_type": "execute_result",
     "data": {
      "text/plain": [
       "177"
      ]
     },
     "metadata": {},
     "execution_count": 15
    }
   ],
   "source": [
    "bike.shape[0]"
   ]
  },
  {
   "cell_type": "code",
   "execution_count": 17,
   "metadata": {},
   "outputs": [
    {
     "output_type": "execute_result",
     "data": {
      "text/plain": [
       "                     avg_pace\n",
       "date                         \n",
       "2020-11-10 15:12:40  00:08:16\n",
       "2020-11-08 16:14:17  00:09:17\n",
       "2020-11-06 14:33:08  00:08:53\n",
       "2020-11-04 12:16:30  00:08:45\n",
       "2020-11-03 14:17:58  00:08:54\n",
       "...                       ...\n",
       "2018-09-20 18:03:06  00:09:49\n",
       "2018-09-15 20:31:46  00:21:15\n",
       "2018-09-10 18:09:12  00:12:47\n",
       "2018-09-08 08:08:11  00:11:40\n",
       "2018-09-05 18:07:48  00:10:51\n",
       "\n",
       "[126 rows x 1 columns]"
      ],
      "text/html": "<div>\n<style scoped>\n    .dataframe tbody tr th:only-of-type {\n        vertical-align: middle;\n    }\n\n    .dataframe tbody tr th {\n        vertical-align: top;\n    }\n\n    .dataframe thead th {\n        text-align: right;\n    }\n</style>\n<table border=\"1\" class=\"dataframe\">\n  <thead>\n    <tr style=\"text-align: right;\">\n      <th></th>\n      <th>avg_pace</th>\n    </tr>\n    <tr>\n      <th>date</th>\n      <th></th>\n    </tr>\n  </thead>\n  <tbody>\n    <tr>\n      <th>2020-11-10 15:12:40</th>\n      <td>00:08:16</td>\n    </tr>\n    <tr>\n      <th>2020-11-08 16:14:17</th>\n      <td>00:09:17</td>\n    </tr>\n    <tr>\n      <th>2020-11-06 14:33:08</th>\n      <td>00:08:53</td>\n    </tr>\n    <tr>\n      <th>2020-11-04 12:16:30</th>\n      <td>00:08:45</td>\n    </tr>\n    <tr>\n      <th>2020-11-03 14:17:58</th>\n      <td>00:08:54</td>\n    </tr>\n    <tr>\n      <th>...</th>\n      <td>...</td>\n    </tr>\n    <tr>\n      <th>2018-09-20 18:03:06</th>\n      <td>00:09:49</td>\n    </tr>\n    <tr>\n      <th>2018-09-15 20:31:46</th>\n      <td>00:21:15</td>\n    </tr>\n    <tr>\n      <th>2018-09-10 18:09:12</th>\n      <td>00:12:47</td>\n    </tr>\n    <tr>\n      <th>2018-09-08 08:08:11</th>\n      <td>00:11:40</td>\n    </tr>\n    <tr>\n      <th>2018-09-05 18:07:48</th>\n      <td>00:10:51</td>\n    </tr>\n  </tbody>\n</table>\n<p>126 rows × 1 columns</p>\n</div>"
     },
     "metadata": {},
     "execution_count": 17
    }
   ],
   "source": [
    "run[['avg_pace']]."
   ]
  },
  {
   "cell_type": "code",
   "execution_count": 66,
   "metadata": {},
   "outputs": [],
   "source": [
    "# I believe you're not supposed to have mixed datatypes in a dataframe.  that being said, if we do end up splitting the biking and running activities to multiple dataframes, we'll have to calculate the pace ourselves.  who am I even talking to right now? \n",
    "# final_df[final_df.activity_type == 'Cycling'].iloc[:, 10:12] = final_df[final_df.activity_type == 'Cycling'].iloc[:, 10:12].astype(float)\n",
    "# final_df[final_df.activity_type == 'Running'].iloc[:, 10:12] = final_df[final_df.activity_type == 'Running'].iloc[:, 10:12].apply(lambda x: dt.datetime.strptime(x, '%M:%S'))\n",
    "\n",
    "# "
   ]
  },
  {
   "source": [
    "### Checking for days I biked multiple times.  Every day I commuted....other days I did there and back rides....so that's a fair amount"
   ],
   "cell_type": "markdown",
   "metadata": {}
  },
  {
   "cell_type": "code",
   "execution_count": null,
   "metadata": {},
   "outputs": [],
   "source": [
    "# the keep=False keeps all the duplicates, instead of the first or the last dup\n",
    "# Syntax 1\n",
    "bike[bike.date.dt.date.duplicated(keep=False)]\n",
    "\n",
    "# Syntax 2\n",
    "#bike[bike.duplicated(subset=['date'], keep=False)].sort_index()"
   ]
  },
  {
   "cell_type": "code",
   "execution_count": null,
   "metadata": {},
   "outputs": [],
   "source": []
  },
  {
   "cell_type": "code",
   "execution_count": null,
   "metadata": {},
   "outputs": [],
   "source": [
    "#run.resample('D').distance.sum()\n",
    "last_15_weeks = pd.DataFrame(run.resample('W-MON').distance.sum().tail(15))\n",
    "\n",
    "run.set_index(\"date\", inplace=True)\n",
    "last_15_weeks = pd.DataFrame(run.resample(\"W-MON\").distance.sum().tail(15))"
   ]
  }
 ]
}