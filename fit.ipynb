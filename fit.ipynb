{
 "cells": [
  {
   "cell_type": "code",
   "execution_count": 1,
   "metadata": {},
   "outputs": [],
   "source": [
    "from geopy.geocoders import Nominatim\n",
    "from api_calls import get_strava_data\n",
    "from get_data import prepare_data"
   ]
  },
  {
   "cell_type": "code",
   "execution_count": 3,
   "metadata": {},
   "outputs": [],
   "source": [
    "import pandas as pd\n",
    "#pd.options.display.max_rows = 999\n",
    "\n",
    "import time\n",
    "import datetime as dt\n",
    "import numpy as np\n",
    "from pathlib import Path\n",
    "import requests\n",
    "import json\n",
    "import urllib3\n",
    "urllib3.disable_warnings(urllib3.exceptions.InsecureRequestWarning)\n",
    "\n",
    "import streamlit as st\n",
    "import time\n",
    "\n",
    "import plotly.express as px\n",
    "import plotly.graph_objs as go\n",
    "#import matplotlib.pyplot as plt\n",
    "\n",
    "pd.options.mode.chained_assignment = None\n"
   ]
  },
  {
   "cell_type": "code",
   "execution_count": 13,
   "metadata": {},
   "outputs": [],
   "source": [
    "# run this to update the activity data\n",
    "#activities_raw = get_strava_data('strava_activities.csv')\n",
    "\n",
    "# run this to use what's saved in directory\n",
    "activities_raw = pd.read_csv('strava_activities.csv')"
   ]
  },
  {
   "cell_type": "code",
   "execution_count": 14,
   "metadata": {},
   "outputs": [],
   "source": [
    "activities_clean = prepare_data(activities_raw)"
   ]
  },
  {
   "cell_type": "code",
   "execution_count": 15,
   "metadata": {},
   "outputs": [],
   "source": [
    "def get_float_coords(elem):\n",
    "    '''\n",
    "    converts the latitude / longitude from a string that looks like a list to a functioning list of two floats\n",
    "    '''\n",
    "    try:\n",
    "        return [float(coord) for coord in elem.split('[')[1].split(']')[0].split(',')]\n",
    "    except ValueError:\n",
    "        return np.nan"
   ]
  },
  {
   "cell_type": "code",
   "execution_count": 16,
   "metadata": {},
   "outputs": [],
   "source": [
    "activities_clean['start_latlng'] = activities_clean['start_latlng'].apply(get_float_coords)\n"
   ]
  },
  {
   "cell_type": "code",
   "execution_count": 18,
   "metadata": {},
   "outputs": [],
   "source": [
    "d = activities_clean.start_latlng[2]"
   ]
  },
  {
   "cell_type": "code",
   "execution_count": 21,
   "metadata": {},
   "outputs": [
    {
     "data": {
      "text/plain": [
       "'45.52653598599136, -122.60245366953313'"
      ]
     },
     "execution_count": 21,
     "metadata": {},
     "output_type": "execute_result"
    }
   ],
   "source": [
    "f\"{d[0]}, {d[1]}\""
   ]
  },
  {
   "cell_type": "code",
   "execution_count": 22,
   "metadata": {},
   "outputs": [],
   "source": [
    "# initialize Nominatim API\n",
    "geolocator = Nominatim(user_agent=\"geoapiExercises\")\n"
   ]
  },
  {
   "cell_type": "code",
   "execution_count": 42,
   "metadata": {},
   "outputs": [],
   "source": [
    "def city_state_county(row):\n",
    "    try:\n",
    "        lat = row['start_latlng'][0]\n",
    "        long = row['start_latlng'][1]\n",
    "        coord = f\"{str(lat)}, {str(long)}\"\n",
    "        location = geolocator.reverse(coord, exactly_one=True)\n",
    "        address = location.raw['address']\n",
    "        city = address.get('city', 'N/A')\n",
    "        state = address.get('state', 'N/A')\n",
    "        country = address.get('county', 'N/A')\n",
    "        row['city'] = city\n",
    "        row['state'] = state\n",
    "        row['county'] = county\n",
    "    except TypeError:\n",
    "        return np.nan\n",
    "    return row"
   ]
  },
  {
   "cell_type": "code",
   "execution_count": 39,
   "metadata": {},
   "outputs": [
    {
     "name": "stderr",
     "output_type": "stream",
     "text": [
      "2022-09-08 20:04:32.499 WARNING urllib3.connectionpool: Retrying (Retry(total=1, connect=None, read=None, redirect=None, status=None)) after connection broken by 'ReadTimeoutError(\"HTTPSConnectionPool(host='nominatim.openstreetmap.org', port=443): Read timed out. (read timeout=1)\")': /reverse?lat=45.527348&lon=-122.602561&format=json&addressdetails=1\n",
      "2022-09-08 20:04:34.583 WARNING urllib3.connectionpool: Retrying (Retry(total=0, connect=None, read=None, redirect=None, status=None)) after connection broken by 'ConnectTimeoutError(<urllib3.connection.HTTPSConnection object at 0x000002C21F5ED4B0>, 'Connection to nominatim.openstreetmap.org timed out. (connect timeout=1)')': /reverse?lat=45.527348&lon=-122.602561&format=json&addressdetails=1\n",
      "2022-09-08 20:05:38.946 WARNING urllib3.connectionpool: Retrying (Retry(total=1, connect=None, read=None, redirect=None, status=None)) after connection broken by 'ReadTimeoutError(\"HTTPSConnectionPool(host='nominatim.openstreetmap.org', port=443): Read timed out. (read timeout=1)\")': /reverse?lat=45.559496&lon=-122.674934&format=json&addressdetails=1\n"
     ]
    }
   ],
   "source": [
    "activities_clean = activities_clean.apply(city_state_country, axis=1)"
   ]
  },
  {
   "cell_type": "code",
   "execution_count": 40,
   "metadata": {},
   "outputs": [
    {
     "data": {
      "text/html": [
       "<div>\n",
       "<style scoped>\n",
       "    .dataframe tbody tr th:only-of-type {\n",
       "        vertical-align: middle;\n",
       "    }\n",
       "\n",
       "    .dataframe tbody tr th {\n",
       "        vertical-align: top;\n",
       "    }\n",
       "\n",
       "    .dataframe thead th {\n",
       "        text-align: right;\n",
       "    }\n",
       "</style>\n",
       "<table border=\"1\" class=\"dataframe\">\n",
       "  <thead>\n",
       "    <tr style=\"text-align: right;\">\n",
       "      <th></th>\n",
       "      <th>name</th>\n",
       "      <th>distance</th>\n",
       "      <th>moving_time</th>\n",
       "      <th>elapsed_time</th>\n",
       "      <th>total_elevation_gain</th>\n",
       "      <th>sport_type</th>\n",
       "      <th>id</th>\n",
       "      <th>achievement_count</th>\n",
       "      <th>kudos_count</th>\n",
       "      <th>comment_count</th>\n",
       "      <th>...</th>\n",
       "      <th>average_heartrate</th>\n",
       "      <th>max_heartrate</th>\n",
       "      <th>elev_high</th>\n",
       "      <th>elev_low</th>\n",
       "      <th>pr_count</th>\n",
       "      <th>suffer_score</th>\n",
       "      <th>SPM</th>\n",
       "      <th>city</th>\n",
       "      <th>state</th>\n",
       "      <th>country</th>\n",
       "    </tr>\n",
       "    <tr>\n",
       "      <th>start_time</th>\n",
       "      <th></th>\n",
       "      <th></th>\n",
       "      <th></th>\n",
       "      <th></th>\n",
       "      <th></th>\n",
       "      <th></th>\n",
       "      <th></th>\n",
       "      <th></th>\n",
       "      <th></th>\n",
       "      <th></th>\n",
       "      <th></th>\n",
       "      <th></th>\n",
       "      <th></th>\n",
       "      <th></th>\n",
       "      <th></th>\n",
       "      <th></th>\n",
       "      <th></th>\n",
       "      <th></th>\n",
       "      <th></th>\n",
       "      <th></th>\n",
       "      <th></th>\n",
       "    </tr>\n",
       "  </thead>\n",
       "  <tbody>\n",
       "    <tr>\n",
       "      <th>2022-09-08 19:30:32+00:00</th>\n",
       "      <td>Lunch Run</td>\n",
       "      <td>6.042206</td>\n",
       "      <td>3315.0</td>\n",
       "      <td>3357.0</td>\n",
       "      <td>226.37796</td>\n",
       "      <td>Run</td>\n",
       "      <td>7.776912e+09</td>\n",
       "      <td>0.0</td>\n",
       "      <td>1.0</td>\n",
       "      <td>0.0</td>\n",
       "      <td>...</td>\n",
       "      <td>147.2</td>\n",
       "      <td>161.0</td>\n",
       "      <td>290.026256</td>\n",
       "      <td>162.729664</td>\n",
       "      <td>0.0</td>\n",
       "      <td>64.0</td>\n",
       "      <td>1.158371</td>\n",
       "      <td>Portland</td>\n",
       "      <td>Oregon</td>\n",
       "      <td>United States</td>\n",
       "    </tr>\n",
       "    <tr>\n",
       "      <th>2022-09-07 18:57:18+00:00</th>\n",
       "      <td>Lunch Run</td>\n",
       "      <td>6.041088</td>\n",
       "      <td>3451.0</td>\n",
       "      <td>3473.0</td>\n",
       "      <td>649.60632</td>\n",
       "      <td>Run</td>\n",
       "      <td>7.771610e+09</td>\n",
       "      <td>3.0</td>\n",
       "      <td>2.0</td>\n",
       "      <td>0.0</td>\n",
       "      <td>...</td>\n",
       "      <td>150.5</td>\n",
       "      <td>167.0</td>\n",
       "      <td>408.792664</td>\n",
       "      <td>-32.152232</td>\n",
       "      <td>1.0</td>\n",
       "      <td>80.0</td>\n",
       "      <td>1.390901</td>\n",
       "      <td>Portland</td>\n",
       "      <td>Oregon</td>\n",
       "      <td>United States</td>\n",
       "    </tr>\n",
       "    <tr>\n",
       "      <th>2022-09-07 02:34:54+00:00</th>\n",
       "      <td>Evening Ride</td>\n",
       "      <td>9.460562</td>\n",
       "      <td>2605.0</td>\n",
       "      <td>2918.0</td>\n",
       "      <td>652.88716</td>\n",
       "      <td>Ride</td>\n",
       "      <td>7.767285e+09</td>\n",
       "      <td>10.0</td>\n",
       "      <td>2.0</td>\n",
       "      <td>0.0</td>\n",
       "      <td>...</td>\n",
       "      <td>NaN</td>\n",
       "      <td>NaN</td>\n",
       "      <td>614.829416</td>\n",
       "      <td>-184.383208</td>\n",
       "      <td>3.0</td>\n",
       "      <td>NaN</td>\n",
       "      <td>NaN</td>\n",
       "      <td>Portland</td>\n",
       "      <td>Oregon</td>\n",
       "      <td>United States</td>\n",
       "    </tr>\n",
       "    <tr>\n",
       "      <th>2022-09-06 17:03:45+00:00</th>\n",
       "      <td>Morning Run</td>\n",
       "      <td>3.022034</td>\n",
       "      <td>1582.0</td>\n",
       "      <td>1588.0</td>\n",
       "      <td>183.72704</td>\n",
       "      <td>Run</td>\n",
       "      <td>7.765027e+09</td>\n",
       "      <td>0.0</td>\n",
       "      <td>2.0</td>\n",
       "      <td>0.0</td>\n",
       "      <td>...</td>\n",
       "      <td>146.9</td>\n",
       "      <td>164.0</td>\n",
       "      <td>13.779528</td>\n",
       "      <td>-138.451448</td>\n",
       "      <td>0.0</td>\n",
       "      <td>29.0</td>\n",
       "      <td>1.099874</td>\n",
       "      <td>Portland</td>\n",
       "      <td>Oregon</td>\n",
       "      <td>United States</td>\n",
       "    </tr>\n",
       "    <tr>\n",
       "      <th>2022-09-05 16:21:30+00:00</th>\n",
       "      <td>Morning Hike</td>\n",
       "      <td>8.048160</td>\n",
       "      <td>10088.0</td>\n",
       "      <td>11687.0</td>\n",
       "      <td>1397.63784</td>\n",
       "      <td>Hike</td>\n",
       "      <td>7.760734e+09</td>\n",
       "      <td>0.0</td>\n",
       "      <td>4.0</td>\n",
       "      <td>0.0</td>\n",
       "      <td>...</td>\n",
       "      <td>99.8</td>\n",
       "      <td>143.0</td>\n",
       "      <td>1801.181160</td>\n",
       "      <td>436.351720</td>\n",
       "      <td>0.0</td>\n",
       "      <td>25.0</td>\n",
       "      <td>0.148692</td>\n",
       "      <td>N/A</td>\n",
       "      <td>California</td>\n",
       "      <td>United States</td>\n",
       "    </tr>\n",
       "  </tbody>\n",
       "</table>\n",
       "<p>5 rows × 28 columns</p>\n",
       "</div>"
      ],
      "text/plain": [
       "                                   name  distance  moving_time  elapsed_time  \\\n",
       "start_time                                                                     \n",
       "2022-09-08 19:30:32+00:00     Lunch Run  6.042206       3315.0        3357.0   \n",
       "2022-09-07 18:57:18+00:00     Lunch Run  6.041088       3451.0        3473.0   \n",
       "2022-09-07 02:34:54+00:00  Evening Ride  9.460562       2605.0        2918.0   \n",
       "2022-09-06 17:03:45+00:00   Morning Run  3.022034       1582.0        1588.0   \n",
       "2022-09-05 16:21:30+00:00  Morning Hike  8.048160      10088.0       11687.0   \n",
       "\n",
       "                           total_elevation_gain sport_type            id  \\\n",
       "start_time                                                                 \n",
       "2022-09-08 19:30:32+00:00             226.37796        Run  7.776912e+09   \n",
       "2022-09-07 18:57:18+00:00             649.60632        Run  7.771610e+09   \n",
       "2022-09-07 02:34:54+00:00             652.88716       Ride  7.767285e+09   \n",
       "2022-09-06 17:03:45+00:00             183.72704        Run  7.765027e+09   \n",
       "2022-09-05 16:21:30+00:00            1397.63784       Hike  7.760734e+09   \n",
       "\n",
       "                           achievement_count  kudos_count  comment_count  ...  \\\n",
       "start_time                                                                ...   \n",
       "2022-09-08 19:30:32+00:00                0.0          1.0            0.0  ...   \n",
       "2022-09-07 18:57:18+00:00                3.0          2.0            0.0  ...   \n",
       "2022-09-07 02:34:54+00:00               10.0          2.0            0.0  ...   \n",
       "2022-09-06 17:03:45+00:00                0.0          2.0            0.0  ...   \n",
       "2022-09-05 16:21:30+00:00                0.0          4.0            0.0  ...   \n",
       "\n",
       "                           average_heartrate max_heartrate    elev_high  \\\n",
       "start_time                                                                \n",
       "2022-09-08 19:30:32+00:00              147.2         161.0   290.026256   \n",
       "2022-09-07 18:57:18+00:00              150.5         167.0   408.792664   \n",
       "2022-09-07 02:34:54+00:00                NaN           NaN   614.829416   \n",
       "2022-09-06 17:03:45+00:00              146.9         164.0    13.779528   \n",
       "2022-09-05 16:21:30+00:00               99.8         143.0  1801.181160   \n",
       "\n",
       "                             elev_low  pr_count  suffer_score       SPM  \\\n",
       "start_time                                                                \n",
       "2022-09-08 19:30:32+00:00  162.729664       0.0          64.0  1.158371   \n",
       "2022-09-07 18:57:18+00:00  -32.152232       1.0          80.0  1.390901   \n",
       "2022-09-07 02:34:54+00:00 -184.383208       3.0           NaN       NaN   \n",
       "2022-09-06 17:03:45+00:00 -138.451448       0.0          29.0  1.099874   \n",
       "2022-09-05 16:21:30+00:00  436.351720       0.0          25.0  0.148692   \n",
       "\n",
       "                               city       state        country  \n",
       "start_time                                                      \n",
       "2022-09-08 19:30:32+00:00  Portland      Oregon  United States  \n",
       "2022-09-07 18:57:18+00:00  Portland      Oregon  United States  \n",
       "2022-09-07 02:34:54+00:00  Portland      Oregon  United States  \n",
       "2022-09-06 17:03:45+00:00  Portland      Oregon  United States  \n",
       "2022-09-05 16:21:30+00:00       N/A  California  United States  \n",
       "\n",
       "[5 rows x 28 columns]"
      ]
     },
     "execution_count": 40,
     "metadata": {},
     "output_type": "execute_result"
    }
   ],
   "source": [
    "activities_clean.head()"
   ]
  },
  {
   "cell_type": "code",
   "execution_count": 30,
   "metadata": {},
   "outputs": [],
   "source": [
    "# this is a geolocation unsuccessful [43.775811, -121.515433]\n",
    "\n",
    "location = geolocator.reverse('43.775811' + ',' + '-121.515433')\n"
   ]
  },
  {
   "cell_type": "code",
   "execution_count": 41,
   "metadata": {},
   "outputs": [
    {
     "data": {
      "text/plain": [
       "'Deschutes County'"
      ]
     },
     "execution_count": 41,
     "metadata": {},
     "output_type": "execute_result"
    }
   ],
   "source": [
    "location.raw['address'].get('county', 'na')"
   ]
  },
  {
   "cell_type": "code",
   "execution_count": 52,
   "metadata": {},
   "outputs": [],
   "source": [
    "def add_city(elem):\n",
    "    try:\n",
    "        lat = str(elem[0])\n",
    "        long = str(elem[1])\n",
    "        location = geolocator.reverse(lat + ',' + long)\n",
    "        return location.raw['address']['city']\n",
    "    except KeyError:\n",
    "        return 'geolocation unsuccessful'\n",
    "    except TypeError:\n",
    "        return np.nan"
   ]
  },
  {
   "cell_type": "code",
   "execution_count": 55,
   "metadata": {},
   "outputs": [],
   "source": [
    "strava_raw.to_csv('activities_with_cities.csv', index=False)"
   ]
  },
  {
   "cell_type": "code",
   "execution_count": 53,
   "metadata": {},
   "outputs": [],
   "source": [
    "strava_raw['city'] = strava_raw['start_latlng'].apply(add_city)"
   ]
  },
  {
   "cell_type": "code",
   "execution_count": 46,
   "metadata": {},
   "outputs": [],
   "source": [
    "location = geolocator.reverse(lat + ',' + long)"
   ]
  },
  {
   "cell_type": "code",
   "execution_count": 45,
   "metadata": {},
   "outputs": [],
   "source": [
    "lat = str(strava_raw.start_latlng[20][0])\n",
    "long = str(strava_raw.start_latlng[20][1])"
   ]
  },
  {
   "cell_type": "code",
   "execution_count": 23,
   "metadata": {},
   "outputs": [
    {
     "name": "stdout",
     "output_type": "stream",
     "text": [
      "United States Postal Service, Southwest Alder Street, Downtown, Portland, Multnomah County, Oregon, 97204, United States\n"
     ]
    }
   ],
   "source": [
    "# start_latlng    end_latlng\n",
    "\n",
    "Latitude = '45.5186696536839'\n",
    "Longitude = '-122.6742431614548'\n",
    " \n",
    "location = geolocator.reverse(Latitude+\",\"+Longitude)\n",
    " \n",
    "# Display\n",
    "print(location)"
   ]
  },
  {
   "cell_type": "code",
   "execution_count": 40,
   "metadata": {},
   "outputs": [
    {
     "data": {
      "text/plain": [
       "'Portland'"
      ]
     },
     "execution_count": 40,
     "metadata": {},
     "output_type": "execute_result"
    }
   ],
   "source": [
    "location.raw['address']['city']"
   ]
  },
  {
   "cell_type": "code",
   "execution_count": 13,
   "metadata": {},
   "outputs": [],
   "source": [
    "#strava_activities_clean.columns\n"
   ]
  },
  {
   "cell_type": "code",
   "execution_count": null,
   "metadata": {},
   "outputs": [],
   "source": []
  },
  {
   "cell_type": "code",
   "execution_count": 73,
   "metadata": {},
   "outputs": [
    {
     "data": {
      "text/plain": [
       "Portland                    733\n",
       "geolocation unsuccessful     79\n",
       "NaN                          11\n",
       "Beaverton                     2\n",
       "Tucson                        2\n",
       "Lake Oswego                   2\n",
       "Austin                        1\n",
       "Vancouver                     1\n",
       "Name: city, dtype: int64"
      ]
     },
     "execution_count": 73,
     "metadata": {},
     "output_type": "execute_result"
    }
   ],
   "source": [
    "strava_raw.city.value_counts(dropna=False)"
   ]
  },
  {
   "cell_type": "code",
   "execution_count": 97,
   "metadata": {},
   "outputs": [
    {
     "data": {
      "text/plain": [
       "resource_state                                                2\n",
       "athlete                   {'id': 23871091, 'resource_state': 1}\n",
       "name                                              Afternoon Run\n",
       "distance                                                 5401.9\n",
       "moving_time                                                1595\n",
       "                                          ...                  \n",
       "athlete.id                                                  NaN\n",
       "athlete.resource_state                                      NaN\n",
       "map.id                                                      NaN\n",
       "map.summary_polyline                                        NaN\n",
       "map.resource_state                                          NaN\n",
       "Name: 202, Length: 62, dtype: object"
      ]
     },
     "execution_count": 97,
     "metadata": {},
     "output_type": "execute_result"
    }
   ],
   "source": [
    "strava_raw_2.iloc[202]"
   ]
  },
  {
   "cell_type": "code",
   "execution_count": 96,
   "metadata": {},
   "outputs": [
    {
     "data": {
      "text/html": [
       "<div>\n",
       "<style scoped>\n",
       "    .dataframe tbody tr th:only-of-type {\n",
       "        vertical-align: middle;\n",
       "    }\n",
       "\n",
       "    .dataframe tbody tr th {\n",
       "        vertical-align: top;\n",
       "    }\n",
       "\n",
       "    .dataframe thead th {\n",
       "        text-align: right;\n",
       "    }\n",
       "</style>\n",
       "<table border=\"1\" class=\"dataframe\">\n",
       "  <thead>\n",
       "    <tr style=\"text-align: right;\">\n",
       "      <th></th>\n",
       "      <th>resource_state</th>\n",
       "      <th>athlete</th>\n",
       "      <th>name</th>\n",
       "      <th>distance</th>\n",
       "      <th>moving_time</th>\n",
       "      <th>elapsed_time</th>\n",
       "      <th>total_elevation_gain</th>\n",
       "      <th>type</th>\n",
       "      <th>sport_type</th>\n",
       "      <th>workout_type</th>\n",
       "      <th>...</th>\n",
       "      <th>average_watts</th>\n",
       "      <th>kilojoules</th>\n",
       "      <th>device_watts</th>\n",
       "      <th>Unnamed: 0.1</th>\n",
       "      <th>Unnamed: 0</th>\n",
       "      <th>athlete.id</th>\n",
       "      <th>athlete.resource_state</th>\n",
       "      <th>map.id</th>\n",
       "      <th>map.summary_polyline</th>\n",
       "      <th>map.resource_state</th>\n",
       "    </tr>\n",
       "  </thead>\n",
       "  <tbody>\n",
       "    <tr>\n",
       "      <th>182</th>\n",
       "      <td>2</td>\n",
       "      <td>{'id': 23871091, 'resource_state': 1}</td>\n",
       "      <td>Lunch Activity</td>\n",
       "      <td>0.0</td>\n",
       "      <td>3676</td>\n",
       "      <td>3676</td>\n",
       "      <td>0.0</td>\n",
       "      <td>Elliptical</td>\n",
       "      <td>Elliptical</td>\n",
       "      <td>NaN</td>\n",
       "      <td>...</td>\n",
       "      <td>NaN</td>\n",
       "      <td>NaN</td>\n",
       "      <td>NaN</td>\n",
       "      <td>NaN</td>\n",
       "      <td>NaN</td>\n",
       "      <td>NaN</td>\n",
       "      <td>NaN</td>\n",
       "      <td>NaN</td>\n",
       "      <td>NaN</td>\n",
       "      <td>NaN</td>\n",
       "    </tr>\n",
       "    <tr>\n",
       "      <th>202</th>\n",
       "      <td>2</td>\n",
       "      <td>{'id': 23871091, 'resource_state': 1}</td>\n",
       "      <td>Afternoon Run</td>\n",
       "      <td>5401.9</td>\n",
       "      <td>1595</td>\n",
       "      <td>1595</td>\n",
       "      <td>0.0</td>\n",
       "      <td>Run</td>\n",
       "      <td>Run</td>\n",
       "      <td>NaN</td>\n",
       "      <td>...</td>\n",
       "      <td>NaN</td>\n",
       "      <td>NaN</td>\n",
       "      <td>NaN</td>\n",
       "      <td>NaN</td>\n",
       "      <td>NaN</td>\n",
       "      <td>NaN</td>\n",
       "      <td>NaN</td>\n",
       "      <td>NaN</td>\n",
       "      <td>NaN</td>\n",
       "      <td>NaN</td>\n",
       "    </tr>\n",
       "    <tr>\n",
       "      <th>323</th>\n",
       "      <td>2</td>\n",
       "      <td>{'id': 23871091, 'resource_state': 1}</td>\n",
       "      <td>Treadmill 🥴🥴</td>\n",
       "      <td>9817.0</td>\n",
       "      <td>3480</td>\n",
       "      <td>3480</td>\n",
       "      <td>0.0</td>\n",
       "      <td>Run</td>\n",
       "      <td>Run</td>\n",
       "      <td>NaN</td>\n",
       "      <td>...</td>\n",
       "      <td>NaN</td>\n",
       "      <td>NaN</td>\n",
       "      <td>NaN</td>\n",
       "      <td>92.0</td>\n",
       "      <td>NaN</td>\n",
       "      <td>NaN</td>\n",
       "      <td>NaN</td>\n",
       "      <td>NaN</td>\n",
       "      <td>NaN</td>\n",
       "      <td>NaN</td>\n",
       "    </tr>\n",
       "    <tr>\n",
       "      <th>452</th>\n",
       "      <td>2</td>\n",
       "      <td>{'id': 23871091, 'resource_state': 1}</td>\n",
       "      <td>Afternoon Activity</td>\n",
       "      <td>0.0</td>\n",
       "      <td>3703</td>\n",
       "      <td>3703</td>\n",
       "      <td>0.0</td>\n",
       "      <td>Rowing</td>\n",
       "      <td>Rowing</td>\n",
       "      <td>NaN</td>\n",
       "      <td>...</td>\n",
       "      <td>NaN</td>\n",
       "      <td>NaN</td>\n",
       "      <td>NaN</td>\n",
       "      <td>21.0</td>\n",
       "      <td>NaN</td>\n",
       "      <td>NaN</td>\n",
       "      <td>NaN</td>\n",
       "      <td>NaN</td>\n",
       "      <td>NaN</td>\n",
       "      <td>NaN</td>\n",
       "    </tr>\n",
       "    <tr>\n",
       "      <th>456</th>\n",
       "      <td>2</td>\n",
       "      <td>{'id': 23871091, 'resource_state': 1}</td>\n",
       "      <td>Morning Activity</td>\n",
       "      <td>0.0</td>\n",
       "      <td>3675</td>\n",
       "      <td>3675</td>\n",
       "      <td>0.0</td>\n",
       "      <td>Rowing</td>\n",
       "      <td>Rowing</td>\n",
       "      <td>NaN</td>\n",
       "      <td>...</td>\n",
       "      <td>NaN</td>\n",
       "      <td>NaN</td>\n",
       "      <td>NaN</td>\n",
       "      <td>25.0</td>\n",
       "      <td>NaN</td>\n",
       "      <td>NaN</td>\n",
       "      <td>NaN</td>\n",
       "      <td>NaN</td>\n",
       "      <td>NaN</td>\n",
       "      <td>NaN</td>\n",
       "    </tr>\n",
       "    <tr>\n",
       "      <th>459</th>\n",
       "      <td>2</td>\n",
       "      <td>{'id': 23871091, 'resource_state': 1}</td>\n",
       "      <td>Afternoon Activity</td>\n",
       "      <td>0.0</td>\n",
       "      <td>3951</td>\n",
       "      <td>3951</td>\n",
       "      <td>0.0</td>\n",
       "      <td>Rowing</td>\n",
       "      <td>Rowing</td>\n",
       "      <td>NaN</td>\n",
       "      <td>...</td>\n",
       "      <td>NaN</td>\n",
       "      <td>NaN</td>\n",
       "      <td>NaN</td>\n",
       "      <td>28.0</td>\n",
       "      <td>NaN</td>\n",
       "      <td>NaN</td>\n",
       "      <td>NaN</td>\n",
       "      <td>NaN</td>\n",
       "      <td>NaN</td>\n",
       "      <td>NaN</td>\n",
       "    </tr>\n",
       "    <tr>\n",
       "      <th>637</th>\n",
       "      <td>2</td>\n",
       "      <td>{'id': 23871091, 'resource_state': 1}</td>\n",
       "      <td>Evening Run</td>\n",
       "      <td>71.5</td>\n",
       "      <td>20</td>\n",
       "      <td>20</td>\n",
       "      <td>0.0</td>\n",
       "      <td>Run</td>\n",
       "      <td>Run</td>\n",
       "      <td>0.0</td>\n",
       "      <td>...</td>\n",
       "      <td>NaN</td>\n",
       "      <td>NaN</td>\n",
       "      <td>NaN</td>\n",
       "      <td>6.0</td>\n",
       "      <td>NaN</td>\n",
       "      <td>NaN</td>\n",
       "      <td>NaN</td>\n",
       "      <td>NaN</td>\n",
       "      <td>NaN</td>\n",
       "      <td>NaN</td>\n",
       "    </tr>\n",
       "    <tr>\n",
       "      <th>638</th>\n",
       "      <td>2</td>\n",
       "      <td>{'id': 23871091, 'resource_state': 1}</td>\n",
       "      <td>Evening Run</td>\n",
       "      <td>75.6</td>\n",
       "      <td>19</td>\n",
       "      <td>19</td>\n",
       "      <td>0.0</td>\n",
       "      <td>Run</td>\n",
       "      <td>Run</td>\n",
       "      <td>0.0</td>\n",
       "      <td>...</td>\n",
       "      <td>NaN</td>\n",
       "      <td>NaN</td>\n",
       "      <td>NaN</td>\n",
       "      <td>7.0</td>\n",
       "      <td>NaN</td>\n",
       "      <td>NaN</td>\n",
       "      <td>NaN</td>\n",
       "      <td>NaN</td>\n",
       "      <td>NaN</td>\n",
       "      <td>NaN</td>\n",
       "    </tr>\n",
       "    <tr>\n",
       "      <th>646</th>\n",
       "      <td>2</td>\n",
       "      <td>{'id': 23871091, 'resource_state': 1}</td>\n",
       "      <td>Afternoon ride</td>\n",
       "      <td>6115.5</td>\n",
       "      <td>1120</td>\n",
       "      <td>1120</td>\n",
       "      <td>0.0</td>\n",
       "      <td>Ride</td>\n",
       "      <td>Ride</td>\n",
       "      <td>10.0</td>\n",
       "      <td>...</td>\n",
       "      <td>NaN</td>\n",
       "      <td>NaN</td>\n",
       "      <td>NaN</td>\n",
       "      <td>17.0</td>\n",
       "      <td>NaN</td>\n",
       "      <td>NaN</td>\n",
       "      <td>NaN</td>\n",
       "      <td>NaN</td>\n",
       "      <td>NaN</td>\n",
       "      <td>NaN</td>\n",
       "    </tr>\n",
       "    <tr>\n",
       "      <th>825</th>\n",
       "      <td>2</td>\n",
       "      <td>{'id': 23871091, 'resource_state': 1}</td>\n",
       "      <td>Training run #1</td>\n",
       "      <td>4828.0</td>\n",
       "      <td>1895</td>\n",
       "      <td>1895</td>\n",
       "      <td>0.0</td>\n",
       "      <td>Run</td>\n",
       "      <td>Run</td>\n",
       "      <td>3.0</td>\n",
       "      <td>...</td>\n",
       "      <td>NaN</td>\n",
       "      <td>NaN</td>\n",
       "      <td>NaN</td>\n",
       "      <td>193.0</td>\n",
       "      <td>NaN</td>\n",
       "      <td>NaN</td>\n",
       "      <td>NaN</td>\n",
       "      <td>NaN</td>\n",
       "      <td>NaN</td>\n",
       "      <td>NaN</td>\n",
       "    </tr>\n",
       "    <tr>\n",
       "      <th>827</th>\n",
       "      <td>2</td>\n",
       "      <td>{'id': 23871091, 'resource_state': 1}</td>\n",
       "      <td>Westside to Tilikum Crossing Loop</td>\n",
       "      <td>12585.1</td>\n",
       "      <td>2040</td>\n",
       "      <td>2040</td>\n",
       "      <td>91.4</td>\n",
       "      <td>Ride</td>\n",
       "      <td>Ride</td>\n",
       "      <td>10.0</td>\n",
       "      <td>...</td>\n",
       "      <td>NaN</td>\n",
       "      <td>NaN</td>\n",
       "      <td>NaN</td>\n",
       "      <td>196.0</td>\n",
       "      <td>NaN</td>\n",
       "      <td>NaN</td>\n",
       "      <td>NaN</td>\n",
       "      <td>NaN</td>\n",
       "      <td>NaN</td>\n",
       "      <td>NaN</td>\n",
       "    </tr>\n",
       "  </tbody>\n",
       "</table>\n",
       "<p>11 rows × 62 columns</p>\n",
       "</div>"
      ],
      "text/plain": [
       "     resource_state                                athlete  \\\n",
       "182               2  {'id': 23871091, 'resource_state': 1}   \n",
       "202               2  {'id': 23871091, 'resource_state': 1}   \n",
       "323               2  {'id': 23871091, 'resource_state': 1}   \n",
       "452               2  {'id': 23871091, 'resource_state': 1}   \n",
       "456               2  {'id': 23871091, 'resource_state': 1}   \n",
       "459               2  {'id': 23871091, 'resource_state': 1}   \n",
       "637               2  {'id': 23871091, 'resource_state': 1}   \n",
       "638               2  {'id': 23871091, 'resource_state': 1}   \n",
       "646               2  {'id': 23871091, 'resource_state': 1}   \n",
       "825               2  {'id': 23871091, 'resource_state': 1}   \n",
       "827               2  {'id': 23871091, 'resource_state': 1}   \n",
       "\n",
       "                                  name  distance  moving_time  elapsed_time  \\\n",
       "182                     Lunch Activity       0.0         3676          3676   \n",
       "202                      Afternoon Run    5401.9         1595          1595   \n",
       "323                       Treadmill 🥴🥴    9817.0         3480          3480   \n",
       "452                 Afternoon Activity       0.0         3703          3703   \n",
       "456                   Morning Activity       0.0         3675          3675   \n",
       "459                 Afternoon Activity       0.0         3951          3951   \n",
       "637                        Evening Run      71.5           20            20   \n",
       "638                        Evening Run      75.6           19            19   \n",
       "646                     Afternoon ride    6115.5         1120          1120   \n",
       "825                    Training run #1    4828.0         1895          1895   \n",
       "827  Westside to Tilikum Crossing Loop   12585.1         2040          2040   \n",
       "\n",
       "     total_elevation_gain        type  sport_type  workout_type  ...  \\\n",
       "182                   0.0  Elliptical  Elliptical           NaN  ...   \n",
       "202                   0.0         Run         Run           NaN  ...   \n",
       "323                   0.0         Run         Run           NaN  ...   \n",
       "452                   0.0      Rowing      Rowing           NaN  ...   \n",
       "456                   0.0      Rowing      Rowing           NaN  ...   \n",
       "459                   0.0      Rowing      Rowing           NaN  ...   \n",
       "637                   0.0         Run         Run           0.0  ...   \n",
       "638                   0.0         Run         Run           0.0  ...   \n",
       "646                   0.0        Ride        Ride          10.0  ...   \n",
       "825                   0.0         Run         Run           3.0  ...   \n",
       "827                  91.4        Ride        Ride          10.0  ...   \n",
       "\n",
       "     average_watts kilojoules device_watts Unnamed: 0.1  Unnamed: 0  \\\n",
       "182            NaN        NaN          NaN          NaN         NaN   \n",
       "202            NaN        NaN          NaN          NaN         NaN   \n",
       "323            NaN        NaN          NaN         92.0         NaN   \n",
       "452            NaN        NaN          NaN         21.0         NaN   \n",
       "456            NaN        NaN          NaN         25.0         NaN   \n",
       "459            NaN        NaN          NaN         28.0         NaN   \n",
       "637            NaN        NaN          NaN          6.0         NaN   \n",
       "638            NaN        NaN          NaN          7.0         NaN   \n",
       "646            NaN        NaN          NaN         17.0         NaN   \n",
       "825            NaN        NaN          NaN        193.0         NaN   \n",
       "827            NaN        NaN          NaN        196.0         NaN   \n",
       "\n",
       "     athlete.id  athlete.resource_state map.id  map.summary_polyline  \\\n",
       "182         NaN                     NaN    NaN                   NaN   \n",
       "202         NaN                     NaN    NaN                   NaN   \n",
       "323         NaN                     NaN    NaN                   NaN   \n",
       "452         NaN                     NaN    NaN                   NaN   \n",
       "456         NaN                     NaN    NaN                   NaN   \n",
       "459         NaN                     NaN    NaN                   NaN   \n",
       "637         NaN                     NaN    NaN                   NaN   \n",
       "638         NaN                     NaN    NaN                   NaN   \n",
       "646         NaN                     NaN    NaN                   NaN   \n",
       "825         NaN                     NaN    NaN                   NaN   \n",
       "827         NaN                     NaN    NaN                   NaN   \n",
       "\n",
       "     map.resource_state  \n",
       "182                 NaN  \n",
       "202                 NaN  \n",
       "323                 NaN  \n",
       "452                 NaN  \n",
       "456                 NaN  \n",
       "459                 NaN  \n",
       "637                 NaN  \n",
       "638                 NaN  \n",
       "646                 NaN  \n",
       "825                 NaN  \n",
       "827                 NaN  \n",
       "\n",
       "[11 rows x 62 columns]"
      ]
     },
     "execution_count": 96,
     "metadata": {},
     "output_type": "execute_result"
    }
   ],
   "source": [
    "strava_raw_2.iloc[nan_latlng_activities_list]"
   ]
  },
  {
   "cell_type": "code",
   "execution_count": 95,
   "metadata": {},
   "outputs": [],
   "source": [
    "nan_latlng_activities_list = list(strava_raw[strava_raw.city.isna()][['start_latlng', 'city']].index)"
   ]
  },
  {
   "cell_type": "code",
   "execution_count": 28,
   "metadata": {},
   "outputs": [],
   "source": [
    "test_df = pd.read_csv('activities_with_cities.csv')"
   ]
  },
  {
   "cell_type": "code",
   "execution_count": null,
   "metadata": {},
   "outputs": [],
   "source": []
  },
  {
   "cell_type": "code",
   "execution_count": 29,
   "metadata": {},
   "outputs": [
    {
     "data": {
      "text/html": [
       "<div>\n",
       "<style scoped>\n",
       "    .dataframe tbody tr th:only-of-type {\n",
       "        vertical-align: middle;\n",
       "    }\n",
       "\n",
       "    .dataframe tbody tr th {\n",
       "        vertical-align: top;\n",
       "    }\n",
       "\n",
       "    .dataframe thead th {\n",
       "        text-align: right;\n",
       "    }\n",
       "</style>\n",
       "<table border=\"1\" class=\"dataframe\">\n",
       "  <thead>\n",
       "    <tr style=\"text-align: right;\">\n",
       "      <th></th>\n",
       "      <th>start_latlng</th>\n",
       "      <th>city</th>\n",
       "    </tr>\n",
       "  </thead>\n",
       "  <tbody>\n",
       "    <tr>\n",
       "      <th>13</th>\n",
       "      <td>[30.16521248035133, -97.4509166367352]</td>\n",
       "      <td>geolocation unsuccessful</td>\n",
       "    </tr>\n",
       "    <tr>\n",
       "      <th>26</th>\n",
       "      <td>[45.098740914836526, -121.75108842551708]</td>\n",
       "      <td>geolocation unsuccessful</td>\n",
       "    </tr>\n",
       "    <tr>\n",
       "      <th>40</th>\n",
       "      <td>[45.696571692824364, -122.88972395472229]</td>\n",
       "      <td>geolocation unsuccessful</td>\n",
       "    </tr>\n",
       "    <tr>\n",
       "      <th>47</th>\n",
       "      <td>[42.404475370422006, -124.42292651161551]</td>\n",
       "      <td>geolocation unsuccessful</td>\n",
       "    </tr>\n",
       "    <tr>\n",
       "      <th>48</th>\n",
       "      <td>[42.40493897348642, -124.42184641957283]</td>\n",
       "      <td>geolocation unsuccessful</td>\n",
       "    </tr>\n",
       "    <tr>\n",
       "      <th>...</th>\n",
       "      <td>...</td>\n",
       "      <td>...</td>\n",
       "    </tr>\n",
       "    <tr>\n",
       "      <th>790</th>\n",
       "      <td>[43.775811, -121.515433]</td>\n",
       "      <td>geolocation unsuccessful</td>\n",
       "    </tr>\n",
       "    <tr>\n",
       "      <th>791</th>\n",
       "      <td>[43.894565, -121.369004]</td>\n",
       "      <td>geolocation unsuccessful</td>\n",
       "    </tr>\n",
       "    <tr>\n",
       "      <th>792</th>\n",
       "      <td>[44.03065, -121.736076]</td>\n",
       "      <td>geolocation unsuccessful</td>\n",
       "    </tr>\n",
       "    <tr>\n",
       "      <th>800</th>\n",
       "      <td>[45.686728, -121.265726]</td>\n",
       "      <td>geolocation unsuccessful</td>\n",
       "    </tr>\n",
       "    <tr>\n",
       "      <th>811</th>\n",
       "      <td>[42.979636, -122.083306]</td>\n",
       "      <td>geolocation unsuccessful</td>\n",
       "    </tr>\n",
       "  </tbody>\n",
       "</table>\n",
       "<p>79 rows × 2 columns</p>\n",
       "</div>"
      ],
      "text/plain": [
       "                                  start_latlng                      city\n",
       "13      [30.16521248035133, -97.4509166367352]  geolocation unsuccessful\n",
       "26   [45.098740914836526, -121.75108842551708]  geolocation unsuccessful\n",
       "40   [45.696571692824364, -122.88972395472229]  geolocation unsuccessful\n",
       "47   [42.404475370422006, -124.42292651161551]  geolocation unsuccessful\n",
       "48    [42.40493897348642, -124.42184641957283]  geolocation unsuccessful\n",
       "..                                         ...                       ...\n",
       "790                   [43.775811, -121.515433]  geolocation unsuccessful\n",
       "791                   [43.894565, -121.369004]  geolocation unsuccessful\n",
       "792                    [44.03065, -121.736076]  geolocation unsuccessful\n",
       "800                   [45.686728, -121.265726]  geolocation unsuccessful\n",
       "811                   [42.979636, -122.083306]  geolocation unsuccessful\n",
       "\n",
       "[79 rows x 2 columns]"
      ]
     },
     "execution_count": 29,
     "metadata": {},
     "output_type": "execute_result"
    }
   ],
   "source": [
    "# ah right because there is no latlng because these are all stationary activities (ellipticals, row machines, treadmills, etc.)\n",
    "# so NaN it is tbh\n",
    "\n",
    "test_df[test_df.city == 'geolocation unsuccessful'][['start_latlng', 'city']]\n",
    "#testlong = str(test_df[test_df.city == 'geolocation unsuccessful'][['start_latlng', 'city']].start_latlng[202][1])"
   ]
  },
  {
   "cell_type": "code",
   "execution_count": 71,
   "metadata": {},
   "outputs": [
    {
     "data": {
      "text/plain": [
       "{'place_id': 299497553,\n",
       " 'licence': 'Data © OpenStreetMap contributors, ODbL 1.0. https://osm.org/copyright',\n",
       " 'osm_type': 'relation',\n",
       " 'osm_id': 11175258,\n",
       " 'lat': '30.16246135',\n",
       " 'lon': '-97.45620405939258',\n",
       " 'display_name': 'Wolfdancer Golf Club, 575, Hyatt Lost Pines, Bastrop County, Texas, 78612, United States',\n",
       " 'address': {'leisure': 'Wolfdancer Golf Club',\n",
       "  'house_number': '575',\n",
       "  'road': 'Hyatt Lost Pines',\n",
       "  'county': 'Bastrop County',\n",
       "  'state': 'Texas',\n",
       "  'ISO3166-2-lvl4': 'US-TX',\n",
       "  'postcode': '78612',\n",
       "  'country': 'United States',\n",
       "  'country_code': 'us'},\n",
       " 'boundingbox': ['30.1563959', '30.1663972', '-97.4628052', '-97.4447212']}"
      ]
     },
     "execution_count": 71,
     "metadata": {},
     "output_type": "execute_result"
    }
   ],
   "source": [
    "location.raw"
   ]
  },
  {
   "cell_type": "code",
   "execution_count": 7,
   "metadata": {},
   "outputs": [],
   "source": [
    "activities = prepare_data()"
   ]
  },
  {
   "cell_type": "code",
   "execution_count": 2,
   "metadata": {},
   "outputs": [],
   "source": [
    "activities = pd.read_csv('activities_clean.csv')"
   ]
  },
  {
   "cell_type": "code",
   "execution_count": null,
   "metadata": {},
   "outputs": [],
   "source": [
    "activities.to_csv('activities_clean.csv')"
   ]
  },
  {
   "cell_type": "code",
   "execution_count": 8,
   "metadata": {},
   "outputs": [
    {
     "data": {
      "text/plain": [
       "start_time\n",
       "2018-05-07 00:00:00+00:00    15731\n",
       "2018-05-14 00:00:00+00:00     4962\n",
       "2018-05-21 00:00:00+00:00        0\n",
       "2018-05-28 00:00:00+00:00        0\n",
       "2018-06-04 00:00:00+00:00        0\n",
       "                             ...  \n",
       "2022-07-11 00:00:00+00:00    26665\n",
       "2022-07-18 00:00:00+00:00    26744\n",
       "2022-07-25 00:00:00+00:00    15102\n",
       "2022-08-01 00:00:00+00:00    32283\n",
       "2022-08-08 00:00:00+00:00    26652\n",
       "Freq: W-MON, Name: elapsed_time, Length: 223, dtype: int64"
      ]
     },
     "execution_count": 8,
     "metadata": {},
     "output_type": "execute_result"
    }
   ],
   "source": [
    "activities.resample('W-Mon', closed='left').elapsed_time.sum()"
   ]
  },
  {
   "cell_type": "code",
   "execution_count": 9,
   "metadata": {},
   "outputs": [],
   "source": [
    "runs = activities[activities['sport_type'] == 'Run']\n",
    "runs_2022 = runs[runs.index.year == 2022]"
   ]
  },
  {
   "cell_type": "code",
   "execution_count": 10,
   "metadata": {},
   "outputs": [
    {
     "data": {
      "text/html": [
       "<div>\n",
       "<style scoped>\n",
       "    .dataframe tbody tr th:only-of-type {\n",
       "        vertical-align: middle;\n",
       "    }\n",
       "\n",
       "    .dataframe tbody tr th {\n",
       "        vertical-align: top;\n",
       "    }\n",
       "\n",
       "    .dataframe thead th {\n",
       "        text-align: right;\n",
       "    }\n",
       "</style>\n",
       "<table border=\"1\" class=\"dataframe\">\n",
       "  <thead>\n",
       "    <tr style=\"text-align: right;\">\n",
       "      <th></th>\n",
       "      <th>name</th>\n",
       "      <th>distance</th>\n",
       "      <th>moving_time</th>\n",
       "      <th>elapsed_time</th>\n",
       "      <th>total_elevation_gain</th>\n",
       "      <th>sport_type</th>\n",
       "      <th>id</th>\n",
       "      <th>achievement_count</th>\n",
       "      <th>kudos_count</th>\n",
       "      <th>comment_count</th>\n",
       "      <th>...</th>\n",
       "      <th>max_speed</th>\n",
       "      <th>average_cadence</th>\n",
       "      <th>average_temp</th>\n",
       "      <th>average_heartrate</th>\n",
       "      <th>max_heartrate</th>\n",
       "      <th>elev_high</th>\n",
       "      <th>elev_low</th>\n",
       "      <th>pr_count</th>\n",
       "      <th>suffer_score</th>\n",
       "      <th>SPM</th>\n",
       "    </tr>\n",
       "    <tr>\n",
       "      <th>start_time</th>\n",
       "      <th></th>\n",
       "      <th></th>\n",
       "      <th></th>\n",
       "      <th></th>\n",
       "      <th></th>\n",
       "      <th></th>\n",
       "      <th></th>\n",
       "      <th></th>\n",
       "      <th></th>\n",
       "      <th></th>\n",
       "      <th></th>\n",
       "      <th></th>\n",
       "      <th></th>\n",
       "      <th></th>\n",
       "      <th></th>\n",
       "      <th></th>\n",
       "      <th></th>\n",
       "      <th></th>\n",
       "      <th></th>\n",
       "      <th></th>\n",
       "      <th></th>\n",
       "    </tr>\n",
       "  </thead>\n",
       "  <tbody>\n",
       "    <tr>\n",
       "      <th>2022-08-07 17:14:37+00:00</th>\n",
       "      <td>Morning Run</td>\n",
       "      <td>11.412614</td>\n",
       "      <td>7926</td>\n",
       "      <td>7971</td>\n",
       "      <td>333.0</td>\n",
       "      <td>Run</td>\n",
       "      <td>7600095117</td>\n",
       "      <td>17</td>\n",
       "      <td>5</td>\n",
       "      <td>0</td>\n",
       "      <td>...</td>\n",
       "      <td>5.378</td>\n",
       "      <td>85.6</td>\n",
       "      <td>27.0</td>\n",
       "      <td>152.9</td>\n",
       "      <td>169.0</td>\n",
       "      <td>319.8</td>\n",
       "      <td>125.6</td>\n",
       "      <td>2</td>\n",
       "      <td>207.0</td>\n",
       "      <td>1.566995</td>\n",
       "    </tr>\n",
       "    <tr>\n",
       "      <th>2022-08-03 02:23:45+00:00</th>\n",
       "      <td>Evening Run</td>\n",
       "      <td>3.110341</td>\n",
       "      <td>1374</td>\n",
       "      <td>1374</td>\n",
       "      <td>31.0</td>\n",
       "      <td>Run</td>\n",
       "      <td>7573461254</td>\n",
       "      <td>3</td>\n",
       "      <td>4</td>\n",
       "      <td>1</td>\n",
       "      <td>...</td>\n",
       "      <td>4.463</td>\n",
       "      <td>87.9</td>\n",
       "      <td>29.0</td>\n",
       "      <td>163.0</td>\n",
       "      <td>177.0</td>\n",
       "      <td>83.6</td>\n",
       "      <td>63.2</td>\n",
       "      <td>3</td>\n",
       "      <td>51.0</td>\n",
       "      <td>2.227074</td>\n",
       "    </tr>\n",
       "    <tr>\n",
       "      <th>2022-08-01 18:56:46+00:00</th>\n",
       "      <td>Lunch Run</td>\n",
       "      <td>6.258065</td>\n",
       "      <td>3544</td>\n",
       "      <td>3544</td>\n",
       "      <td>74.0</td>\n",
       "      <td>Run</td>\n",
       "      <td>7566246906</td>\n",
       "      <td>0</td>\n",
       "      <td>2</td>\n",
       "      <td>0</td>\n",
       "      <td>...</td>\n",
       "      <td>4.440</td>\n",
       "      <td>83.5</td>\n",
       "      <td>30.0</td>\n",
       "      <td>147.5</td>\n",
       "      <td>159.0</td>\n",
       "      <td>83.8</td>\n",
       "      <td>48.0</td>\n",
       "      <td>0</td>\n",
       "      <td>72.0</td>\n",
       "      <td>1.218962</td>\n",
       "    </tr>\n",
       "  </tbody>\n",
       "</table>\n",
       "<p>3 rows × 23 columns</p>\n",
       "</div>"
      ],
      "text/plain": [
       "                                  name   distance  moving_time  elapsed_time  \\\n",
       "start_time                                                                     \n",
       "2022-08-07 17:14:37+00:00  Morning Run  11.412614         7926          7971   \n",
       "2022-08-03 02:23:45+00:00  Evening Run   3.110341         1374          1374   \n",
       "2022-08-01 18:56:46+00:00    Lunch Run   6.258065         3544          3544   \n",
       "\n",
       "                           total_elevation_gain sport_type          id  \\\n",
       "start_time                                                               \n",
       "2022-08-07 17:14:37+00:00                 333.0        Run  7600095117   \n",
       "2022-08-03 02:23:45+00:00                  31.0        Run  7573461254   \n",
       "2022-08-01 18:56:46+00:00                  74.0        Run  7566246906   \n",
       "\n",
       "                           achievement_count  kudos_count  comment_count  ...  \\\n",
       "start_time                                                                ...   \n",
       "2022-08-07 17:14:37+00:00                 17            5              0  ...   \n",
       "2022-08-03 02:23:45+00:00                  3            4              1  ...   \n",
       "2022-08-01 18:56:46+00:00                  0            2              0  ...   \n",
       "\n",
       "                           max_speed average_cadence  average_temp  \\\n",
       "start_time                                                           \n",
       "2022-08-07 17:14:37+00:00      5.378            85.6          27.0   \n",
       "2022-08-03 02:23:45+00:00      4.463            87.9          29.0   \n",
       "2022-08-01 18:56:46+00:00      4.440            83.5          30.0   \n",
       "\n",
       "                           average_heartrate  max_heartrate  elev_high  \\\n",
       "start_time                                                               \n",
       "2022-08-07 17:14:37+00:00              152.9          169.0      319.8   \n",
       "2022-08-03 02:23:45+00:00              163.0          177.0       83.6   \n",
       "2022-08-01 18:56:46+00:00              147.5          159.0       83.8   \n",
       "\n",
       "                           elev_low  pr_count  suffer_score       SPM  \n",
       "start_time                                                             \n",
       "2022-08-07 17:14:37+00:00     125.6         2         207.0  1.566995  \n",
       "2022-08-03 02:23:45+00:00      63.2         3          51.0  2.227074  \n",
       "2022-08-01 18:56:46+00:00      48.0         0          72.0  1.218962  \n",
       "\n",
       "[3 rows x 23 columns]"
      ]
     },
     "execution_count": 10,
     "metadata": {},
     "output_type": "execute_result"
    }
   ],
   "source": [
    "runs_2022.head(3)"
   ]
  },
  {
   "cell_type": "markdown",
   "metadata": {},
   "source": [
    "Miles Ran YTD"
   ]
  },
  {
   "cell_type": "code",
   "execution_count": 11,
   "metadata": {},
   "outputs": [],
   "source": [
    "miles_run = runs_2022.distance.sum()"
   ]
  },
  {
   "cell_type": "markdown",
   "metadata": {},
   "source": [
    "Elevation gain YTD"
   ]
  },
  {
   "cell_type": "code",
   "execution_count": 12,
   "metadata": {},
   "outputs": [],
   "source": [
    "elev_gain = runs_2022.total_elevation_gain.sum()"
   ]
  },
  {
   "cell_type": "markdown",
   "metadata": {},
   "source": [
    "Miles per day: "
   ]
  },
  {
   "cell_type": "code",
   "execution_count": 13,
   "metadata": {},
   "outputs": [],
   "source": [
    "mpd = runs_2022.distance.sum() / runs_2022.index[0].day_of_year"
   ]
  },
  {
   "cell_type": "code",
   "execution_count": 14,
   "metadata": {},
   "outputs": [
    {
     "name": "stderr",
     "output_type": "stream",
     "text": [
      "2022-08-08 20:34:38.567 \n",
      "  \u001b[33m\u001b[1mWarning:\u001b[0m to view this Streamlit app on a browser, run it with the following\n",
      "  command:\n",
      "\n",
      "    streamlit run c:\\ProgramData\\Miniconda3\\envs\\fitenv\\lib\\site-packages\\ipykernel_launcher.py [ARGUMENTS]\n"
     ]
    },
    {
     "data": {
      "text/plain": [
       "DeltaGenerator(_root_container=0, _provided_cursor=None, _parent=None, _block_type=None, _form_data=None)"
      ]
     },
     "execution_count": 14,
     "metadata": {},
     "output_type": "execute_result"
    }
   ],
   "source": [
    "col1, col2, col3 = st.columns(3)\n",
    "col1.metric(\"Miles Ran\", miles_run, \"-$1.25\")\n",
    "col2.metric(\"Elevation Gain\", elev_gain, \"0.46%\")\n",
    "col3.metric(\"Miles Per Day\", mpd, \"+4.87%\")"
   ]
  },
  {
   "cell_type": "code",
   "execution_count": 17,
   "metadata": {},
   "outputs": [],
   "source": [
    "# my 6/12 run is showing up as 6/13\n",
    "\n",
    "runs = activities[activities['sport_type'] == 'Run'].resample('W-Mon', closed='left').distance.sum().tail(12)\n",
    "#st = strava_activities_clean[strava_activities_clean['sport_type'] == 'Run'].resample('M', closed='left').distance.sum().tail(15)\n",
    "\n",
    "#st.index = st.index.strftime('%B %Y')\n",
    "st.index = st.index.strftime('Week of %A, %b %d')"
   ]
  },
  {
   "cell_type": "code",
   "execution_count": 27,
   "metadata": {},
   "outputs": [],
   "source": [
    "choices = {'W-Mon': '%A, %b %d %Y', 'M': '%B %Y', 'Y': '%Y'}\n"
   ]
  },
  {
   "cell_type": "code",
   "execution_count": 26,
   "metadata": {},
   "outputs": [
    {
     "name": "stdout",
     "output_type": "stream",
     "text": [
      "W-Mon Week of %A, %b %d %Y\n",
      "M Month of %B %Y\n",
      "Y Total for %Y\n"
     ]
    },
    {
     "data": {
      "text/plain": [
       "'Total for %Y'"
      ]
     },
     "execution_count": 26,
     "metadata": {},
     "output_type": "execute_result"
    }
   ],
   "source": [
    "#list(choices.keys())#['W-Mon']\n",
    "for choice in choices:\n",
    "    print(choice, choices[choice])\n",
    "\n",
    "choices[choice]"
   ]
  },
  {
   "cell_type": "code",
   "execution_count": 31,
   "metadata": {},
   "outputs": [],
   "source": [
    "hunger = ['w', 'm', 'y']"
   ]
  },
  {
   "cell_type": "code",
   "execution_count": 33,
   "metadata": {},
   "outputs": [
    {
     "data": {
      "text/plain": [
       "0"
      ]
     },
     "execution_count": 33,
     "metadata": {},
     "output_type": "execute_result"
    }
   ],
   "source": [
    "hunger.index('w')"
   ]
  },
  {
   "cell_type": "code",
   "execution_count": 30,
   "metadata": {},
   "outputs": [
    {
     "name": "stdout",
     "output_type": "stream",
     "text": [
      "start_time\n",
      "Monday, Jul 11 2022    41.725922\n",
      "Monday, Jul 18 2022    16.123271\n",
      "Monday, Jul 25 2022    17.956401\n",
      "Monday, Aug 01 2022    15.639016\n",
      "Monday, Aug 08 2022    20.781020\n",
      "Name: distance, dtype: float64\n",
      "\n",
      "start_time\n",
      "April 2022     132.981437\n",
      "May 2022       137.867775\n",
      "June 2022      141.490814\n",
      "July 2022      107.788212\n",
      "August 2022     20.781020\n",
      "Name: distance, dtype: float64\n",
      "\n",
      "start_time\n",
      "2018      11.957790\n",
      "2019      18.698496\n",
      "2020     470.972734\n",
      "2021    1491.678825\n",
      "2022     909.215291\n",
      "Name: distance, dtype: float64\n",
      "\n"
     ]
    }
   ],
   "source": [
    "choices = {'W-Mon': '%A, %b %d %Y', 'M': '%B %Y', 'Y': '%Y'}\n",
    "\n",
    "for choice in choices: \n",
    "    df_slice = activities[activities['sport_type'] == 'Run'].resample(choice, closed='left').distance.sum().tail(5)\n",
    "    df_slice.index = df_slice.index.strftime(choices[choice])\n",
    "    print(df_slice)\n",
    "    print()"
   ]
  },
  {
   "cell_type": "markdown",
   "metadata": {},
   "source": [
    "### Strava Mobile Line Graph\n",
    "Characteristics: \n",
    "* 12 weeks\n",
    "* Select your activity at the top\n",
    "* Header: Week of [Month day] - [Month day]\n",
    "* Subheaders: \n",
    "  * Distance\n",
    "  * Time in xh xxm\n",
    "  * Elevation"
   ]
  },
  {
   "cell_type": "code",
   "execution_count": 61,
   "metadata": {},
   "outputs": [],
   "source": [
    "run_activities = activities[activities['sport_type'] == 'Run']\n",
    "run_by_week = run_activities.resample('W-Mon', closed='left')\n",
    "run_by_week_agg = run_by_week.agg({'distance': 'sum', 'moving_time': 'sum', 'total_elevation_gain': 'sum'})\n",
    "run_by_week_agg['total_elevation_gain'] = run_by_week_agg['total_elevation_gain'] * 3.28084\n",
    "run_by_week_agg.moving_time = run_by_week_agg.moving_time.apply(to_time_readout)\n",
    "#run_by_week_agg.moving_time = pd.to_datetime(run_by_week_agg.moving_time)\n"
   ]
  },
  {
   "cell_type": "code",
   "execution_count": 12,
   "metadata": {},
   "outputs": [],
   "source": [
    "activities_by_week = activities.resample('W-Mon', closed='left')\n",
    "activities_by_week_agg = activities_by_week.agg({'distance': 'sum', 'moving_time': 'sum', 'total_elevation_gain': 'sum'})\n",
    "activities_by_week_agg['total_elevation_gain'] = activities_by_week_agg['total_elevation_gain'] * 3.28084\n",
    "activities_by_week_agg.moving_time = activities_by_week_agg.moving_time.apply(to_time_readout)\n",
    "#run_by_week_agg.moving_time = pd.to_datetime(run_by_week_agg.moving_time)"
   ]
  },
  {
   "cell_type": "code",
   "execution_count": 13,
   "metadata": {},
   "outputs": [
    {
     "data": {
      "text/html": [
       "<div>\n",
       "<style scoped>\n",
       "    .dataframe tbody tr th:only-of-type {\n",
       "        vertical-align: middle;\n",
       "    }\n",
       "\n",
       "    .dataframe tbody tr th {\n",
       "        vertical-align: top;\n",
       "    }\n",
       "\n",
       "    .dataframe thead th {\n",
       "        text-align: right;\n",
       "    }\n",
       "</style>\n",
       "<table border=\"1\" class=\"dataframe\">\n",
       "  <thead>\n",
       "    <tr style=\"text-align: right;\">\n",
       "      <th></th>\n",
       "      <th>distance</th>\n",
       "      <th>moving_time</th>\n",
       "      <th>total_elevation_gain</th>\n",
       "    </tr>\n",
       "    <tr>\n",
       "      <th>start_time</th>\n",
       "      <th></th>\n",
       "      <th></th>\n",
       "      <th></th>\n",
       "    </tr>\n",
       "  </thead>\n",
       "  <tbody>\n",
       "    <tr>\n",
       "      <th>2018-05-07 00:00:00+00:00</th>\n",
       "      <td>16.992982</td>\n",
       "      <td>1h 14m</td>\n",
       "      <td>564.304480</td>\n",
       "    </tr>\n",
       "    <tr>\n",
       "      <th>2018-05-14 00:00:00+00:00</th>\n",
       "      <td>17.412405</td>\n",
       "      <td>1h 19m</td>\n",
       "      <td>686.679812</td>\n",
       "    </tr>\n",
       "    <tr>\n",
       "      <th>2018-05-21 00:00:00+00:00</th>\n",
       "      <td>0.000000</td>\n",
       "      <td>0h 0m</td>\n",
       "      <td>0.000000</td>\n",
       "    </tr>\n",
       "    <tr>\n",
       "      <th>2018-05-28 00:00:00+00:00</th>\n",
       "      <td>0.000000</td>\n",
       "      <td>0h 0m</td>\n",
       "      <td>0.000000</td>\n",
       "    </tr>\n",
       "    <tr>\n",
       "      <th>2018-06-04 00:00:00+00:00</th>\n",
       "      <td>0.000000</td>\n",
       "      <td>0h 0m</td>\n",
       "      <td>0.000000</td>\n",
       "    </tr>\n",
       "    <tr>\n",
       "      <th>...</th>\n",
       "      <td>...</td>\n",
       "      <td>...</td>\n",
       "      <td>...</td>\n",
       "    </tr>\n",
       "    <tr>\n",
       "      <th>2022-07-11 00:00:00+00:00</th>\n",
       "      <td>41.725922</td>\n",
       "      <td>7h 19m</td>\n",
       "      <td>2936.351800</td>\n",
       "    </tr>\n",
       "    <tr>\n",
       "      <th>2022-07-18 00:00:00+00:00</th>\n",
       "      <td>35.875791</td>\n",
       "      <td>6h 12m</td>\n",
       "      <td>2116.141800</td>\n",
       "    </tr>\n",
       "    <tr>\n",
       "      <th>2022-07-25 00:00:00+00:00</th>\n",
       "      <td>35.211383</td>\n",
       "      <td>4h 5m</td>\n",
       "      <td>1604.330760</td>\n",
       "    </tr>\n",
       "    <tr>\n",
       "      <th>2022-08-01 00:00:00+00:00</th>\n",
       "      <td>28.716406</td>\n",
       "      <td>6h 31m</td>\n",
       "      <td>1371.391120</td>\n",
       "    </tr>\n",
       "    <tr>\n",
       "      <th>2022-08-08 00:00:00+00:00</th>\n",
       "      <td>46.666349</td>\n",
       "      <td>6h 29m</td>\n",
       "      <td>2335.958080</td>\n",
       "    </tr>\n",
       "  </tbody>\n",
       "</table>\n",
       "<p>223 rows × 3 columns</p>\n",
       "</div>"
      ],
      "text/plain": [
       "                            distance moving_time  total_elevation_gain\n",
       "start_time                                                            \n",
       "2018-05-07 00:00:00+00:00  16.992982      1h 14m            564.304480\n",
       "2018-05-14 00:00:00+00:00  17.412405      1h 19m            686.679812\n",
       "2018-05-21 00:00:00+00:00   0.000000       0h 0m              0.000000\n",
       "2018-05-28 00:00:00+00:00   0.000000       0h 0m              0.000000\n",
       "2018-06-04 00:00:00+00:00   0.000000       0h 0m              0.000000\n",
       "...                              ...         ...                   ...\n",
       "2022-07-11 00:00:00+00:00  41.725922      7h 19m           2936.351800\n",
       "2022-07-18 00:00:00+00:00  35.875791      6h 12m           2116.141800\n",
       "2022-07-25 00:00:00+00:00  35.211383       4h 5m           1604.330760\n",
       "2022-08-01 00:00:00+00:00  28.716406      6h 31m           1371.391120\n",
       "2022-08-08 00:00:00+00:00  46.666349      6h 29m           2335.958080\n",
       "\n",
       "[223 rows x 3 columns]"
      ]
     },
     "execution_count": 13,
     "metadata": {},
     "output_type": "execute_result"
    }
   ],
   "source": [
    "activities_by_week_agg"
   ]
  },
  {
   "cell_type": "code",
   "execution_count": null,
   "metadata": {},
   "outputs": [],
   "source": []
  },
  {
   "cell_type": "code",
   "execution_count": 56,
   "metadata": {},
   "outputs": [],
   "source": [
    "run_by_week_agg.moving_time = run_by_week_agg.moving_time.apply(to_time_readout)"
   ]
  },
  {
   "cell_type": "code",
   "execution_count": 52,
   "metadata": {},
   "outputs": [
    {
     "data": {
      "text/plain": [
       "'7h 19m'"
      ]
     },
     "execution_count": 52,
     "metadata": {},
     "output_type": "execute_result"
    }
   ],
   "source": [
    "to_time_readout(26363)"
   ]
  },
  {
   "cell_type": "code",
   "execution_count": 62,
   "metadata": {},
   "outputs": [
    {
     "data": {
      "text/html": [
       "<div>\n",
       "<style scoped>\n",
       "    .dataframe tbody tr th:only-of-type {\n",
       "        vertical-align: middle;\n",
       "    }\n",
       "\n",
       "    .dataframe tbody tr th {\n",
       "        vertical-align: top;\n",
       "    }\n",
       "\n",
       "    .dataframe thead th {\n",
       "        text-align: right;\n",
       "    }\n",
       "</style>\n",
       "<table border=\"1\" class=\"dataframe\">\n",
       "  <thead>\n",
       "    <tr style=\"text-align: right;\">\n",
       "      <th></th>\n",
       "      <th>distance</th>\n",
       "      <th>moving_time</th>\n",
       "      <th>total_elevation_gain</th>\n",
       "    </tr>\n",
       "    <tr>\n",
       "      <th>start_time</th>\n",
       "      <th></th>\n",
       "      <th></th>\n",
       "      <th></th>\n",
       "    </tr>\n",
       "  </thead>\n",
       "  <tbody>\n",
       "    <tr>\n",
       "      <th>2018-08-06 00:00:00+00:00</th>\n",
       "      <td>11.957790</td>\n",
       "      <td>2h 3m</td>\n",
       "      <td>212.598432</td>\n",
       "    </tr>\n",
       "    <tr>\n",
       "      <th>2018-08-13 00:00:00+00:00</th>\n",
       "      <td>0.000000</td>\n",
       "      <td>0h 0m</td>\n",
       "      <td>0.000000</td>\n",
       "    </tr>\n",
       "    <tr>\n",
       "      <th>2018-08-20 00:00:00+00:00</th>\n",
       "      <td>0.000000</td>\n",
       "      <td>0h 0m</td>\n",
       "      <td>0.000000</td>\n",
       "    </tr>\n",
       "    <tr>\n",
       "      <th>2018-08-27 00:00:00+00:00</th>\n",
       "      <td>0.000000</td>\n",
       "      <td>0h 0m</td>\n",
       "      <td>0.000000</td>\n",
       "    </tr>\n",
       "    <tr>\n",
       "      <th>2018-09-03 00:00:00+00:00</th>\n",
       "      <td>0.000000</td>\n",
       "      <td>0h 0m</td>\n",
       "      <td>0.000000</td>\n",
       "    </tr>\n",
       "    <tr>\n",
       "      <th>...</th>\n",
       "      <td>...</td>\n",
       "      <td>...</td>\n",
       "      <td>...</td>\n",
       "    </tr>\n",
       "    <tr>\n",
       "      <th>2022-06-20 00:00:00+00:00</th>\n",
       "      <td>21.896833</td>\n",
       "      <td>3h 18m</td>\n",
       "      <td>1348.425240</td>\n",
       "    </tr>\n",
       "    <tr>\n",
       "      <th>2022-06-27 00:00:00+00:00</th>\n",
       "      <td>42.420821</td>\n",
       "      <td>7h 1m</td>\n",
       "      <td>2772.309800</td>\n",
       "    </tr>\n",
       "    <tr>\n",
       "      <th>2022-07-04 00:00:00+00:00</th>\n",
       "      <td>26.436405</td>\n",
       "      <td>4h 11m</td>\n",
       "      <td>2742.782240</td>\n",
       "    </tr>\n",
       "    <tr>\n",
       "      <th>2022-07-11 00:00:00+00:00</th>\n",
       "      <td>41.725922</td>\n",
       "      <td>7h 19m</td>\n",
       "      <td>2936.351800</td>\n",
       "    </tr>\n",
       "    <tr>\n",
       "      <th>2022-07-18 00:00:00+00:00</th>\n",
       "      <td>6.080211</td>\n",
       "      <td>0h 57m</td>\n",
       "      <td>196.850400</td>\n",
       "    </tr>\n",
       "  </tbody>\n",
       "</table>\n",
       "<p>207 rows × 3 columns</p>\n",
       "</div>"
      ],
      "text/plain": [
       "                            distance moving_time  total_elevation_gain\n",
       "start_time                                                            \n",
       "2018-08-06 00:00:00+00:00  11.957790       2h 3m            212.598432\n",
       "2018-08-13 00:00:00+00:00   0.000000       0h 0m              0.000000\n",
       "2018-08-20 00:00:00+00:00   0.000000       0h 0m              0.000000\n",
       "2018-08-27 00:00:00+00:00   0.000000       0h 0m              0.000000\n",
       "2018-09-03 00:00:00+00:00   0.000000       0h 0m              0.000000\n",
       "...                              ...         ...                   ...\n",
       "2022-06-20 00:00:00+00:00  21.896833      3h 18m           1348.425240\n",
       "2022-06-27 00:00:00+00:00  42.420821       7h 1m           2772.309800\n",
       "2022-07-04 00:00:00+00:00  26.436405      4h 11m           2742.782240\n",
       "2022-07-11 00:00:00+00:00  41.725922      7h 19m           2936.351800\n",
       "2022-07-18 00:00:00+00:00   6.080211      0h 57m            196.850400\n",
       "\n",
       "[207 rows x 3 columns]"
      ]
     },
     "execution_count": 62,
     "metadata": {},
     "output_type": "execute_result"
    }
   ],
   "source": [
    "run_by_week_agg"
   ]
  },
  {
   "cell_type": "code",
   "execution_count": 10,
   "metadata": {},
   "outputs": [],
   "source": [
    "def to_time_readout(element):\n",
    "    time = element / 60 / 60\n",
    "    hrs = int(time)\n",
    "    mins = (time - hrs) * 60\n",
    "    return f'{int(round(hrs, 0))}h {int(mins)}m'\n"
   ]
  },
  {
   "cell_type": "code",
   "execution_count": 59,
   "metadata": {},
   "outputs": [
    {
     "data": {
      "text/plain": [
       "7"
      ]
     },
     "execution_count": 59,
     "metadata": {},
     "output_type": "execute_result"
    }
   ],
   "source": [
    "int(7.99)"
   ]
  },
  {
   "cell_type": "code",
   "execution_count": 50,
   "metadata": {},
   "outputs": [
    {
     "data": {
      "text/plain": [
       "19.200000000000017"
      ]
     },
     "execution_count": 50,
     "metadata": {},
     "output_type": "execute_result"
    }
   ],
   "source": [
    "(7.32 - round(26363 / 60 / 60, 0)) * 60"
   ]
  },
  {
   "cell_type": "code",
   "execution_count": 73,
   "metadata": {},
   "outputs": [
    {
     "ename": "SyntaxError",
     "evalue": "invalid syntax (2495979164.py, line 1)",
     "output_type": "error",
     "traceback": [
      "\u001b[1;36m  Input \u001b[1;32mIn [73]\u001b[1;36m\u001b[0m\n\u001b[1;33m    run_by_week_agg.moving_time = run_by_week_agg.moving_time.apply(lambda x: y := x, f'{int(round(x, 0))}h {int(round((y - round(y)) * 60))}m')\u001b[0m\n\u001b[1;37m                                                                                ^\u001b[0m\n\u001b[1;31mSyntaxError\u001b[0m\u001b[1;31m:\u001b[0m invalid syntax\n"
     ]
    }
   ],
   "source": [
    "run_by_week_agg.moving_time = run_by_week_agg.moving_time.apply(lambda x: y := x, f'{int(round(x, 0))}h {int(round((y - round(y)) * 60))}m')"
   ]
  },
  {
   "cell_type": "code",
   "execution_count": 31,
   "metadata": {},
   "outputs": [
    {
     "ename": "AttributeError",
     "evalue": "'Timedelta' object has no attribute 'minutes'",
     "output_type": "error",
     "traceback": [
      "\u001b[1;31m---------------------------------------------------------------------------\u001b[0m",
      "\u001b[1;31mAttributeError\u001b[0m                            Traceback (most recent call last)",
      "\u001b[1;32mc:\\Users\\dansu\\Documents\\Python\\fitprogress\\fit2.ipynb Cell 12\u001b[0m in \u001b[0;36m<cell line: 1>\u001b[1;34m()\u001b[0m\n\u001b[1;32m----> <a href='vscode-notebook-cell:/c%3A/Users/dansu/Documents/Python/fitprogress/fit2.ipynb#ch0000031?line=0'>1</a>\u001b[0m run_by_week_agg\u001b[39m.\u001b[39;49mmoving_time[\u001b[39m4\u001b[39;49m]\u001b[39m.\u001b[39;49mminutes\n",
      "\u001b[1;31mAttributeError\u001b[0m: 'Timedelta' object has no attribute 'minutes'"
     ]
    }
   ],
   "source": [
    "run_by_week_agg.moving_time[4].minutes"
   ]
  },
  {
   "cell_type": "code",
   "execution_count": 25,
   "metadata": {},
   "outputs": [],
   "source": [
    "# week of 7/11 should be 7 hrs 19m in time\n",
    "#run_by_week_agg.moving_time = dt.timedelta(seconds=run_by_week_agg.moving_time)\n"
   ]
  },
  {
   "cell_type": "code",
   "execution_count": 8,
   "metadata": {},
   "outputs": [
    {
     "data": {
      "text/plain": [
       "'7h 19m'"
      ]
     },
     "execution_count": 8,
     "metadata": {},
     "output_type": "execute_result"
    }
   ],
   "source": [
    "f'{int(round(time_wk, 0))}h {int(round((time_wk - round(time_wk)) * 60))}m'"
   ]
  },
  {
   "cell_type": "code",
   "execution_count": 21,
   "metadata": {},
   "outputs": [
    {
     "name": "stdout",
     "output_type": "stream",
     "text": [
      "7:19:23\n"
     ]
    }
   ],
   "source": [
    "print(dt.timedelta(seconds=26363))"
   ]
  },
  {
   "cell_type": "code",
   "execution_count": 58,
   "metadata": {},
   "outputs": [],
   "source": [
    "# run_by_week_display = \n",
    "#run_by_week_agg.distance.round(2)\n",
    "#run_by_week_agg.total_elevation_gain.round().astype(int)\n"
   ]
  },
  {
   "cell_type": "code",
   "execution_count": 5,
   "metadata": {},
   "outputs": [],
   "source": [
    "time_wk = 26363/60/60"
   ]
  },
  {
   "cell_type": "code",
   "execution_count": 32,
   "metadata": {},
   "outputs": [
    {
     "data": {
      "text/html": [
       "<div>\n",
       "<style scoped>\n",
       "    .dataframe tbody tr th:only-of-type {\n",
       "        vertical-align: middle;\n",
       "    }\n",
       "\n",
       "    .dataframe tbody tr th {\n",
       "        vertical-align: top;\n",
       "    }\n",
       "\n",
       "    .dataframe thead th {\n",
       "        text-align: right;\n",
       "    }\n",
       "</style>\n",
       "<table border=\"1\" class=\"dataframe\">\n",
       "  <thead>\n",
       "    <tr style=\"text-align: right;\">\n",
       "      <th></th>\n",
       "      <th>name</th>\n",
       "      <th>distance</th>\n",
       "      <th>moving_time</th>\n",
       "      <th>elapsed_time</th>\n",
       "      <th>total_elevation_gain</th>\n",
       "      <th>sport_type</th>\n",
       "      <th>id</th>\n",
       "      <th>achievement_count</th>\n",
       "      <th>kudos_count</th>\n",
       "      <th>comment_count</th>\n",
       "      <th>...</th>\n",
       "      <th>average_speed</th>\n",
       "      <th>max_speed</th>\n",
       "      <th>average_heartrate</th>\n",
       "      <th>max_heartrate</th>\n",
       "      <th>elev_high</th>\n",
       "      <th>elev_low</th>\n",
       "      <th>pr_count</th>\n",
       "      <th>suffer_score</th>\n",
       "      <th>average_cadence</th>\n",
       "      <th>SPM</th>\n",
       "    </tr>\n",
       "    <tr>\n",
       "      <th>start_time</th>\n",
       "      <th></th>\n",
       "      <th></th>\n",
       "      <th></th>\n",
       "      <th></th>\n",
       "      <th></th>\n",
       "      <th></th>\n",
       "      <th></th>\n",
       "      <th></th>\n",
       "      <th></th>\n",
       "      <th></th>\n",
       "      <th></th>\n",
       "      <th></th>\n",
       "      <th></th>\n",
       "      <th></th>\n",
       "      <th></th>\n",
       "      <th></th>\n",
       "      <th></th>\n",
       "      <th></th>\n",
       "      <th></th>\n",
       "      <th></th>\n",
       "      <th></th>\n",
       "    </tr>\n",
       "  </thead>\n",
       "  <tbody>\n",
       "    <tr>\n",
       "      <th>2022-07-06 11:26:08+00:00</th>\n",
       "      <td>Lunch Run</td>\n",
       "      <td>4.038177</td>\n",
       "      <td>2164</td>\n",
       "      <td>2172</td>\n",
       "      <td>47.0</td>\n",
       "      <td>Run</td>\n",
       "      <td>7426810587</td>\n",
       "      <td>1</td>\n",
       "      <td>3</td>\n",
       "      <td>0</td>\n",
       "      <td>...</td>\n",
       "      <td>3.005</td>\n",
       "      <td>4.28</td>\n",
       "      <td>140.4</td>\n",
       "      <td>153.0</td>\n",
       "      <td>84.2</td>\n",
       "      <td>62.8</td>\n",
       "      <td>1</td>\n",
       "      <td>23.0</td>\n",
       "      <td>86.0</td>\n",
       "      <td>0.637708</td>\n",
       "    </tr>\n",
       "  </tbody>\n",
       "</table>\n",
       "<p>1 rows × 22 columns</p>\n",
       "</div>"
      ],
      "text/plain": [
       "                                name  distance  moving_time  elapsed_time  \\\n",
       "start_time                                                                  \n",
       "2022-07-06 11:26:08+00:00  Lunch Run  4.038177         2164          2172   \n",
       "\n",
       "                           total_elevation_gain sport_type          id  \\\n",
       "start_time                                                               \n",
       "2022-07-06 11:26:08+00:00                  47.0        Run  7426810587   \n",
       "\n",
       "                           achievement_count  kudos_count  comment_count  ...  \\\n",
       "start_time                                                                ...   \n",
       "2022-07-06 11:26:08+00:00                  1            3              0  ...   \n",
       "\n",
       "                           average_speed max_speed  average_heartrate  \\\n",
       "start_time                                                              \n",
       "2022-07-06 11:26:08+00:00          3.005      4.28              140.4   \n",
       "\n",
       "                           max_heartrate  elev_high  elev_low  pr_count  \\\n",
       "start_time                                                                \n",
       "2022-07-06 11:26:08+00:00          153.0       84.2      62.8         1   \n",
       "\n",
       "                           suffer_score  average_cadence       SPM  \n",
       "start_time                                                          \n",
       "2022-07-06 11:26:08+00:00          23.0             86.0  0.637708  \n",
       "\n",
       "[1 rows x 22 columns]"
      ]
     },
     "execution_count": 32,
     "metadata": {},
     "output_type": "execute_result"
    }
   ],
   "source": [
    "run_activities.iloc[[3]]"
   ]
  },
  {
   "cell_type": "code",
   "execution_count": 57,
   "metadata": {},
   "outputs": [
    {
     "data": {
      "text/plain": [
       "start_time\n",
       "2018-08-06 00:00:00+00:00     213\n",
       "2018-08-13 00:00:00+00:00       0\n",
       "2018-08-20 00:00:00+00:00       0\n",
       "2018-08-27 00:00:00+00:00       0\n",
       "2018-09-03 00:00:00+00:00       0\n",
       "                             ... \n",
       "2022-06-20 00:00:00+00:00    1348\n",
       "2022-06-27 00:00:00+00:00    2772\n",
       "2022-07-04 00:00:00+00:00    2743\n",
       "2022-07-11 00:00:00+00:00    2936\n",
       "2022-07-18 00:00:00+00:00     197\n",
       "Freq: W-MON, Name: total_elevation_gain, Length: 207, dtype: int32"
      ]
     },
     "execution_count": 57,
     "metadata": {},
     "output_type": "execute_result"
    }
   ],
   "source": []
  },
  {
   "cell_type": "code",
   "execution_count": 33,
   "metadata": {},
   "outputs": [
    {
     "data": {
      "text/plain": [
       "154.19948"
      ]
     },
     "execution_count": 33,
     "metadata": {},
     "output_type": "execute_result"
    }
   ],
   "source": [
    "# 154 ft\n",
    "run_activities.total_elevation_gain[3] * 3.28084"
   ]
  },
  {
   "cell_type": "code",
   "execution_count": 37,
   "metadata": {},
   "outputs": [],
   "source": [
    "from datetime import timedelta\n",
    "\n",
    "# create timedelta\n",
    "sample_timedelta = timedelta(\n",
    "    days=40,\n",
    "    seconds=3,\n",
    "    microseconds=2,\n",
    "    milliseconds=1200,\n",
    "    minutes=3,\n",
    "    hours=23,\n",
    "    weeks=3\n",
    ")"
   ]
  },
  {
   "cell_type": "code",
   "execution_count": 41,
   "metadata": {},
   "outputs": [
    {
     "data": {
      "text/plain": [
       "82984"
      ]
     },
     "execution_count": 41,
     "metadata": {},
     "output_type": "execute_result"
    }
   ],
   "source": [
    "sample_timedelta.seconds"
   ]
  },
  {
   "cell_type": "code",
   "execution_count": 18,
   "metadata": {},
   "outputs": [
    {
     "data": {
      "text/plain": [
       "start_time\n",
       "Week of Monday, May 02    41.244522\n",
       "Week of Monday, May 09    26.253520\n",
       "Week of Monday, May 16    20.777232\n",
       "Week of Monday, May 23    43.479315\n",
       "Week of Monday, May 30    30.362615\n",
       "Week of Monday, Jun 06    33.258152\n",
       "Week of Monday, Jun 13    33.822206\n",
       "Week of Monday, Jun 20    21.896833\n",
       "Week of Monday, Jun 27    42.420821\n",
       "Week of Monday, Jul 04    26.436405\n",
       "Week of Monday, Jul 11    41.725922\n",
       "Week of Monday, Jul 18     6.080211\n",
       "Name: distance, dtype: float64"
      ]
     },
     "execution_count": 18,
     "metadata": {},
     "output_type": "execute_result"
    }
   ],
   "source": [
    "#st.index = st.index.strftime('%B %Y')\n",
    "st"
   ]
  },
  {
   "cell_type": "code",
   "execution_count": 9,
   "metadata": {},
   "outputs": [
    {
     "data": {
      "text/plain": [
       "Index(['name', 'distance', 'moving_time', 'elapsed_time',\n",
       "       'total_elevation_gain', 'sport_type', 'id', 'achievement_count',\n",
       "       'kudos_count', 'comment_count', 'athlete_count', 'map', 'average_speed',\n",
       "       'max_speed', 'average_heartrate', 'max_heartrate', 'elev_high',\n",
       "       'elev_low', 'pr_count', 'suffer_score', 'average_cadence', 'SPM'],\n",
       "      dtype='object')"
      ]
     },
     "execution_count": 9,
     "metadata": {},
     "output_type": "execute_result"
    }
   ],
   "source": [
    "#strava_activities_clean[strava_activities_clean['sport_type'] == 'Run'].head(30)\n",
    "strava_activities_clean.columns"
   ]
  },
  {
   "cell_type": "code",
   "execution_count": 16,
   "metadata": {},
   "outputs": [
    {
     "data": {
      "text/plain": [
       "'[45.52732522599399, -122.60262675583363]'"
      ]
     },
     "execution_count": 16,
     "metadata": {},
     "output_type": "execute_result"
    }
   ],
   "source": [
    "strava_activities_raw.start_latlng[109]"
   ]
  },
  {
   "cell_type": "code",
   "execution_count": 106,
   "metadata": {},
   "outputs": [],
   "source": [
    "x = 'start_time'\n",
    "y = 'average_speed'\n",
    "df = strava_activities_clean[(strava_activities_clean.sport_type == 'Run') & (strava_activities_clean.distance.between(3.99, 8.5))]\n",
    "\n",
    "fig = px.scatter(data_frame=df, \n",
    "                        y=y,   # choice \n",
    "                        x=x,\n",
    "                        #hover_data=['distance', 'calories'], \n",
    "                        #labels=dict(x='Date', time='Time', avg_run_cadence='Average Run Cadence', avg_pace='Average Pace'), \n",
    "                        title=str(y + ' x ' + x),\n",
    "                        #size='distance',\n",
    "                        #color='distance',\n",
    "                        template='plotly',\n",
    "                        height=500, \n",
    "                        width=800, \n",
    "                        #trendline='ols'\n",
    "                        )"
   ]
  },
  {
   "cell_type": "code",
   "execution_count": 107,
   "metadata": {},
   "outputs": [
    {
     "data": {
      "application/vnd.plotly.v1+json": {
       "config": {
        "plotlyServerURL": "https://plot.ly"
       },
       "data": [
        {
         "hovertemplate": "start_time=%{x}<br>average_speed=%{y}<extra></extra>",
         "legendgroup": "",
         "marker": {
          "color": "#636efa",
          "symbol": "circle"
         },
         "mode": "markers",
         "name": "",
         "orientation": "v",
         "showlegend": false,
         "type": "scatter",
         "x": [
          "2022-06-30T21:39:30+00:00",
          "2022-06-29T19:24:38+00:00",
          "2022-06-28T19:05:39+00:00",
          "2022-06-24T18:38:54+00:00",
          "2022-06-22T17:42:39+00:00",
          "2022-06-22T02:12:17+00:00",
          "2022-06-20T16:56:29+00:00",
          "2022-06-15T18:51:08+00:00",
          "2022-06-14T20:00:50+00:00",
          "2022-06-13T18:53:51+00:00",
          "2022-06-13T02:08:36+00:00",
          "2022-06-11T22:53:46+00:00",
          "2022-06-08T03:07:34+00:00",
          "2022-06-06T19:11:28+00:00",
          "2022-06-04T23:17:56+00:00",
          "2022-06-02T19:27:41+00:00",
          "2022-06-01T22:27:03+00:00",
          "2022-05-31T18:44:32+00:00",
          "2022-05-27T18:19:44+00:00",
          "2022-05-26T16:42:54+00:00",
          "2022-05-25T18:46:09+00:00",
          "2022-05-24T19:57:02+00:00",
          "2022-05-21T22:46:10+00:00",
          "2022-05-20T22:59:29+00:00",
          "2022-05-18T19:40:15+00:00",
          "2022-05-17T19:58:17+00:00",
          "2022-05-16T19:22:42+00:00",
          "2022-05-13T18:42:01+00:00",
          "2022-05-11T02:18:03+00:00",
          "2022-05-09T18:59:51+00:00",
          "2022-05-06T00:50:20+00:00",
          "2022-05-04T19:20:52+00:00",
          "2022-05-03T19:23:50+00:00",
          "2022-05-02T19:41:50+00:00",
          "2022-04-28T19:38:19+00:00",
          "2022-04-27T19:26:16+00:00",
          "2022-04-26T16:05:22+00:00",
          "2022-04-25T20:55:45+00:00",
          "2022-04-21T17:49:50+00:00",
          "2022-04-20T19:58:09+00:00",
          "2022-04-20T00:51:57+00:00",
          "2022-04-14T19:52:14+00:00",
          "2022-04-13T19:16:41+00:00",
          "2022-04-12T19:19:36+00:00",
          "2022-04-10T18:44:31+00:00",
          "2022-04-08T17:22:06+00:00",
          "2022-04-07T19:00:43+00:00",
          "2022-04-06T19:00:46+00:00",
          "2022-04-05T19:35:07+00:00",
          "2022-03-30T21:40:18+00:00",
          "2022-03-29T20:04:11+00:00",
          "2022-03-28T21:18:03+00:00",
          "2022-03-24T17:06:44+00:00",
          "2022-03-23T19:36:47+00:00",
          "2022-03-22T20:49:06+00:00",
          "2022-03-20T21:47:21+00:00",
          "2022-03-17T19:26:20+00:00",
          "2022-03-16T19:34:11+00:00",
          "2022-03-15T20:34:34+00:00",
          "2022-03-15T00:35:44+00:00",
          "2022-03-11T00:20:48+00:00",
          "2022-03-07T21:10:07+00:00",
          "2022-03-03T20:13:45+00:00",
          "2022-03-02T21:10:10+00:00",
          "2022-02-28T19:41:31+00:00",
          "2022-02-25T21:27:33+00:00",
          "2022-02-24T20:12:53+00:00",
          "2022-02-23T20:20:54+00:00",
          "2022-02-22T19:50:56+00:00",
          "2022-02-17T19:42:45+00:00",
          "2022-02-16T19:45:03+00:00",
          "2022-02-15T15:06:59+00:00",
          "2022-02-14T21:59:05+00:00",
          "2022-02-10T19:48:59+00:00",
          "2022-02-09T19:56:50+00:00",
          "2022-02-08T20:03:13+00:00",
          "2022-02-07T00:11:38+00:00",
          "2022-02-05T22:00:54+00:00",
          "2022-02-03T19:10:48+00:00",
          "2022-02-02T19:48:46+00:00",
          "2022-02-01T20:51:38+00:00",
          "2022-01-29T20:35:40+00:00",
          "2022-01-27T20:35:00+00:00",
          "2022-01-26T20:10:10+00:00",
          "2022-01-25T20:06:00+00:00",
          "2022-01-20T20:14:28+00:00",
          "2022-01-20T00:38:02+00:00",
          "2022-01-18T19:53:45+00:00",
          "2022-01-13T20:59:09+00:00",
          "2022-01-12T20:11:29+00:00",
          "2022-01-11T19:15:25+00:00",
          "2022-01-09T22:40:51+00:00",
          "2022-01-06T20:30:21+00:00",
          "2022-01-05T20:57:51+00:00",
          "2022-01-04T21:07:24+00:00",
          "2022-01-01T20:39:08+00:00",
          "2021-12-30T22:59:51+00:00",
          "2021-12-19T20:43:48+00:00",
          "2021-12-18T21:55:54+00:00",
          "2021-12-17T22:39:52+00:00",
          "2021-12-15T20:53:20+00:00",
          "2021-12-14T15:11:09+00:00",
          "2021-12-13T20:30:39+00:00",
          "2021-12-10T20:43:12+00:00",
          "2021-12-09T19:23:12+00:00",
          "2021-12-07T20:32:53+00:00",
          "2021-12-05T22:02:24+00:00",
          "2021-12-03T20:45:43+00:00",
          "2021-12-01T20:44:04+00:00",
          "2021-11-30T21:35:28+00:00",
          "2021-11-28T20:20:59+00:00",
          "2021-11-25T19:15:31+00:00",
          "2021-11-24T20:07:24+00:00",
          "2021-11-23T20:57:07+00:00",
          "2021-11-22T20:18:34+00:00",
          "2021-11-20T22:32:53+00:00",
          "2021-11-19T21:27:41+00:00",
          "2021-11-11T23:56:36+00:00",
          "2021-11-09T20:33:35+00:00",
          "2021-11-08T19:46:53+00:00",
          "2021-11-05T00:51:23+00:00",
          "2021-11-04T03:02:46+00:00",
          "2021-11-02T20:43:23+00:00",
          "2021-11-01T22:51:27+00:00",
          "2021-10-29T19:12:47+00:00",
          "2021-10-29T00:41:08+00:00",
          "2021-10-26T19:30:07+00:00",
          "2021-10-25T19:13:43+00:00",
          "2021-10-21T19:28:25+00:00",
          "2021-10-19T20:15:35+00:00",
          "2021-10-16T17:07:31+00:00",
          "2021-10-14T22:16:53+00:00",
          "2021-10-13T20:31:31+00:00",
          "2021-10-11T23:38:54+00:00",
          "2021-10-08T18:54:23+00:00",
          "2021-10-07T18:57:16+00:00",
          "2021-10-04T19:26:59+00:00",
          "2021-09-29T20:17:53+00:00",
          "2021-09-28T21:04:00+00:00",
          "2021-09-17T21:39:31+00:00",
          "2021-09-16T02:02:12+00:00",
          "2021-09-14T20:31:25+00:00",
          "2021-09-13T18:34:03+00:00",
          "2021-09-09T18:48:59+00:00",
          "2021-09-07T20:56:48+00:00",
          "2021-09-02T18:49:18+00:00",
          "2021-09-01T01:48:42+00:00",
          "2021-08-29T22:01:54+00:00",
          "2021-08-26T21:57:37+00:00",
          "2021-08-24T21:13:08+00:00",
          "2021-08-19T19:58:15+00:00",
          "2021-08-17T19:44:33+00:00",
          "2021-08-15T21:27:28+00:00",
          "2021-08-12T18:27:25+00:00",
          "2021-08-11T17:45:02+00:00",
          "2021-08-10T19:54:59+00:00",
          "2021-08-03T19:59:31+00:00",
          "2021-08-02T19:18:21+00:00",
          "2021-07-30T18:05:10+00:00",
          "2021-07-28T20:01:16+00:00",
          "2021-07-26T19:27:31+00:00",
          "2021-07-23T02:05:53+00:00",
          "2021-07-20T19:44:44+00:00",
          "2021-07-15T19:24:23+00:00",
          "2021-07-14T19:17:00+00:00",
          "2021-07-13T20:28:32+00:00",
          "2021-07-07T19:38:32+00:00",
          "2021-07-05T22:30:22+00:00",
          "2021-07-01T19:14:37+00:00",
          "2021-06-30T18:03:49+00:00",
          "2021-06-30T01:40:59+00:00",
          "2021-06-24T20:13:27+00:00",
          "2021-06-23T20:09:34+00:00",
          "2021-06-22T19:22:13+00:00",
          "2021-06-17T19:13:34+00:00",
          "2021-06-17T00:55:26+00:00",
          "2021-06-15T20:44:02+00:00",
          "2021-06-10T20:35:44+00:00",
          "2021-06-09T19:51:58+00:00",
          "2021-06-09T00:06:46+00:00",
          "2021-06-03T18:53:49+00:00",
          "2021-06-01T22:20:30+00:00",
          "2021-05-31T01:21:00+00:00",
          "2021-05-27T20:28:59+00:00",
          "2021-05-26T20:07:43+00:00",
          "2021-05-20T00:31:30+00:00",
          "2021-05-14T19:17:16+00:00",
          "2021-05-11T20:06:32+00:00",
          "2021-05-09T18:31:45+00:00",
          "2021-05-06T16:49:57+00:00",
          "2021-05-05T22:30:12+00:00",
          "2021-05-03T00:55:27+00:00",
          "2021-04-29T20:28:43+00:00",
          "2021-04-28T20:10:19+00:00",
          "2021-04-27T20:18:43+00:00",
          "2021-04-22T20:22:30+00:00",
          "2021-04-21T22:12:45+00:00",
          "2021-04-21T00:35:16+00:00",
          "2021-04-15T21:55:11+00:00",
          "2021-04-13T20:51:39+00:00",
          "2021-04-11T22:01:05+00:00",
          "2021-04-08T19:33:06+00:00",
          "2021-04-07T21:49:12+00:00",
          "2021-04-06T20:06:31+00:00",
          "2021-04-01T19:33:48+00:00",
          "2021-03-31T20:01:00+00:00",
          "2021-03-30T19:56:31+00:00",
          "2021-03-28T22:06:13+00:00",
          "2021-03-25T20:24:54+00:00",
          "2021-03-24T15:08:39+00:00",
          "2021-03-23T20:22:26+00:00",
          "2021-03-18T20:39:25+00:00",
          "2021-03-16T21:16:35+00:00",
          "2021-03-11T20:13:08+00:00",
          "2021-03-10T21:14:12+00:00",
          "2021-03-09T21:48:25+00:00",
          "2021-03-04T20:33:29+00:00",
          "2021-03-03T21:04:44+00:00",
          "2021-03-02T20:48:41+00:00",
          "2021-03-01T00:19:40+00:00",
          "2021-02-25T20:36:20+00:00",
          "2021-02-24T20:10:21+00:00",
          "2021-02-23T21:27:33+00:00",
          "2021-02-20T19:02:27+00:00",
          "2021-02-18T21:37:01+00:00",
          "2021-02-16T19:38:28+00:00",
          "2021-02-14T16:51:26+00:00",
          "2021-02-11T18:13:56+00:00",
          "2021-02-10T21:54:22+00:00",
          "2021-02-09T22:03:33+00:00",
          "2021-02-07T22:06:53+00:00",
          "2021-02-04T20:16:40+00:00",
          "2021-02-02T20:41:03+00:00",
          "2021-01-31T18:01:35+00:00",
          "2021-01-28T20:55:20+00:00",
          "2021-01-27T20:43:45+00:00",
          "2021-01-26T21:27:29+00:00",
          "2021-01-21T15:08:18+00:00",
          "2021-01-19T20:02:12+00:00",
          "2021-01-18T00:16:17+00:00",
          "2021-01-14T20:07:55+00:00",
          "2021-01-12T20:11:00+00:00",
          "2021-01-11T00:44:41+00:00",
          "2021-01-08T23:03:34+00:00",
          "2021-01-07T20:08:55+00:00",
          "2021-01-05T21:21:00+00:00",
          "2021-01-04T20:40:23+00:00",
          "2021-01-02T18:12:10+00:00",
          "2020-12-31T18:37:05+00:00",
          "2020-12-30T18:26:35+00:00",
          "2020-12-28T18:54:10+00:00",
          "2020-12-26T19:20:18+00:00",
          "2020-12-24T21:00:26+00:00",
          "2020-12-23T18:07:43+00:00",
          "2020-12-22T20:25:16+00:00",
          "2020-12-20T23:24:06+00:00",
          "2020-12-17T20:58:01+00:00",
          "2020-12-16T22:31:37+00:00",
          "2020-12-14T21:27:56+00:00",
          "2020-12-12T21:02:20+00:00",
          "2020-12-10T18:35:14+00:00",
          "2020-12-08T22:18:35+00:00",
          "2020-12-06T22:05:19+00:00",
          "2020-12-05T18:49:26+00:00",
          "2020-12-03T20:56:23+00:00",
          "2020-12-01T21:38:44+00:00",
          "2020-11-30T22:04:11+00:00",
          "2020-11-28T18:19:12+00:00",
          "2020-11-26T19:21:06+00:00",
          "2020-11-23T21:20:33+00:00",
          "2020-11-22T00:10:17+00:00",
          "2020-11-20T21:31:09+00:00",
          "2020-11-19T21:33:06+00:00",
          "2020-11-16T21:17:51+00:00",
          "2020-11-14T00:23:46+00:00",
          "2020-11-12T19:55:48+00:00",
          "2020-11-09T00:14:17+00:00",
          "2020-11-06T22:33:08+00:00",
          "2020-11-04T20:16:30+00:00",
          "2020-11-03T22:17:58+00:00",
          "2020-11-01T21:21:42+00:00",
          "2020-10-29T20:12:43+00:00",
          "2020-10-27T21:07:59+00:00",
          "2020-10-25T20:33:49+00:00",
          "2020-10-23T21:04:25+00:00",
          "2020-10-21T20:36:20+00:00",
          "2020-10-18T18:27:14+00:00",
          "2020-10-10T22:31:39+00:00",
          "2020-10-08T20:17:44+00:00",
          "2020-10-04T22:47:11+00:00",
          "2020-09-29T00:56:57+00:00",
          "2020-09-26T01:22:29+00:00",
          "2020-09-20T21:24:14+00:00",
          "2020-09-19T17:32:09+00:00",
          "2020-09-06T00:03:41+00:00",
          "2020-08-20T19:48:59+00:00",
          "2020-08-08T23:56:25+00:00",
          "2020-07-29T19:42:13+00:00",
          "2020-07-14T20:26:36+00:00",
          "2020-06-06T20:21:26+00:00",
          "2020-05-17T22:36:32+00:00",
          "2020-05-13T02:12:31+00:00",
          "2020-05-03T21:58:19+00:00",
          "2020-05-03T00:56:17+00:00",
          "2020-04-24T20:32:27+00:00",
          "2020-04-06T21:02:11+00:00",
          "2020-03-07T22:41:22+00:00"
         ],
         "xaxis": "x",
         "y": [
          2.63,
          3.016,
          2.979,
          3.13,
          2.896,
          2.389,
          3.126,
          2.83,
          2.836,
          2.94,
          2.86,
          3.031,
          2.889,
          2.664,
          3.238,
          2.941,
          2.539,
          3.005,
          2.919,
          3.256,
          2.896,
          2.849,
          2.717,
          2.94,
          2.921,
          2.887,
          2.938,
          2.807,
          2.88,
          3.081,
          3.047,
          3.087,
          2.649,
          3.072,
          2.893,
          2.711,
          3.248,
          2.915,
          3.051,
          3.08,
          2.896,
          3.012,
          2.9,
          3.074,
          2.817,
          2.871,
          2.957,
          2.743,
          2.938,
          3.194,
          2.849,
          3.053,
          2.994,
          2.89,
          3.057,
          2.881,
          2.829,
          3,
          2.936,
          2.845,
          3.129,
          2.949,
          2.855,
          2.817,
          3.404,
          2.961,
          2.758,
          2.984,
          2.87,
          2.86,
          2.885,
          2.962,
          2.928,
          2.806,
          2.98,
          2.939,
          2.857,
          2.966,
          2.755,
          2.923,
          2.744,
          2.923,
          2.808,
          2.809,
          2.781,
          2.76,
          3.111,
          2.82,
          2.801,
          2.656,
          2.564,
          2.755,
          2.578,
          2.612,
          2.577,
          1.991,
          2.621,
          2.129,
          3.104,
          3.04,
          2.262,
          2.33,
          2.295,
          2.253,
          2.352,
          2.77,
          3.547,
          3.042,
          2.777,
          3.23,
          2.81,
          3.52,
          2.989,
          2.774,
          2.8,
          2.748,
          3.007,
          2.986,
          2.863,
          2.946,
          3.021,
          2.988,
          2.861,
          3.324,
          2.964,
          3.227,
          2.994,
          3,
          3.436,
          3.403,
          2.876,
          3.008,
          2.887,
          3.019,
          3.122,
          2.886,
          2.823,
          2.823,
          3.277,
          3.254,
          2.896,
          2.707,
          2.757,
          2.836,
          2.767,
          2.674,
          2.845,
          2.817,
          2.688,
          2.853,
          2.784,
          2.722,
          2.862,
          2.792,
          2.846,
          2.885,
          2.966,
          2.944,
          2.811,
          2.786,
          2.701,
          2.856,
          2.822,
          2.792,
          2.697,
          2.897,
          2.741,
          2.826,
          2.719,
          2.965,
          2.821,
          2.726,
          2.919,
          2.784,
          2.694,
          2.849,
          2.714,
          2.715,
          3.074,
          3.018,
          2.783,
          2.724,
          2.81,
          2.854,
          2.87,
          2.719,
          2.942,
          2.902,
          2.686,
          2.738,
          2.921,
          2.704,
          2.799,
          3.12,
          2.855,
          2.778,
          2.905,
          2.76,
          2.932,
          2.862,
          2.778,
          2.64,
          2.86,
          2.728,
          2.761,
          2.832,
          2.866,
          2.854,
          2.847,
          2.677,
          2.748,
          3.144,
          2.997,
          3.068,
          3.035,
          2.963,
          3.27,
          2.951,
          2.843,
          2.861,
          3.074,
          2.838,
          2.858,
          2.875,
          2.817,
          2.793,
          2.857,
          2.801,
          2.692,
          3.133,
          2.96,
          2.866,
          2.918,
          2.768,
          2.699,
          2.778,
          3.035,
          2.84,
          3.1,
          2.991,
          3.023,
          3.18,
          2.895,
          3.124,
          3.106,
          3.381,
          3.405,
          3.038,
          3.111,
          3.061,
          3.088,
          3.036,
          2.989,
          3.351,
          3.122,
          3.102,
          3.153,
          3.27,
          3.107,
          3.05,
          3.18,
          3.129,
          3.365,
          3.228,
          3.091,
          3.034,
          3.301,
          2.9,
          2.649,
          2.934,
          2.914,
          2.921,
          3.036,
          3.008,
          3.02,
          3.017,
          2.937,
          3.124,
          3.124,
          3.028,
          2.824,
          2.888,
          2.937,
          2.86,
          2.984,
          2.952,
          3.071,
          2.824,
          2.98,
          2.836,
          2.879,
          2.871,
          2.955,
          2.961,
          2.791,
          2.718,
          2.928,
          2.759,
          2.77,
          2.868,
          2.816,
          2.834,
          2.653,
          2.767,
          2.698,
          2.661,
          2.661
         ],
         "yaxis": "y"
        }
       ],
       "layout": {
        "height": 500,
        "legend": {
         "tracegroupgap": 0
        },
        "template": {
         "data": {
          "bar": [
           {
            "error_x": {
             "color": "#2a3f5f"
            },
            "error_y": {
             "color": "#2a3f5f"
            },
            "marker": {
             "line": {
              "color": "#E5ECF6",
              "width": 0.5
             },
             "pattern": {
              "fillmode": "overlay",
              "size": 10,
              "solidity": 0.2
             }
            },
            "type": "bar"
           }
          ],
          "barpolar": [
           {
            "marker": {
             "line": {
              "color": "#E5ECF6",
              "width": 0.5
             },
             "pattern": {
              "fillmode": "overlay",
              "size": 10,
              "solidity": 0.2
             }
            },
            "type": "barpolar"
           }
          ],
          "carpet": [
           {
            "aaxis": {
             "endlinecolor": "#2a3f5f",
             "gridcolor": "white",
             "linecolor": "white",
             "minorgridcolor": "white",
             "startlinecolor": "#2a3f5f"
            },
            "baxis": {
             "endlinecolor": "#2a3f5f",
             "gridcolor": "white",
             "linecolor": "white",
             "minorgridcolor": "white",
             "startlinecolor": "#2a3f5f"
            },
            "type": "carpet"
           }
          ],
          "choropleth": [
           {
            "colorbar": {
             "outlinewidth": 0,
             "ticks": ""
            },
            "type": "choropleth"
           }
          ],
          "contour": [
           {
            "colorbar": {
             "outlinewidth": 0,
             "ticks": ""
            },
            "colorscale": [
             [
              0,
              "#0d0887"
             ],
             [
              0.1111111111111111,
              "#46039f"
             ],
             [
              0.2222222222222222,
              "#7201a8"
             ],
             [
              0.3333333333333333,
              "#9c179e"
             ],
             [
              0.4444444444444444,
              "#bd3786"
             ],
             [
              0.5555555555555556,
              "#d8576b"
             ],
             [
              0.6666666666666666,
              "#ed7953"
             ],
             [
              0.7777777777777778,
              "#fb9f3a"
             ],
             [
              0.8888888888888888,
              "#fdca26"
             ],
             [
              1,
              "#f0f921"
             ]
            ],
            "type": "contour"
           }
          ],
          "contourcarpet": [
           {
            "colorbar": {
             "outlinewidth": 0,
             "ticks": ""
            },
            "type": "contourcarpet"
           }
          ],
          "heatmap": [
           {
            "colorbar": {
             "outlinewidth": 0,
             "ticks": ""
            },
            "colorscale": [
             [
              0,
              "#0d0887"
             ],
             [
              0.1111111111111111,
              "#46039f"
             ],
             [
              0.2222222222222222,
              "#7201a8"
             ],
             [
              0.3333333333333333,
              "#9c179e"
             ],
             [
              0.4444444444444444,
              "#bd3786"
             ],
             [
              0.5555555555555556,
              "#d8576b"
             ],
             [
              0.6666666666666666,
              "#ed7953"
             ],
             [
              0.7777777777777778,
              "#fb9f3a"
             ],
             [
              0.8888888888888888,
              "#fdca26"
             ],
             [
              1,
              "#f0f921"
             ]
            ],
            "type": "heatmap"
           }
          ],
          "heatmapgl": [
           {
            "colorbar": {
             "outlinewidth": 0,
             "ticks": ""
            },
            "colorscale": [
             [
              0,
              "#0d0887"
             ],
             [
              0.1111111111111111,
              "#46039f"
             ],
             [
              0.2222222222222222,
              "#7201a8"
             ],
             [
              0.3333333333333333,
              "#9c179e"
             ],
             [
              0.4444444444444444,
              "#bd3786"
             ],
             [
              0.5555555555555556,
              "#d8576b"
             ],
             [
              0.6666666666666666,
              "#ed7953"
             ],
             [
              0.7777777777777778,
              "#fb9f3a"
             ],
             [
              0.8888888888888888,
              "#fdca26"
             ],
             [
              1,
              "#f0f921"
             ]
            ],
            "type": "heatmapgl"
           }
          ],
          "histogram": [
           {
            "marker": {
             "pattern": {
              "fillmode": "overlay",
              "size": 10,
              "solidity": 0.2
             }
            },
            "type": "histogram"
           }
          ],
          "histogram2d": [
           {
            "colorbar": {
             "outlinewidth": 0,
             "ticks": ""
            },
            "colorscale": [
             [
              0,
              "#0d0887"
             ],
             [
              0.1111111111111111,
              "#46039f"
             ],
             [
              0.2222222222222222,
              "#7201a8"
             ],
             [
              0.3333333333333333,
              "#9c179e"
             ],
             [
              0.4444444444444444,
              "#bd3786"
             ],
             [
              0.5555555555555556,
              "#d8576b"
             ],
             [
              0.6666666666666666,
              "#ed7953"
             ],
             [
              0.7777777777777778,
              "#fb9f3a"
             ],
             [
              0.8888888888888888,
              "#fdca26"
             ],
             [
              1,
              "#f0f921"
             ]
            ],
            "type": "histogram2d"
           }
          ],
          "histogram2dcontour": [
           {
            "colorbar": {
             "outlinewidth": 0,
             "ticks": ""
            },
            "colorscale": [
             [
              0,
              "#0d0887"
             ],
             [
              0.1111111111111111,
              "#46039f"
             ],
             [
              0.2222222222222222,
              "#7201a8"
             ],
             [
              0.3333333333333333,
              "#9c179e"
             ],
             [
              0.4444444444444444,
              "#bd3786"
             ],
             [
              0.5555555555555556,
              "#d8576b"
             ],
             [
              0.6666666666666666,
              "#ed7953"
             ],
             [
              0.7777777777777778,
              "#fb9f3a"
             ],
             [
              0.8888888888888888,
              "#fdca26"
             ],
             [
              1,
              "#f0f921"
             ]
            ],
            "type": "histogram2dcontour"
           }
          ],
          "mesh3d": [
           {
            "colorbar": {
             "outlinewidth": 0,
             "ticks": ""
            },
            "type": "mesh3d"
           }
          ],
          "parcoords": [
           {
            "line": {
             "colorbar": {
              "outlinewidth": 0,
              "ticks": ""
             }
            },
            "type": "parcoords"
           }
          ],
          "pie": [
           {
            "automargin": true,
            "type": "pie"
           }
          ],
          "scatter": [
           {
            "marker": {
             "colorbar": {
              "outlinewidth": 0,
              "ticks": ""
             }
            },
            "type": "scatter"
           }
          ],
          "scatter3d": [
           {
            "line": {
             "colorbar": {
              "outlinewidth": 0,
              "ticks": ""
             }
            },
            "marker": {
             "colorbar": {
              "outlinewidth": 0,
              "ticks": ""
             }
            },
            "type": "scatter3d"
           }
          ],
          "scattercarpet": [
           {
            "marker": {
             "colorbar": {
              "outlinewidth": 0,
              "ticks": ""
             }
            },
            "type": "scattercarpet"
           }
          ],
          "scattergeo": [
           {
            "marker": {
             "colorbar": {
              "outlinewidth": 0,
              "ticks": ""
             }
            },
            "type": "scattergeo"
           }
          ],
          "scattergl": [
           {
            "marker": {
             "colorbar": {
              "outlinewidth": 0,
              "ticks": ""
             }
            },
            "type": "scattergl"
           }
          ],
          "scattermapbox": [
           {
            "marker": {
             "colorbar": {
              "outlinewidth": 0,
              "ticks": ""
             }
            },
            "type": "scattermapbox"
           }
          ],
          "scatterpolar": [
           {
            "marker": {
             "colorbar": {
              "outlinewidth": 0,
              "ticks": ""
             }
            },
            "type": "scatterpolar"
           }
          ],
          "scatterpolargl": [
           {
            "marker": {
             "colorbar": {
              "outlinewidth": 0,
              "ticks": ""
             }
            },
            "type": "scatterpolargl"
           }
          ],
          "scatterternary": [
           {
            "marker": {
             "colorbar": {
              "outlinewidth": 0,
              "ticks": ""
             }
            },
            "type": "scatterternary"
           }
          ],
          "surface": [
           {
            "colorbar": {
             "outlinewidth": 0,
             "ticks": ""
            },
            "colorscale": [
             [
              0,
              "#0d0887"
             ],
             [
              0.1111111111111111,
              "#46039f"
             ],
             [
              0.2222222222222222,
              "#7201a8"
             ],
             [
              0.3333333333333333,
              "#9c179e"
             ],
             [
              0.4444444444444444,
              "#bd3786"
             ],
             [
              0.5555555555555556,
              "#d8576b"
             ],
             [
              0.6666666666666666,
              "#ed7953"
             ],
             [
              0.7777777777777778,
              "#fb9f3a"
             ],
             [
              0.8888888888888888,
              "#fdca26"
             ],
             [
              1,
              "#f0f921"
             ]
            ],
            "type": "surface"
           }
          ],
          "table": [
           {
            "cells": {
             "fill": {
              "color": "#EBF0F8"
             },
             "line": {
              "color": "white"
             }
            },
            "header": {
             "fill": {
              "color": "#C8D4E3"
             },
             "line": {
              "color": "white"
             }
            },
            "type": "table"
           }
          ]
         },
         "layout": {
          "annotationdefaults": {
           "arrowcolor": "#2a3f5f",
           "arrowhead": 0,
           "arrowwidth": 1
          },
          "autotypenumbers": "strict",
          "coloraxis": {
           "colorbar": {
            "outlinewidth": 0,
            "ticks": ""
           }
          },
          "colorscale": {
           "diverging": [
            [
             0,
             "#8e0152"
            ],
            [
             0.1,
             "#c51b7d"
            ],
            [
             0.2,
             "#de77ae"
            ],
            [
             0.3,
             "#f1b6da"
            ],
            [
             0.4,
             "#fde0ef"
            ],
            [
             0.5,
             "#f7f7f7"
            ],
            [
             0.6,
             "#e6f5d0"
            ],
            [
             0.7,
             "#b8e186"
            ],
            [
             0.8,
             "#7fbc41"
            ],
            [
             0.9,
             "#4d9221"
            ],
            [
             1,
             "#276419"
            ]
           ],
           "sequential": [
            [
             0,
             "#0d0887"
            ],
            [
             0.1111111111111111,
             "#46039f"
            ],
            [
             0.2222222222222222,
             "#7201a8"
            ],
            [
             0.3333333333333333,
             "#9c179e"
            ],
            [
             0.4444444444444444,
             "#bd3786"
            ],
            [
             0.5555555555555556,
             "#d8576b"
            ],
            [
             0.6666666666666666,
             "#ed7953"
            ],
            [
             0.7777777777777778,
             "#fb9f3a"
            ],
            [
             0.8888888888888888,
             "#fdca26"
            ],
            [
             1,
             "#f0f921"
            ]
           ],
           "sequentialminus": [
            [
             0,
             "#0d0887"
            ],
            [
             0.1111111111111111,
             "#46039f"
            ],
            [
             0.2222222222222222,
             "#7201a8"
            ],
            [
             0.3333333333333333,
             "#9c179e"
            ],
            [
             0.4444444444444444,
             "#bd3786"
            ],
            [
             0.5555555555555556,
             "#d8576b"
            ],
            [
             0.6666666666666666,
             "#ed7953"
            ],
            [
             0.7777777777777778,
             "#fb9f3a"
            ],
            [
             0.8888888888888888,
             "#fdca26"
            ],
            [
             1,
             "#f0f921"
            ]
           ]
          },
          "colorway": [
           "#636efa",
           "#EF553B",
           "#00cc96",
           "#ab63fa",
           "#FFA15A",
           "#19d3f3",
           "#FF6692",
           "#B6E880",
           "#FF97FF",
           "#FECB52"
          ],
          "font": {
           "color": "#2a3f5f"
          },
          "geo": {
           "bgcolor": "white",
           "lakecolor": "white",
           "landcolor": "#E5ECF6",
           "showlakes": true,
           "showland": true,
           "subunitcolor": "white"
          },
          "hoverlabel": {
           "align": "left"
          },
          "hovermode": "closest",
          "mapbox": {
           "style": "light"
          },
          "paper_bgcolor": "white",
          "plot_bgcolor": "#E5ECF6",
          "polar": {
           "angularaxis": {
            "gridcolor": "white",
            "linecolor": "white",
            "ticks": ""
           },
           "bgcolor": "#E5ECF6",
           "radialaxis": {
            "gridcolor": "white",
            "linecolor": "white",
            "ticks": ""
           }
          },
          "scene": {
           "xaxis": {
            "backgroundcolor": "#E5ECF6",
            "gridcolor": "white",
            "gridwidth": 2,
            "linecolor": "white",
            "showbackground": true,
            "ticks": "",
            "zerolinecolor": "white"
           },
           "yaxis": {
            "backgroundcolor": "#E5ECF6",
            "gridcolor": "white",
            "gridwidth": 2,
            "linecolor": "white",
            "showbackground": true,
            "ticks": "",
            "zerolinecolor": "white"
           },
           "zaxis": {
            "backgroundcolor": "#E5ECF6",
            "gridcolor": "white",
            "gridwidth": 2,
            "linecolor": "white",
            "showbackground": true,
            "ticks": "",
            "zerolinecolor": "white"
           }
          },
          "shapedefaults": {
           "line": {
            "color": "#2a3f5f"
           }
          },
          "ternary": {
           "aaxis": {
            "gridcolor": "white",
            "linecolor": "white",
            "ticks": ""
           },
           "baxis": {
            "gridcolor": "white",
            "linecolor": "white",
            "ticks": ""
           },
           "bgcolor": "#E5ECF6",
           "caxis": {
            "gridcolor": "white",
            "linecolor": "white",
            "ticks": ""
           }
          },
          "title": {
           "x": 0.05
          },
          "xaxis": {
           "automargin": true,
           "gridcolor": "white",
           "linecolor": "white",
           "ticks": "",
           "title": {
            "standoff": 15
           },
           "zerolinecolor": "white",
           "zerolinewidth": 2
          },
          "yaxis": {
           "automargin": true,
           "gridcolor": "white",
           "linecolor": "white",
           "ticks": "",
           "title": {
            "standoff": 15
           },
           "zerolinecolor": "white",
           "zerolinewidth": 2
          }
         }
        },
        "title": {
         "text": "average_speed x start_time"
        },
        "width": 800,
        "xaxis": {
         "anchor": "y",
         "domain": [
          0,
          1
         ],
         "title": {
          "text": "start_time"
         }
        },
        "yaxis": {
         "anchor": "x",
         "domain": [
          0,
          1
         ],
         "title": {
          "text": "average_speed"
         }
        }
       }
      }
     },
     "metadata": {},
     "output_type": "display_data"
    }
   ],
   "source": [
    "fig.show()"
   ]
  },
  {
   "cell_type": "code",
   "execution_count": 76,
   "metadata": {},
   "outputs": [
    {
     "data": {
      "text/plain": [
       "str"
      ]
     },
     "execution_count": 76,
     "metadata": {},
     "output_type": "execute_result"
    }
   ],
   "source": [
    "type(strava_activities_clean['start_time'][2])"
   ]
  },
  {
   "cell_type": "code",
   "execution_count": 43,
   "metadata": {},
   "outputs": [],
   "source": []
  },
  {
   "cell_type": "code",
   "execution_count": 66,
   "metadata": {},
   "outputs": [
    {
     "data": {
      "text/plain": [
       "Timestamp('2022-06-28 19:05:39+0000', tz='UTC')"
      ]
     },
     "execution_count": 66,
     "metadata": {},
     "output_type": "execute_result"
    }
   ],
   "source": [
    "pd_dt_obj"
   ]
  },
  {
   "cell_type": "code",
   "execution_count": 65,
   "metadata": {},
   "outputs": [
    {
     "data": {
      "text/plain": [
       "Timestamp('2022-06-28 20:05:39+0000', tz='UTC')"
      ]
     },
     "execution_count": 65,
     "metadata": {},
     "output_type": "execute_result"
    }
   ],
   "source": [
    "pd_dt_obj + pd.Timedelta(3600, unit='sec')"
   ]
  },
  {
   "cell_type": "code",
   "execution_count": 67,
   "metadata": {},
   "outputs": [
    {
     "data": {
      "text/plain": [
       "numpy.datetime64('2022-06-28T19:05:39.000000000')"
      ]
     },
     "execution_count": 67,
     "metadata": {},
     "output_type": "execute_result"
    }
   ],
   "source": [
    "regular_dt_obj"
   ]
  }
 ],
 "metadata": {
  "kernelspec": {
   "display_name": "Python 3.10.4 ('fitenv')",
   "language": "python",
   "name": "python3"
  },
  "language_info": {
   "codemirror_mode": {
    "name": "ipython",
    "version": 3
   },
   "file_extension": ".py",
   "mimetype": "text/x-python",
   "name": "python",
   "nbconvert_exporter": "python",
   "pygments_lexer": "ipython3",
   "version": "3.10.4"
  },
  "orig_nbformat": 4,
  "vscode": {
   "interpreter": {
    "hash": "aa41fd63d626749efe36bc8d2d9c0cee9baac5e0011d961c92820e04ca9bec88"
   }
  }
 },
 "nbformat": 4,
 "nbformat_minor": 2
}
