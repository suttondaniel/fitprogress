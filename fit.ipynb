{
 "cells": [
  {
   "cell_type": "code",
   "execution_count": 2,
   "metadata": {},
   "outputs": [
    {
     "ename": "ModuleNotFoundError",
     "evalue": "No module named 'pandas'",
     "output_type": "error",
     "traceback": [
      "\u001b[1;31m---------------------------------------------------------------------------\u001b[0m",
      "\u001b[1;31mModuleNotFoundError\u001b[0m                       Traceback (most recent call last)",
      "\u001b[1;32mc:\\Users\\dansu\\Documents\\Python\\fitprogress\\fit.ipynb Cell 8'\u001b[0m in \u001b[0;36m<cell line: 1>\u001b[1;34m()\u001b[0m\n\u001b[1;32m----> <a href='vscode-notebook-cell:/c%3A/Users/dansu/Documents/Python/fitprogress/fit.ipynb#ch0000008?line=0'>1</a>\u001b[0m \u001b[39mimport\u001b[39;00m \u001b[39mpandas\u001b[39;00m \u001b[39mas\u001b[39;00m \u001b[39mpd\u001b[39;00m\n\u001b[0;32m      <a href='vscode-notebook-cell:/c%3A/Users/dansu/Documents/Python/fitprogress/fit.ipynb#ch0000008?line=1'>2</a>\u001b[0m \u001b[39mfrom\u001b[39;00m \u001b[39mpandas\u001b[39;00m\u001b[39m.\u001b[39;00m\u001b[39mio\u001b[39;00m\u001b[39m.\u001b[39;00m\u001b[39mjson\u001b[39;00m \u001b[39mimport\u001b[39;00m json_normalize\n\u001b[0;32m      <a href='vscode-notebook-cell:/c%3A/Users/dansu/Documents/Python/fitprogress/fit.ipynb#ch0000008?line=2'>3</a>\u001b[0m pd\u001b[39m.\u001b[39moptions\u001b[39m.\u001b[39mdisplay\u001b[39m.\u001b[39mmax_rows \u001b[39m=\u001b[39m \u001b[39m999\u001b[39m\n",
      "\u001b[1;31mModuleNotFoundError\u001b[0m: No module named 'pandas'"
     ]
    }
   ],
   "source": [
    "import pandas as pd\n",
    "from pandas.io.json import json_normalize\n",
    "pd.options.display.max_rows = 999\n",
    "\n",
    "import time\n",
    "import datetime as dt\n",
    "import numpy as np\n",
    "import shutil\n",
    "import os\n",
    "from pathlib import Path\n",
    "import requests\n",
    "import json\n",
    "import csv\n",
    "import urllib3\n",
    "urllib3.disable_warnings(urllib3.exceptions.InsecureRequestWarning)\n",
    "\n",
    "#import plotly.express as px\n",
    "#import plotly.graph_objs as go\n",
    "#import matplotlib.pyplot as plt"
   ]
  },
  {
   "cell_type": "markdown",
   "metadata": {},
   "source": [
    "note: this is how you would generate the first strava_tokens json.  you need the \"code\" from the first authorization attempt at this URL: https://www.strava.com/oauth/authorize?client_id=88709&response_type=code&redirect_uri=http://localhost/exchange_token&approval_prompt=force&scope=activity:read_all "
   ]
  },
  {
   "cell_type": "code",
   "execution_count": 82,
   "metadata": {},
   "outputs": [
    {
     "name": "stdout",
     "output_type": "stream",
     "text": [
      "{'token_type': 'Bearer', 'expires_at': 1656238989, 'expires_in': 20126, 'refresh_token': 'f3e2ea76df5b6708b743a33144f8f6445b203dc1', 'access_token': '3391838e88c8aea3f59fe1ff06e4995bbffca9b5', 'athlete': {'id': 23871091, 'username': None, 'resource_state': 2, 'firstname': 'Daniel', 'lastname': 'Sutton', 'bio': None, 'city': 'Portland', 'state': 'Oregon', 'country': 'United States', 'sex': 'M', 'premium': True, 'summit': True, 'created_at': '2017-08-01T20:06:35Z', 'updated_at': '2022-06-25T20:31:09Z', 'badge_type_id': 1, 'weight': 92.9864, 'profile_medium': 'https://dgalywyr863hv.cloudfront.net/pictures/athletes/23871091/13279718/3/medium.jpg', 'profile': 'https://dgalywyr863hv.cloudfront.net/pictures/athletes/23871091/13279718/3/large.jpg', 'friend': None, 'follower': None}}\n"
     ]
    }
   ],
   "source": [
    "\n",
    "response = requests.post(\n",
    "    url = 'https://www.strava.com/oauth/token',\n",
    "    data = {\n",
    "        'client_id': 88709,\n",
    "        'client_secret': '54dab45b88619205ee1e47eb94d0f2d84762a4b2',\n",
    "        'code': '0b5e16a33598c632504a40b8fcd2601ed865f2b4',\n",
    "        'grant_type': 'authorization_code'\n",
    "    }\n",
    ")\n",
    "\n",
    "#Save json response as a variable\n",
    "strava_tokens = response.json()# Save tokens to file\n",
    "with open('strava_tokens.json', 'w') as outfile:\n",
    "    json.dump(strava_tokens, outfile)# Open JSON file and print the file contents \n",
    "# to check it's worked properly\n",
    "with open('strava_tokens.json') as check:\n",
    "  data = json.load(check)\n",
    "print(data)"
   ]
  },
  {
   "cell_type": "markdown",
   "metadata": {},
   "source": [
    "and here is the script to generate your strava activities\n",
    "\n",
    "to do: \n",
    "* clean the data obviously\n",
    "* make it so every new call just appends new data to the \"activities.csv\""
   ]
  },
  {
   "cell_type": "code",
   "execution_count": 56,
   "metadata": {},
   "outputs": [
    {
     "name": "stderr",
     "output_type": "stream",
     "text": [
      "C:\\Users\\dansu\\AppData\\Local\\Temp/ipykernel_18688/1905212187.py:32: FutureWarning: pandas.io.json.json_normalize is deprecated, use pandas.json_normalize instead\n",
      "  activities = pd.concat([activities, json_normalize(r)])\n"
     ]
    },
    {
     "ename": "ImportError",
     "evalue": "cannot import name 'FilePath' from 'pandas._typing' (c:\\ProgramData\\Miniconda3\\lib\\site-packages\\pandas\\_typing.py)",
     "output_type": "error",
     "traceback": [
      "\u001b[1;31m---------------------------------------------------------------------------\u001b[0m",
      "\u001b[1;31mImportError\u001b[0m                               Traceback (most recent call last)",
      "\u001b[1;32m~\\AppData\\Local\\Temp/ipykernel_18688/1905212187.py\u001b[0m in \u001b[0;36m<module>\u001b[1;34m\u001b[0m\n\u001b[0;32m     34\u001b[0m     \u001b[0mpage\u001b[0m \u001b[1;33m+=\u001b[0m \u001b[1;36m1\u001b[0m\u001b[1;33m\u001b[0m\u001b[1;33m\u001b[0m\u001b[0m\n\u001b[0;32m     35\u001b[0m \u001b[1;33m\u001b[0m\u001b[0m\n\u001b[1;32m---> 36\u001b[1;33m \u001b[0mactivities\u001b[0m\u001b[1;33m.\u001b[0m\u001b[0mto_csv\u001b[0m\u001b[1;33m(\u001b[0m\u001b[1;34m'strava_activities.csv'\u001b[0m\u001b[1;33m)\u001b[0m\u001b[1;33m\u001b[0m\u001b[1;33m\u001b[0m\u001b[0m\n\u001b[0m",
      "\u001b[1;32mc:\\ProgramData\\Miniconda3\\lib\\site-packages\\pandas\\core\\generic.py\u001b[0m in \u001b[0;36mto_csv\u001b[1;34m(self, path_or_buf, sep, na_rep, float_format, columns, header, index, index_label, mode, encoding, compression, quoting, quotechar, line_terminator, chunksize, date_format, doublequote, escapechar, decimal, errors, storage_options)\u001b[0m\n\u001b[0;32m   3464\u001b[0m \u001b[1;33m\u001b[0m\u001b[0m\n\u001b[0;32m   3465\u001b[0m                 \u001b[0mPrevious\u001b[0m \u001b[0mversions\u001b[0m \u001b[0mforwarded\u001b[0m \u001b[0mdict\u001b[0m \u001b[0mentries\u001b[0m \u001b[1;32mfor\u001b[0m \u001b[1;34m'gzip'\u001b[0m \u001b[0mto\u001b[0m\u001b[1;33m\u001b[0m\u001b[1;33m\u001b[0m\u001b[0m\n\u001b[1;32m-> 3466\u001b[1;33m                 \u001b[0;31m`\u001b[0m\u001b[0mgzip\u001b[0m\u001b[1;33m.\u001b[0m\u001b[0mopen\u001b[0m\u001b[0;31m`\u001b[0m \u001b[0minstead\u001b[0m \u001b[0mof\u001b[0m\u001b[0;31m \u001b[0m\u001b[0;31m`\u001b[0m\u001b[0mgzip\u001b[0m\u001b[1;33m.\u001b[0m\u001b[0mGzipFile\u001b[0m\u001b[0;31m`\u001b[0m \u001b[0mwhich\u001b[0m \u001b[0mprevented\u001b[0m\u001b[1;33m\u001b[0m\u001b[1;33m\u001b[0m\u001b[0m\n\u001b[0m\u001b[0;32m   3467\u001b[0m                 \u001b[0msetting\u001b[0m\u001b[0;31m \u001b[0m\u001b[0;31m`\u001b[0m\u001b[0mmtime\u001b[0m\u001b[0;31m`\u001b[0m\u001b[1;33m.\u001b[0m\u001b[1;33m\u001b[0m\u001b[1;33m\u001b[0m\u001b[0m\n\u001b[0;32m   3468\u001b[0m \u001b[1;33m\u001b[0m\u001b[0m\n",
      "\u001b[1;32mc:\\ProgramData\\Miniconda3\\lib\\site-packages\\pandas\\io\\formats\\format.py\u001b[0m in \u001b[0;36mto_csv\u001b[1;34m(self, path_or_buf, encoding, sep, columns, index_label, mode, compression, quoting, quotechar, line_terminator, chunksize, date_format, doublequote, escapechar, errors, storage_options)\u001b[0m\n\u001b[0;32m   1076\u001b[0m             \u001b[0mclasses\u001b[0m \u001b[0mto\u001b[0m \u001b[0minclude\u001b[0m \u001b[1;32min\u001b[0m \u001b[0mthe\u001b[0m\u001b[0;31m \u001b[0m\u001b[0;31m`\u001b[0m\u001b[1;32mclass\u001b[0m\u001b[0;31m`\u001b[0m \u001b[0mattribute\u001b[0m \u001b[0mof\u001b[0m \u001b[0mthe\u001b[0m \u001b[0mopening\u001b[0m\u001b[1;33m\u001b[0m\u001b[1;33m\u001b[0m\u001b[0m\n\u001b[0;32m   1077\u001b[0m             \u001b[0;31m`\u001b[0m\u001b[0;31m`\u001b[0m\u001b[1;33m<\u001b[0m\u001b[0mtable\u001b[0m\u001b[1;33m>\u001b[0m\u001b[0;31m`\u001b[0m\u001b[0;31m`\u001b[0m \u001b[0mtag\u001b[0m\u001b[1;33m,\u001b[0m \u001b[1;32min\u001b[0m \u001b[0maddition\u001b[0m \u001b[0mto\u001b[0m \u001b[0mthe\u001b[0m \u001b[0mdefault\u001b[0m \u001b[1;34m\"dataframe\"\u001b[0m\u001b[1;33m.\u001b[0m\u001b[1;33m\u001b[0m\u001b[1;33m\u001b[0m\u001b[0m\n\u001b[1;32m-> 1078\u001b[1;33m         \u001b[0mnotebook\u001b[0m \u001b[1;33m:\u001b[0m \u001b[1;33m{\u001b[0m\u001b[1;32mTrue\u001b[0m\u001b[1;33m,\u001b[0m \u001b[1;32mFalse\u001b[0m\u001b[1;33m}\u001b[0m\u001b[1;33m,\u001b[0m \u001b[0moptional\u001b[0m\u001b[1;33m,\u001b[0m \u001b[0mdefault\u001b[0m \u001b[1;32mFalse\u001b[0m\u001b[1;33m\u001b[0m\u001b[1;33m\u001b[0m\u001b[0m\n\u001b[0m\u001b[0;32m   1079\u001b[0m             \u001b[0mWhether\u001b[0m \u001b[0mthe\u001b[0m \u001b[0mgenerated\u001b[0m \u001b[0mHTML\u001b[0m \u001b[1;32mis\u001b[0m \u001b[1;32mfor\u001b[0m \u001b[0mIPython\u001b[0m \u001b[0mNotebook\u001b[0m\u001b[1;33m.\u001b[0m\u001b[1;33m\u001b[0m\u001b[1;33m\u001b[0m\u001b[0m\n\u001b[0;32m   1080\u001b[0m         \u001b[0mborder\u001b[0m \u001b[1;33m:\u001b[0m \u001b[0mint\u001b[0m\u001b[1;33m\u001b[0m\u001b[1;33m\u001b[0m\u001b[0m\n",
      "\u001b[1;32mc:\\ProgramData\\Miniconda3\\lib\\site-packages\\pandas\\io\\formats\\csvs.py\u001b[0m in \u001b[0;36m<module>\u001b[1;34m\u001b[0m\n\u001b[0;32m     19\u001b[0m \u001b[1;33m\u001b[0m\u001b[0m\n\u001b[0;32m     20\u001b[0m \u001b[1;32mfrom\u001b[0m \u001b[0mpandas\u001b[0m\u001b[1;33m.\u001b[0m\u001b[0m_libs\u001b[0m \u001b[1;32mimport\u001b[0m \u001b[0mwriters\u001b[0m \u001b[1;32mas\u001b[0m \u001b[0mlibwriters\u001b[0m\u001b[1;33m\u001b[0m\u001b[1;33m\u001b[0m\u001b[0m\n\u001b[1;32m---> 21\u001b[1;33m from pandas._typing import (\n\u001b[0m\u001b[0;32m     22\u001b[0m     \u001b[0mCompressionOptions\u001b[0m\u001b[1;33m,\u001b[0m\u001b[1;33m\u001b[0m\u001b[1;33m\u001b[0m\u001b[0m\n\u001b[0;32m     23\u001b[0m     \u001b[0mFilePath\u001b[0m\u001b[1;33m,\u001b[0m\u001b[1;33m\u001b[0m\u001b[1;33m\u001b[0m\u001b[0m\n",
      "\u001b[1;31mImportError\u001b[0m: cannot import name 'FilePath' from 'pandas._typing' (c:\\ProgramData\\Miniconda3\\lib\\site-packages\\pandas\\_typing.py)"
     ]
    }
   ],
   "source": [
    "with open('strava_tokens.json') as json_file:\n",
    "    strava_tokens = json.load(json_file)\n",
    "\n",
    "if strava_tokens['expires_at'] < time.time():\n",
    "    response = requests.post(\n",
    "                        url = 'https://www.strava.com/oauth/token',\n",
    "                        data = {\n",
    "                                'client_id': 88709,\n",
    "                                'client_secret': '54dab45b88619205ee1e47eb94d0f2d84762a4b2',\n",
    "                                'grant_type': 'refresh_token',\n",
    "                                'refresh_token': strava_tokens['refresh_token']\n",
    "                                }\n",
    "                    ) \n",
    "    new_strava_tokens = response.json() \n",
    "    with open('strava_tokens.json', 'w') as outfile:\n",
    "        json.dump(new_strava_tokens, outfile)\n",
    "    strava_tokens = new_strava_tokens\n",
    "\n",
    "page = 1\n",
    "url = \"https://www.strava.com/api/v3/activities\"\n",
    "access_token = strava_tokens['access_token']\n",
    "\n",
    "activities = pd.DataFrame()\n",
    "\n",
    "while True:\n",
    "    \n",
    "    r = requests.get(url + '?access_token=' + access_token + '&per_page=200' + '&page=' + str(page))\n",
    "    r = r.json()    # if no results then exit loop\n",
    "    if (not r):\n",
    "        break\n",
    "    \n",
    "    activities = pd.concat([activities, json_normalize(r)])\n",
    "    \n",
    "    page += 1\n",
    "    \n",
    "activities.to_csv('strava_activities.csv')"
   ]
  },
  {
   "cell_type": "code",
   "execution_count": 3,
   "metadata": {},
   "outputs": [],
   "source": [
    "activities = pd.read_csv('strava_activities.csv')"
   ]
  },
  {
   "cell_type": "code",
   "execution_count": 4,
   "metadata": {},
   "outputs": [
    {
     "data": {
      "text/plain": [
       "(795, 59)"
      ]
     },
     "execution_count": 4,
     "metadata": {},
     "output_type": "execute_result"
    }
   ],
   "source": [
    "activities.shape"
   ]
  },
  {
   "cell_type": "code",
   "execution_count": 2,
   "metadata": {},
   "outputs": [],
   "source": [
    "p = Path.home()\n",
    "cwd = Path.cwd()\n",
    "readme = cwd / 'README.md'\n",
    "activities_csv_downloaded = str(p / 'Downloads' / 'Activities.csv')\n",
    "activities_csv_raw = str(cwd / 'data' / '01_raw' / 'Activities.csv')\n",
    "activities_csv_processed = str(cwd / 'data' / '02_processed' / 'Activities_processed.csv')"
   ]
  },
  {
   "cell_type": "code",
   "execution_count": 5,
   "metadata": {},
   "outputs": [],
   "source": [
    "# activities_df_downloaded = pd.read_csv(activities_csv_downloaded)\n",
    "# activities_df_raw = pd.read_csv(activities_csv_raw)\n",
    "# activities_df_raw = pd.concat([activities_df_downloaded, activities_df_raw]).drop_duplicates(subset='Date')\n",
    "# activities_df_raw.to_csv(activities_csv_raw)\n",
    "# os.remove(activities_csv_downloaded)"
   ]
  },
  {
   "cell_type": "code",
   "execution_count": 47,
   "metadata": {},
   "outputs": [],
   "source": [
    "def clean_run_pace(df):\n",
    "    '''\n",
    "    Converts our mm:ss string to a datetime object, then back to a string but in HH:MM:SS format since\n",
    "    that's what to_timedelta() takes.  \n",
    "\n",
    "    Time deltas are for durations, while datetimes are for moments in time.      \n",
    "    '''\n",
    "    df.best_pace = df.best_pace.apply(lambda x: dt.datetime.strptime(x, '%M:%S'))\n",
    "    df.best_pace = df.best_pace.apply(lambda x: x.strftime('%H:%M:%S'))\n",
    "    df.best_pace = pd.to_timedelta(df.best_pace)\n",
    "    df.avg_pace = df.avg_pace.apply(lambda x: dt.datetime.strptime(x, '%M:%S'))\n",
    "    df.avg_pace = df.avg_pace.apply(lambda x: x.strftime('%H:%M:%S'))\n",
    "    df.avg_pace = pd.to_timedelta(df.avg_pace)\n",
    "    return df\n",
    "\n",
    "def clean_bike_pace(df):\n",
    "    df.avg_pace = df.avg_pace.astype(float)\n",
    "    return df\n",
    "\n",
    "def download_to_raw():\n",
    "    activities_df_downloaded = pd.read_csv(activities_csv_downloaded)\n",
    "    activities_df_raw = pd.read_csv(activities_csv_raw)\n",
    "    activities_df_raw = pd.concat([activities_df_downloaded, activities_df_raw]).drop_duplicates(subset='Date')\n",
    "    activities_df_raw.to_csv(activities_csv_raw, index=False)\n",
    "    os.remove(activities_csv_downloaded)\n",
    "\n",
    "def prep_df(df):\n",
    "    df.columns = df.columns.str.lower().str.replace(' ', '_')\n",
    "    df.drop(df.columns[17:29], axis=1, inplace=True)\n",
    "    df.drop(['favorite'], axis=1, inplace=True)\n",
    "    df.replace('--', '0', inplace=True)\n",
    "    df.date = pd.to_datetime(df.date)\n",
    "    df.set_index('date', inplace=True)\n",
    "    return df\n",
    "\n",
    "# def clean_time(time):\n",
    "#     #df.time = pd.to_timedelta(df.time)\n",
    "#     time = time.split('.')[0]\n",
    "#     time_pieces = time.split(':')\n",
    "#     if len(time_pieces) < 3:\n",
    "#         time_pieces.insert(0, '00')\n",
    "#     time = ':'.join(time_pieces)\n",
    "#     time = dt.datetime.strptime(time, '%H:%M:%S')\n",
    "#     #time = time.time\n",
    "#     return time\n",
    "\n",
    "def clean_time(df):\n",
    "    #df.time = df.time.split('.')[0]\n",
    "   # df.time = df.time.apply()\n",
    "    df.time.apply(lambda x: (lambda y: y.split(':')).insert(0, '00') if len(x) < 3 else x)\n",
    "    time_pieces = df.time.apply(lambda x: x.split(':'))\n",
    "    #df.time = pd.to_timedelta(df.time)\n",
    "    #time = time.split('.')[0]\n",
    "    #time_pieces = time.split(':')\n",
    "    if len(time_pieces) < 3:\n",
    "        time_pieces.insert(0, '00')\n",
    "    time = ':'.join(time_pieces)\n",
    "    time = dt.datetime.strptime(time, '%H:%M:%S')\n",
    "    df.time = time\n",
    "    return df\n",
    "\n",
    "def cols_to_float(df):\n",
    "    df.calories = df.calories.str.replace(',', '').astype(float)\n",
    "    df.iloc[:, 5:10] = df.iloc[:, 5:10].replace('--', '0')\n",
    "    df.iloc[:, 5:10] = df.iloc[:, 5:10].astype(float)\n",
    "    return df\n",
    "\n",
    "def split_run_and_bike(df):\n",
    "    run = df[df.activity_type == 'Running']\n",
    "    bike = df[df.activity_type == 'Cycling']\n",
    "    return run, bike\n",
    "\n",
    "def clean_and_convert(df):\n",
    "    df = clean_time(df)\n",
    "    df = cols_to_float(df)\n",
    "    return df"
   ]
  },
  {
   "cell_type": "code",
   "execution_count": 42,
   "metadata": {},
   "outputs": [
    {
     "data": {
      "text/plain": [
       "'00:41:35'"
      ]
     },
     "execution_count": 42,
     "metadata": {},
     "output_type": "execute_result"
    }
   ],
   "source": [
    "data.time[5]"
   ]
  },
  {
   "cell_type": "code",
   "execution_count": 49,
   "metadata": {},
   "outputs": [
    {
     "data": {
      "text/plain": [
       "Index(['avg_hr', 'max_hr', 'aerobic_te', 'avg_run_cadence', 'max_run_cadence'], dtype='object')"
      ]
     },
     "execution_count": 49,
     "metadata": {},
     "output_type": "execute_result"
    }
   ],
   "source": [
    "data.columns[5:10]"
   ]
  },
  {
   "cell_type": "code",
   "execution_count": 16,
   "metadata": {},
   "outputs": [],
   "source": [
    "p = Path.home()\n",
    "cwd = Path.cwd()\n",
    "\n",
    "readme = str(p / 'Documents' / 'Python' / 'fitprogress' / 'README.md')\n",
    "activities_csv_downloaded = str(p / 'Downloads' / 'Activities.csv')\n",
    "activities_csv_raw = str(p / 'Documents' / 'Python' / 'fitprogress' / 'data' / '01_raw' / 'Activities.csv')\n",
    "activities_csv_processed = str(p / 'Documents' / 'Python' / 'fitprogress' / 'data' / '02_processed' / 'Activities_processed.csv')\n",
    "emojis = str(p / 'Documents' / 'Python' / 'fitprogress' / 'data' / 'emoji.json')\n"
   ]
  },
  {
   "cell_type": "code",
   "execution_count": 33,
   "metadata": {},
   "outputs": [
    {
     "data": {
      "text/plain": [
       "Index(['Avg Vertical Ratio', 'Avg Vertical Oscillation',\n",
       "       'Training Stress Score®', 'Grit', 'Flow', 'Dive Time', 'Min Temp',\n",
       "       'Surface Interval', 'Decompression', 'Best Lap Time', 'Number of Laps',\n",
       "       'Max Temp'],\n",
       "      dtype='object')"
      ]
     },
     "execution_count": 33,
     "metadata": {},
     "output_type": "execute_result"
    }
   ],
   "source": [
    "data_raw.columns[17:29]"
   ]
  },
  {
   "cell_type": "code",
   "execution_count": 23,
   "metadata": {},
   "outputs": [],
   "source": [
    "data_raw = pd.read_csv(activities_csv_raw)"
   ]
  },
  {
   "cell_type": "code",
   "execution_count": 48,
   "metadata": {},
   "outputs": [
    {
     "name": "stdout",
     "output_type": "stream",
     "text": [
      "Index(['Activity Type', 'Date', 'Favorite', 'Title', 'Distance', 'Calories',\n",
      "       'Time', 'Avg HR', 'Max HR', 'Aerobic TE', 'Avg Run Cadence',\n",
      "       'Max Run Cadence', 'Avg Speed', 'Max Speed', 'Total Ascent',\n",
      "       'Total Descent', 'Avg Stride Length', 'Avg Vertical Ratio',\n",
      "       'Avg Vertical Oscillation', 'Training Stress Score®', 'Grit', 'Flow',\n",
      "       'Dive Time', 'Min Temp', 'Surface Interval', 'Decompression',\n",
      "       'Best Lap Time', 'Number of Laps', 'Max Temp', 'Moving Time',\n",
      "       'Elapsed Time', 'Min Elevation', 'Max Elevation', 'Elev Gain',\n",
      "       'Elev Loss', 'Avg Pace', 'Best Pace', 'Total Strokes', 'Climb Time',\n",
      "       'Bottom Time', 'Unnamed: 0', 'Unnamed: 0.1', 'Total Reps',\n",
      "       'Total Sets'],\n",
      "      dtype='object')\n",
      "Index(['activity_type', 'title', 'distance', 'calories', 'time', 'avg_hr',\n",
      "       'max_hr', 'aerobic_te', 'avg_run_cadence', 'max_run_cadence',\n",
      "       'avg_speed', 'max_speed', 'total_ascent', 'total_descent',\n",
      "       'avg_stride_length', 'moving_time', 'elapsed_time', 'min_elevation',\n",
      "       'max_elevation', 'elev_gain', 'elev_loss', 'avg_pace', 'best_pace',\n",
      "       'total_strokes', 'climb_time', 'bottom_time', 'unnamed:_0',\n",
      "       'unnamed:_0.1', 'total_reps', 'total_sets'],\n",
      "      dtype='object')\n"
     ]
    },
    {
     "ename": "TypeError",
     "evalue": "sequence item 0: expected str instance, list found",
     "output_type": "error",
     "traceback": [
      "\u001b[1;31m---------------------------------------------------------------------------\u001b[0m",
      "\u001b[1;31mTypeError\u001b[0m                                 Traceback (most recent call last)",
      "\u001b[1;32m~\\AppData\\Local\\Temp/ipykernel_18688/649215677.py\u001b[0m in \u001b[0;36m<module>\u001b[1;34m\u001b[0m\n\u001b[0;32m      3\u001b[0m \u001b[0mdata\u001b[0m \u001b[1;33m=\u001b[0m \u001b[0mprep_df\u001b[0m\u001b[1;33m(\u001b[0m\u001b[0mdata\u001b[0m\u001b[1;33m)\u001b[0m\u001b[1;33m\u001b[0m\u001b[1;33m\u001b[0m\u001b[0m\n\u001b[0;32m      4\u001b[0m \u001b[0mprint\u001b[0m\u001b[1;33m(\u001b[0m\u001b[0mdata\u001b[0m\u001b[1;33m.\u001b[0m\u001b[0mcolumns\u001b[0m\u001b[1;33m)\u001b[0m\u001b[1;33m\u001b[0m\u001b[1;33m\u001b[0m\u001b[0m\n\u001b[1;32m----> 5\u001b[1;33m \u001b[0mdata\u001b[0m \u001b[1;33m=\u001b[0m \u001b[0mclean_and_convert\u001b[0m\u001b[1;33m(\u001b[0m\u001b[0mdata\u001b[0m\u001b[1;33m)\u001b[0m\u001b[1;33m\u001b[0m\u001b[1;33m\u001b[0m\u001b[0m\n\u001b[0m\u001b[0;32m      6\u001b[0m \u001b[0mrun\u001b[0m\u001b[1;33m,\u001b[0m \u001b[0mbike\u001b[0m \u001b[1;33m=\u001b[0m \u001b[0msplit_run_and_bike\u001b[0m\u001b[1;33m(\u001b[0m\u001b[0mdata\u001b[0m\u001b[1;33m)\u001b[0m\u001b[1;33m\u001b[0m\u001b[1;33m\u001b[0m\u001b[0m\n\u001b[0;32m      7\u001b[0m \u001b[0mrun\u001b[0m \u001b[1;33m=\u001b[0m \u001b[0mclean_run_pace\u001b[0m\u001b[1;33m(\u001b[0m\u001b[0mrun\u001b[0m\u001b[1;33m)\u001b[0m\u001b[1;33m\u001b[0m\u001b[1;33m\u001b[0m\u001b[0m\n",
      "\u001b[1;32m~\\AppData\\Local\\Temp/ipykernel_18688/3813396888.py\u001b[0m in \u001b[0;36mclean_and_convert\u001b[1;34m(df)\u001b[0m\n\u001b[0;32m     72\u001b[0m \u001b[1;33m\u001b[0m\u001b[0m\n\u001b[0;32m     73\u001b[0m \u001b[1;32mdef\u001b[0m \u001b[0mclean_and_convert\u001b[0m\u001b[1;33m(\u001b[0m\u001b[0mdf\u001b[0m\u001b[1;33m)\u001b[0m\u001b[1;33m:\u001b[0m\u001b[1;33m\u001b[0m\u001b[1;33m\u001b[0m\u001b[0m\n\u001b[1;32m---> 74\u001b[1;33m     \u001b[0mdf\u001b[0m \u001b[1;33m=\u001b[0m \u001b[0mclean_time\u001b[0m\u001b[1;33m(\u001b[0m\u001b[0mdf\u001b[0m\u001b[1;33m)\u001b[0m\u001b[1;33m\u001b[0m\u001b[1;33m\u001b[0m\u001b[0m\n\u001b[0m\u001b[0;32m     75\u001b[0m     \u001b[0mdf\u001b[0m \u001b[1;33m=\u001b[0m \u001b[0mcols_to_float\u001b[0m\u001b[1;33m(\u001b[0m\u001b[0mdf\u001b[0m\u001b[1;33m)\u001b[0m\u001b[1;33m\u001b[0m\u001b[1;33m\u001b[0m\u001b[0m\n\u001b[0;32m     76\u001b[0m     \u001b[1;32mreturn\u001b[0m \u001b[0mdf\u001b[0m\u001b[1;33m\u001b[0m\u001b[1;33m\u001b[0m\u001b[0m\n",
      "\u001b[1;32m~\\AppData\\Local\\Temp/ipykernel_18688/3813396888.py\u001b[0m in \u001b[0;36mclean_time\u001b[1;34m(df)\u001b[0m\n\u001b[0;32m     55\u001b[0m     \u001b[1;32mif\u001b[0m \u001b[0mlen\u001b[0m\u001b[1;33m(\u001b[0m\u001b[0mtime_pieces\u001b[0m\u001b[1;33m)\u001b[0m \u001b[1;33m<\u001b[0m \u001b[1;36m3\u001b[0m\u001b[1;33m:\u001b[0m\u001b[1;33m\u001b[0m\u001b[1;33m\u001b[0m\u001b[0m\n\u001b[0;32m     56\u001b[0m         \u001b[0mtime_pieces\u001b[0m\u001b[1;33m.\u001b[0m\u001b[0minsert\u001b[0m\u001b[1;33m(\u001b[0m\u001b[1;36m0\u001b[0m\u001b[1;33m,\u001b[0m \u001b[1;34m'00'\u001b[0m\u001b[1;33m)\u001b[0m\u001b[1;33m\u001b[0m\u001b[1;33m\u001b[0m\u001b[0m\n\u001b[1;32m---> 57\u001b[1;33m     \u001b[0mtime\u001b[0m \u001b[1;33m=\u001b[0m \u001b[1;34m':'\u001b[0m\u001b[1;33m.\u001b[0m\u001b[0mjoin\u001b[0m\u001b[1;33m(\u001b[0m\u001b[0mtime_pieces\u001b[0m\u001b[1;33m)\u001b[0m\u001b[1;33m\u001b[0m\u001b[1;33m\u001b[0m\u001b[0m\n\u001b[0m\u001b[0;32m     58\u001b[0m     \u001b[0mtime\u001b[0m \u001b[1;33m=\u001b[0m \u001b[0mdt\u001b[0m\u001b[1;33m.\u001b[0m\u001b[0mdatetime\u001b[0m\u001b[1;33m.\u001b[0m\u001b[0mstrptime\u001b[0m\u001b[1;33m(\u001b[0m\u001b[0mtime\u001b[0m\u001b[1;33m,\u001b[0m \u001b[1;34m'%H:%M:%S'\u001b[0m\u001b[1;33m)\u001b[0m\u001b[1;33m\u001b[0m\u001b[1;33m\u001b[0m\u001b[0m\n\u001b[0;32m     59\u001b[0m     \u001b[0mdf\u001b[0m\u001b[1;33m.\u001b[0m\u001b[0mtime\u001b[0m \u001b[1;33m=\u001b[0m \u001b[0mtime\u001b[0m\u001b[1;33m\u001b[0m\u001b[1;33m\u001b[0m\u001b[0m\n",
      "\u001b[1;31mTypeError\u001b[0m: sequence item 0: expected str instance, list found"
     ]
    }
   ],
   "source": [
    "data = pd.read_csv(activities_csv_raw)\n",
    "print(data.columns)\n",
    "data = prep_df(data)\n",
    "print(data.columns)\n",
    "data = clean_and_convert(data)\n",
    "run, bike = split_run_and_bike(data)\n",
    "run = clean_run_pace(run)"
   ]
  },
  {
   "cell_type": "code",
   "execution_count": 14,
   "metadata": {},
   "outputs": [
    {
     "data": {
      "text/plain": [
       "Index(['activity_type', 'title', 'distance', 'calories', 'time', 'avg_hr',\n",
       "       'max_hr', 'aerobic_te', 'avg_run_cadence', 'max_run_cadence',\n",
       "       'avg_speed', 'max_speed', 'total_ascent', 'total_descent',\n",
       "       'avg_stride_length'],\n",
       "      dtype='object')"
      ]
     },
     "execution_count": 14,
     "metadata": {},
     "output_type": "execute_result"
    }
   ],
   "source": [
    "data.columns"
   ]
  },
  {
   "cell_type": "code",
   "execution_count": 12,
   "metadata": {},
   "outputs": [],
   "source": [
    "data = pd.read_csv(activities_csv_raw)\n",
    "data = prep_df(data)\n",
    "#data = clean_time(data)\n",
    "data = cols_to_float(data)\n",
    "#data = clean_and_convert(data)\n",
    "#run, bike = split_run_and_bike(data)\n",
    "#run = clean_run_pace(run)\n",
    "#bike = clean_bike_pace(bike)"
   ]
  },
  {
   "cell_type": "code",
   "execution_count": 25,
   "metadata": {},
   "outputs": [],
   "source": [
    "date_min_val = run.index[0].to_pydatetime()\n",
    "date_max_val = run.index[-1].to_pydatetime()\n",
    "date_starter_val = run.index[5].to_pydatetime()"
   ]
  },
  {
   "cell_type": "code",
   "execution_count": 61,
   "metadata": {},
   "outputs": [
    {
     "ename": "AttributeError",
     "evalue": "'Timedelta' object has no attribute 'strptime'",
     "output_type": "error",
     "traceback": [
      "\u001b[0;31m---------------------------------------------------------------------------\u001b[0m",
      "\u001b[0;31mAttributeError\u001b[0m                            Traceback (most recent call last)",
      "\u001b[0;32m<ipython-input-61-7221d5a5f357>\u001b[0m in \u001b[0;36m<module>\u001b[0;34m\u001b[0m\n\u001b[0;32m----> 1\u001b[0;31m \u001b[0mrun\u001b[0m\u001b[0;34m.\u001b[0m\u001b[0mavg_pace\u001b[0m\u001b[0;34m[\u001b[0m\u001b[0;36m2\u001b[0m\u001b[0;34m]\u001b[0m\u001b[0;34m.\u001b[0m\u001b[0mstrptime\u001b[0m\u001b[0;34m(\u001b[0m\u001b[0;34m'%H:%M:%S'\u001b[0m\u001b[0;34m)\u001b[0m\u001b[0;34m\u001b[0m\u001b[0;34m\u001b[0m\u001b[0m\n\u001b[0m",
      "\u001b[0;31mAttributeError\u001b[0m: 'Timedelta' object has no attribute 'strptime'"
     ]
    }
   ],
   "source": [
    "run.avg_pace[2].strptime('%H:%M:%S')"
   ]
  },
  {
   "cell_type": "code",
   "execution_count": 62,
   "metadata": {},
   "outputs": [],
   "source": [
    "hrs, mins, secs = str(run.avg_pace[0]).split(':')"
   ]
  },
  {
   "cell_type": "code",
   "execution_count": 77,
   "metadata": {},
   "outputs": [
    {
     "data": {
      "text/plain": [
       "'00:09:45'"
      ]
     },
     "execution_count": 77,
     "metadata": {},
     "output_type": "execute_result"
    }
   ],
   "source": [
    "str(run.avg_pace.mean()).split(' ')[2].split('.')[0]"
   ]
  },
  {
   "cell_type": "code",
   "execution_count": 50,
   "metadata": {},
   "outputs": [],
   "source": [
    "min, sec = str(run.avg_pace[2].seconds / 60).split('.')\n",
    "min = min + ' minutes, '\n",
    "sec = str(round(float('.' + sec) * 60,2)).split('.')[0] + ' seconds'\n"
   ]
  },
  {
   "cell_type": "code",
   "execution_count": 53,
   "metadata": {},
   "outputs": [],
   "source": [
    "pace = min + sec"
   ]
  },
  {
   "cell_type": "code",
   "execution_count": 54,
   "metadata": {},
   "outputs": [
    {
     "data": {
      "text/plain": [
       "'9 minutes, 1 seconds'"
      ]
     },
     "execution_count": 54,
     "metadata": {},
     "output_type": "execute_result"
    }
   ],
   "source": [
    "pace"
   ]
  },
  {
   "cell_type": "code",
   "execution_count": 66,
   "metadata": {},
   "outputs": [],
   "source": [
    "import pathlib"
   ]
  },
  {
   "cell_type": "code",
   "execution_count": 71,
   "metadata": {},
   "outputs": [
    {
     "data": {
      "text/plain": [
       "PosixPath('/home/daniel')"
      ]
     },
     "execution_count": 71,
     "metadata": {},
     "output_type": "execute_result"
    }
   ],
   "source": [
    "Path.home()"
   ]
  },
  {
   "cell_type": "code",
   "execution_count": 1,
   "metadata": {},
   "outputs": [
    {
     "ename": "NameError",
     "evalue": "name 'run' is not defined",
     "output_type": "error",
     "traceback": [
      "\u001b[0;31m---------------------------------------------------------------------------\u001b[0m",
      "\u001b[0;31mNameError\u001b[0m                                 Traceback (most recent call last)",
      "\u001b[0;32m<ipython-input-1-5bb468a6e082>\u001b[0m in \u001b[0;36m<module>\u001b[0;34m\u001b[0m\n\u001b[0;32m----> 1\u001b[0;31m \u001b[0mrun\u001b[0m\u001b[0;34m.\u001b[0m\u001b[0mhead\u001b[0m\u001b[0;34m(\u001b[0m\u001b[0;34m)\u001b[0m\u001b[0;34m\u001b[0m\u001b[0;34m\u001b[0m\u001b[0m\n\u001b[0m",
      "\u001b[0;31mNameError\u001b[0m: name 'run' is not defined"
     ]
    }
   ],
   "source": [
    "run.head()"
   ]
  },
  {
   "cell_type": "code",
   "execution_count": 51,
   "metadata": {},
   "outputs": [
    {
     "data": {
      "text/plain": [
       "'seat'"
      ]
     },
     "execution_count": 51,
     "metadata": {},
     "output_type": "execute_result"
    }
   ],
   "source": [
    "emojis = pd.read_json('/home/daniel/Documents/datascience/fitprogress/data/emoji.json', orient='index')\n",
    "em = list(emojis.index)\n",
    "np.random.choice(emm, 1)[0]"
   ]
  },
  {
   "cell_type": "code",
   "execution_count": 65,
   "metadata": {},
   "outputs": [
    {
     "data": {
      "text/html": [
       "<div>\n",
       "<style scoped>\n",
       "    .dataframe tbody tr th:only-of-type {\n",
       "        vertical-align: middle;\n",
       "    }\n",
       "\n",
       "    .dataframe tbody tr th {\n",
       "        vertical-align: top;\n",
       "    }\n",
       "\n",
       "    .dataframe thead th {\n",
       "        text-align: right;\n",
       "    }\n",
       "</style>\n",
       "<table border=\"1\" class=\"dataframe\">\n",
       "  <thead>\n",
       "    <tr style=\"text-align: right;\">\n",
       "      <th></th>\n",
       "      <th>0</th>\n",
       "    </tr>\n",
       "  </thead>\n",
       "  <tbody>\n",
       "    <tr>\n",
       "      <th>running_shirt_with_sash</th>\n",
       "      <td>🎽</td>\n",
       "    </tr>\n",
       "    <tr>\n",
       "      <th>woman-running</th>\n",
       "      <td>🏃‍♀️</td>\n",
       "    </tr>\n",
       "    <tr>\n",
       "      <th>man-running</th>\n",
       "      <td>🏃‍♂️</td>\n",
       "    </tr>\n",
       "    <tr>\n",
       "      <th>runner</th>\n",
       "      <td>🏃‍♂️</td>\n",
       "    </tr>\n",
       "    <tr>\n",
       "      <th>running</th>\n",
       "      <td>🏃‍♂️</td>\n",
       "    </tr>\n",
       "  </tbody>\n",
       "</table>\n",
       "</div>"
      ],
      "text/plain": [
       "                            0\n",
       "running_shirt_with_sash     🎽\n",
       "woman-running            🏃‍♀️\n",
       "man-running              🏃‍♂️\n",
       "runner                   🏃‍♂️\n",
       "running                  🏃‍♂️"
      ]
     },
     "execution_count": 65,
     "metadata": {},
     "output_type": "execute_result"
    }
   ],
   "source": [
    "emojis[emojis.index.str.contains('run')]"
   ]
  },
  {
   "cell_type": "code",
   "execution_count": 49,
   "metadata": {},
   "outputs": [
    {
     "data": {
      "text/plain": [
       "'dove_of_peace'"
      ]
     },
     "execution_count": 49,
     "metadata": {},
     "output_type": "execute_result"
    }
   ],
   "source": [
    "\n"
   ]
  },
  {
   "cell_type": "code",
   "execution_count": 26,
   "metadata": {},
   "outputs": [],
   "source": [
    "x = round(run.avg_pace.dt.seconds / 60, 2)"
   ]
  },
  {
   "cell_type": "code",
   "execution_count": 38,
   "metadata": {},
   "outputs": [],
   "source": [
    "time_mins = round(run.time.dt.seconds / 60, 2)"
   ]
  },
  {
   "cell_type": "code",
   "execution_count": 39,
   "metadata": {},
   "outputs": [],
   "source": [
    "fig = px.scatter(data_frame=run, \n",
    "                        y=time_mins,   # choice \n",
    "                        hover_data=['distance', 'calories'], \n",
    "                        labels=dict(x='Date', time='Time', avg_run_cadence='Average Run Cadence', avg_pace='Average Pace'), \n",
    "                        title='Snapshot',\n",
    "                        size='distance',\n",
    "                        color='distance',\n",
    "                        template='plotly',\n",
    "                        height=500, \n",
    "                        width=800,\n",
    "                        )"
   ]
  },
  {
   "cell_type": "code",
   "execution_count": 40,
   "metadata": {},
   "outputs": [
    {
     "data": {
      "application/vnd.plotly.v1+json": {
       "config": {
        "plotlyServerURL": "https://plotly.com"
       },
       "data": [
        {
         "customdata": [
          [
           2.34,
           369
          ],
          [
           4.01,
           636
          ],
          [
           4.02,
           647
          ],
          [
           3.11,
           463
          ],
          [
           6.26,
           1011
          ],
          [
           4.35,
           703
          ],
          [
           4,
           638
          ],
          [
           4.01,
           623
          ],
          [
           4.01,
           657
          ],
          [
           3.11,
           488
          ],
          [
           6.21,
           1044
          ],
          [
           5.02,
           854
          ],
          [
           4.02,
           644
          ],
          [
           3.11,
           484
          ],
          [
           5.02,
           819
          ],
          [
           5.01,
           814
          ],
          [
           3.14,
           493
          ],
          [
           4.02,
           625
          ],
          [
           3.11,
           513
          ],
          [
           3.14,
           489
          ],
          [
           5.01,
           821
          ],
          [
           3.11,
           487
          ],
          [
           4.01,
           645
          ],
          [
           3.11,
           494
          ],
          [
           2.01,
           309
          ],
          [
           7.02,
           1157
          ],
          [
           3.11,
           493
          ],
          [
           3.11,
           493
          ],
          [
           5.02,
           796
          ],
          [
           4.01,
           656
          ],
          [
           3.13,
           504
          ],
          [
           3.11,
           482
          ],
          [
           4.02,
           650
          ],
          [
           4.01,
           669
          ],
          [
           3.11,
           499
          ],
          [
           6.21,
           1033
          ],
          [
           3.11,
           494
          ],
          [
           3.11,
           426
          ],
          [
           3.11,
           518
          ],
          [
           4.01,
           689
          ],
          [
           2.01,
           308
          ],
          [
           3.11,
           496
          ],
          [
           1.01,
           159
          ],
          [
           1.01,
           142
          ],
          [
           2,
           313
          ],
          [
           3.11,
           475
          ],
          [
           4.02,
           657
          ],
          [
           3.11,
           477
          ],
          [
           3.1,
           477
          ],
          [
           3.1,
           498
          ],
          [
           4.01,
           681
          ],
          [
           3.11,
           514
          ],
          [
           3,
           490
          ],
          [
           3.01,
           482
          ],
          [
           4.01,
           656
          ],
          [
           3.11,
           500
          ],
          [
           3,
           488
          ],
          [
           3.11,
           503
          ],
          [
           3.1,
           502
          ],
          [
           3.11,
           510
          ],
          [
           2.01,
           323
          ],
          [
           2.01,
           279
          ],
          [
           3.01,
           491
          ],
          [
           3.12,
           488
          ],
          [
           2.01,
           271
          ],
          [
           2.01,
           312
          ],
          [
           3.11,
           473
          ],
          [
           4.05,
           641
          ],
          [
           2.01,
           266
          ],
          [
           2.01,
           301
          ],
          [
           3.01,
           488
          ],
          [
           3,
           475
          ],
          [
           3.11,
           437
          ],
          [
           6.22,
           1002
          ],
          [
           3.11,
           489
          ],
          [
           4.01,
           633
          ],
          [
           3.13,
           495
          ],
          [
           3,
           442
          ],
          [
           2.01,
           283
          ],
          [
           6.24,
           1001
          ],
          [
           4.01,
           630
          ],
          [
           3.27,
           530
          ],
          [
           3.1,
           467
          ],
          [
           4,
           659
          ],
          [
           3.01,
           473
          ],
          [
           3.01,
           497
          ],
          [
           2.02,
           322
          ],
          [
           2,
           286
          ],
          [
           4.01,
           651
          ],
          [
           2.01,
           288
          ],
          [
           2.01,
           293
          ],
          [
           3.01,
           486
          ],
          [
           2,
           314
          ],
          [
           3.12,
           501
          ],
          [
           3.01,
           493
          ],
          [
           1.01,
           140
          ],
          [
           2.01,
           316
          ],
          [
           1.46,
           158
          ],
          [
           2,
           321
          ],
          [
           5,
           812
          ],
          [
           2.01,
           324
          ],
          [
           3.01,
           465
          ],
          [
           3.01,
           498
          ],
          [
           3.01,
           484
          ],
          [
           3.02,
           503
          ],
          [
           2.01,
           316
          ],
          [
           2.03,
           322
          ],
          [
           1.01,
           127
          ],
          [
           2.03,
           333
          ],
          [
           2.02,
           349
          ],
          [
           2.02,
           343
          ],
          [
           1.44,
           242
          ],
          [
           2.01,
           337
          ],
          [
           2.22,
           287
          ],
          [
           1.03,
           156
          ],
          [
           1,
           162
          ],
          [
           1.02,
           145
          ],
          [
           0.62,
           100
          ],
          [
           0.78,
           109
          ],
          [
           1.51,
           233
          ],
          [
           1.04,
           158
          ],
          [
           1.5,
           242
          ],
          [
           1.03,
           159
          ],
          [
           1.01,
           168
          ],
          [
           1.01,
           144
          ],
          [
           11.52,
           2185
          ],
          [
           2.28,
           437
          ],
          [
           5.01,
           899
          ],
          [
           6.01,
           1205
          ]
         ],
         "hovertemplate": "date=%{x}<br>y=%{y}<br>distance=%{marker.color}<br>calories=%{customdata[1]}<extra></extra>",
         "legendgroup": "",
         "marker": {
          "color": [
           2.34,
           4.01,
           4.02,
           3.11,
           6.26,
           4.35,
           4,
           4.01,
           4.01,
           3.11,
           6.21,
           5.02,
           4.02,
           3.11,
           5.02,
           5.01,
           3.14,
           4.02,
           3.11,
           3.14,
           5.01,
           3.11,
           4.01,
           3.11,
           2.01,
           7.02,
           3.11,
           3.11,
           5.02,
           4.01,
           3.13,
           3.11,
           4.02,
           4.01,
           3.11,
           6.21,
           3.11,
           3.11,
           3.11,
           4.01,
           2.01,
           3.11,
           1.01,
           1.01,
           2,
           3.11,
           4.02,
           3.11,
           3.1,
           3.1,
           4.01,
           3.11,
           3,
           3.01,
           4.01,
           3.11,
           3,
           3.11,
           3.1,
           3.11,
           2.01,
           2.01,
           3.01,
           3.12,
           2.01,
           2.01,
           3.11,
           4.05,
           2.01,
           2.01,
           3.01,
           3,
           3.11,
           6.22,
           3.11,
           4.01,
           3.13,
           3,
           2.01,
           6.24,
           4.01,
           3.27,
           3.1,
           4,
           3.01,
           3.01,
           2.02,
           2,
           4.01,
           2.01,
           2.01,
           3.01,
           2,
           3.12,
           3.01,
           1.01,
           2.01,
           1.46,
           2,
           5,
           2.01,
           3.01,
           3.01,
           3.01,
           3.02,
           2.01,
           2.03,
           1.01,
           2.03,
           2.02,
           2.02,
           1.44,
           2.01,
           2.22,
           1.03,
           1,
           1.02,
           0.62,
           0.78,
           1.51,
           1.04,
           1.5,
           1.03,
           1.01,
           1.01,
           11.52,
           2.28,
           5.01,
           6.01
          ],
          "coloraxis": "coloraxis",
          "size": [
           2.34,
           4.01,
           4.02,
           3.11,
           6.26,
           4.35,
           4,
           4.01,
           4.01,
           3.11,
           6.21,
           5.02,
           4.02,
           3.11,
           5.02,
           5.01,
           3.14,
           4.02,
           3.11,
           3.14,
           5.01,
           3.11,
           4.01,
           3.11,
           2.01,
           7.02,
           3.11,
           3.11,
           5.02,
           4.01,
           3.13,
           3.11,
           4.02,
           4.01,
           3.11,
           6.21,
           3.11,
           3.11,
           3.11,
           4.01,
           2.01,
           3.11,
           1.01,
           1.01,
           2,
           3.11,
           4.02,
           3.11,
           3.1,
           3.1,
           4.01,
           3.11,
           3,
           3.01,
           4.01,
           3.11,
           3,
           3.11,
           3.1,
           3.11,
           2.01,
           2.01,
           3.01,
           3.12,
           2.01,
           2.01,
           3.11,
           4.05,
           2.01,
           2.01,
           3.01,
           3,
           3.11,
           6.22,
           3.11,
           4.01,
           3.13,
           3,
           2.01,
           6.24,
           4.01,
           3.27,
           3.1,
           4,
           3.01,
           3.01,
           2.02,
           2,
           4.01,
           2.01,
           2.01,
           3.01,
           2,
           3.12,
           3.01,
           1.01,
           2.01,
           1.46,
           2,
           5,
           2.01,
           3.01,
           3.01,
           3.01,
           3.02,
           2.01,
           2.03,
           1.01,
           2.03,
           2.02,
           2.02,
           1.44,
           2.01,
           2.22,
           1.03,
           1,
           1.02,
           0.62,
           0.78,
           1.51,
           1.04,
           1.5,
           1.03,
           1.01,
           1.01,
           11.52,
           2.28,
           5.01,
           6.01
          ],
          "sizemode": "area",
          "sizeref": 0.0288,
          "symbol": "circle"
         },
         "mode": "markers",
         "name": "",
         "orientation": "v",
         "showlegend": false,
         "type": "scatter",
         "x": [
          "2020-11-15T15:03:39",
          "2020-11-13T16:23:46",
          "2020-11-12T11:55:48",
          "2020-11-10T15:12:40",
          "2020-11-08T16:14:17",
          "2020-11-06T14:33:08",
          "2020-11-04T12:16:30",
          "2020-11-03T14:17:58",
          "2020-11-01T13:21:42",
          "2020-10-30T12:35:45",
          "2020-10-29T13:12:43",
          "2020-10-27T14:07:59",
          "2020-10-25T13:33:49",
          "2020-10-24T11:23:26",
          "2020-10-23T14:04:25",
          "2020-10-21T13:36:20",
          "2020-10-19T07:18:15",
          "2020-10-18T11:27:14",
          "2020-10-15T13:08:12",
          "2020-10-14T12:58:51",
          "2020-10-10T15:31:39",
          "2020-10-09T17:25:55",
          "2020-10-08T13:17:44",
          "2020-10-06T17:24:35",
          "2020-10-05T19:21:10",
          "2020-10-04T15:47:11",
          "2020-10-02T17:07:48",
          "2020-09-30T14:30:18",
          "2020-09-28T17:56:57",
          "2020-09-25T18:22:29",
          "2020-09-24T13:57:19",
          "2020-09-22T14:25:45",
          "2020-09-20T14:24:14",
          "2020-09-19T10:32:09",
          "2020-09-09T12:26:49",
          "2020-09-05T17:03:41",
          "2020-09-02T13:02:06",
          "2020-08-29T16:28:26",
          "2020-08-28T19:17:01",
          "2020-08-20T12:48:59",
          "2020-08-19T17:43:10",
          "2020-08-18T14:02:38",
          "2020-08-16T15:20:47",
          "2020-08-15T18:57:52",
          "2020-08-13T20:45:01",
          "2020-08-12T13:10:10",
          "2020-08-08T16:56:25",
          "2020-08-04T14:01:12",
          "2020-08-02T15:29:17",
          "2020-08-01T19:43:23",
          "2020-07-29T12:42:13",
          "2020-07-23T16:49:24",
          "2020-07-22T15:04:46",
          "2020-07-16T11:58:58",
          "2020-07-14T13:26:36",
          "2020-07-07T17:47:15",
          "2020-07-01T19:43:40",
          "2020-06-25T18:15:10",
          "2020-06-24T12:39:09",
          "2020-06-23T12:30:53",
          "2020-06-22T17:46:47",
          "2020-06-18T12:33:33",
          "2020-06-17T12:27:24",
          "2020-06-15T12:44:41",
          "2020-06-14T10:02:12",
          "2020-06-12T18:34:48",
          "2020-06-07T17:13:49",
          "2020-06-06T13:21:26",
          "2020-06-02T13:34:42",
          "2020-05-30T19:29:48",
          "2020-05-29T12:34:59",
          "2020-05-26T11:47:18",
          "2020-05-18T18:02:52",
          "2020-05-17T15:36:32",
          "2020-05-15T12:32:59",
          "2020-05-12T19:12:31",
          "2020-05-08T16:33:27",
          "2020-05-06T13:44:04",
          "2020-05-04T17:50:35",
          "2020-05-03T14:58:19",
          "2020-05-02T17:56:17",
          "2020-05-01T12:10:23",
          "2020-04-27T12:36:54",
          "2020-04-24T13:32:27",
          "2020-04-22T11:46:28",
          "2020-04-20T13:15:41",
          "2020-04-09T16:22:01",
          "2020-04-08T12:36:28",
          "2020-04-06T14:02:11",
          "2020-04-04T14:40:31",
          "2020-04-02T14:25:32",
          "2020-03-31T13:08:12",
          "2020-03-27T12:55:51",
          "2020-03-19T12:18:49",
          "2020-03-16T12:29:09",
          "2020-03-14T17:45:18",
          "2020-03-14T17:18:07",
          "2020-03-13T17:34:56",
          "2020-03-12T16:28:19",
          "2020-03-07T14:41:22",
          "2020-03-04T17:53:41",
          "2020-03-01T13:57:46",
          "2020-02-27T18:54:07",
          "2020-02-23T18:00:39",
          "2020-02-08T15:28:10",
          "2020-01-18T15:50:08",
          "2020-01-11T12:42:28",
          "2019-11-03T15:54:19",
          "2019-10-19T14:26:35",
          "2019-09-03T20:00:43",
          "2019-08-26T20:41:18",
          "2019-08-25T16:08:04",
          "2019-08-24T13:06:18",
          "2019-07-29T20:46:33",
          "2019-07-20T10:47:28",
          "2019-06-30T19:24:11",
          "2019-06-18T19:04:15",
          "2019-05-05T19:11:48",
          "2019-04-22T13:35:55",
          "2019-04-21T10:42:57",
          "2019-04-15T10:24:28",
          "2019-04-11T07:43:19",
          "2019-03-01T16:06:38",
          "2019-03-01T15:45:03",
          "2018-09-20T18:03:06",
          "2018-09-15T20:31:46",
          "2018-09-10T18:09:12",
          "2018-09-08T08:08:11",
          "2018-09-05T18:07:48"
         ],
         "xaxis": "x",
         "y": [
          22.43,
          36.68,
          36.12,
          25.7,
          58.18,
          38.63,
          35.03,
          35.67,
          38.4,
          27.97,
          57.93,
          46.73,
          37.97,
          27.68,
          45.18,
          45.52,
          29.43,
          35.4,
          28.75,
          28.32,
          47.85,
          29.55,
          36.87,
          28.02,
          19.15,
          66.78,
          28.47,
          27,
          46.82,
          37.98,
          28.55,
          28.1,
          36.68,
          36.48,
          27.62,
          60.08,
          29.87,
          27.7,
          30.73,
          39.62,
          17.97,
          29.3,
          9.97,
          7.62,
          18.53,
          27.35,
          37.35,
          28.48,
          28.95,
          28.83,
          39.43,
          30.43,
          27.98,
          28.45,
          38.78,
          28.63,
          29.8,
          28.4,
          28.5,
          30.38,
          19.38,
          17.6,
          28.1,
          28.17,
          16.93,
          18.83,
          27.72,
          38.12,
          17.48,
          18.5,
          29.77,
          27.78,
          26.93,
          59.55,
          29.13,
          38.5,
          29.7,
          26.98,
          17.02,
          63.25,
          38.85,
          31.95,
          28.73,
          39.83,
          29.37,
          29.78,
          19.7,
          18.35,
          40.35,
          18.47,
          18.38,
          29.7,
          20.53,
          29.7,
          31.08,
          8.52,
          19.5,
          14.95,
          20.3,
          50.65,
          19.32,
          30.72,
          32.07,
          31.23,
          31.97,
          19.92,
          21.25,
          9.72,
          21.65,
          21.07,
          22.28,
          14.73,
          19.95,
          43.62,
          10.68,
          10.32,
          10.78,
          6.78,
          8.45,
          16.25,
          10.8,
          16.38,
          12.83,
          10.97,
          9.88,
          244.83,
          29.13,
          58.45,
          65.22
         ],
         "yaxis": "y"
        }
       ],
       "layout": {
        "coloraxis": {
         "colorbar": {
          "title": {
           "text": "distance"
          }
         },
         "colorscale": [
          [
           0,
           "#0d0887"
          ],
          [
           0.1111111111111111,
           "#46039f"
          ],
          [
           0.2222222222222222,
           "#7201a8"
          ],
          [
           0.3333333333333333,
           "#9c179e"
          ],
          [
           0.4444444444444444,
           "#bd3786"
          ],
          [
           0.5555555555555556,
           "#d8576b"
          ],
          [
           0.6666666666666666,
           "#ed7953"
          ],
          [
           0.7777777777777778,
           "#fb9f3a"
          ],
          [
           0.8888888888888888,
           "#fdca26"
          ],
          [
           1,
           "#f0f921"
          ]
         ]
        },
        "height": 500,
        "legend": {
         "itemsizing": "constant",
         "tracegroupgap": 0
        },
        "template": {
         "data": {
          "bar": [
           {
            "error_x": {
             "color": "#2a3f5f"
            },
            "error_y": {
             "color": "#2a3f5f"
            },
            "marker": {
             "line": {
              "color": "#E5ECF6",
              "width": 0.5
             }
            },
            "type": "bar"
           }
          ],
          "barpolar": [
           {
            "marker": {
             "line": {
              "color": "#E5ECF6",
              "width": 0.5
             }
            },
            "type": "barpolar"
           }
          ],
          "carpet": [
           {
            "aaxis": {
             "endlinecolor": "#2a3f5f",
             "gridcolor": "white",
             "linecolor": "white",
             "minorgridcolor": "white",
             "startlinecolor": "#2a3f5f"
            },
            "baxis": {
             "endlinecolor": "#2a3f5f",
             "gridcolor": "white",
             "linecolor": "white",
             "minorgridcolor": "white",
             "startlinecolor": "#2a3f5f"
            },
            "type": "carpet"
           }
          ],
          "choropleth": [
           {
            "colorbar": {
             "outlinewidth": 0,
             "ticks": ""
            },
            "type": "choropleth"
           }
          ],
          "contour": [
           {
            "colorbar": {
             "outlinewidth": 0,
             "ticks": ""
            },
            "colorscale": [
             [
              0,
              "#0d0887"
             ],
             [
              0.1111111111111111,
              "#46039f"
             ],
             [
              0.2222222222222222,
              "#7201a8"
             ],
             [
              0.3333333333333333,
              "#9c179e"
             ],
             [
              0.4444444444444444,
              "#bd3786"
             ],
             [
              0.5555555555555556,
              "#d8576b"
             ],
             [
              0.6666666666666666,
              "#ed7953"
             ],
             [
              0.7777777777777778,
              "#fb9f3a"
             ],
             [
              0.8888888888888888,
              "#fdca26"
             ],
             [
              1,
              "#f0f921"
             ]
            ],
            "type": "contour"
           }
          ],
          "contourcarpet": [
           {
            "colorbar": {
             "outlinewidth": 0,
             "ticks": ""
            },
            "type": "contourcarpet"
           }
          ],
          "heatmap": [
           {
            "colorbar": {
             "outlinewidth": 0,
             "ticks": ""
            },
            "colorscale": [
             [
              0,
              "#0d0887"
             ],
             [
              0.1111111111111111,
              "#46039f"
             ],
             [
              0.2222222222222222,
              "#7201a8"
             ],
             [
              0.3333333333333333,
              "#9c179e"
             ],
             [
              0.4444444444444444,
              "#bd3786"
             ],
             [
              0.5555555555555556,
              "#d8576b"
             ],
             [
              0.6666666666666666,
              "#ed7953"
             ],
             [
              0.7777777777777778,
              "#fb9f3a"
             ],
             [
              0.8888888888888888,
              "#fdca26"
             ],
             [
              1,
              "#f0f921"
             ]
            ],
            "type": "heatmap"
           }
          ],
          "heatmapgl": [
           {
            "colorbar": {
             "outlinewidth": 0,
             "ticks": ""
            },
            "colorscale": [
             [
              0,
              "#0d0887"
             ],
             [
              0.1111111111111111,
              "#46039f"
             ],
             [
              0.2222222222222222,
              "#7201a8"
             ],
             [
              0.3333333333333333,
              "#9c179e"
             ],
             [
              0.4444444444444444,
              "#bd3786"
             ],
             [
              0.5555555555555556,
              "#d8576b"
             ],
             [
              0.6666666666666666,
              "#ed7953"
             ],
             [
              0.7777777777777778,
              "#fb9f3a"
             ],
             [
              0.8888888888888888,
              "#fdca26"
             ],
             [
              1,
              "#f0f921"
             ]
            ],
            "type": "heatmapgl"
           }
          ],
          "histogram": [
           {
            "marker": {
             "colorbar": {
              "outlinewidth": 0,
              "ticks": ""
             }
            },
            "type": "histogram"
           }
          ],
          "histogram2d": [
           {
            "colorbar": {
             "outlinewidth": 0,
             "ticks": ""
            },
            "colorscale": [
             [
              0,
              "#0d0887"
             ],
             [
              0.1111111111111111,
              "#46039f"
             ],
             [
              0.2222222222222222,
              "#7201a8"
             ],
             [
              0.3333333333333333,
              "#9c179e"
             ],
             [
              0.4444444444444444,
              "#bd3786"
             ],
             [
              0.5555555555555556,
              "#d8576b"
             ],
             [
              0.6666666666666666,
              "#ed7953"
             ],
             [
              0.7777777777777778,
              "#fb9f3a"
             ],
             [
              0.8888888888888888,
              "#fdca26"
             ],
             [
              1,
              "#f0f921"
             ]
            ],
            "type": "histogram2d"
           }
          ],
          "histogram2dcontour": [
           {
            "colorbar": {
             "outlinewidth": 0,
             "ticks": ""
            },
            "colorscale": [
             [
              0,
              "#0d0887"
             ],
             [
              0.1111111111111111,
              "#46039f"
             ],
             [
              0.2222222222222222,
              "#7201a8"
             ],
             [
              0.3333333333333333,
              "#9c179e"
             ],
             [
              0.4444444444444444,
              "#bd3786"
             ],
             [
              0.5555555555555556,
              "#d8576b"
             ],
             [
              0.6666666666666666,
              "#ed7953"
             ],
             [
              0.7777777777777778,
              "#fb9f3a"
             ],
             [
              0.8888888888888888,
              "#fdca26"
             ],
             [
              1,
              "#f0f921"
             ]
            ],
            "type": "histogram2dcontour"
           }
          ],
          "mesh3d": [
           {
            "colorbar": {
             "outlinewidth": 0,
             "ticks": ""
            },
            "type": "mesh3d"
           }
          ],
          "parcoords": [
           {
            "line": {
             "colorbar": {
              "outlinewidth": 0,
              "ticks": ""
             }
            },
            "type": "parcoords"
           }
          ],
          "pie": [
           {
            "automargin": true,
            "type": "pie"
           }
          ],
          "scatter": [
           {
            "marker": {
             "colorbar": {
              "outlinewidth": 0,
              "ticks": ""
             }
            },
            "type": "scatter"
           }
          ],
          "scatter3d": [
           {
            "line": {
             "colorbar": {
              "outlinewidth": 0,
              "ticks": ""
             }
            },
            "marker": {
             "colorbar": {
              "outlinewidth": 0,
              "ticks": ""
             }
            },
            "type": "scatter3d"
           }
          ],
          "scattercarpet": [
           {
            "marker": {
             "colorbar": {
              "outlinewidth": 0,
              "ticks": ""
             }
            },
            "type": "scattercarpet"
           }
          ],
          "scattergeo": [
           {
            "marker": {
             "colorbar": {
              "outlinewidth": 0,
              "ticks": ""
             }
            },
            "type": "scattergeo"
           }
          ],
          "scattergl": [
           {
            "marker": {
             "colorbar": {
              "outlinewidth": 0,
              "ticks": ""
             }
            },
            "type": "scattergl"
           }
          ],
          "scattermapbox": [
           {
            "marker": {
             "colorbar": {
              "outlinewidth": 0,
              "ticks": ""
             }
            },
            "type": "scattermapbox"
           }
          ],
          "scatterpolar": [
           {
            "marker": {
             "colorbar": {
              "outlinewidth": 0,
              "ticks": ""
             }
            },
            "type": "scatterpolar"
           }
          ],
          "scatterpolargl": [
           {
            "marker": {
             "colorbar": {
              "outlinewidth": 0,
              "ticks": ""
             }
            },
            "type": "scatterpolargl"
           }
          ],
          "scatterternary": [
           {
            "marker": {
             "colorbar": {
              "outlinewidth": 0,
              "ticks": ""
             }
            },
            "type": "scatterternary"
           }
          ],
          "surface": [
           {
            "colorbar": {
             "outlinewidth": 0,
             "ticks": ""
            },
            "colorscale": [
             [
              0,
              "#0d0887"
             ],
             [
              0.1111111111111111,
              "#46039f"
             ],
             [
              0.2222222222222222,
              "#7201a8"
             ],
             [
              0.3333333333333333,
              "#9c179e"
             ],
             [
              0.4444444444444444,
              "#bd3786"
             ],
             [
              0.5555555555555556,
              "#d8576b"
             ],
             [
              0.6666666666666666,
              "#ed7953"
             ],
             [
              0.7777777777777778,
              "#fb9f3a"
             ],
             [
              0.8888888888888888,
              "#fdca26"
             ],
             [
              1,
              "#f0f921"
             ]
            ],
            "type": "surface"
           }
          ],
          "table": [
           {
            "cells": {
             "fill": {
              "color": "#EBF0F8"
             },
             "line": {
              "color": "white"
             }
            },
            "header": {
             "fill": {
              "color": "#C8D4E3"
             },
             "line": {
              "color": "white"
             }
            },
            "type": "table"
           }
          ]
         },
         "layout": {
          "annotationdefaults": {
           "arrowcolor": "#2a3f5f",
           "arrowhead": 0,
           "arrowwidth": 1
          },
          "coloraxis": {
           "colorbar": {
            "outlinewidth": 0,
            "ticks": ""
           }
          },
          "colorscale": {
           "diverging": [
            [
             0,
             "#8e0152"
            ],
            [
             0.1,
             "#c51b7d"
            ],
            [
             0.2,
             "#de77ae"
            ],
            [
             0.3,
             "#f1b6da"
            ],
            [
             0.4,
             "#fde0ef"
            ],
            [
             0.5,
             "#f7f7f7"
            ],
            [
             0.6,
             "#e6f5d0"
            ],
            [
             0.7,
             "#b8e186"
            ],
            [
             0.8,
             "#7fbc41"
            ],
            [
             0.9,
             "#4d9221"
            ],
            [
             1,
             "#276419"
            ]
           ],
           "sequential": [
            [
             0,
             "#0d0887"
            ],
            [
             0.1111111111111111,
             "#46039f"
            ],
            [
             0.2222222222222222,
             "#7201a8"
            ],
            [
             0.3333333333333333,
             "#9c179e"
            ],
            [
             0.4444444444444444,
             "#bd3786"
            ],
            [
             0.5555555555555556,
             "#d8576b"
            ],
            [
             0.6666666666666666,
             "#ed7953"
            ],
            [
             0.7777777777777778,
             "#fb9f3a"
            ],
            [
             0.8888888888888888,
             "#fdca26"
            ],
            [
             1,
             "#f0f921"
            ]
           ],
           "sequentialminus": [
            [
             0,
             "#0d0887"
            ],
            [
             0.1111111111111111,
             "#46039f"
            ],
            [
             0.2222222222222222,
             "#7201a8"
            ],
            [
             0.3333333333333333,
             "#9c179e"
            ],
            [
             0.4444444444444444,
             "#bd3786"
            ],
            [
             0.5555555555555556,
             "#d8576b"
            ],
            [
             0.6666666666666666,
             "#ed7953"
            ],
            [
             0.7777777777777778,
             "#fb9f3a"
            ],
            [
             0.8888888888888888,
             "#fdca26"
            ],
            [
             1,
             "#f0f921"
            ]
           ]
          },
          "colorway": [
           "#636efa",
           "#EF553B",
           "#00cc96",
           "#ab63fa",
           "#FFA15A",
           "#19d3f3",
           "#FF6692",
           "#B6E880",
           "#FF97FF",
           "#FECB52"
          ],
          "font": {
           "color": "#2a3f5f"
          },
          "geo": {
           "bgcolor": "white",
           "lakecolor": "white",
           "landcolor": "#E5ECF6",
           "showlakes": true,
           "showland": true,
           "subunitcolor": "white"
          },
          "hoverlabel": {
           "align": "left"
          },
          "hovermode": "closest",
          "mapbox": {
           "style": "light"
          },
          "paper_bgcolor": "white",
          "plot_bgcolor": "#E5ECF6",
          "polar": {
           "angularaxis": {
            "gridcolor": "white",
            "linecolor": "white",
            "ticks": ""
           },
           "bgcolor": "#E5ECF6",
           "radialaxis": {
            "gridcolor": "white",
            "linecolor": "white",
            "ticks": ""
           }
          },
          "scene": {
           "xaxis": {
            "backgroundcolor": "#E5ECF6",
            "gridcolor": "white",
            "gridwidth": 2,
            "linecolor": "white",
            "showbackground": true,
            "ticks": "",
            "zerolinecolor": "white"
           },
           "yaxis": {
            "backgroundcolor": "#E5ECF6",
            "gridcolor": "white",
            "gridwidth": 2,
            "linecolor": "white",
            "showbackground": true,
            "ticks": "",
            "zerolinecolor": "white"
           },
           "zaxis": {
            "backgroundcolor": "#E5ECF6",
            "gridcolor": "white",
            "gridwidth": 2,
            "linecolor": "white",
            "showbackground": true,
            "ticks": "",
            "zerolinecolor": "white"
           }
          },
          "shapedefaults": {
           "line": {
            "color": "#2a3f5f"
           }
          },
          "ternary": {
           "aaxis": {
            "gridcolor": "white",
            "linecolor": "white",
            "ticks": ""
           },
           "baxis": {
            "gridcolor": "white",
            "linecolor": "white",
            "ticks": ""
           },
           "bgcolor": "#E5ECF6",
           "caxis": {
            "gridcolor": "white",
            "linecolor": "white",
            "ticks": ""
           }
          },
          "title": {
           "x": 0.05
          },
          "xaxis": {
           "automargin": true,
           "gridcolor": "white",
           "linecolor": "white",
           "ticks": "",
           "title": {
            "standoff": 15
           },
           "zerolinecolor": "white",
           "zerolinewidth": 2
          },
          "yaxis": {
           "automargin": true,
           "gridcolor": "white",
           "linecolor": "white",
           "ticks": "",
           "title": {
            "standoff": 15
           },
           "zerolinecolor": "white",
           "zerolinewidth": 2
          }
         }
        },
        "title": {
         "text": "Snapshot"
        },
        "width": 800,
        "xaxis": {
         "anchor": "y",
         "domain": [
          0,
          1
         ],
         "title": {
          "text": "date"
         }
        },
        "yaxis": {
         "anchor": "x",
         "domain": [
          0,
          1
         ],
         "title": {
          "text": "y"
         }
        }
       }
      }
     },
     "metadata": {},
     "output_type": "display_data"
    }
   ],
   "source": [
    "fig.show()"
   ]
  },
  {
   "cell_type": "code",
   "execution_count": 27,
   "metadata": {},
   "outputs": [
    {
     "data": {
      "application/vnd.plotly.v1+json": {
       "config": {
        "plotlyServerURL": "https://plotly.com"
       },
       "data": [
        {
         "hovertemplate": "x=%{x}<br>avg_run_cadence=%{y}<extra></extra>",
         "legendgroup": "",
         "marker": {
          "color": "#636efa",
          "symbol": "circle"
         },
         "mode": "markers",
         "name": "",
         "orientation": "v",
         "showlegend": false,
         "type": "scatter",
         "x": [
          9.58,
          9.13,
          8.98,
          8.27,
          9.28,
          8.88,
          8.75,
          8.9,
          9.57,
          9,
          9.33,
          9.32,
          9.45,
          8.9,
          9,
          9.08,
          9.37,
          8.82,
          9.27,
          9.03,
          9.55,
          9.5,
          9.18,
          9.02,
          9.52,
          9.52,
          9.17,
          8.68,
          9.33,
          9.47,
          9.13,
          9.03,
          9.13,
          9.1,
          8.88,
          9.67,
          9.6,
          8.92,
          9.88,
          9.87,
          8.95,
          9.43,
          9.92,
          7.55,
          9.25,
          8.8,
          9.3,
          9.17,
          9.35,
          9.28,
          9.85,
          9.78,
          9.32,
          9.47,
          9.68,
          9.22,
          9.92,
          9.15,
          9.18,
          9.77,
          9.67,
          8.78,
          9.35,
          9.03,
          8.43,
          9.38,
          8.92,
          9.4,
          8.7,
          9.22,
          9.9,
          9.25,
          8.65,
          9.57,
          9.37,
          9.62,
          9.5,
          8.98,
          8.45,
          10.15,
          9.7,
          9.77,
          9.25,
          9.95,
          9.77,
          9.92,
          9.73,
          9.15,
          10.07,
          9.18,
          9.13,
          9.88,
          10.25,
          9.53,
          10.33,
          8.45,
          9.68,
          10.23,
          10.13,
          10.12,
          9.62,
          10.2,
          10.67,
          10.38,
          10.58,
          9.9,
          10.47,
          9.62,
          10.65,
          10.42,
          11.07,
          10.23,
          9.93,
          19.65,
          10.4,
          10.25,
          10.55,
          11,
          10.8,
          10.75,
          10.4,
          10.88,
          12.5,
          10.9,
          9.82,
          21.25,
          12.78,
          11.67,
          10.85
         ],
         "xaxis": "x",
         "y": [
          168,
          166,
          169,
          174,
          166,
          165,
          167,
          170,
          166,
          169,
          169,
          166,
          167,
          172,
          172,
          171,
          166,
          169,
          165,
          168,
          167,
          163,
          165,
          166,
          164,
          167,
          166,
          168,
          166,
          165,
          165,
          164,
          167,
          168,
          166,
          165,
          163,
          165,
          159,
          161,
          167,
          161,
          163,
          176,
          163,
          169,
          164,
          165,
          163,
          164,
          159,
          162,
          165,
          162,
          165,
          166,
          162,
          165,
          164,
          156,
          163,
          165,
          163,
          162,
          167,
          163,
          168,
          164,
          159,
          159,
          157,
          165,
          173,
          169,
          165,
          163,
          165,
          165,
          168,
          164,
          162,
          161,
          162,
          160,
          162,
          157,
          158,
          162,
          159,
          161,
          162,
          159,
          160,
          162,
          159,
          163,
          157,
          133,
          156,
          158,
          159,
          161,
          156,
          156,
          156,
          160,
          161,
          158,
          157,
          156,
          156,
          161,
          160,
          101,
          157,
          158,
          148,
          153,
          150,
          159,
          161,
          157,
          136,
          152,
          157,
          93,
          147,
          146,
          147
         ],
         "yaxis": "y"
        }
       ],
       "layout": {
        "legend": {
         "tracegroupgap": 0
        },
        "margin": {
         "t": 60
        },
        "template": {
         "data": {
          "bar": [
           {
            "error_x": {
             "color": "#2a3f5f"
            },
            "error_y": {
             "color": "#2a3f5f"
            },
            "marker": {
             "line": {
              "color": "#E5ECF6",
              "width": 0.5
             }
            },
            "type": "bar"
           }
          ],
          "barpolar": [
           {
            "marker": {
             "line": {
              "color": "#E5ECF6",
              "width": 0.5
             }
            },
            "type": "barpolar"
           }
          ],
          "carpet": [
           {
            "aaxis": {
             "endlinecolor": "#2a3f5f",
             "gridcolor": "white",
             "linecolor": "white",
             "minorgridcolor": "white",
             "startlinecolor": "#2a3f5f"
            },
            "baxis": {
             "endlinecolor": "#2a3f5f",
             "gridcolor": "white",
             "linecolor": "white",
             "minorgridcolor": "white",
             "startlinecolor": "#2a3f5f"
            },
            "type": "carpet"
           }
          ],
          "choropleth": [
           {
            "colorbar": {
             "outlinewidth": 0,
             "ticks": ""
            },
            "type": "choropleth"
           }
          ],
          "contour": [
           {
            "colorbar": {
             "outlinewidth": 0,
             "ticks": ""
            },
            "colorscale": [
             [
              0,
              "#0d0887"
             ],
             [
              0.1111111111111111,
              "#46039f"
             ],
             [
              0.2222222222222222,
              "#7201a8"
             ],
             [
              0.3333333333333333,
              "#9c179e"
             ],
             [
              0.4444444444444444,
              "#bd3786"
             ],
             [
              0.5555555555555556,
              "#d8576b"
             ],
             [
              0.6666666666666666,
              "#ed7953"
             ],
             [
              0.7777777777777778,
              "#fb9f3a"
             ],
             [
              0.8888888888888888,
              "#fdca26"
             ],
             [
              1,
              "#f0f921"
             ]
            ],
            "type": "contour"
           }
          ],
          "contourcarpet": [
           {
            "colorbar": {
             "outlinewidth": 0,
             "ticks": ""
            },
            "type": "contourcarpet"
           }
          ],
          "heatmap": [
           {
            "colorbar": {
             "outlinewidth": 0,
             "ticks": ""
            },
            "colorscale": [
             [
              0,
              "#0d0887"
             ],
             [
              0.1111111111111111,
              "#46039f"
             ],
             [
              0.2222222222222222,
              "#7201a8"
             ],
             [
              0.3333333333333333,
              "#9c179e"
             ],
             [
              0.4444444444444444,
              "#bd3786"
             ],
             [
              0.5555555555555556,
              "#d8576b"
             ],
             [
              0.6666666666666666,
              "#ed7953"
             ],
             [
              0.7777777777777778,
              "#fb9f3a"
             ],
             [
              0.8888888888888888,
              "#fdca26"
             ],
             [
              1,
              "#f0f921"
             ]
            ],
            "type": "heatmap"
           }
          ],
          "heatmapgl": [
           {
            "colorbar": {
             "outlinewidth": 0,
             "ticks": ""
            },
            "colorscale": [
             [
              0,
              "#0d0887"
             ],
             [
              0.1111111111111111,
              "#46039f"
             ],
             [
              0.2222222222222222,
              "#7201a8"
             ],
             [
              0.3333333333333333,
              "#9c179e"
             ],
             [
              0.4444444444444444,
              "#bd3786"
             ],
             [
              0.5555555555555556,
              "#d8576b"
             ],
             [
              0.6666666666666666,
              "#ed7953"
             ],
             [
              0.7777777777777778,
              "#fb9f3a"
             ],
             [
              0.8888888888888888,
              "#fdca26"
             ],
             [
              1,
              "#f0f921"
             ]
            ],
            "type": "heatmapgl"
           }
          ],
          "histogram": [
           {
            "marker": {
             "colorbar": {
              "outlinewidth": 0,
              "ticks": ""
             }
            },
            "type": "histogram"
           }
          ],
          "histogram2d": [
           {
            "colorbar": {
             "outlinewidth": 0,
             "ticks": ""
            },
            "colorscale": [
             [
              0,
              "#0d0887"
             ],
             [
              0.1111111111111111,
              "#46039f"
             ],
             [
              0.2222222222222222,
              "#7201a8"
             ],
             [
              0.3333333333333333,
              "#9c179e"
             ],
             [
              0.4444444444444444,
              "#bd3786"
             ],
             [
              0.5555555555555556,
              "#d8576b"
             ],
             [
              0.6666666666666666,
              "#ed7953"
             ],
             [
              0.7777777777777778,
              "#fb9f3a"
             ],
             [
              0.8888888888888888,
              "#fdca26"
             ],
             [
              1,
              "#f0f921"
             ]
            ],
            "type": "histogram2d"
           }
          ],
          "histogram2dcontour": [
           {
            "colorbar": {
             "outlinewidth": 0,
             "ticks": ""
            },
            "colorscale": [
             [
              0,
              "#0d0887"
             ],
             [
              0.1111111111111111,
              "#46039f"
             ],
             [
              0.2222222222222222,
              "#7201a8"
             ],
             [
              0.3333333333333333,
              "#9c179e"
             ],
             [
              0.4444444444444444,
              "#bd3786"
             ],
             [
              0.5555555555555556,
              "#d8576b"
             ],
             [
              0.6666666666666666,
              "#ed7953"
             ],
             [
              0.7777777777777778,
              "#fb9f3a"
             ],
             [
              0.8888888888888888,
              "#fdca26"
             ],
             [
              1,
              "#f0f921"
             ]
            ],
            "type": "histogram2dcontour"
           }
          ],
          "mesh3d": [
           {
            "colorbar": {
             "outlinewidth": 0,
             "ticks": ""
            },
            "type": "mesh3d"
           }
          ],
          "parcoords": [
           {
            "line": {
             "colorbar": {
              "outlinewidth": 0,
              "ticks": ""
             }
            },
            "type": "parcoords"
           }
          ],
          "pie": [
           {
            "automargin": true,
            "type": "pie"
           }
          ],
          "scatter": [
           {
            "marker": {
             "colorbar": {
              "outlinewidth": 0,
              "ticks": ""
             }
            },
            "type": "scatter"
           }
          ],
          "scatter3d": [
           {
            "line": {
             "colorbar": {
              "outlinewidth": 0,
              "ticks": ""
             }
            },
            "marker": {
             "colorbar": {
              "outlinewidth": 0,
              "ticks": ""
             }
            },
            "type": "scatter3d"
           }
          ],
          "scattercarpet": [
           {
            "marker": {
             "colorbar": {
              "outlinewidth": 0,
              "ticks": ""
             }
            },
            "type": "scattercarpet"
           }
          ],
          "scattergeo": [
           {
            "marker": {
             "colorbar": {
              "outlinewidth": 0,
              "ticks": ""
             }
            },
            "type": "scattergeo"
           }
          ],
          "scattergl": [
           {
            "marker": {
             "colorbar": {
              "outlinewidth": 0,
              "ticks": ""
             }
            },
            "type": "scattergl"
           }
          ],
          "scattermapbox": [
           {
            "marker": {
             "colorbar": {
              "outlinewidth": 0,
              "ticks": ""
             }
            },
            "type": "scattermapbox"
           }
          ],
          "scatterpolar": [
           {
            "marker": {
             "colorbar": {
              "outlinewidth": 0,
              "ticks": ""
             }
            },
            "type": "scatterpolar"
           }
          ],
          "scatterpolargl": [
           {
            "marker": {
             "colorbar": {
              "outlinewidth": 0,
              "ticks": ""
             }
            },
            "type": "scatterpolargl"
           }
          ],
          "scatterternary": [
           {
            "marker": {
             "colorbar": {
              "outlinewidth": 0,
              "ticks": ""
             }
            },
            "type": "scatterternary"
           }
          ],
          "surface": [
           {
            "colorbar": {
             "outlinewidth": 0,
             "ticks": ""
            },
            "colorscale": [
             [
              0,
              "#0d0887"
             ],
             [
              0.1111111111111111,
              "#46039f"
             ],
             [
              0.2222222222222222,
              "#7201a8"
             ],
             [
              0.3333333333333333,
              "#9c179e"
             ],
             [
              0.4444444444444444,
              "#bd3786"
             ],
             [
              0.5555555555555556,
              "#d8576b"
             ],
             [
              0.6666666666666666,
              "#ed7953"
             ],
             [
              0.7777777777777778,
              "#fb9f3a"
             ],
             [
              0.8888888888888888,
              "#fdca26"
             ],
             [
              1,
              "#f0f921"
             ]
            ],
            "type": "surface"
           }
          ],
          "table": [
           {
            "cells": {
             "fill": {
              "color": "#EBF0F8"
             },
             "line": {
              "color": "white"
             }
            },
            "header": {
             "fill": {
              "color": "#C8D4E3"
             },
             "line": {
              "color": "white"
             }
            },
            "type": "table"
           }
          ]
         },
         "layout": {
          "annotationdefaults": {
           "arrowcolor": "#2a3f5f",
           "arrowhead": 0,
           "arrowwidth": 1
          },
          "coloraxis": {
           "colorbar": {
            "outlinewidth": 0,
            "ticks": ""
           }
          },
          "colorscale": {
           "diverging": [
            [
             0,
             "#8e0152"
            ],
            [
             0.1,
             "#c51b7d"
            ],
            [
             0.2,
             "#de77ae"
            ],
            [
             0.3,
             "#f1b6da"
            ],
            [
             0.4,
             "#fde0ef"
            ],
            [
             0.5,
             "#f7f7f7"
            ],
            [
             0.6,
             "#e6f5d0"
            ],
            [
             0.7,
             "#b8e186"
            ],
            [
             0.8,
             "#7fbc41"
            ],
            [
             0.9,
             "#4d9221"
            ],
            [
             1,
             "#276419"
            ]
           ],
           "sequential": [
            [
             0,
             "#0d0887"
            ],
            [
             0.1111111111111111,
             "#46039f"
            ],
            [
             0.2222222222222222,
             "#7201a8"
            ],
            [
             0.3333333333333333,
             "#9c179e"
            ],
            [
             0.4444444444444444,
             "#bd3786"
            ],
            [
             0.5555555555555556,
             "#d8576b"
            ],
            [
             0.6666666666666666,
             "#ed7953"
            ],
            [
             0.7777777777777778,
             "#fb9f3a"
            ],
            [
             0.8888888888888888,
             "#fdca26"
            ],
            [
             1,
             "#f0f921"
            ]
           ],
           "sequentialminus": [
            [
             0,
             "#0d0887"
            ],
            [
             0.1111111111111111,
             "#46039f"
            ],
            [
             0.2222222222222222,
             "#7201a8"
            ],
            [
             0.3333333333333333,
             "#9c179e"
            ],
            [
             0.4444444444444444,
             "#bd3786"
            ],
            [
             0.5555555555555556,
             "#d8576b"
            ],
            [
             0.6666666666666666,
             "#ed7953"
            ],
            [
             0.7777777777777778,
             "#fb9f3a"
            ],
            [
             0.8888888888888888,
             "#fdca26"
            ],
            [
             1,
             "#f0f921"
            ]
           ]
          },
          "colorway": [
           "#636efa",
           "#EF553B",
           "#00cc96",
           "#ab63fa",
           "#FFA15A",
           "#19d3f3",
           "#FF6692",
           "#B6E880",
           "#FF97FF",
           "#FECB52"
          ],
          "font": {
           "color": "#2a3f5f"
          },
          "geo": {
           "bgcolor": "white",
           "lakecolor": "white",
           "landcolor": "#E5ECF6",
           "showlakes": true,
           "showland": true,
           "subunitcolor": "white"
          },
          "hoverlabel": {
           "align": "left"
          },
          "hovermode": "closest",
          "mapbox": {
           "style": "light"
          },
          "paper_bgcolor": "white",
          "plot_bgcolor": "#E5ECF6",
          "polar": {
           "angularaxis": {
            "gridcolor": "white",
            "linecolor": "white",
            "ticks": ""
           },
           "bgcolor": "#E5ECF6",
           "radialaxis": {
            "gridcolor": "white",
            "linecolor": "white",
            "ticks": ""
           }
          },
          "scene": {
           "xaxis": {
            "backgroundcolor": "#E5ECF6",
            "gridcolor": "white",
            "gridwidth": 2,
            "linecolor": "white",
            "showbackground": true,
            "ticks": "",
            "zerolinecolor": "white"
           },
           "yaxis": {
            "backgroundcolor": "#E5ECF6",
            "gridcolor": "white",
            "gridwidth": 2,
            "linecolor": "white",
            "showbackground": true,
            "ticks": "",
            "zerolinecolor": "white"
           },
           "zaxis": {
            "backgroundcolor": "#E5ECF6",
            "gridcolor": "white",
            "gridwidth": 2,
            "linecolor": "white",
            "showbackground": true,
            "ticks": "",
            "zerolinecolor": "white"
           }
          },
          "shapedefaults": {
           "line": {
            "color": "#2a3f5f"
           }
          },
          "ternary": {
           "aaxis": {
            "gridcolor": "white",
            "linecolor": "white",
            "ticks": ""
           },
           "baxis": {
            "gridcolor": "white",
            "linecolor": "white",
            "ticks": ""
           },
           "bgcolor": "#E5ECF6",
           "caxis": {
            "gridcolor": "white",
            "linecolor": "white",
            "ticks": ""
           }
          },
          "title": {
           "x": 0.05
          },
          "xaxis": {
           "automargin": true,
           "gridcolor": "white",
           "linecolor": "white",
           "ticks": "",
           "title": {
            "standoff": 15
           },
           "zerolinecolor": "white",
           "zerolinewidth": 2
          },
          "yaxis": {
           "automargin": true,
           "gridcolor": "white",
           "linecolor": "white",
           "ticks": "",
           "title": {
            "standoff": 15
           },
           "zerolinecolor": "white",
           "zerolinewidth": 2
          }
         }
        },
        "xaxis": {
         "anchor": "y",
         "domain": [
          0,
          1
         ],
         "title": {
          "text": "x"
         }
        },
        "yaxis": {
         "anchor": "x",
         "domain": [
          0,
          1
         ],
         "title": {
          "text": "avg_run_cadence"
         }
        }
       }
      }
     },
     "metadata": {},
     "output_type": "display_data"
    }
   ],
   "source": [
    "fig = px.scatter(data_frame=run,\n",
    "                y='avg_run_cadence', \n",
    "                x=x,\n",
    "                 )\n",
    "fig.show()"
   ]
  },
  {
   "cell_type": "code",
   "execution_count": null,
   "metadata": {},
   "outputs": [],
   "source": [
    "  fig = px.scatter(data_frame=run_slice, \n",
    "                        y=choice,   # choice \n",
    "                        hover_data=['distance', 'calories'], \n",
    "                        labels=dict(x='Date', time='Time', avg_run_cadence='Average Run Cadence', avg_pace='Average Pace'), \n",
    "                        title='Snapshot',\n",
    "                        size='distance',\n",
    "                        color='distance',\n",
    "                        template='plotly',\n",
    "                        height=700, \n",
    "                        width=1200,\n",
    "                        )"
   ]
  },
  {
   "cell_type": "code",
   "execution_count": 60,
   "metadata": {},
   "outputs": [],
   "source": [
    "dataraw.Time = dataraw.Time.apply(lambda x: x.split('.')[0])"
   ]
  },
  {
   "cell_type": "code",
   "execution_count": 62,
   "metadata": {},
   "outputs": [],
   "source": [
    "dataraw['timedelta'] = pd.to_timedelta(dataraw.Time)"
   ]
  },
  {
   "cell_type": "code",
   "execution_count": 88,
   "metadata": {},
   "outputs": [],
   "source": [
    "rawrun = dataraw[dataraw['Activity Type'] == 'Running']"
   ]
  },
  {
   "cell_type": "code",
   "execution_count": 90,
   "metadata": {},
   "outputs": [],
   "source": [
    "dataraw.Time = pd.to_timedelta(dataraw.Time)"
   ]
  },
  {
   "cell_type": "code",
   "execution_count": null,
   "metadata": {},
   "outputs": [],
   "source": []
  },
  {
   "cell_type": "code",
   "execution_count": 87,
   "metadata": {},
   "outputs": [
    {
     "data": {
      "text/plain": [
       "Index(['Activity Type', 'Date', 'Favorite', 'Title', 'Distance', 'Calories',\n",
       "       'Time', 'Avg HR', 'Max HR', 'Aerobic TE', 'Avg Run Cadence',\n",
       "       'Max Run Cadence', 'Avg Pace', 'Best Pace', 'Elev Gain', 'Elev Loss',\n",
       "       'Avg Stride Length', 'Avg Vertical Ratio', 'Avg Vertical Oscillation',\n",
       "       'Training Stress Score®', 'Grit', 'Flow', 'Climb Time', 'Bottom Time',\n",
       "       'Min Temp', 'Surface Interval', 'Decompression', 'Best Lap Time',\n",
       "       'Number of Laps', 'Max Temp', 'Unnamed: 0', 'Unnamed: 0.1',\n",
       "       'Total Strokes', 'Total Reps', 'Total Sets', 'timedelta',\n",
       "       'calories per minute'],\n",
       "      dtype='object')"
      ]
     },
     "execution_count": 87,
     "metadata": {},
     "output_type": "execute_result"
    }
   ],
   "source": [
    "dataraw.columns"
   ]
  },
  {
   "cell_type": "code",
   "execution_count": 74,
   "metadata": {},
   "outputs": [
    {
     "data": {
      "text/plain": [
       "17.91416705122289"
      ]
     },
     "execution_count": 74,
     "metadata": {},
     "output_type": "execute_result"
    }
   ],
   "source": [
    "dataraw['Calories'][2] / (dataraw['timedelta'][2].seconds / 60)"
   ]
  },
  {
   "cell_type": "code",
   "execution_count": null,
   "metadata": {},
   "outputs": [],
   "source": []
  },
  {
   "cell_type": "code",
   "execution_count": 86,
   "metadata": {},
   "outputs": [
    {
     "data": {
      "text/plain": [
       "0      0.373889\n",
       "1      0.611389\n",
       "2      0.601944\n",
       "3      0.790833\n",
       "4      0.428333\n",
       "         ...   \n",
       "344    0.164722\n",
       "345    4.080556\n",
       "346    0.485556\n",
       "347    0.974167\n",
       "348    1.086944\n",
       "Name: timedelta, Length: 349, dtype: float64"
      ]
     },
     "execution_count": 86,
     "metadata": {},
     "output_type": "execute_result"
    }
   ],
   "source": [
    "dataraw.timedelta.dt.seconds / 60 / 60"
   ]
  },
  {
   "cell_type": "code",
   "execution_count": 77,
   "metadata": {},
   "outputs": [],
   "source": [
    "dataraw['calories per minute'] = dataraw['Calories'] / (dataraw.timedelta.dt.seconds / 60)"
   ]
  },
  {
   "cell_type": "code",
   "execution_count": 81,
   "metadata": {},
   "outputs": [
    {
     "data": {
      "text/html": [
       "<div>\n",
       "<style scoped>\n",
       "    .dataframe tbody tr th:only-of-type {\n",
       "        vertical-align: middle;\n",
       "    }\n",
       "\n",
       "    .dataframe tbody tr th {\n",
       "        vertical-align: top;\n",
       "    }\n",
       "\n",
       "    .dataframe thead th {\n",
       "        text-align: right;\n",
       "    }\n",
       "</style>\n",
       "<table border=\"1\" class=\"dataframe\">\n",
       "  <thead>\n",
       "    <tr style=\"text-align: right;\">\n",
       "      <th></th>\n",
       "      <th>Activity Type</th>\n",
       "      <th>Date</th>\n",
       "      <th>Favorite</th>\n",
       "      <th>Title</th>\n",
       "      <th>Distance</th>\n",
       "      <th>Calories</th>\n",
       "      <th>Time</th>\n",
       "      <th>Avg HR</th>\n",
       "      <th>Max HR</th>\n",
       "      <th>Aerobic TE</th>\n",
       "      <th>...</th>\n",
       "      <th>Best Lap Time</th>\n",
       "      <th>Number of Laps</th>\n",
       "      <th>Max Temp</th>\n",
       "      <th>Unnamed: 0</th>\n",
       "      <th>Unnamed: 0.1</th>\n",
       "      <th>Total Strokes</th>\n",
       "      <th>Total Reps</th>\n",
       "      <th>Total Sets</th>\n",
       "      <th>timedelta</th>\n",
       "      <th>calories per minute</th>\n",
       "    </tr>\n",
       "  </thead>\n",
       "  <tbody>\n",
       "    <tr>\n",
       "      <th>57</th>\n",
       "      <td>Running</td>\n",
       "      <td>2020-08-15 18:57:52</td>\n",
       "      <td>False</td>\n",
       "      <td>Portland Running</td>\n",
       "      <td>1.01</td>\n",
       "      <td>142.0</td>\n",
       "      <td>00:07:37</td>\n",
       "      <td>173</td>\n",
       "      <td>181</td>\n",
       "      <td>2.4</td>\n",
       "      <td>...</td>\n",
       "      <td>00:03.33</td>\n",
       "      <td>2</td>\n",
       "      <td>0.0</td>\n",
       "      <td>53.0</td>\n",
       "      <td>51.0</td>\n",
       "      <td>0</td>\n",
       "      <td>0</td>\n",
       "      <td>0</td>\n",
       "      <td>0 days 00:07:37</td>\n",
       "      <td>18.643326</td>\n",
       "    </tr>\n",
       "    <tr>\n",
       "      <th>348</th>\n",
       "      <td>Running</td>\n",
       "      <td>2018-09-05 18:07:48</td>\n",
       "      <td>False</td>\n",
       "      <td>Portland Running</td>\n",
       "      <td>6.01</td>\n",
       "      <td>1205.0</td>\n",
       "      <td>01:05:13</td>\n",
       "      <td>171</td>\n",
       "      <td>197</td>\n",
       "      <td>5.0</td>\n",
       "      <td>...</td>\n",
       "      <td>00:00.00</td>\n",
       "      <td>7</td>\n",
       "      <td>0.0</td>\n",
       "      <td>344.0</td>\n",
       "      <td>342.0</td>\n",
       "      <td>0</td>\n",
       "      <td>0</td>\n",
       "      <td>0</td>\n",
       "      <td>0 days 01:05:13</td>\n",
       "      <td>18.476872</td>\n",
       "    </tr>\n",
       "    <tr>\n",
       "      <th>42</th>\n",
       "      <td>Running</td>\n",
       "      <td>2020-09-19 10:32:09</td>\n",
       "      <td>False</td>\n",
       "      <td>Portland Running</td>\n",
       "      <td>4.01</td>\n",
       "      <td>669.0</td>\n",
       "      <td>00:36:29</td>\n",
       "      <td>168</td>\n",
       "      <td>187</td>\n",
       "      <td>4.7</td>\n",
       "      <td>...</td>\n",
       "      <td>00:05.18</td>\n",
       "      <td>5</td>\n",
       "      <td>0.0</td>\n",
       "      <td>38.0</td>\n",
       "      <td>38.0</td>\n",
       "      <td>NaN</td>\n",
       "      <td>NaN</td>\n",
       "      <td>NaN</td>\n",
       "      <td>0 days 00:36:29</td>\n",
       "      <td>18.337140</td>\n",
       "    </tr>\n",
       "    <tr>\n",
       "      <th>14</th>\n",
       "      <td>Running</td>\n",
       "      <td>2020-10-27 14:07:59</td>\n",
       "      <td>False</td>\n",
       "      <td>Portland Running</td>\n",
       "      <td>5.02</td>\n",
       "      <td>854.0</td>\n",
       "      <td>00:46:44</td>\n",
       "      <td>162</td>\n",
       "      <td>176</td>\n",
       "      <td>3.9</td>\n",
       "      <td>...</td>\n",
       "      <td>00:08.66</td>\n",
       "      <td>6</td>\n",
       "      <td>0.0</td>\n",
       "      <td>NaN</td>\n",
       "      <td>NaN</td>\n",
       "      <td>NaN</td>\n",
       "      <td>NaN</td>\n",
       "      <td>NaN</td>\n",
       "      <td>0 days 00:46:44</td>\n",
       "      <td>18.273894</td>\n",
       "    </tr>\n",
       "    <tr>\n",
       "      <th>36</th>\n",
       "      <td>Running</td>\n",
       "      <td>2020-09-30 14:30:18</td>\n",
       "      <td>False</td>\n",
       "      <td>Portland Running</td>\n",
       "      <td>3.11</td>\n",
       "      <td>493.0</td>\n",
       "      <td>00:27:00</td>\n",
       "      <td>166</td>\n",
       "      <td>183</td>\n",
       "      <td>3.7</td>\n",
       "      <td>...</td>\n",
       "      <td>00:59.25</td>\n",
       "      <td>4</td>\n",
       "      <td>0.0</td>\n",
       "      <td>32.0</td>\n",
       "      <td>32.0</td>\n",
       "      <td>NaN</td>\n",
       "      <td>NaN</td>\n",
       "      <td>NaN</td>\n",
       "      <td>0 days 00:27:00</td>\n",
       "      <td>18.259259</td>\n",
       "    </tr>\n",
       "    <tr>\n",
       "      <th>...</th>\n",
       "      <td>...</td>\n",
       "      <td>...</td>\n",
       "      <td>...</td>\n",
       "      <td>...</td>\n",
       "      <td>...</td>\n",
       "      <td>...</td>\n",
       "      <td>...</td>\n",
       "      <td>...</td>\n",
       "      <td>...</td>\n",
       "      <td>...</td>\n",
       "      <td>...</td>\n",
       "      <td>...</td>\n",
       "      <td>...</td>\n",
       "      <td>...</td>\n",
       "      <td>...</td>\n",
       "      <td>...</td>\n",
       "      <td>...</td>\n",
       "      <td>...</td>\n",
       "      <td>...</td>\n",
       "      <td>...</td>\n",
       "      <td>...</td>\n",
       "    </tr>\n",
       "    <tr>\n",
       "      <th>180</th>\n",
       "      <td>Cycling</td>\n",
       "      <td>2020-02-22 10:51:52</td>\n",
       "      <td>False</td>\n",
       "      <td>Portland Cycling</td>\n",
       "      <td>40.22</td>\n",
       "      <td>614.0</td>\n",
       "      <td>02:59:27</td>\n",
       "      <td>80</td>\n",
       "      <td>159</td>\n",
       "      <td>1.7</td>\n",
       "      <td>...</td>\n",
       "      <td>01:08.15</td>\n",
       "      <td>9</td>\n",
       "      <td>0.0</td>\n",
       "      <td>176.0</td>\n",
       "      <td>174.0</td>\n",
       "      <td>0</td>\n",
       "      <td>0</td>\n",
       "      <td>0</td>\n",
       "      <td>0 days 02:59:27</td>\n",
       "      <td>3.421566</td>\n",
       "    </tr>\n",
       "    <tr>\n",
       "      <th>128</th>\n",
       "      <td>Cycling</td>\n",
       "      <td>2020-04-19 13:36:23</td>\n",
       "      <td>False</td>\n",
       "      <td>Portland Cycling</td>\n",
       "      <td>0.05</td>\n",
       "      <td>2.0</td>\n",
       "      <td>00:00:36</td>\n",
       "      <td>87</td>\n",
       "      <td>98</td>\n",
       "      <td>0.0</td>\n",
       "      <td>...</td>\n",
       "      <td>00:00.00</td>\n",
       "      <td>1</td>\n",
       "      <td>0.0</td>\n",
       "      <td>124.0</td>\n",
       "      <td>122.0</td>\n",
       "      <td>0</td>\n",
       "      <td>0</td>\n",
       "      <td>0</td>\n",
       "      <td>0 days 00:00:36</td>\n",
       "      <td>3.333333</td>\n",
       "    </tr>\n",
       "    <tr>\n",
       "      <th>150</th>\n",
       "      <td>Indoor Running</td>\n",
       "      <td>2020-03-08 19:35:20</td>\n",
       "      <td>False</td>\n",
       "      <td>Indoor Running</td>\n",
       "      <td>0.05</td>\n",
       "      <td>1.0</td>\n",
       "      <td>00:00:19</td>\n",
       "      <td>100</td>\n",
       "      <td>112</td>\n",
       "      <td>0.0</td>\n",
       "      <td>...</td>\n",
       "      <td>00:00.00</td>\n",
       "      <td>1</td>\n",
       "      <td>0.0</td>\n",
       "      <td>146.0</td>\n",
       "      <td>144.0</td>\n",
       "      <td>0</td>\n",
       "      <td>0</td>\n",
       "      <td>0</td>\n",
       "      <td>0 days 00:00:19</td>\n",
       "      <td>3.157895</td>\n",
       "    </tr>\n",
       "    <tr>\n",
       "      <th>334</th>\n",
       "      <td>Strength Training</td>\n",
       "      <td>2019-04-10 12:30:19</td>\n",
       "      <td>False</td>\n",
       "      <td>Strength</td>\n",
       "      <td>0.00</td>\n",
       "      <td>4.0</td>\n",
       "      <td>00:01:23</td>\n",
       "      <td>94</td>\n",
       "      <td>102</td>\n",
       "      <td>0.0</td>\n",
       "      <td>...</td>\n",
       "      <td>00:00.00</td>\n",
       "      <td>1</td>\n",
       "      <td>0.0</td>\n",
       "      <td>330.0</td>\n",
       "      <td>328.0</td>\n",
       "      <td>0</td>\n",
       "      <td>1,070</td>\n",
       "      <td>5</td>\n",
       "      <td>0 days 00:01:23</td>\n",
       "      <td>2.891566</td>\n",
       "    </tr>\n",
       "    <tr>\n",
       "      <th>76</th>\n",
       "      <td>Cycling</td>\n",
       "      <td>2020-07-11 07:48:28</td>\n",
       "      <td>False</td>\n",
       "      <td>Portland Cycling</td>\n",
       "      <td>84.62</td>\n",
       "      <td>0.0</td>\n",
       "      <td>07:42:36</td>\n",
       "      <td>0</td>\n",
       "      <td>0</td>\n",
       "      <td>0</td>\n",
       "      <td>...</td>\n",
       "      <td>07:42:35.100</td>\n",
       "      <td>1</td>\n",
       "      <td>0.0</td>\n",
       "      <td>72.0</td>\n",
       "      <td>70.0</td>\n",
       "      <td>0</td>\n",
       "      <td>0</td>\n",
       "      <td>0</td>\n",
       "      <td>0 days 07:42:36</td>\n",
       "      <td>0.000000</td>\n",
       "    </tr>\n",
       "  </tbody>\n",
       "</table>\n",
       "<p>349 rows × 37 columns</p>\n",
       "</div>"
      ],
      "text/plain": [
       "         Activity Type                 Date  Favorite             Title  \\\n",
       "57             Running  2020-08-15 18:57:52     False  Portland Running   \n",
       "348            Running  2018-09-05 18:07:48     False  Portland Running   \n",
       "42             Running  2020-09-19 10:32:09     False  Portland Running   \n",
       "14             Running  2020-10-27 14:07:59     False  Portland Running   \n",
       "36             Running  2020-09-30 14:30:18     False  Portland Running   \n",
       "..                 ...                  ...       ...               ...   \n",
       "180            Cycling  2020-02-22 10:51:52     False  Portland Cycling   \n",
       "128            Cycling  2020-04-19 13:36:23     False  Portland Cycling   \n",
       "150     Indoor Running  2020-03-08 19:35:20     False    Indoor Running   \n",
       "334  Strength Training  2019-04-10 12:30:19     False          Strength   \n",
       "76             Cycling  2020-07-11 07:48:28     False  Portland Cycling   \n",
       "\n",
       "     Distance  Calories      Time Avg HR Max HR Aerobic TE  ... Best Lap Time  \\\n",
       "57       1.01     142.0  00:07:37    173    181        2.4  ...      00:03.33   \n",
       "348      6.01    1205.0  01:05:13    171    197        5.0  ...      00:00.00   \n",
       "42       4.01     669.0  00:36:29    168    187        4.7  ...      00:05.18   \n",
       "14       5.02     854.0  00:46:44    162    176        3.9  ...      00:08.66   \n",
       "36       3.11     493.0  00:27:00    166    183        3.7  ...      00:59.25   \n",
       "..        ...       ...       ...    ...    ...        ...  ...           ...   \n",
       "180     40.22     614.0  02:59:27     80    159        1.7  ...      01:08.15   \n",
       "128      0.05       2.0  00:00:36     87     98        0.0  ...      00:00.00   \n",
       "150      0.05       1.0  00:00:19    100    112        0.0  ...      00:00.00   \n",
       "334      0.00       4.0  00:01:23     94    102        0.0  ...      00:00.00   \n",
       "76      84.62       0.0  07:42:36      0      0          0  ...  07:42:35.100   \n",
       "\n",
       "    Number of Laps Max Temp Unnamed: 0 Unnamed: 0.1 Total Strokes  Total Reps  \\\n",
       "57               2      0.0       53.0         51.0             0           0   \n",
       "348              7      0.0      344.0        342.0             0           0   \n",
       "42               5      0.0       38.0         38.0           NaN         NaN   \n",
       "14               6      0.0        NaN          NaN           NaN         NaN   \n",
       "36               4      0.0       32.0         32.0           NaN         NaN   \n",
       "..             ...      ...        ...          ...           ...         ...   \n",
       "180              9      0.0      176.0        174.0             0           0   \n",
       "128              1      0.0      124.0        122.0             0           0   \n",
       "150              1      0.0      146.0        144.0             0           0   \n",
       "334              1      0.0      330.0        328.0             0       1,070   \n",
       "76               1      0.0       72.0         70.0             0           0   \n",
       "\n",
       "     Total Sets       timedelta  calories per minute  \n",
       "57            0 0 days 00:07:37            18.643326  \n",
       "348           0 0 days 01:05:13            18.476872  \n",
       "42          NaN 0 days 00:36:29            18.337140  \n",
       "14          NaN 0 days 00:46:44            18.273894  \n",
       "36          NaN 0 days 00:27:00            18.259259  \n",
       "..          ...             ...                  ...  \n",
       "180           0 0 days 02:59:27             3.421566  \n",
       "128           0 0 days 00:00:36             3.333333  \n",
       "150           0 0 days 00:00:19             3.157895  \n",
       "334           5 0 days 00:01:23             2.891566  \n",
       "76            0 0 days 07:42:36             0.000000  \n",
       "\n",
       "[349 rows x 37 columns]"
      ]
     },
     "execution_count": 81,
     "metadata": {},
     "output_type": "execute_result"
    }
   ],
   "source": [
    "dataraw.sort_values(by='calories per minute', ascending=False)"
   ]
  },
  {
   "cell_type": "code",
   "execution_count": 65,
   "metadata": {},
   "outputs": [],
   "source": [
    "dataraw.replace('--', '0', inplace=True)\n",
    "dataraw.Calories = dataraw.Calories.str.replace(',', '').astype(float)"
   ]
  },
  {
   "cell_type": "code",
   "execution_count": 67,
   "metadata": {},
   "outputs": [
    {
     "ename": "AttributeError",
     "evalue": "'TimedeltaProperties' object has no attribute 'minute'",
     "output_type": "error",
     "traceback": [
      "\u001b[0;31m---------------------------------------------------------------------------\u001b[0m",
      "\u001b[0;31mAttributeError\u001b[0m                            Traceback (most recent call last)",
      "\u001b[0;32m<ipython-input-67-9b55eec7d36c>\u001b[0m in \u001b[0;36m<module>\u001b[0;34m\u001b[0m\n\u001b[0;32m----> 1\u001b[0;31m \u001b[0mdataraw\u001b[0m\u001b[0;34m[\u001b[0m\u001b[0;34m'cals per minute'\u001b[0m\u001b[0;34m]\u001b[0m \u001b[0;34m=\u001b[0m \u001b[0mdataraw\u001b[0m\u001b[0;34m.\u001b[0m\u001b[0mCalories\u001b[0m \u001b[0;34m/\u001b[0m \u001b[0mdataraw\u001b[0m\u001b[0;34m.\u001b[0m\u001b[0mtimedelta\u001b[0m\u001b[0;34m.\u001b[0m\u001b[0mdt\u001b[0m\u001b[0;34m.\u001b[0m\u001b[0mminute\u001b[0m\u001b[0;34m\u001b[0m\u001b[0;34m\u001b[0m\u001b[0m\n\u001b[0m",
      "\u001b[0;31mAttributeError\u001b[0m: 'TimedeltaProperties' object has no attribute 'minute'"
     ]
    }
   ],
   "source": [
    "dataraw['cals per minute'] = dataraw.Calories / dataraw.timedelta."
   ]
  },
  {
   "cell_type": "code",
   "execution_count": 51,
   "metadata": {},
   "outputs": [
    {
     "data": {
      "text/plain": [
       "58"
      ]
     },
     "execution_count": 51,
     "metadata": {},
     "output_type": "execute_result"
    }
   ],
   "source": [
    "run['time'][4].minute"
   ]
  },
  {
   "cell_type": "code",
   "execution_count": 76,
   "metadata": {},
   "outputs": [
    {
     "data": {
      "text/plain": [
       "DatetimeIndex(['2020-11-10 15:12:40'], dtype='datetime64[ns]', name='date', freq=None)"
      ]
     },
     "execution_count": 76,
     "metadata": {},
     "output_type": "execute_result"
    }
   ],
   "source": [
    "run.index[:1]"
   ]
  },
  {
   "cell_type": "code",
   "execution_count": 84,
   "metadata": {},
   "outputs": [
    {
     "data": {
      "text/plain": [
       "Index(['activity_type', 'title', 'distance', 'calories', 'time', 'avg_hr',\n",
       "       'max_hr', 'aerobic_te', 'avg_run_cadence', 'max_run_cadence',\n",
       "       'avg_pace', 'best_pace', 'elev_gain', 'elev_loss', 'avg_stride_length'],\n",
       "      dtype='object')"
      ]
     },
     "execution_count": 84,
     "metadata": {},
     "output_type": "execute_result"
    }
   ],
   "source": [
    "run.columns"
   ]
  },
  {
   "cell_type": "code",
   "execution_count": 104,
   "metadata": {},
   "outputs": [
    {
     "data": {
      "text/plain": [
       "'08:53'"
      ]
     },
     "execution_count": 104,
     "metadata": {},
     "output_type": "execute_result"
    }
   ],
   "source": [
    "run.avg_pace[2].strftime('%M:%S')"
   ]
  },
  {
   "cell_type": "code",
   "execution_count": 87,
   "metadata": {},
   "outputs": [
    {
     "data": {
      "application/vnd.plotly.v1+json": {
       "config": {
        "plotlyServerURL": "https://plotly.com"
       },
       "data": [
        {
         "customdata": [
          [
           3.11,
           "463"
          ],
          [
           6.26,
           "1,011"
          ],
          [
           4.35,
           "703"
          ],
          [
           4,
           "638"
          ],
          [
           4.01,
           "623"
          ],
          [
           4.01,
           "657"
          ],
          [
           3.11,
           "488"
          ],
          [
           6.21,
           "1,044"
          ],
          [
           5.02,
           "854"
          ],
          [
           4.02,
           "644"
          ],
          [
           3.11,
           "484"
          ],
          [
           5.02,
           "819"
          ],
          [
           5.01,
           "814"
          ],
          [
           3.14,
           "493"
          ],
          [
           4.02,
           "625"
          ],
          [
           3.11,
           "513"
          ],
          [
           3.14,
           "489"
          ],
          [
           5.01,
           "821"
          ],
          [
           3.11,
           "487"
          ],
          [
           4.01,
           "645"
          ],
          [
           3.11,
           "494"
          ],
          [
           2.01,
           "309"
          ],
          [
           7.02,
           "1,157"
          ],
          [
           3.11,
           "493"
          ],
          [
           3.11,
           "493"
          ],
          [
           5.02,
           "796"
          ],
          [
           4.01,
           "656"
          ],
          [
           3.13,
           "504"
          ],
          [
           3.11,
           "482"
          ],
          [
           4.02,
           "650"
          ],
          [
           4.01,
           "669"
          ],
          [
           3.11,
           "499"
          ],
          [
           6.21,
           "1,033"
          ],
          [
           3.11,
           "494"
          ],
          [
           3.11,
           "426"
          ],
          [
           3.11,
           "518"
          ],
          [
           4.01,
           "689"
          ],
          [
           2.01,
           "308"
          ],
          [
           3.11,
           "496"
          ],
          [
           1.01,
           "159"
          ],
          [
           1.01,
           "142"
          ],
          [
           2,
           "313"
          ],
          [
           3.11,
           "475"
          ],
          [
           4.02,
           "657"
          ],
          [
           3.11,
           "477"
          ],
          [
           3.1,
           "477"
          ],
          [
           3.1,
           "498"
          ],
          [
           4.01,
           "681"
          ],
          [
           3.11,
           "514"
          ],
          [
           3,
           "490"
          ],
          [
           3.01,
           "482"
          ],
          [
           4.01,
           "656"
          ],
          [
           3.11,
           "500"
          ],
          [
           3,
           "488"
          ],
          [
           3.11,
           "503"
          ],
          [
           3.1,
           "502"
          ],
          [
           3.11,
           "510"
          ],
          [
           2.01,
           "323"
          ],
          [
           2.01,
           "279"
          ],
          [
           3.01,
           "491"
          ],
          [
           3.12,
           "488"
          ],
          [
           2.01,
           "271"
          ],
          [
           2.01,
           "312"
          ],
          [
           3.11,
           "473"
          ],
          [
           4.05,
           "641"
          ],
          [
           2.01,
           "266"
          ],
          [
           2.01,
           "301"
          ],
          [
           3.01,
           "488"
          ],
          [
           3,
           "475"
          ],
          [
           3.11,
           "437"
          ],
          [
           6.22,
           "1,002"
          ],
          [
           3.11,
           "489"
          ],
          [
           4.01,
           "633"
          ],
          [
           3.13,
           "495"
          ],
          [
           3,
           "442"
          ],
          [
           2.01,
           "283"
          ],
          [
           6.24,
           "1,001"
          ],
          [
           4.01,
           "630"
          ],
          [
           3.27,
           "530"
          ],
          [
           3.1,
           "467"
          ],
          [
           4,
           "659"
          ],
          [
           3.01,
           "473"
          ],
          [
           3.01,
           "497"
          ],
          [
           2.02,
           "322"
          ],
          [
           2,
           "286"
          ],
          [
           4.01,
           "651"
          ],
          [
           2.01,
           "288"
          ],
          [
           2.01,
           "293"
          ],
          [
           3.01,
           "486"
          ],
          [
           2,
           "314"
          ],
          [
           3.12,
           "501"
          ],
          [
           3.01,
           "493"
          ],
          [
           1.01,
           "140"
          ],
          [
           2.01,
           "316"
          ],
          [
           1.46,
           "158"
          ],
          [
           2,
           "321"
          ],
          [
           5,
           "812"
          ],
          [
           2.01,
           "324"
          ],
          [
           3.01,
           "465"
          ],
          [
           3.01,
           "498"
          ],
          [
           3.01,
           "484"
          ],
          [
           3.02,
           "503"
          ],
          [
           2.01,
           "316"
          ],
          [
           2.03,
           "322"
          ],
          [
           1.01,
           "127"
          ],
          [
           2.03,
           "333"
          ],
          [
           2.02,
           "349"
          ],
          [
           2.02,
           "343"
          ],
          [
           1.44,
           "242"
          ],
          [
           2.01,
           "337"
          ],
          [
           2.22,
           "287"
          ],
          [
           1.03,
           "156"
          ],
          [
           1,
           "162"
          ],
          [
           1.02,
           "145"
          ],
          [
           0.62,
           "100"
          ],
          [
           0.78,
           "109"
          ],
          [
           1.51,
           "233"
          ],
          [
           1.04,
           "158"
          ],
          [
           1.5,
           "242"
          ],
          [
           1.03,
           "159"
          ],
          [
           1.01,
           "168"
          ],
          [
           1.01,
           "144"
          ],
          [
           11.52,
           "2,185"
          ],
          [
           2.28,
           "437"
          ],
          [
           5.01,
           "899"
          ],
          [
           6.01,
           "1,205"
          ]
         ],
         "hovertemplate": "date=%{x}<br>avg_pace=%{y}<br>distance=%{customdata[0]}<br>calories=%{customdata[1]}<extra></extra>",
         "legendgroup": "",
         "marker": {
          "color": "#636efa",
          "symbol": "circle"
         },
         "mode": "markers",
         "name": "",
         "orientation": "v",
         "showlegend": false,
         "type": "scatter",
         "x": [
          "2020-11-10T15:12:40",
          "2020-11-08T16:14:17",
          "2020-11-06T14:33:08",
          "2020-11-04T12:16:30",
          "2020-11-03T14:17:58",
          "2020-11-01T13:21:42",
          "2020-10-30T12:35:45",
          "2020-10-29T13:12:43",
          "2020-10-27T14:07:59",
          "2020-10-25T13:33:49",
          "2020-10-24T11:23:26",
          "2020-10-23T14:04:25",
          "2020-10-21T13:36:20",
          "2020-10-19T07:18:15",
          "2020-10-18T11:27:14",
          "2020-10-15T13:08:12",
          "2020-10-14T12:58:51",
          "2020-10-10T15:31:39",
          "2020-10-09T17:25:55",
          "2020-10-08T13:17:44",
          "2020-10-06T17:24:35",
          "2020-10-05T19:21:10",
          "2020-10-04T15:47:11",
          "2020-10-02T17:07:48",
          "2020-09-30T14:30:18",
          "2020-09-28T17:56:57",
          "2020-09-25T18:22:29",
          "2020-09-24T13:57:19",
          "2020-09-22T14:25:45",
          "2020-09-20T14:24:14",
          "2020-09-19T10:32:09",
          "2020-09-09T12:26:49",
          "2020-09-05T17:03:41",
          "2020-09-02T13:02:06",
          "2020-08-29T16:28:26",
          "2020-08-28T19:17:01",
          "2020-08-20T12:48:59",
          "2020-08-19T17:43:10",
          "2020-08-18T14:02:38",
          "2020-08-16T15:20:47",
          "2020-08-15T18:57:52",
          "2020-08-13T20:45:01",
          "2020-08-12T13:10:10",
          "2020-08-08T16:56:25",
          "2020-08-04T14:01:12",
          "2020-08-02T15:29:17",
          "2020-08-01T19:43:23",
          "2020-07-29T12:42:13",
          "2020-07-23T16:49:24",
          "2020-07-22T15:04:46",
          "2020-07-16T11:58:58",
          "2020-07-14T13:26:36",
          "2020-07-07T17:47:15",
          "2020-07-01T19:43:40",
          "2020-06-25T18:15:10",
          "2020-06-24T12:39:09",
          "2020-06-23T12:30:53",
          "2020-06-22T17:46:47",
          "2020-06-18T12:33:33",
          "2020-06-17T12:27:24",
          "2020-06-15T12:44:41",
          "2020-06-14T10:02:12",
          "2020-06-12T18:34:48",
          "2020-06-07T17:13:49",
          "2020-06-06T13:21:26",
          "2020-06-02T13:34:42",
          "2020-05-30T19:29:48",
          "2020-05-29T12:34:59",
          "2020-05-26T11:47:18",
          "2020-05-18T18:02:52",
          "2020-05-17T15:36:32",
          "2020-05-15T12:32:59",
          "2020-05-12T19:12:31",
          "2020-05-08T16:33:27",
          "2020-05-06T13:44:04",
          "2020-05-04T17:50:35",
          "2020-05-03T14:58:19",
          "2020-05-02T17:56:17",
          "2020-05-01T12:10:23",
          "2020-04-27T12:36:54",
          "2020-04-24T13:32:27",
          "2020-04-22T11:46:28",
          "2020-04-20T13:15:41",
          "2020-04-09T16:22:01",
          "2020-04-08T12:36:28",
          "2020-04-06T14:02:11",
          "2020-04-04T14:40:31",
          "2020-04-02T14:25:32",
          "2020-03-31T13:08:12",
          "2020-03-27T12:55:51",
          "2020-03-19T12:18:49",
          "2020-03-16T12:29:09",
          "2020-03-14T17:45:18",
          "2020-03-14T17:18:07",
          "2020-03-13T17:34:56",
          "2020-03-12T16:28:19",
          "2020-03-07T14:41:22",
          "2020-03-04T17:53:41",
          "2020-03-01T13:57:46",
          "2020-02-27T18:54:07",
          "2020-02-23T18:00:39",
          "2020-02-08T15:28:10",
          "2020-01-18T15:50:08",
          "2020-01-11T12:42:28",
          "2019-11-03T15:54:19",
          "2019-10-19T14:26:35",
          "2019-09-03T20:00:43",
          "2019-08-26T20:41:18",
          "2019-08-25T16:08:04",
          "2019-08-24T13:06:18",
          "2019-07-29T20:46:33",
          "2019-07-20T10:47:28",
          "2019-06-30T19:24:11",
          "2019-06-18T19:04:15",
          "2019-05-05T19:11:48",
          "2019-04-22T13:35:55",
          "2019-04-21T10:42:57",
          "2019-04-15T10:24:28",
          "2019-04-11T07:43:19",
          "2019-03-01T16:06:38",
          "2019-03-01T15:45:03",
          "2018-09-20T18:03:06",
          "2018-09-15T20:31:46",
          "2018-09-10T18:09:12",
          "2018-09-08T08:08:11",
          "2018-09-05T18:07:48"
         ],
         "xaxis": "x",
         "y": [
          "1900-01-01T00:08:16",
          "1900-01-01T00:09:17",
          "1900-01-01T00:08:53",
          "1900-01-01T00:08:45",
          "1900-01-01T00:08:54",
          "1900-01-01T00:09:34",
          "1900-01-01T00:09:00",
          "1900-01-01T00:09:20",
          "1900-01-01T00:09:19",
          "1900-01-01T00:09:27",
          "1900-01-01T00:08:54",
          "1900-01-01T00:09:00",
          "1900-01-01T00:09:05",
          "1900-01-01T00:09:22",
          "1900-01-01T00:08:49",
          "1900-01-01T00:09:16",
          "1900-01-01T00:09:02",
          "1900-01-01T00:09:33",
          "1900-01-01T00:09:30",
          "1900-01-01T00:09:11",
          "1900-01-01T00:09:01",
          "1900-01-01T00:09:31",
          "1900-01-01T00:09:31",
          "1900-01-01T00:09:10",
          "1900-01-01T00:08:41",
          "1900-01-01T00:09:20",
          "1900-01-01T00:09:28",
          "1900-01-01T00:09:08",
          "1900-01-01T00:09:02",
          "1900-01-01T00:09:08",
          "1900-01-01T00:09:06",
          "1900-01-01T00:08:53",
          "1900-01-01T00:09:40",
          "1900-01-01T00:09:36",
          "1900-01-01T00:08:55",
          "1900-01-01T00:09:53",
          "1900-01-01T00:09:52",
          "1900-01-01T00:08:57",
          "1900-01-01T00:09:26",
          "1900-01-01T00:09:55",
          "1900-01-01T00:07:33",
          "1900-01-01T00:09:15",
          "1900-01-01T00:08:48",
          "1900-01-01T00:09:18",
          "1900-01-01T00:09:10",
          "1900-01-01T00:09:21",
          "1900-01-01T00:09:17",
          "1900-01-01T00:09:51",
          "1900-01-01T00:09:47",
          "1900-01-01T00:09:19",
          "1900-01-01T00:09:28",
          "1900-01-01T00:09:41",
          "1900-01-01T00:09:13",
          "1900-01-01T00:09:55",
          "1900-01-01T00:09:09",
          "1900-01-01T00:09:11",
          "1900-01-01T00:09:46",
          "1900-01-01T00:09:40",
          "1900-01-01T00:08:47",
          "1900-01-01T00:09:21",
          "1900-01-01T00:09:02",
          "1900-01-01T00:08:26",
          "1900-01-01T00:09:23",
          "1900-01-01T00:08:55",
          "1900-01-01T00:09:24",
          "1900-01-01T00:08:42",
          "1900-01-01T00:09:13",
          "1900-01-01T00:09:54",
          "1900-01-01T00:09:15",
          "1900-01-01T00:08:39",
          "1900-01-01T00:09:34",
          "1900-01-01T00:09:22",
          "1900-01-01T00:09:37",
          "1900-01-01T00:09:30",
          "1900-01-01T00:08:59",
          "1900-01-01T00:08:27",
          "1900-01-01T00:10:09",
          "1900-01-01T00:09:42",
          "1900-01-01T00:09:46",
          "1900-01-01T00:09:15",
          "1900-01-01T00:09:57",
          "1900-01-01T00:09:46",
          "1900-01-01T00:09:55",
          "1900-01-01T00:09:44",
          "1900-01-01T00:09:09",
          "1900-01-01T00:10:04",
          "1900-01-01T00:09:11",
          "1900-01-01T00:09:08",
          "1900-01-01T00:09:53",
          "1900-01-01T00:10:15",
          "1900-01-01T00:09:32",
          "1900-01-01T00:10:20",
          "1900-01-01T00:08:27",
          "1900-01-01T00:09:41",
          "1900-01-01T00:10:14",
          "1900-01-01T00:10:08",
          "1900-01-01T00:10:07",
          "1900-01-01T00:09:37",
          "1900-01-01T00:10:12",
          "1900-01-01T00:10:40",
          "1900-01-01T00:10:23",
          "1900-01-01T00:10:35",
          "1900-01-01T00:09:54",
          "1900-01-01T00:10:28",
          "1900-01-01T00:09:37",
          "1900-01-01T00:10:39",
          "1900-01-01T00:10:25",
          "1900-01-01T00:11:04",
          "1900-01-01T00:10:14",
          "1900-01-01T00:09:56",
          "1900-01-01T00:19:39",
          "1900-01-01T00:10:24",
          "1900-01-01T00:10:15",
          "1900-01-01T00:10:33",
          "1900-01-01T00:11:00",
          "1900-01-01T00:10:48",
          "1900-01-01T00:10:45",
          "1900-01-01T00:10:24",
          "1900-01-01T00:10:53",
          "1900-01-01T00:12:30",
          "1900-01-01T00:10:54",
          "1900-01-01T00:09:49",
          "1900-01-01T00:21:15",
          "1900-01-01T00:12:47",
          "1900-01-01T00:11:40",
          "1900-01-01T00:10:51"
         ],
         "yaxis": "y"
        }
       ],
       "layout": {
        "legend": {
         "tracegroupgap": 0
        },
        "margin": {
         "t": 60
        },
        "template": {
         "data": {
          "bar": [
           {
            "error_x": {
             "color": "#2a3f5f"
            },
            "error_y": {
             "color": "#2a3f5f"
            },
            "marker": {
             "line": {
              "color": "#E5ECF6",
              "width": 0.5
             }
            },
            "type": "bar"
           }
          ],
          "barpolar": [
           {
            "marker": {
             "line": {
              "color": "#E5ECF6",
              "width": 0.5
             }
            },
            "type": "barpolar"
           }
          ],
          "carpet": [
           {
            "aaxis": {
             "endlinecolor": "#2a3f5f",
             "gridcolor": "white",
             "linecolor": "white",
             "minorgridcolor": "white",
             "startlinecolor": "#2a3f5f"
            },
            "baxis": {
             "endlinecolor": "#2a3f5f",
             "gridcolor": "white",
             "linecolor": "white",
             "minorgridcolor": "white",
             "startlinecolor": "#2a3f5f"
            },
            "type": "carpet"
           }
          ],
          "choropleth": [
           {
            "colorbar": {
             "outlinewidth": 0,
             "ticks": ""
            },
            "type": "choropleth"
           }
          ],
          "contour": [
           {
            "colorbar": {
             "outlinewidth": 0,
             "ticks": ""
            },
            "colorscale": [
             [
              0,
              "#0d0887"
             ],
             [
              0.1111111111111111,
              "#46039f"
             ],
             [
              0.2222222222222222,
              "#7201a8"
             ],
             [
              0.3333333333333333,
              "#9c179e"
             ],
             [
              0.4444444444444444,
              "#bd3786"
             ],
             [
              0.5555555555555556,
              "#d8576b"
             ],
             [
              0.6666666666666666,
              "#ed7953"
             ],
             [
              0.7777777777777778,
              "#fb9f3a"
             ],
             [
              0.8888888888888888,
              "#fdca26"
             ],
             [
              1,
              "#f0f921"
             ]
            ],
            "type": "contour"
           }
          ],
          "contourcarpet": [
           {
            "colorbar": {
             "outlinewidth": 0,
             "ticks": ""
            },
            "type": "contourcarpet"
           }
          ],
          "heatmap": [
           {
            "colorbar": {
             "outlinewidth": 0,
             "ticks": ""
            },
            "colorscale": [
             [
              0,
              "#0d0887"
             ],
             [
              0.1111111111111111,
              "#46039f"
             ],
             [
              0.2222222222222222,
              "#7201a8"
             ],
             [
              0.3333333333333333,
              "#9c179e"
             ],
             [
              0.4444444444444444,
              "#bd3786"
             ],
             [
              0.5555555555555556,
              "#d8576b"
             ],
             [
              0.6666666666666666,
              "#ed7953"
             ],
             [
              0.7777777777777778,
              "#fb9f3a"
             ],
             [
              0.8888888888888888,
              "#fdca26"
             ],
             [
              1,
              "#f0f921"
             ]
            ],
            "type": "heatmap"
           }
          ],
          "heatmapgl": [
           {
            "colorbar": {
             "outlinewidth": 0,
             "ticks": ""
            },
            "colorscale": [
             [
              0,
              "#0d0887"
             ],
             [
              0.1111111111111111,
              "#46039f"
             ],
             [
              0.2222222222222222,
              "#7201a8"
             ],
             [
              0.3333333333333333,
              "#9c179e"
             ],
             [
              0.4444444444444444,
              "#bd3786"
             ],
             [
              0.5555555555555556,
              "#d8576b"
             ],
             [
              0.6666666666666666,
              "#ed7953"
             ],
             [
              0.7777777777777778,
              "#fb9f3a"
             ],
             [
              0.8888888888888888,
              "#fdca26"
             ],
             [
              1,
              "#f0f921"
             ]
            ],
            "type": "heatmapgl"
           }
          ],
          "histogram": [
           {
            "marker": {
             "colorbar": {
              "outlinewidth": 0,
              "ticks": ""
             }
            },
            "type": "histogram"
           }
          ],
          "histogram2d": [
           {
            "colorbar": {
             "outlinewidth": 0,
             "ticks": ""
            },
            "colorscale": [
             [
              0,
              "#0d0887"
             ],
             [
              0.1111111111111111,
              "#46039f"
             ],
             [
              0.2222222222222222,
              "#7201a8"
             ],
             [
              0.3333333333333333,
              "#9c179e"
             ],
             [
              0.4444444444444444,
              "#bd3786"
             ],
             [
              0.5555555555555556,
              "#d8576b"
             ],
             [
              0.6666666666666666,
              "#ed7953"
             ],
             [
              0.7777777777777778,
              "#fb9f3a"
             ],
             [
              0.8888888888888888,
              "#fdca26"
             ],
             [
              1,
              "#f0f921"
             ]
            ],
            "type": "histogram2d"
           }
          ],
          "histogram2dcontour": [
           {
            "colorbar": {
             "outlinewidth": 0,
             "ticks": ""
            },
            "colorscale": [
             [
              0,
              "#0d0887"
             ],
             [
              0.1111111111111111,
              "#46039f"
             ],
             [
              0.2222222222222222,
              "#7201a8"
             ],
             [
              0.3333333333333333,
              "#9c179e"
             ],
             [
              0.4444444444444444,
              "#bd3786"
             ],
             [
              0.5555555555555556,
              "#d8576b"
             ],
             [
              0.6666666666666666,
              "#ed7953"
             ],
             [
              0.7777777777777778,
              "#fb9f3a"
             ],
             [
              0.8888888888888888,
              "#fdca26"
             ],
             [
              1,
              "#f0f921"
             ]
            ],
            "type": "histogram2dcontour"
           }
          ],
          "mesh3d": [
           {
            "colorbar": {
             "outlinewidth": 0,
             "ticks": ""
            },
            "type": "mesh3d"
           }
          ],
          "parcoords": [
           {
            "line": {
             "colorbar": {
              "outlinewidth": 0,
              "ticks": ""
             }
            },
            "type": "parcoords"
           }
          ],
          "pie": [
           {
            "automargin": true,
            "type": "pie"
           }
          ],
          "scatter": [
           {
            "marker": {
             "colorbar": {
              "outlinewidth": 0,
              "ticks": ""
             }
            },
            "type": "scatter"
           }
          ],
          "scatter3d": [
           {
            "line": {
             "colorbar": {
              "outlinewidth": 0,
              "ticks": ""
             }
            },
            "marker": {
             "colorbar": {
              "outlinewidth": 0,
              "ticks": ""
             }
            },
            "type": "scatter3d"
           }
          ],
          "scattercarpet": [
           {
            "marker": {
             "colorbar": {
              "outlinewidth": 0,
              "ticks": ""
             }
            },
            "type": "scattercarpet"
           }
          ],
          "scattergeo": [
           {
            "marker": {
             "colorbar": {
              "outlinewidth": 0,
              "ticks": ""
             }
            },
            "type": "scattergeo"
           }
          ],
          "scattergl": [
           {
            "marker": {
             "colorbar": {
              "outlinewidth": 0,
              "ticks": ""
             }
            },
            "type": "scattergl"
           }
          ],
          "scattermapbox": [
           {
            "marker": {
             "colorbar": {
              "outlinewidth": 0,
              "ticks": ""
             }
            },
            "type": "scattermapbox"
           }
          ],
          "scatterpolar": [
           {
            "marker": {
             "colorbar": {
              "outlinewidth": 0,
              "ticks": ""
             }
            },
            "type": "scatterpolar"
           }
          ],
          "scatterpolargl": [
           {
            "marker": {
             "colorbar": {
              "outlinewidth": 0,
              "ticks": ""
             }
            },
            "type": "scatterpolargl"
           }
          ],
          "scatterternary": [
           {
            "marker": {
             "colorbar": {
              "outlinewidth": 0,
              "ticks": ""
             }
            },
            "type": "scatterternary"
           }
          ],
          "surface": [
           {
            "colorbar": {
             "outlinewidth": 0,
             "ticks": ""
            },
            "colorscale": [
             [
              0,
              "#0d0887"
             ],
             [
              0.1111111111111111,
              "#46039f"
             ],
             [
              0.2222222222222222,
              "#7201a8"
             ],
             [
              0.3333333333333333,
              "#9c179e"
             ],
             [
              0.4444444444444444,
              "#bd3786"
             ],
             [
              0.5555555555555556,
              "#d8576b"
             ],
             [
              0.6666666666666666,
              "#ed7953"
             ],
             [
              0.7777777777777778,
              "#fb9f3a"
             ],
             [
              0.8888888888888888,
              "#fdca26"
             ],
             [
              1,
              "#f0f921"
             ]
            ],
            "type": "surface"
           }
          ],
          "table": [
           {
            "cells": {
             "fill": {
              "color": "#EBF0F8"
             },
             "line": {
              "color": "white"
             }
            },
            "header": {
             "fill": {
              "color": "#C8D4E3"
             },
             "line": {
              "color": "white"
             }
            },
            "type": "table"
           }
          ]
         },
         "layout": {
          "annotationdefaults": {
           "arrowcolor": "#2a3f5f",
           "arrowhead": 0,
           "arrowwidth": 1
          },
          "coloraxis": {
           "colorbar": {
            "outlinewidth": 0,
            "ticks": ""
           }
          },
          "colorscale": {
           "diverging": [
            [
             0,
             "#8e0152"
            ],
            [
             0.1,
             "#c51b7d"
            ],
            [
             0.2,
             "#de77ae"
            ],
            [
             0.3,
             "#f1b6da"
            ],
            [
             0.4,
             "#fde0ef"
            ],
            [
             0.5,
             "#f7f7f7"
            ],
            [
             0.6,
             "#e6f5d0"
            ],
            [
             0.7,
             "#b8e186"
            ],
            [
             0.8,
             "#7fbc41"
            ],
            [
             0.9,
             "#4d9221"
            ],
            [
             1,
             "#276419"
            ]
           ],
           "sequential": [
            [
             0,
             "#0d0887"
            ],
            [
             0.1111111111111111,
             "#46039f"
            ],
            [
             0.2222222222222222,
             "#7201a8"
            ],
            [
             0.3333333333333333,
             "#9c179e"
            ],
            [
             0.4444444444444444,
             "#bd3786"
            ],
            [
             0.5555555555555556,
             "#d8576b"
            ],
            [
             0.6666666666666666,
             "#ed7953"
            ],
            [
             0.7777777777777778,
             "#fb9f3a"
            ],
            [
             0.8888888888888888,
             "#fdca26"
            ],
            [
             1,
             "#f0f921"
            ]
           ],
           "sequentialminus": [
            [
             0,
             "#0d0887"
            ],
            [
             0.1111111111111111,
             "#46039f"
            ],
            [
             0.2222222222222222,
             "#7201a8"
            ],
            [
             0.3333333333333333,
             "#9c179e"
            ],
            [
             0.4444444444444444,
             "#bd3786"
            ],
            [
             0.5555555555555556,
             "#d8576b"
            ],
            [
             0.6666666666666666,
             "#ed7953"
            ],
            [
             0.7777777777777778,
             "#fb9f3a"
            ],
            [
             0.8888888888888888,
             "#fdca26"
            ],
            [
             1,
             "#f0f921"
            ]
           ]
          },
          "colorway": [
           "#636efa",
           "#EF553B",
           "#00cc96",
           "#ab63fa",
           "#FFA15A",
           "#19d3f3",
           "#FF6692",
           "#B6E880",
           "#FF97FF",
           "#FECB52"
          ],
          "font": {
           "color": "#2a3f5f"
          },
          "geo": {
           "bgcolor": "white",
           "lakecolor": "white",
           "landcolor": "#E5ECF6",
           "showlakes": true,
           "showland": true,
           "subunitcolor": "white"
          },
          "hoverlabel": {
           "align": "left"
          },
          "hovermode": "closest",
          "mapbox": {
           "style": "light"
          },
          "paper_bgcolor": "white",
          "plot_bgcolor": "#E5ECF6",
          "polar": {
           "angularaxis": {
            "gridcolor": "white",
            "linecolor": "white",
            "ticks": ""
           },
           "bgcolor": "#E5ECF6",
           "radialaxis": {
            "gridcolor": "white",
            "linecolor": "white",
            "ticks": ""
           }
          },
          "scene": {
           "xaxis": {
            "backgroundcolor": "#E5ECF6",
            "gridcolor": "white",
            "gridwidth": 2,
            "linecolor": "white",
            "showbackground": true,
            "ticks": "",
            "zerolinecolor": "white"
           },
           "yaxis": {
            "backgroundcolor": "#E5ECF6",
            "gridcolor": "white",
            "gridwidth": 2,
            "linecolor": "white",
            "showbackground": true,
            "ticks": "",
            "zerolinecolor": "white"
           },
           "zaxis": {
            "backgroundcolor": "#E5ECF6",
            "gridcolor": "white",
            "gridwidth": 2,
            "linecolor": "white",
            "showbackground": true,
            "ticks": "",
            "zerolinecolor": "white"
           }
          },
          "shapedefaults": {
           "line": {
            "color": "#2a3f5f"
           }
          },
          "ternary": {
           "aaxis": {
            "gridcolor": "white",
            "linecolor": "white",
            "ticks": ""
           },
           "baxis": {
            "gridcolor": "white",
            "linecolor": "white",
            "ticks": ""
           },
           "bgcolor": "#E5ECF6",
           "caxis": {
            "gridcolor": "white",
            "linecolor": "white",
            "ticks": ""
           }
          },
          "title": {
           "x": 0.05
          },
          "xaxis": {
           "automargin": true,
           "gridcolor": "white",
           "linecolor": "white",
           "ticks": "",
           "title": {
            "standoff": 15
           },
           "zerolinecolor": "white",
           "zerolinewidth": 2
          },
          "yaxis": {
           "automargin": true,
           "gridcolor": "white",
           "linecolor": "white",
           "ticks": "",
           "title": {
            "standoff": 15
           },
           "zerolinecolor": "white",
           "zerolinewidth": 2
          }
         }
        },
        "xaxis": {
         "anchor": "y",
         "domain": [
          0,
          1
         ],
         "title": {
          "text": "date"
         }
        },
        "yaxis": {
         "anchor": "x",
         "domain": [
          0,
          1
         ],
         "title": {
          "text": "avg_pace"
         }
        }
       }
      }
     },
     "metadata": {},
     "output_type": "display_data"
    }
   ],
   "source": [
    "fig2 = px.scatter(run, y='avg_pace', hover_data=['distance', 'calories'])\n",
    "fig2.show()"
   ]
  },
  {
   "cell_type": "code",
   "execution_count": 94,
   "metadata": {},
   "outputs": [
    {
     "data": {
      "application/vnd.plotly.v1+json": {
       "config": {
        "plotlyServerURL": "https://plotly.com"
       },
       "data": [
        {
         "customdata": [
          [
           3.11,
           "463"
          ],
          [
           6.26,
           "1,011"
          ],
          [
           4.35,
           "703"
          ],
          [
           4,
           "638"
          ],
          [
           4.01,
           "623"
          ],
          [
           4.01,
           "657"
          ],
          [
           3.11,
           "488"
          ],
          [
           6.21,
           "1,044"
          ],
          [
           5.02,
           "854"
          ],
          [
           4.02,
           "644"
          ],
          [
           3.11,
           "484"
          ],
          [
           5.02,
           "819"
          ],
          [
           5.01,
           "814"
          ],
          [
           3.14,
           "493"
          ],
          [
           4.02,
           "625"
          ],
          [
           3.11,
           "513"
          ],
          [
           3.14,
           "489"
          ],
          [
           5.01,
           "821"
          ],
          [
           3.11,
           "487"
          ],
          [
           4.01,
           "645"
          ],
          [
           3.11,
           "494"
          ],
          [
           2.01,
           "309"
          ],
          [
           7.02,
           "1,157"
          ],
          [
           3.11,
           "493"
          ],
          [
           3.11,
           "493"
          ],
          [
           5.02,
           "796"
          ],
          [
           4.01,
           "656"
          ],
          [
           3.13,
           "504"
          ],
          [
           3.11,
           "482"
          ],
          [
           4.02,
           "650"
          ]
         ],
         "hovertemplate": "Date=%{x}<br>Average Pace=%{y}<br>distance=%{customdata[0]}<br>calories=%{customdata[1]}<extra></extra>",
         "legendgroup": "",
         "marker": {
          "color": "#636efa",
          "symbol": "circle"
         },
         "mode": "markers",
         "name": "",
         "orientation": "v",
         "showlegend": false,
         "type": "scatter",
         "x": [
          "2020-11-10T15:12:40",
          "2020-11-08T16:14:17",
          "2020-11-06T14:33:08",
          "2020-11-04T12:16:30",
          "2020-11-03T14:17:58",
          "2020-11-01T13:21:42",
          "2020-10-30T12:35:45",
          "2020-10-29T13:12:43",
          "2020-10-27T14:07:59",
          "2020-10-25T13:33:49",
          "2020-10-24T11:23:26",
          "2020-10-23T14:04:25",
          "2020-10-21T13:36:20",
          "2020-10-19T07:18:15",
          "2020-10-18T11:27:14",
          "2020-10-15T13:08:12",
          "2020-10-14T12:58:51",
          "2020-10-10T15:31:39",
          "2020-10-09T17:25:55",
          "2020-10-08T13:17:44",
          "2020-10-06T17:24:35",
          "2020-10-05T19:21:10",
          "2020-10-04T15:47:11",
          "2020-10-02T17:07:48",
          "2020-09-30T14:30:18",
          "2020-09-28T17:56:57",
          "2020-09-25T18:22:29",
          "2020-09-24T13:57:19",
          "2020-09-22T14:25:45",
          "2020-09-20T14:24:14"
         ],
         "xaxis": "x",
         "y": [
          "1900-01-01T00:08:16",
          "1900-01-01T00:09:17",
          "1900-01-01T00:08:53",
          "1900-01-01T00:08:45",
          "1900-01-01T00:08:54",
          "1900-01-01T00:09:34",
          "1900-01-01T00:09:00",
          "1900-01-01T00:09:20",
          "1900-01-01T00:09:19",
          "1900-01-01T00:09:27",
          "1900-01-01T00:08:54",
          "1900-01-01T00:09:00",
          "1900-01-01T00:09:05",
          "1900-01-01T00:09:22",
          "1900-01-01T00:08:49",
          "1900-01-01T00:09:16",
          "1900-01-01T00:09:02",
          "1900-01-01T00:09:33",
          "1900-01-01T00:09:30",
          "1900-01-01T00:09:11",
          "1900-01-01T00:09:01",
          "1900-01-01T00:09:31",
          "1900-01-01T00:09:31",
          "1900-01-01T00:09:10",
          "1900-01-01T00:08:41",
          "1900-01-01T00:09:20",
          "1900-01-01T00:09:28",
          "1900-01-01T00:09:08",
          "1900-01-01T00:09:02",
          "1900-01-01T00:09:08"
         ],
         "yaxis": "y"
        }
       ],
       "layout": {
        "legend": {
         "tracegroupgap": 0
        },
        "margin": {
         "t": 60
        },
        "template": {
         "data": {
          "bar": [
           {
            "error_x": {
             "color": "#2a3f5f"
            },
            "error_y": {
             "color": "#2a3f5f"
            },
            "marker": {
             "line": {
              "color": "#E5ECF6",
              "width": 0.5
             }
            },
            "type": "bar"
           }
          ],
          "barpolar": [
           {
            "marker": {
             "line": {
              "color": "#E5ECF6",
              "width": 0.5
             }
            },
            "type": "barpolar"
           }
          ],
          "carpet": [
           {
            "aaxis": {
             "endlinecolor": "#2a3f5f",
             "gridcolor": "white",
             "linecolor": "white",
             "minorgridcolor": "white",
             "startlinecolor": "#2a3f5f"
            },
            "baxis": {
             "endlinecolor": "#2a3f5f",
             "gridcolor": "white",
             "linecolor": "white",
             "minorgridcolor": "white",
             "startlinecolor": "#2a3f5f"
            },
            "type": "carpet"
           }
          ],
          "choropleth": [
           {
            "colorbar": {
             "outlinewidth": 0,
             "ticks": ""
            },
            "type": "choropleth"
           }
          ],
          "contour": [
           {
            "colorbar": {
             "outlinewidth": 0,
             "ticks": ""
            },
            "colorscale": [
             [
              0,
              "#0d0887"
             ],
             [
              0.1111111111111111,
              "#46039f"
             ],
             [
              0.2222222222222222,
              "#7201a8"
             ],
             [
              0.3333333333333333,
              "#9c179e"
             ],
             [
              0.4444444444444444,
              "#bd3786"
             ],
             [
              0.5555555555555556,
              "#d8576b"
             ],
             [
              0.6666666666666666,
              "#ed7953"
             ],
             [
              0.7777777777777778,
              "#fb9f3a"
             ],
             [
              0.8888888888888888,
              "#fdca26"
             ],
             [
              1,
              "#f0f921"
             ]
            ],
            "type": "contour"
           }
          ],
          "contourcarpet": [
           {
            "colorbar": {
             "outlinewidth": 0,
             "ticks": ""
            },
            "type": "contourcarpet"
           }
          ],
          "heatmap": [
           {
            "colorbar": {
             "outlinewidth": 0,
             "ticks": ""
            },
            "colorscale": [
             [
              0,
              "#0d0887"
             ],
             [
              0.1111111111111111,
              "#46039f"
             ],
             [
              0.2222222222222222,
              "#7201a8"
             ],
             [
              0.3333333333333333,
              "#9c179e"
             ],
             [
              0.4444444444444444,
              "#bd3786"
             ],
             [
              0.5555555555555556,
              "#d8576b"
             ],
             [
              0.6666666666666666,
              "#ed7953"
             ],
             [
              0.7777777777777778,
              "#fb9f3a"
             ],
             [
              0.8888888888888888,
              "#fdca26"
             ],
             [
              1,
              "#f0f921"
             ]
            ],
            "type": "heatmap"
           }
          ],
          "heatmapgl": [
           {
            "colorbar": {
             "outlinewidth": 0,
             "ticks": ""
            },
            "colorscale": [
             [
              0,
              "#0d0887"
             ],
             [
              0.1111111111111111,
              "#46039f"
             ],
             [
              0.2222222222222222,
              "#7201a8"
             ],
             [
              0.3333333333333333,
              "#9c179e"
             ],
             [
              0.4444444444444444,
              "#bd3786"
             ],
             [
              0.5555555555555556,
              "#d8576b"
             ],
             [
              0.6666666666666666,
              "#ed7953"
             ],
             [
              0.7777777777777778,
              "#fb9f3a"
             ],
             [
              0.8888888888888888,
              "#fdca26"
             ],
             [
              1,
              "#f0f921"
             ]
            ],
            "type": "heatmapgl"
           }
          ],
          "histogram": [
           {
            "marker": {
             "colorbar": {
              "outlinewidth": 0,
              "ticks": ""
             }
            },
            "type": "histogram"
           }
          ],
          "histogram2d": [
           {
            "colorbar": {
             "outlinewidth": 0,
             "ticks": ""
            },
            "colorscale": [
             [
              0,
              "#0d0887"
             ],
             [
              0.1111111111111111,
              "#46039f"
             ],
             [
              0.2222222222222222,
              "#7201a8"
             ],
             [
              0.3333333333333333,
              "#9c179e"
             ],
             [
              0.4444444444444444,
              "#bd3786"
             ],
             [
              0.5555555555555556,
              "#d8576b"
             ],
             [
              0.6666666666666666,
              "#ed7953"
             ],
             [
              0.7777777777777778,
              "#fb9f3a"
             ],
             [
              0.8888888888888888,
              "#fdca26"
             ],
             [
              1,
              "#f0f921"
             ]
            ],
            "type": "histogram2d"
           }
          ],
          "histogram2dcontour": [
           {
            "colorbar": {
             "outlinewidth": 0,
             "ticks": ""
            },
            "colorscale": [
             [
              0,
              "#0d0887"
             ],
             [
              0.1111111111111111,
              "#46039f"
             ],
             [
              0.2222222222222222,
              "#7201a8"
             ],
             [
              0.3333333333333333,
              "#9c179e"
             ],
             [
              0.4444444444444444,
              "#bd3786"
             ],
             [
              0.5555555555555556,
              "#d8576b"
             ],
             [
              0.6666666666666666,
              "#ed7953"
             ],
             [
              0.7777777777777778,
              "#fb9f3a"
             ],
             [
              0.8888888888888888,
              "#fdca26"
             ],
             [
              1,
              "#f0f921"
             ]
            ],
            "type": "histogram2dcontour"
           }
          ],
          "mesh3d": [
           {
            "colorbar": {
             "outlinewidth": 0,
             "ticks": ""
            },
            "type": "mesh3d"
           }
          ],
          "parcoords": [
           {
            "line": {
             "colorbar": {
              "outlinewidth": 0,
              "ticks": ""
             }
            },
            "type": "parcoords"
           }
          ],
          "pie": [
           {
            "automargin": true,
            "type": "pie"
           }
          ],
          "scatter": [
           {
            "marker": {
             "colorbar": {
              "outlinewidth": 0,
              "ticks": ""
             }
            },
            "type": "scatter"
           }
          ],
          "scatter3d": [
           {
            "line": {
             "colorbar": {
              "outlinewidth": 0,
              "ticks": ""
             }
            },
            "marker": {
             "colorbar": {
              "outlinewidth": 0,
              "ticks": ""
             }
            },
            "type": "scatter3d"
           }
          ],
          "scattercarpet": [
           {
            "marker": {
             "colorbar": {
              "outlinewidth": 0,
              "ticks": ""
             }
            },
            "type": "scattercarpet"
           }
          ],
          "scattergeo": [
           {
            "marker": {
             "colorbar": {
              "outlinewidth": 0,
              "ticks": ""
             }
            },
            "type": "scattergeo"
           }
          ],
          "scattergl": [
           {
            "marker": {
             "colorbar": {
              "outlinewidth": 0,
              "ticks": ""
             }
            },
            "type": "scattergl"
           }
          ],
          "scattermapbox": [
           {
            "marker": {
             "colorbar": {
              "outlinewidth": 0,
              "ticks": ""
             }
            },
            "type": "scattermapbox"
           }
          ],
          "scatterpolar": [
           {
            "marker": {
             "colorbar": {
              "outlinewidth": 0,
              "ticks": ""
             }
            },
            "type": "scatterpolar"
           }
          ],
          "scatterpolargl": [
           {
            "marker": {
             "colorbar": {
              "outlinewidth": 0,
              "ticks": ""
             }
            },
            "type": "scatterpolargl"
           }
          ],
          "scatterternary": [
           {
            "marker": {
             "colorbar": {
              "outlinewidth": 0,
              "ticks": ""
             }
            },
            "type": "scatterternary"
           }
          ],
          "surface": [
           {
            "colorbar": {
             "outlinewidth": 0,
             "ticks": ""
            },
            "colorscale": [
             [
              0,
              "#0d0887"
             ],
             [
              0.1111111111111111,
              "#46039f"
             ],
             [
              0.2222222222222222,
              "#7201a8"
             ],
             [
              0.3333333333333333,
              "#9c179e"
             ],
             [
              0.4444444444444444,
              "#bd3786"
             ],
             [
              0.5555555555555556,
              "#d8576b"
             ],
             [
              0.6666666666666666,
              "#ed7953"
             ],
             [
              0.7777777777777778,
              "#fb9f3a"
             ],
             [
              0.8888888888888888,
              "#fdca26"
             ],
             [
              1,
              "#f0f921"
             ]
            ],
            "type": "surface"
           }
          ],
          "table": [
           {
            "cells": {
             "fill": {
              "color": "#EBF0F8"
             },
             "line": {
              "color": "white"
             }
            },
            "header": {
             "fill": {
              "color": "#C8D4E3"
             },
             "line": {
              "color": "white"
             }
            },
            "type": "table"
           }
          ]
         },
         "layout": {
          "annotationdefaults": {
           "arrowcolor": "#2a3f5f",
           "arrowhead": 0,
           "arrowwidth": 1
          },
          "coloraxis": {
           "colorbar": {
            "outlinewidth": 0,
            "ticks": ""
           }
          },
          "colorscale": {
           "diverging": [
            [
             0,
             "#8e0152"
            ],
            [
             0.1,
             "#c51b7d"
            ],
            [
             0.2,
             "#de77ae"
            ],
            [
             0.3,
             "#f1b6da"
            ],
            [
             0.4,
             "#fde0ef"
            ],
            [
             0.5,
             "#f7f7f7"
            ],
            [
             0.6,
             "#e6f5d0"
            ],
            [
             0.7,
             "#b8e186"
            ],
            [
             0.8,
             "#7fbc41"
            ],
            [
             0.9,
             "#4d9221"
            ],
            [
             1,
             "#276419"
            ]
           ],
           "sequential": [
            [
             0,
             "#0d0887"
            ],
            [
             0.1111111111111111,
             "#46039f"
            ],
            [
             0.2222222222222222,
             "#7201a8"
            ],
            [
             0.3333333333333333,
             "#9c179e"
            ],
            [
             0.4444444444444444,
             "#bd3786"
            ],
            [
             0.5555555555555556,
             "#d8576b"
            ],
            [
             0.6666666666666666,
             "#ed7953"
            ],
            [
             0.7777777777777778,
             "#fb9f3a"
            ],
            [
             0.8888888888888888,
             "#fdca26"
            ],
            [
             1,
             "#f0f921"
            ]
           ],
           "sequentialminus": [
            [
             0,
             "#0d0887"
            ],
            [
             0.1111111111111111,
             "#46039f"
            ],
            [
             0.2222222222222222,
             "#7201a8"
            ],
            [
             0.3333333333333333,
             "#9c179e"
            ],
            [
             0.4444444444444444,
             "#bd3786"
            ],
            [
             0.5555555555555556,
             "#d8576b"
            ],
            [
             0.6666666666666666,
             "#ed7953"
            ],
            [
             0.7777777777777778,
             "#fb9f3a"
            ],
            [
             0.8888888888888888,
             "#fdca26"
            ],
            [
             1,
             "#f0f921"
            ]
           ]
          },
          "colorway": [
           "#636efa",
           "#EF553B",
           "#00cc96",
           "#ab63fa",
           "#FFA15A",
           "#19d3f3",
           "#FF6692",
           "#B6E880",
           "#FF97FF",
           "#FECB52"
          ],
          "font": {
           "color": "#2a3f5f"
          },
          "geo": {
           "bgcolor": "white",
           "lakecolor": "white",
           "landcolor": "#E5ECF6",
           "showlakes": true,
           "showland": true,
           "subunitcolor": "white"
          },
          "hoverlabel": {
           "align": "left"
          },
          "hovermode": "closest",
          "mapbox": {
           "style": "light"
          },
          "paper_bgcolor": "white",
          "plot_bgcolor": "#E5ECF6",
          "polar": {
           "angularaxis": {
            "gridcolor": "white",
            "linecolor": "white",
            "ticks": ""
           },
           "bgcolor": "#E5ECF6",
           "radialaxis": {
            "gridcolor": "white",
            "linecolor": "white",
            "ticks": ""
           }
          },
          "scene": {
           "xaxis": {
            "backgroundcolor": "#E5ECF6",
            "gridcolor": "white",
            "gridwidth": 2,
            "linecolor": "white",
            "showbackground": true,
            "ticks": "",
            "zerolinecolor": "white"
           },
           "yaxis": {
            "backgroundcolor": "#E5ECF6",
            "gridcolor": "white",
            "gridwidth": 2,
            "linecolor": "white",
            "showbackground": true,
            "ticks": "",
            "zerolinecolor": "white"
           },
           "zaxis": {
            "backgroundcolor": "#E5ECF6",
            "gridcolor": "white",
            "gridwidth": 2,
            "linecolor": "white",
            "showbackground": true,
            "ticks": "",
            "zerolinecolor": "white"
           }
          },
          "shapedefaults": {
           "line": {
            "color": "#2a3f5f"
           }
          },
          "ternary": {
           "aaxis": {
            "gridcolor": "white",
            "linecolor": "white",
            "ticks": ""
           },
           "baxis": {
            "gridcolor": "white",
            "linecolor": "white",
            "ticks": ""
           },
           "bgcolor": "#E5ECF6",
           "caxis": {
            "gridcolor": "white",
            "linecolor": "white",
            "ticks": ""
           }
          },
          "title": {
           "x": 0.05
          },
          "xaxis": {
           "automargin": true,
           "gridcolor": "white",
           "linecolor": "white",
           "ticks": "",
           "title": {
            "standoff": 15
           },
           "zerolinecolor": "white",
           "zerolinewidth": 2
          },
          "yaxis": {
           "automargin": true,
           "gridcolor": "white",
           "linecolor": "white",
           "ticks": "",
           "title": {
            "standoff": 15
           },
           "zerolinecolor": "white",
           "zerolinewidth": 2
          }
         }
        },
        "xaxis": {
         "anchor": "y",
         "domain": [
          0,
          1
         ],
         "title": {
          "text": "Date"
         }
        },
        "yaxis": {
         "anchor": "x",
         "domain": [
          0,
          1
         ],
         "title": {
          "text": "Average Pace"
         }
        }
       }
      }
     },
     "metadata": {},
     "output_type": "display_data"
    }
   ],
   "source": [
    "#y = [8, 8.5, 9, 8.5, 8, 9, 8, 8.5, 9, 10]\n",
    "\n",
    "run_slice = run.iloc[:30]\n",
    "x = run.index[:10]\n",
    "y = run.avg_pace[:10].values\n",
    "fig = px.scatter(data_frame=run_slice, \n",
    "                y='avg_pace', \n",
    "                hover_data=['distance', 'calories'], \n",
    "                labels=dict(avg_pace='Average Pace', date='Date')\n",
    "                )\n",
    "\n",
    "fig.show()"
   ]
  },
  {
   "cell_type": "code",
   "execution_count": 219,
   "metadata": {},
   "outputs": [],
   "source": [
    "last_15_weeks = pd.DataFrame(data[data.activity_type == 'Running'].resample('W-MON').distance.sum().tail(15))"
   ]
  },
  {
   "cell_type": "code",
   "execution_count": 7,
   "metadata": {},
   "outputs": [],
   "source": [
    "activity_choice_last_5 = data[data.activity_type == 'Running'].head(5)"
   ]
  },
  {
   "cell_type": "code",
   "execution_count": 16,
   "metadata": {},
   "outputs": [
    {
     "data": {
      "text/html": [
       "<div>\n",
       "<style scoped>\n",
       "    .dataframe tbody tr th:only-of-type {\n",
       "        vertical-align: middle;\n",
       "    }\n",
       "\n",
       "    .dataframe tbody tr th {\n",
       "        vertical-align: top;\n",
       "    }\n",
       "\n",
       "    .dataframe thead th {\n",
       "        text-align: right;\n",
       "    }\n",
       "</style>\n",
       "<table border=\"1\" class=\"dataframe\">\n",
       "  <thead>\n",
       "    <tr style=\"text-align: right;\">\n",
       "      <th></th>\n",
       "      <th>distance</th>\n",
       "      <th>calories</th>\n",
       "      <th>time</th>\n",
       "      <th>avg_pace</th>\n",
       "    </tr>\n",
       "    <tr>\n",
       "      <th>date</th>\n",
       "      <th></th>\n",
       "      <th></th>\n",
       "      <th></th>\n",
       "      <th></th>\n",
       "    </tr>\n",
       "  </thead>\n",
       "  <tbody>\n",
       "    <tr>\n",
       "      <th>2020-11-10 15:12:40</th>\n",
       "      <td>3.11</td>\n",
       "      <td>463</td>\n",
       "      <td>00:25:42</td>\n",
       "      <td>8:16</td>\n",
       "    </tr>\n",
       "    <tr>\n",
       "      <th>2020-11-08 16:14:17</th>\n",
       "      <td>6.26</td>\n",
       "      <td>1,011</td>\n",
       "      <td>00:58:11</td>\n",
       "      <td>9:17</td>\n",
       "    </tr>\n",
       "    <tr>\n",
       "      <th>2020-11-06 14:33:08</th>\n",
       "      <td>4.35</td>\n",
       "      <td>703</td>\n",
       "      <td>00:38:38</td>\n",
       "      <td>8:53</td>\n",
       "    </tr>\n",
       "    <tr>\n",
       "      <th>2020-11-04 12:16:30</th>\n",
       "      <td>4.00</td>\n",
       "      <td>638</td>\n",
       "      <td>00:35:02</td>\n",
       "      <td>8:45</td>\n",
       "    </tr>\n",
       "    <tr>\n",
       "      <th>2020-11-03 14:17:58</th>\n",
       "      <td>4.01</td>\n",
       "      <td>623</td>\n",
       "      <td>00:35:40</td>\n",
       "      <td>8:54</td>\n",
       "    </tr>\n",
       "  </tbody>\n",
       "</table>\n",
       "</div>"
      ],
      "text/plain": [
       "                     distance calories      time avg_pace\n",
       "date                                                     \n",
       "2020-11-10 15:12:40      3.11      463  00:25:42     8:16\n",
       "2020-11-08 16:14:17      6.26    1,011  00:58:11     9:17\n",
       "2020-11-06 14:33:08      4.35      703  00:38:38     8:53\n",
       "2020-11-04 12:16:30      4.00      638  00:35:02     8:45\n",
       "2020-11-03 14:17:58      4.01      623  00:35:40     8:54"
      ]
     },
     "execution_count": 16,
     "metadata": {},
     "output_type": "execute_result"
    }
   ],
   "source": [
    "activity_choice_last_5[['distance', 'calories', 'time', 'avg_pace']].copy()"
   ]
  },
  {
   "cell_type": "code",
   "execution_count": 86,
   "metadata": {},
   "outputs": [
    {
     "data": {
      "text/plain": [
       "178"
      ]
     },
     "execution_count": 86,
     "metadata": {},
     "output_type": "execute_result"
    }
   ],
   "source": [
    "bike.shape[0]"
   ]
  },
  {
   "cell_type": "code",
   "execution_count": 66,
   "metadata": {},
   "outputs": [],
   "source": [
    "# I believe you're not supposed to have mixed datatypes in a dataframe.  that being said, if we do end up splitting the biking and running activities to multiple dataframes, we'll have to calculate the pace ourselves.  who am I even talking to right now? \n",
    "# final_df[final_df.activity_type == 'Cycling'].iloc[:, 10:12] = final_df[final_df.activity_type == 'Cycling'].iloc[:, 10:12].astype(float)\n",
    "# final_df[final_df.activity_type == 'Running'].iloc[:, 10:12] = final_df[final_df.activity_type == 'Running'].iloc[:, 10:12].apply(lambda x: dt.datetime.strptime(x, '%M:%S'))\n",
    "\n",
    "# "
   ]
  },
  {
   "cell_type": "markdown",
   "metadata": {},
   "source": [
    "### Checking for days I biked multiple times.  Every day I commuted....other days I did there and back rides....so that's a fair amount"
   ]
  },
  {
   "cell_type": "code",
   "execution_count": null,
   "metadata": {},
   "outputs": [],
   "source": [
    "# the keep=False keeps all the duplicates, instead of the first or the last dup\n",
    "# Syntax 1\n",
    "bike[bike.date.dt.date.duplicated(keep=False)]\n",
    "\n",
    "# Syntax 2\n",
    "#bike[bike.duplicated(subset=['date'], keep=False)].sort_index()"
   ]
  },
  {
   "cell_type": "code",
   "execution_count": null,
   "metadata": {},
   "outputs": [],
   "source": []
  },
  {
   "cell_type": "code",
   "execution_count": null,
   "metadata": {},
   "outputs": [],
   "source": [
    "#run.resample('D').distance.sum()\n",
    "last_15_weeks = pd.DataFrame(run.resample('W-MON').distance.sum().tail(15))\n",
    "\n",
    "run.set_index(\"date\", inplace=True)\n",
    "last_15_weeks = pd.DataFrame(run.resample(\"W-MON\").distance.sum().tail(15))"
   ]
  },
  {
   "cell_type": "code",
   "execution_count": 52,
   "metadata": {},
   "outputs": [],
   "source": [
    "run['pace_mins'] = round(run.avg_pace.dt.seconds / 60, 2)"
   ]
  },
  {
   "cell_type": "code",
   "execution_count": 70,
   "metadata": {},
   "outputs": [
    {
     "data": {
      "text/plain": [
       "date        run_length_1_dec\n",
       "2018-09-30  1.0                 1\n",
       "            2.3                 1\n",
       "            5.0                 1\n",
       "            6.0                 1\n",
       "            11.5                1\n",
       "                               ..\n",
       "2020-11-30  4.0                 5\n",
       "            2.3                 1\n",
       "            3.1                 1\n",
       "            4.4                 1\n",
       "            6.3                 1\n",
       "Name: run_length_1_dec, Length: 62, dtype: int64"
      ]
     },
     "execution_count": 70,
     "metadata": {},
     "output_type": "execute_result"
    }
   ],
   "source": [
    "run.resample('M').run_length_1_dec.value_counts()"
   ]
  },
  {
   "cell_type": "code",
   "execution_count": 96,
   "metadata": {},
   "outputs": [],
   "source": [
    "pd.set_option('display.max_rows', 100)"
   ]
  },
  {
   "cell_type": "code",
   "execution_count": 58,
   "metadata": {},
   "outputs": [],
   "source": [
    "run['run_length'] = round(run.distance, 0)"
   ]
  },
  {
   "cell_type": "code",
   "execution_count": 84,
   "metadata": {},
   "outputs": [
    {
     "data": {
      "text/plain": [
       "date\n",
       "2019-11-03 15:54:19    1.0\n",
       "2019-10-19 14:26:35    2.0\n",
       "2019-09-03 20:00:43    2.0\n",
       "2019-08-26 20:41:18    2.0\n",
       "2019-08-25 16:08:04    1.4\n",
       "2019-08-24 13:06:18    2.0\n",
       "2019-07-29 20:46:33    2.2\n",
       "2019-07-20 10:47:28    1.0\n",
       "2019-06-30 19:24:11    1.0\n",
       "2019-06-18 19:04:15    1.0\n",
       "2019-05-05 19:11:48    0.6\n",
       "2019-04-22 13:35:55    0.8\n",
       "2019-04-21 10:42:57    1.5\n",
       "2019-04-15 10:24:28    1.0\n",
       "2019-04-11 07:43:19    1.5\n",
       "2019-03-01 16:06:38    1.0\n",
       "2019-03-01 15:45:03    1.0\n",
       "Name: run_length_1_dec, dtype: float64"
      ]
     },
     "execution_count": 84,
     "metadata": {},
     "output_type": "execute_result"
    }
   ],
   "source": [
    "run.run_length_1_dec['2019']"
   ]
  },
  {
   "cell_type": "code",
   "execution_count": 82,
   "metadata": {},
   "outputs": [
    {
     "data": {
      "text/plain": [
       "date\n",
       "2020-09-30 14:30:18    3.1\n",
       "2020-09-28 17:56:57    5.0\n",
       "2020-09-25 18:22:29    4.0\n",
       "2020-09-24 13:57:19    3.1\n",
       "2020-09-22 14:25:45    3.1\n",
       "2020-09-20 14:24:14    4.0\n",
       "2020-09-19 10:32:09    4.0\n",
       "2020-09-09 12:26:49    3.1\n",
       "2020-09-05 17:03:41    6.2\n",
       "2020-09-02 13:02:06    3.1\n",
       "Name: run_length_1_dec, dtype: float64"
      ]
     },
     "execution_count": 82,
     "metadata": {},
     "output_type": "execute_result"
    }
   ],
   "source": [
    "run.run_length_1_dec['2020-09']"
   ]
  },
  {
   "cell_type": "code",
   "execution_count": 66,
   "metadata": {},
   "outputs": [
    {
     "data": {
      "text/plain": [
       "3.1     0.255814\n",
       "2.0     0.186047\n",
       "4.0     0.155039\n",
       "3.0     0.116279\n",
       "1.0     0.085271\n",
       "5.0     0.054264\n",
       "6.2     0.031008\n",
       "1.5     0.023256\n",
       "2.3     0.015504\n",
       "3.3     0.007752\n",
       "4.4     0.007752\n",
       "0.6     0.007752\n",
       "6.0     0.007752\n",
       "11.5    0.007752\n",
       "1.4     0.007752\n",
       "2.2     0.007752\n",
       "7.0     0.007752\n",
       "0.8     0.007752\n",
       "6.3     0.007752\n",
       "Name: run_length_1_dec, dtype: float64"
      ]
     },
     "execution_count": 66,
     "metadata": {},
     "output_type": "execute_result"
    }
   ],
   "source": [
    "run.run_length_1_dec.value_counts(normalize=True)"
   ]
  },
  {
   "cell_type": "code",
   "execution_count": 109,
   "metadata": {},
   "outputs": [
    {
     "data": {
      "text/html": [
       "<div>\n",
       "<style scoped>\n",
       "    .dataframe tbody tr th:only-of-type {\n",
       "        vertical-align: middle;\n",
       "    }\n",
       "\n",
       "    .dataframe tbody tr th {\n",
       "        vertical-align: top;\n",
       "    }\n",
       "\n",
       "    .dataframe thead th {\n",
       "        text-align: right;\n",
       "    }\n",
       "</style>\n",
       "<table border=\"1\" class=\"dataframe\">\n",
       "  <thead>\n",
       "    <tr style=\"text-align: right;\">\n",
       "      <th></th>\n",
       "      <th>distance</th>\n",
       "      <th>run_length</th>\n",
       "      <th>run_length_1_dec</th>\n",
       "    </tr>\n",
       "    <tr>\n",
       "      <th>date</th>\n",
       "      <th></th>\n",
       "      <th></th>\n",
       "      <th></th>\n",
       "    </tr>\n",
       "  </thead>\n",
       "  <tbody>\n",
       "    <tr>\n",
       "      <th>2020-11-15 15:03:39</th>\n",
       "      <td>2.34</td>\n",
       "      <td>2.0</td>\n",
       "      <td>2.3</td>\n",
       "    </tr>\n",
       "    <tr>\n",
       "      <th>2020-11-13 16:23:46</th>\n",
       "      <td>4.01</td>\n",
       "      <td>4.0</td>\n",
       "      <td>4.0</td>\n",
       "    </tr>\n",
       "    <tr>\n",
       "      <th>2020-11-12 11:55:48</th>\n",
       "      <td>4.02</td>\n",
       "      <td>4.0</td>\n",
       "      <td>4.0</td>\n",
       "    </tr>\n",
       "    <tr>\n",
       "      <th>2020-11-10 15:12:40</th>\n",
       "      <td>3.11</td>\n",
       "      <td>3.0</td>\n",
       "      <td>3.1</td>\n",
       "    </tr>\n",
       "    <tr>\n",
       "      <th>2020-11-08 16:14:17</th>\n",
       "      <td>6.26</td>\n",
       "      <td>6.0</td>\n",
       "      <td>6.3</td>\n",
       "    </tr>\n",
       "    <tr>\n",
       "      <th>2020-11-06 14:33:08</th>\n",
       "      <td>4.35</td>\n",
       "      <td>4.0</td>\n",
       "      <td>4.4</td>\n",
       "    </tr>\n",
       "    <tr>\n",
       "      <th>2020-11-04 12:16:30</th>\n",
       "      <td>4.00</td>\n",
       "      <td>4.0</td>\n",
       "      <td>4.0</td>\n",
       "    </tr>\n",
       "    <tr>\n",
       "      <th>2020-11-03 14:17:58</th>\n",
       "      <td>4.01</td>\n",
       "      <td>4.0</td>\n",
       "      <td>4.0</td>\n",
       "    </tr>\n",
       "    <tr>\n",
       "      <th>2020-11-01 13:21:42</th>\n",
       "      <td>4.01</td>\n",
       "      <td>4.0</td>\n",
       "      <td>4.0</td>\n",
       "    </tr>\n",
       "    <tr>\n",
       "      <th>2020-10-30 12:35:45</th>\n",
       "      <td>3.11</td>\n",
       "      <td>3.0</td>\n",
       "      <td>3.1</td>\n",
       "    </tr>\n",
       "    <tr>\n",
       "      <th>2020-10-29 13:12:43</th>\n",
       "      <td>6.21</td>\n",
       "      <td>6.0</td>\n",
       "      <td>6.2</td>\n",
       "    </tr>\n",
       "    <tr>\n",
       "      <th>2020-10-27 14:07:59</th>\n",
       "      <td>5.02</td>\n",
       "      <td>5.0</td>\n",
       "      <td>5.0</td>\n",
       "    </tr>\n",
       "    <tr>\n",
       "      <th>2020-10-25 13:33:49</th>\n",
       "      <td>4.02</td>\n",
       "      <td>4.0</td>\n",
       "      <td>4.0</td>\n",
       "    </tr>\n",
       "    <tr>\n",
       "      <th>2020-10-24 11:23:26</th>\n",
       "      <td>3.11</td>\n",
       "      <td>3.0</td>\n",
       "      <td>3.1</td>\n",
       "    </tr>\n",
       "    <tr>\n",
       "      <th>2020-10-23 14:04:25</th>\n",
       "      <td>5.02</td>\n",
       "      <td>5.0</td>\n",
       "      <td>5.0</td>\n",
       "    </tr>\n",
       "    <tr>\n",
       "      <th>2020-10-21 13:36:20</th>\n",
       "      <td>5.01</td>\n",
       "      <td>5.0</td>\n",
       "      <td>5.0</td>\n",
       "    </tr>\n",
       "    <tr>\n",
       "      <th>2020-10-19 07:18:15</th>\n",
       "      <td>3.14</td>\n",
       "      <td>3.0</td>\n",
       "      <td>3.1</td>\n",
       "    </tr>\n",
       "    <tr>\n",
       "      <th>2020-10-18 11:27:14</th>\n",
       "      <td>4.02</td>\n",
       "      <td>4.0</td>\n",
       "      <td>4.0</td>\n",
       "    </tr>\n",
       "    <tr>\n",
       "      <th>2020-10-15 13:08:12</th>\n",
       "      <td>3.11</td>\n",
       "      <td>3.0</td>\n",
       "      <td>3.1</td>\n",
       "    </tr>\n",
       "    <tr>\n",
       "      <th>2020-10-14 12:58:51</th>\n",
       "      <td>3.14</td>\n",
       "      <td>3.0</td>\n",
       "      <td>3.1</td>\n",
       "    </tr>\n",
       "  </tbody>\n",
       "</table>\n",
       "</div>"
      ],
      "text/plain": [
       "                     distance  run_length  run_length_1_dec\n",
       "date                                                       \n",
       "2020-11-15 15:03:39      2.34         2.0               2.3\n",
       "2020-11-13 16:23:46      4.01         4.0               4.0\n",
       "2020-11-12 11:55:48      4.02         4.0               4.0\n",
       "2020-11-10 15:12:40      3.11         3.0               3.1\n",
       "2020-11-08 16:14:17      6.26         6.0               6.3\n",
       "2020-11-06 14:33:08      4.35         4.0               4.4\n",
       "2020-11-04 12:16:30      4.00         4.0               4.0\n",
       "2020-11-03 14:17:58      4.01         4.0               4.0\n",
       "2020-11-01 13:21:42      4.01         4.0               4.0\n",
       "2020-10-30 12:35:45      3.11         3.0               3.1\n",
       "2020-10-29 13:12:43      6.21         6.0               6.2\n",
       "2020-10-27 14:07:59      5.02         5.0               5.0\n",
       "2020-10-25 13:33:49      4.02         4.0               4.0\n",
       "2020-10-24 11:23:26      3.11         3.0               3.1\n",
       "2020-10-23 14:04:25      5.02         5.0               5.0\n",
       "2020-10-21 13:36:20      5.01         5.0               5.0\n",
       "2020-10-19 07:18:15      3.14         3.0               3.1\n",
       "2020-10-18 11:27:14      4.02         4.0               4.0\n",
       "2020-10-15 13:08:12      3.11         3.0               3.1\n",
       "2020-10-14 12:58:51      3.14         3.0               3.1"
      ]
     },
     "execution_count": 109,
     "metadata": {},
     "output_type": "execute_result"
    }
   ],
   "source": [
    "run[['distance', 'run_length', 'run_length_1_dec']].head(20)"
   ]
  },
  {
   "cell_type": "code",
   "execution_count": 112,
   "metadata": {},
   "outputs": [
    {
     "data": {
      "text/plain": [
       "3.1    33\n",
       "2.0    24\n",
       "4.0    20\n",
       "3.0    15\n",
       "1.0    11\n",
       "5.0     7\n",
       "6.2     4\n",
       "1.5     3\n",
       "2.3     2\n",
       "3.3     1\n",
       "Name: run_length_1_dec, dtype: int64"
      ]
     },
     "execution_count": 112,
     "metadata": {},
     "output_type": "execute_result"
    }
   ],
   "source": [
    "run.run_length_1_dec.value_counts().head(10)"
   ]
  }
 ],
 "metadata": {
  "kernelspec": {
   "display_name": "Python 3.10.4 ('fitenv')",
   "language": "python",
   "name": "python3"
  },
  "language_info": {
   "codemirror_mode": {
    "name": "ipython",
    "version": 3
   },
   "file_extension": ".py",
   "mimetype": "text/x-python",
   "name": "python",
   "nbconvert_exporter": "python",
   "pygments_lexer": "ipython3",
   "version": "3.10.4"
  },
  "orig_nbformat": 2,
  "vscode": {
   "interpreter": {
    "hash": "aa41fd63d626749efe36bc8d2d9c0cee9baac5e0011d961c92820e04ca9bec88"
   }
  }
 },
 "nbformat": 4,
 "nbformat_minor": 2
}
