{
 "cells": [
  {
   "cell_type": "markdown",
   "metadata": {},
   "source": [
    "What kind of analysis can I actually do? \n",
    "  * a basic sum of week over week\n",
    "\n",
    "\n",
    "\n",
    "#### MVP: \n",
    " * a streamlit dashboard and a tableau dashboard\n",
    " * filter by activities\n",
    " * **total time spent on activites by week**\n",
    "\n",
    "#### ideas for this data: \n",
    " * convert the map data to elevation data\n",
    " * something with the suffer score\n",
    "   * suffer per second? suffer per minute? \n",
    "\n",
    "#### to do\n",
    " * convert start_date column to pandas timestamp "
   ]
  },
  {
   "cell_type": "code",
   "execution_count": 1,
   "metadata": {},
   "outputs": [],
   "source": [
    "import pandas as pd\n",
    "#pd.options.display.max_rows = 999\n",
    "\n",
    "import time\n",
    "import datetime as dt\n",
    "import numpy as np\n",
    "from pathlib import Path\n",
    "import requests\n",
    "import json\n",
    "import urllib3\n",
    "urllib3.disable_warnings(urllib3.exceptions.InsecureRequestWarning)\n",
    "\n",
    "import streamlit as st\n",
    "import time\n",
    "\n",
    "import plotly.express as px\n",
    "import plotly.graph_objs as go\n",
    "#import matplotlib.pyplot as plt\n",
    "\n",
    "pd.options.mode.chained_assignment = None"
   ]
  },
  {
   "cell_type": "code",
   "execution_count": 5,
   "metadata": {},
   "outputs": [],
   "source": [
    "def get_strava_data(csv_file):\n",
    "    with open('strava_tokens.json') as json_file:\n",
    "        strava_tokens = json.load(json_file)\n",
    "\n",
    "    if strava_tokens['expires_at'] < time.time():\n",
    "        response = requests.post(\n",
    "                            url = 'https://www.strava.com/oauth/token',\n",
    "                            data = {\n",
    "                                    'client_id': 88709,\n",
    "                                    'client_secret': '54dab45b88619205ee1e47eb94d0f2d84762a4b2',\n",
    "                                    'grant_type': 'refresh_token',\n",
    "                                    'refresh_token': strava_tokens['refresh_token']\n",
    "                                    }\n",
    "                        ) \n",
    "        new_strava_tokens = response.json() \n",
    "        with open('strava_tokens.json', 'w') as outfile:\n",
    "            json.dump(new_strava_tokens, outfile)\n",
    "        strava_tokens = new_strava_tokens\n",
    "\n",
    "    page = 1\n",
    "    url = \"https://www.strava.com/api/v3/activities\"\n",
    "    access_token = strava_tokens['access_token']\n",
    "\n",
    "    activities = pd.read_csv(csv_file)\n",
    "\n",
    "    while True:\n",
    "        r = requests.get(url + '?access_token=' + access_token + '&per_page=200' + '&page=' + str(page))\n",
    "        r = r.json()\n",
    "        r_df = pd.DataFrame.from_dict(r, orient='columns')     \n",
    "               \n",
    "        # if there are no new values (i.e. activities) found in r_df, just break.  otherwise keep going\n",
    "        if len([v for v in list(r_df['id']) if v not in list(activities['id'])]) == 0:\n",
    "            activities.drop_duplicates(subset=['id'], inplace=True)\n",
    "            activities.sort_values(by='id', ascending=False, inplace=True)\n",
    "            activities.to_csv(csv_file, index=False)\n",
    "            return activities\n",
    "\n",
    "        if (not r):   # if no results then exit loop\n",
    "            break\n",
    "            \n",
    "        activities = pd.concat([r_df, activities])\n",
    "        page += 1\n",
    "    \n",
    "    activities.drop_duplicates(subset=['id'], inplace=True)\n",
    "    activities.sort_values(by='id', ascending=False, inplace=True)\n",
    "    activities.to_csv(csv_file, index=False)\n",
    "    return activities"
   ]
  },
  {
   "cell_type": "code",
   "execution_count": 24,
   "metadata": {},
   "outputs": [
    {
     "data": {
      "text/plain": [
       "Index(['name', 'distance', 'moving_time', 'elapsed_time',\n",
       "       'total_elevation_gain', 'sport_type', 'id', 'achievement_count',\n",
       "       'kudos_count', 'comment_count', 'athlete_count', 'map', 'average_speed',\n",
       "       'max_speed', 'average_heartrate', 'max_heartrate', 'elev_high',\n",
       "       'elev_low', 'pr_count', 'suffer_score', 'average_cadence', 'SPM'],\n",
       "      dtype='object')"
      ]
     },
     "execution_count": 24,
     "metadata": {},
     "output_type": "execute_result"
    }
   ],
   "source": [
    "strava_activities_clean.columns\n",
    "#get_strava_data('strava_activities.csv')"
   ]
  },
  {
   "cell_type": "code",
   "execution_count": 8,
   "metadata": {},
   "outputs": [],
   "source": [
    "cols_to_drop = ['Unnamed: 0.1', 'athlete', 'resource_state', 'start_date', 'timezone', \n",
    "'utc_offset', 'trainer', 'commute', 'type', 'manual', 'visibility', 'flagged', 'gear_id', 'start_latlng', 'end_latlng', 'display_hide_heartrate_option',\n",
    "'upload_id_str', 'external_id', 'from_accepted_tag', 'total_photo_count', 'athlete.resource_state', 'map.id', 'map.summary_polyline', 'map.resource_state', \n",
    "'average_watts', 'kilojoules', 'device_watts', 'photo_count', 'average_temp', 'heartrate_opt_out', 'upload_id', 'athlete.id', 'workout_type',\n",
    "'has_heartrate', 'location_city', 'location_state', 'location_country', 'private', 'has_kudoed', 'Unnamed: 0']\n",
    "\n",
    "strava_activities_raw = pd.read_csv('strava_activities.csv')\n",
    "\n",
    "strava_activities_clean = strava_activities_raw.drop(labels=cols_to_drop, axis=1)\n",
    "\n",
    "# meters to miles\n",
    "strava_activities_clean['distance'] = strava_activities_clean.distance * .000621\n",
    "\n",
    "# might be a fun metric to plot over time. perhaps my suffering per minute has gone down as ive gotten fitter\n",
    "strava_activities_clean['SPM'] = strava_activities_clean.suffer_score / (strava_activities_clean.moving_time / 60)\n",
    "\n",
    "rename = {'start_date_local': 'start_time'}\n",
    "strava_activities_clean.rename(rename, axis=1, inplace=True)\n",
    "\n",
    "# convert start_time to pandas Timestamp object. then we can access seconds, minutes, hours, etc. and can add the moving_time\n",
    "strava_activities_clean['start_time'] = pd.to_datetime(strava_activities_clean['start_time'])\n",
    "\n",
    "strava_activities_clean.loc[strava_activities_clean.id == 7299973019, 'start_time'] = pd.Timestamp(year=2022, month=6, day=12, hour=2, minute=8, second=36, tz='UTC')\n",
    "\n",
    "strava_activities_clean.set_index('start_time', inplace=True)"
   ]
  },
  {
   "cell_type": "code",
   "execution_count": 124,
   "metadata": {},
   "outputs": [],
   "source": [
    "#strava_activities_clean.index[17] = strava_activities_clean.index[17].replace(day=12)"
   ]
  },
  {
   "cell_type": "code",
   "execution_count": null,
   "metadata": {},
   "outputs": [],
   "source": []
  },
  {
   "cell_type": "code",
   "execution_count": 17,
   "metadata": {},
   "outputs": [],
   "source": [
    "# my 6/12 run is showing up as 6/13\n",
    "\n",
    "st = strava_activities_clean[strava_activities_clean['sport_type'] == 'Run'].resample('W-Mon', closed='left').distance.sum().tail(12)\n",
    "#st = strava_activities_clean[strava_activities_clean['sport_type'] == 'Run'].resample('M', closed='left').distance.sum().tail(15)\n",
    "\n",
    "#st.index = st.index.strftime('%B %Y')\n",
    "st.index = st.index.strftime('Week of %A, %b %d')"
   ]
  },
  {
   "cell_type": "markdown",
   "metadata": {},
   "source": [
    "### Strava Mobile Line Graph\n",
    "Characteristics: \n",
    "* 12 weeks\n",
    "* Select your activity at the top\n",
    "* Header: Week of [Month day] - [Month day]\n",
    "* Subheaders: \n",
    "  * Distance\n",
    "  * Time in xh xxm\n",
    "  * Elevation"
   ]
  },
  {
   "cell_type": "code",
   "execution_count": 64,
   "metadata": {},
   "outputs": [],
   "source": [
    "run_activities = strava_activities_clean[strava_activities_clean['sport_type'] == 'Run']\n",
    "run_by_week = run_activities.resample('W-Mon', closed='left')\n",
    "run_by_week_agg = run_by_week.agg({'distance': 'sum', 'moving_time': 'sum', 'total_elevation_gain': 'sum'})\n",
    "run_by_week_agg['total_elevation_gain'] = run_by_week_agg['total_elevation_gain'] * 3.28084\n"
   ]
  },
  {
   "cell_type": "code",
   "execution_count": 73,
   "metadata": {},
   "outputs": [
    {
     "ename": "SyntaxError",
     "evalue": "invalid syntax (2495979164.py, line 1)",
     "output_type": "error",
     "traceback": [
      "\u001b[1;36m  Input \u001b[1;32mIn [73]\u001b[1;36m\u001b[0m\n\u001b[1;33m    run_by_week_agg.moving_time = run_by_week_agg.moving_time.apply(lambda x: y := x, f'{int(round(x, 0))}h {int(round((y - round(y)) * 60))}m')\u001b[0m\n\u001b[1;37m                                                                                ^\u001b[0m\n\u001b[1;31mSyntaxError\u001b[0m\u001b[1;31m:\u001b[0m invalid syntax\n"
     ]
    }
   ],
   "source": [
    "run_by_week_agg.moving_time = run_by_week_agg.moving_time.apply(lambda x: y := x, f'{int(round(x, 0))}h {int(round((y - round(y)) * 60))}m')"
   ]
  },
  {
   "cell_type": "code",
   "execution_count": 69,
   "metadata": {},
   "outputs": [
    {
     "data": {
      "text/html": [
       "<div>\n",
       "<style scoped>\n",
       "    .dataframe tbody tr th:only-of-type {\n",
       "        vertical-align: middle;\n",
       "    }\n",
       "\n",
       "    .dataframe tbody tr th {\n",
       "        vertical-align: top;\n",
       "    }\n",
       "\n",
       "    .dataframe thead th {\n",
       "        text-align: right;\n",
       "    }\n",
       "</style>\n",
       "<table border=\"1\" class=\"dataframe\">\n",
       "  <thead>\n",
       "    <tr style=\"text-align: right;\">\n",
       "      <th></th>\n",
       "      <th>distance</th>\n",
       "      <th>moving_time</th>\n",
       "      <th>total_elevation_gain</th>\n",
       "    </tr>\n",
       "    <tr>\n",
       "      <th>start_time</th>\n",
       "      <th></th>\n",
       "      <th></th>\n",
       "      <th></th>\n",
       "    </tr>\n",
       "  </thead>\n",
       "  <tbody>\n",
       "    <tr>\n",
       "      <th>2022-07-11 00:00:00+00:00</th>\n",
       "      <td>41.725922</td>\n",
       "      <td>26363h 0m</td>\n",
       "      <td>2936.3518</td>\n",
       "    </tr>\n",
       "    <tr>\n",
       "      <th>2022-07-18 00:00:00+00:00</th>\n",
       "      <td>6.080211</td>\n",
       "      <td>3449h 0m</td>\n",
       "      <td>196.8504</td>\n",
       "    </tr>\n",
       "  </tbody>\n",
       "</table>\n",
       "</div>"
      ],
      "text/plain": [
       "                            distance moving_time  total_elevation_gain\n",
       "start_time                                                            \n",
       "2022-07-11 00:00:00+00:00  41.725922   26363h 0m             2936.3518\n",
       "2022-07-18 00:00:00+00:00   6.080211    3449h 0m              196.8504"
      ]
     },
     "execution_count": 69,
     "metadata": {},
     "output_type": "execute_result"
    }
   ],
   "source": [
    "# week of 7/11 should be 7 hrs 19m in time\n",
    "run_by_week_agg.tail(2)"
   ]
  },
  {
   "cell_type": "code",
   "execution_count": 58,
   "metadata": {},
   "outputs": [],
   "source": [
    "# run_by_week_display = \n",
    "#run_by_week_agg.distance.round(2)\n",
    "#run_by_week_agg.total_elevation_gain.round().astype(int)\n"
   ]
  },
  {
   "cell_type": "code",
   "execution_count": 42,
   "metadata": {},
   "outputs": [],
   "source": [
    "time_wk = 26363/60/60"
   ]
  },
  {
   "cell_type": "code",
   "execution_count": 46,
   "metadata": {},
   "outputs": [
    {
     "data": {
      "text/plain": [
       "'7h 19m'"
      ]
     },
     "execution_count": 46,
     "metadata": {},
     "output_type": "execute_result"
    }
   ],
   "source": [
    "f'{int(round(time_wk, 0))}h {int(round((time_wk - round(time_wk)) * 60))}m'"
   ]
  },
  {
   "cell_type": "code",
   "execution_count": 32,
   "metadata": {},
   "outputs": [
    {
     "data": {
      "text/html": [
       "<div>\n",
       "<style scoped>\n",
       "    .dataframe tbody tr th:only-of-type {\n",
       "        vertical-align: middle;\n",
       "    }\n",
       "\n",
       "    .dataframe tbody tr th {\n",
       "        vertical-align: top;\n",
       "    }\n",
       "\n",
       "    .dataframe thead th {\n",
       "        text-align: right;\n",
       "    }\n",
       "</style>\n",
       "<table border=\"1\" class=\"dataframe\">\n",
       "  <thead>\n",
       "    <tr style=\"text-align: right;\">\n",
       "      <th></th>\n",
       "      <th>name</th>\n",
       "      <th>distance</th>\n",
       "      <th>moving_time</th>\n",
       "      <th>elapsed_time</th>\n",
       "      <th>total_elevation_gain</th>\n",
       "      <th>sport_type</th>\n",
       "      <th>id</th>\n",
       "      <th>achievement_count</th>\n",
       "      <th>kudos_count</th>\n",
       "      <th>comment_count</th>\n",
       "      <th>...</th>\n",
       "      <th>average_speed</th>\n",
       "      <th>max_speed</th>\n",
       "      <th>average_heartrate</th>\n",
       "      <th>max_heartrate</th>\n",
       "      <th>elev_high</th>\n",
       "      <th>elev_low</th>\n",
       "      <th>pr_count</th>\n",
       "      <th>suffer_score</th>\n",
       "      <th>average_cadence</th>\n",
       "      <th>SPM</th>\n",
       "    </tr>\n",
       "    <tr>\n",
       "      <th>start_time</th>\n",
       "      <th></th>\n",
       "      <th></th>\n",
       "      <th></th>\n",
       "      <th></th>\n",
       "      <th></th>\n",
       "      <th></th>\n",
       "      <th></th>\n",
       "      <th></th>\n",
       "      <th></th>\n",
       "      <th></th>\n",
       "      <th></th>\n",
       "      <th></th>\n",
       "      <th></th>\n",
       "      <th></th>\n",
       "      <th></th>\n",
       "      <th></th>\n",
       "      <th></th>\n",
       "      <th></th>\n",
       "      <th></th>\n",
       "      <th></th>\n",
       "      <th></th>\n",
       "    </tr>\n",
       "  </thead>\n",
       "  <tbody>\n",
       "    <tr>\n",
       "      <th>2022-07-06 11:26:08+00:00</th>\n",
       "      <td>Lunch Run</td>\n",
       "      <td>4.038177</td>\n",
       "      <td>2164</td>\n",
       "      <td>2172</td>\n",
       "      <td>47.0</td>\n",
       "      <td>Run</td>\n",
       "      <td>7426810587</td>\n",
       "      <td>1</td>\n",
       "      <td>3</td>\n",
       "      <td>0</td>\n",
       "      <td>...</td>\n",
       "      <td>3.005</td>\n",
       "      <td>4.28</td>\n",
       "      <td>140.4</td>\n",
       "      <td>153.0</td>\n",
       "      <td>84.2</td>\n",
       "      <td>62.8</td>\n",
       "      <td>1</td>\n",
       "      <td>23.0</td>\n",
       "      <td>86.0</td>\n",
       "      <td>0.637708</td>\n",
       "    </tr>\n",
       "  </tbody>\n",
       "</table>\n",
       "<p>1 rows × 22 columns</p>\n",
       "</div>"
      ],
      "text/plain": [
       "                                name  distance  moving_time  elapsed_time  \\\n",
       "start_time                                                                  \n",
       "2022-07-06 11:26:08+00:00  Lunch Run  4.038177         2164          2172   \n",
       "\n",
       "                           total_elevation_gain sport_type          id  \\\n",
       "start_time                                                               \n",
       "2022-07-06 11:26:08+00:00                  47.0        Run  7426810587   \n",
       "\n",
       "                           achievement_count  kudos_count  comment_count  ...  \\\n",
       "start_time                                                                ...   \n",
       "2022-07-06 11:26:08+00:00                  1            3              0  ...   \n",
       "\n",
       "                           average_speed max_speed  average_heartrate  \\\n",
       "start_time                                                              \n",
       "2022-07-06 11:26:08+00:00          3.005      4.28              140.4   \n",
       "\n",
       "                           max_heartrate  elev_high  elev_low  pr_count  \\\n",
       "start_time                                                                \n",
       "2022-07-06 11:26:08+00:00          153.0       84.2      62.8         1   \n",
       "\n",
       "                           suffer_score  average_cadence       SPM  \n",
       "start_time                                                          \n",
       "2022-07-06 11:26:08+00:00          23.0             86.0  0.637708  \n",
       "\n",
       "[1 rows x 22 columns]"
      ]
     },
     "execution_count": 32,
     "metadata": {},
     "output_type": "execute_result"
    }
   ],
   "source": [
    "run_activities.iloc[[3]]"
   ]
  },
  {
   "cell_type": "code",
   "execution_count": 57,
   "metadata": {},
   "outputs": [
    {
     "data": {
      "text/plain": [
       "start_time\n",
       "2018-08-06 00:00:00+00:00     213\n",
       "2018-08-13 00:00:00+00:00       0\n",
       "2018-08-20 00:00:00+00:00       0\n",
       "2018-08-27 00:00:00+00:00       0\n",
       "2018-09-03 00:00:00+00:00       0\n",
       "                             ... \n",
       "2022-06-20 00:00:00+00:00    1348\n",
       "2022-06-27 00:00:00+00:00    2772\n",
       "2022-07-04 00:00:00+00:00    2743\n",
       "2022-07-11 00:00:00+00:00    2936\n",
       "2022-07-18 00:00:00+00:00     197\n",
       "Freq: W-MON, Name: total_elevation_gain, Length: 207, dtype: int32"
      ]
     },
     "execution_count": 57,
     "metadata": {},
     "output_type": "execute_result"
    }
   ],
   "source": []
  },
  {
   "cell_type": "code",
   "execution_count": 33,
   "metadata": {},
   "outputs": [
    {
     "data": {
      "text/plain": [
       "154.19948"
      ]
     },
     "execution_count": 33,
     "metadata": {},
     "output_type": "execute_result"
    }
   ],
   "source": [
    "# 154 ft\n",
    "run_activities.total_elevation_gain[3] * 3.28084"
   ]
  },
  {
   "cell_type": "code",
   "execution_count": 37,
   "metadata": {},
   "outputs": [],
   "source": [
    "from datetime import timedelta\n",
    "\n",
    "# create timedelta\n",
    "sample_timedelta = timedelta(\n",
    "    days=40,\n",
    "    seconds=3,\n",
    "    microseconds=2,\n",
    "    milliseconds=1200,\n",
    "    minutes=3,\n",
    "    hours=23,\n",
    "    weeks=3\n",
    ")"
   ]
  },
  {
   "cell_type": "code",
   "execution_count": 41,
   "metadata": {},
   "outputs": [
    {
     "data": {
      "text/plain": [
       "82984"
      ]
     },
     "execution_count": 41,
     "metadata": {},
     "output_type": "execute_result"
    }
   ],
   "source": [
    "sample_timedelta.seconds"
   ]
  },
  {
   "cell_type": "code",
   "execution_count": 18,
   "metadata": {},
   "outputs": [
    {
     "data": {
      "text/plain": [
       "start_time\n",
       "Week of Monday, May 02    41.244522\n",
       "Week of Monday, May 09    26.253520\n",
       "Week of Monday, May 16    20.777232\n",
       "Week of Monday, May 23    43.479315\n",
       "Week of Monday, May 30    30.362615\n",
       "Week of Monday, Jun 06    33.258152\n",
       "Week of Monday, Jun 13    33.822206\n",
       "Week of Monday, Jun 20    21.896833\n",
       "Week of Monday, Jun 27    42.420821\n",
       "Week of Monday, Jul 04    26.436405\n",
       "Week of Monday, Jul 11    41.725922\n",
       "Week of Monday, Jul 18     6.080211\n",
       "Name: distance, dtype: float64"
      ]
     },
     "execution_count": 18,
     "metadata": {},
     "output_type": "execute_result"
    }
   ],
   "source": [
    "#st.index = st.index.strftime('%B %Y')\n",
    "st"
   ]
  },
  {
   "cell_type": "code",
   "execution_count": 9,
   "metadata": {},
   "outputs": [
    {
     "data": {
      "text/plain": [
       "Index(['name', 'distance', 'moving_time', 'elapsed_time',\n",
       "       'total_elevation_gain', 'sport_type', 'id', 'achievement_count',\n",
       "       'kudos_count', 'comment_count', 'athlete_count', 'map', 'average_speed',\n",
       "       'max_speed', 'average_heartrate', 'max_heartrate', 'elev_high',\n",
       "       'elev_low', 'pr_count', 'suffer_score', 'average_cadence', 'SPM'],\n",
       "      dtype='object')"
      ]
     },
     "execution_count": 9,
     "metadata": {},
     "output_type": "execute_result"
    }
   ],
   "source": [
    "#strava_activities_clean[strava_activities_clean['sport_type'] == 'Run'].head(30)\n",
    "strava_activities_clean.columns"
   ]
  },
  {
   "cell_type": "code",
   "execution_count": 16,
   "metadata": {},
   "outputs": [
    {
     "data": {
      "text/plain": [
       "'[45.52732522599399, -122.60262675583363]'"
      ]
     },
     "execution_count": 16,
     "metadata": {},
     "output_type": "execute_result"
    }
   ],
   "source": [
    "strava_activities_raw.start_latlng[109]"
   ]
  },
  {
   "cell_type": "code",
   "execution_count": 106,
   "metadata": {},
   "outputs": [],
   "source": [
    "x = 'start_time'\n",
    "y = 'average_speed'\n",
    "df = strava_activities_clean[(strava_activities_clean.sport_type == 'Run') & (strava_activities_clean.distance.between(3.99, 8.5))]\n",
    "\n",
    "fig = px.scatter(data_frame=df, \n",
    "                        y=y,   # choice \n",
    "                        x=x,\n",
    "                        #hover_data=['distance', 'calories'], \n",
    "                        #labels=dict(x='Date', time='Time', avg_run_cadence='Average Run Cadence', avg_pace='Average Pace'), \n",
    "                        title=str(y + ' x ' + x),\n",
    "                        #size='distance',\n",
    "                        #color='distance',\n",
    "                        template='plotly',\n",
    "                        height=500, \n",
    "                        width=800, \n",
    "                        #trendline='ols'\n",
    "                        )"
   ]
  },
  {
   "cell_type": "code",
   "execution_count": 107,
   "metadata": {},
   "outputs": [
    {
     "data": {
      "application/vnd.plotly.v1+json": {
       "config": {
        "plotlyServerURL": "https://plot.ly"
       },
       "data": [
        {
         "hovertemplate": "start_time=%{x}<br>average_speed=%{y}<extra></extra>",
         "legendgroup": "",
         "marker": {
          "color": "#636efa",
          "symbol": "circle"
         },
         "mode": "markers",
         "name": "",
         "orientation": "v",
         "showlegend": false,
         "type": "scatter",
         "x": [
          "2022-06-30T21:39:30+00:00",
          "2022-06-29T19:24:38+00:00",
          "2022-06-28T19:05:39+00:00",
          "2022-06-24T18:38:54+00:00",
          "2022-06-22T17:42:39+00:00",
          "2022-06-22T02:12:17+00:00",
          "2022-06-20T16:56:29+00:00",
          "2022-06-15T18:51:08+00:00",
          "2022-06-14T20:00:50+00:00",
          "2022-06-13T18:53:51+00:00",
          "2022-06-13T02:08:36+00:00",
          "2022-06-11T22:53:46+00:00",
          "2022-06-08T03:07:34+00:00",
          "2022-06-06T19:11:28+00:00",
          "2022-06-04T23:17:56+00:00",
          "2022-06-02T19:27:41+00:00",
          "2022-06-01T22:27:03+00:00",
          "2022-05-31T18:44:32+00:00",
          "2022-05-27T18:19:44+00:00",
          "2022-05-26T16:42:54+00:00",
          "2022-05-25T18:46:09+00:00",
          "2022-05-24T19:57:02+00:00",
          "2022-05-21T22:46:10+00:00",
          "2022-05-20T22:59:29+00:00",
          "2022-05-18T19:40:15+00:00",
          "2022-05-17T19:58:17+00:00",
          "2022-05-16T19:22:42+00:00",
          "2022-05-13T18:42:01+00:00",
          "2022-05-11T02:18:03+00:00",
          "2022-05-09T18:59:51+00:00",
          "2022-05-06T00:50:20+00:00",
          "2022-05-04T19:20:52+00:00",
          "2022-05-03T19:23:50+00:00",
          "2022-05-02T19:41:50+00:00",
          "2022-04-28T19:38:19+00:00",
          "2022-04-27T19:26:16+00:00",
          "2022-04-26T16:05:22+00:00",
          "2022-04-25T20:55:45+00:00",
          "2022-04-21T17:49:50+00:00",
          "2022-04-20T19:58:09+00:00",
          "2022-04-20T00:51:57+00:00",
          "2022-04-14T19:52:14+00:00",
          "2022-04-13T19:16:41+00:00",
          "2022-04-12T19:19:36+00:00",
          "2022-04-10T18:44:31+00:00",
          "2022-04-08T17:22:06+00:00",
          "2022-04-07T19:00:43+00:00",
          "2022-04-06T19:00:46+00:00",
          "2022-04-05T19:35:07+00:00",
          "2022-03-30T21:40:18+00:00",
          "2022-03-29T20:04:11+00:00",
          "2022-03-28T21:18:03+00:00",
          "2022-03-24T17:06:44+00:00",
          "2022-03-23T19:36:47+00:00",
          "2022-03-22T20:49:06+00:00",
          "2022-03-20T21:47:21+00:00",
          "2022-03-17T19:26:20+00:00",
          "2022-03-16T19:34:11+00:00",
          "2022-03-15T20:34:34+00:00",
          "2022-03-15T00:35:44+00:00",
          "2022-03-11T00:20:48+00:00",
          "2022-03-07T21:10:07+00:00",
          "2022-03-03T20:13:45+00:00",
          "2022-03-02T21:10:10+00:00",
          "2022-02-28T19:41:31+00:00",
          "2022-02-25T21:27:33+00:00",
          "2022-02-24T20:12:53+00:00",
          "2022-02-23T20:20:54+00:00",
          "2022-02-22T19:50:56+00:00",
          "2022-02-17T19:42:45+00:00",
          "2022-02-16T19:45:03+00:00",
          "2022-02-15T15:06:59+00:00",
          "2022-02-14T21:59:05+00:00",
          "2022-02-10T19:48:59+00:00",
          "2022-02-09T19:56:50+00:00",
          "2022-02-08T20:03:13+00:00",
          "2022-02-07T00:11:38+00:00",
          "2022-02-05T22:00:54+00:00",
          "2022-02-03T19:10:48+00:00",
          "2022-02-02T19:48:46+00:00",
          "2022-02-01T20:51:38+00:00",
          "2022-01-29T20:35:40+00:00",
          "2022-01-27T20:35:00+00:00",
          "2022-01-26T20:10:10+00:00",
          "2022-01-25T20:06:00+00:00",
          "2022-01-20T20:14:28+00:00",
          "2022-01-20T00:38:02+00:00",
          "2022-01-18T19:53:45+00:00",
          "2022-01-13T20:59:09+00:00",
          "2022-01-12T20:11:29+00:00",
          "2022-01-11T19:15:25+00:00",
          "2022-01-09T22:40:51+00:00",
          "2022-01-06T20:30:21+00:00",
          "2022-01-05T20:57:51+00:00",
          "2022-01-04T21:07:24+00:00",
          "2022-01-01T20:39:08+00:00",
          "2021-12-30T22:59:51+00:00",
          "2021-12-19T20:43:48+00:00",
          "2021-12-18T21:55:54+00:00",
          "2021-12-17T22:39:52+00:00",
          "2021-12-15T20:53:20+00:00",
          "2021-12-14T15:11:09+00:00",
          "2021-12-13T20:30:39+00:00",
          "2021-12-10T20:43:12+00:00",
          "2021-12-09T19:23:12+00:00",
          "2021-12-07T20:32:53+00:00",
          "2021-12-05T22:02:24+00:00",
          "2021-12-03T20:45:43+00:00",
          "2021-12-01T20:44:04+00:00",
          "2021-11-30T21:35:28+00:00",
          "2021-11-28T20:20:59+00:00",
          "2021-11-25T19:15:31+00:00",
          "2021-11-24T20:07:24+00:00",
          "2021-11-23T20:57:07+00:00",
          "2021-11-22T20:18:34+00:00",
          "2021-11-20T22:32:53+00:00",
          "2021-11-19T21:27:41+00:00",
          "2021-11-11T23:56:36+00:00",
          "2021-11-09T20:33:35+00:00",
          "2021-11-08T19:46:53+00:00",
          "2021-11-05T00:51:23+00:00",
          "2021-11-04T03:02:46+00:00",
          "2021-11-02T20:43:23+00:00",
          "2021-11-01T22:51:27+00:00",
          "2021-10-29T19:12:47+00:00",
          "2021-10-29T00:41:08+00:00",
          "2021-10-26T19:30:07+00:00",
          "2021-10-25T19:13:43+00:00",
          "2021-10-21T19:28:25+00:00",
          "2021-10-19T20:15:35+00:00",
          "2021-10-16T17:07:31+00:00",
          "2021-10-14T22:16:53+00:00",
          "2021-10-13T20:31:31+00:00",
          "2021-10-11T23:38:54+00:00",
          "2021-10-08T18:54:23+00:00",
          "2021-10-07T18:57:16+00:00",
          "2021-10-04T19:26:59+00:00",
          "2021-09-29T20:17:53+00:00",
          "2021-09-28T21:04:00+00:00",
          "2021-09-17T21:39:31+00:00",
          "2021-09-16T02:02:12+00:00",
          "2021-09-14T20:31:25+00:00",
          "2021-09-13T18:34:03+00:00",
          "2021-09-09T18:48:59+00:00",
          "2021-09-07T20:56:48+00:00",
          "2021-09-02T18:49:18+00:00",
          "2021-09-01T01:48:42+00:00",
          "2021-08-29T22:01:54+00:00",
          "2021-08-26T21:57:37+00:00",
          "2021-08-24T21:13:08+00:00",
          "2021-08-19T19:58:15+00:00",
          "2021-08-17T19:44:33+00:00",
          "2021-08-15T21:27:28+00:00",
          "2021-08-12T18:27:25+00:00",
          "2021-08-11T17:45:02+00:00",
          "2021-08-10T19:54:59+00:00",
          "2021-08-03T19:59:31+00:00",
          "2021-08-02T19:18:21+00:00",
          "2021-07-30T18:05:10+00:00",
          "2021-07-28T20:01:16+00:00",
          "2021-07-26T19:27:31+00:00",
          "2021-07-23T02:05:53+00:00",
          "2021-07-20T19:44:44+00:00",
          "2021-07-15T19:24:23+00:00",
          "2021-07-14T19:17:00+00:00",
          "2021-07-13T20:28:32+00:00",
          "2021-07-07T19:38:32+00:00",
          "2021-07-05T22:30:22+00:00",
          "2021-07-01T19:14:37+00:00",
          "2021-06-30T18:03:49+00:00",
          "2021-06-30T01:40:59+00:00",
          "2021-06-24T20:13:27+00:00",
          "2021-06-23T20:09:34+00:00",
          "2021-06-22T19:22:13+00:00",
          "2021-06-17T19:13:34+00:00",
          "2021-06-17T00:55:26+00:00",
          "2021-06-15T20:44:02+00:00",
          "2021-06-10T20:35:44+00:00",
          "2021-06-09T19:51:58+00:00",
          "2021-06-09T00:06:46+00:00",
          "2021-06-03T18:53:49+00:00",
          "2021-06-01T22:20:30+00:00",
          "2021-05-31T01:21:00+00:00",
          "2021-05-27T20:28:59+00:00",
          "2021-05-26T20:07:43+00:00",
          "2021-05-20T00:31:30+00:00",
          "2021-05-14T19:17:16+00:00",
          "2021-05-11T20:06:32+00:00",
          "2021-05-09T18:31:45+00:00",
          "2021-05-06T16:49:57+00:00",
          "2021-05-05T22:30:12+00:00",
          "2021-05-03T00:55:27+00:00",
          "2021-04-29T20:28:43+00:00",
          "2021-04-28T20:10:19+00:00",
          "2021-04-27T20:18:43+00:00",
          "2021-04-22T20:22:30+00:00",
          "2021-04-21T22:12:45+00:00",
          "2021-04-21T00:35:16+00:00",
          "2021-04-15T21:55:11+00:00",
          "2021-04-13T20:51:39+00:00",
          "2021-04-11T22:01:05+00:00",
          "2021-04-08T19:33:06+00:00",
          "2021-04-07T21:49:12+00:00",
          "2021-04-06T20:06:31+00:00",
          "2021-04-01T19:33:48+00:00",
          "2021-03-31T20:01:00+00:00",
          "2021-03-30T19:56:31+00:00",
          "2021-03-28T22:06:13+00:00",
          "2021-03-25T20:24:54+00:00",
          "2021-03-24T15:08:39+00:00",
          "2021-03-23T20:22:26+00:00",
          "2021-03-18T20:39:25+00:00",
          "2021-03-16T21:16:35+00:00",
          "2021-03-11T20:13:08+00:00",
          "2021-03-10T21:14:12+00:00",
          "2021-03-09T21:48:25+00:00",
          "2021-03-04T20:33:29+00:00",
          "2021-03-03T21:04:44+00:00",
          "2021-03-02T20:48:41+00:00",
          "2021-03-01T00:19:40+00:00",
          "2021-02-25T20:36:20+00:00",
          "2021-02-24T20:10:21+00:00",
          "2021-02-23T21:27:33+00:00",
          "2021-02-20T19:02:27+00:00",
          "2021-02-18T21:37:01+00:00",
          "2021-02-16T19:38:28+00:00",
          "2021-02-14T16:51:26+00:00",
          "2021-02-11T18:13:56+00:00",
          "2021-02-10T21:54:22+00:00",
          "2021-02-09T22:03:33+00:00",
          "2021-02-07T22:06:53+00:00",
          "2021-02-04T20:16:40+00:00",
          "2021-02-02T20:41:03+00:00",
          "2021-01-31T18:01:35+00:00",
          "2021-01-28T20:55:20+00:00",
          "2021-01-27T20:43:45+00:00",
          "2021-01-26T21:27:29+00:00",
          "2021-01-21T15:08:18+00:00",
          "2021-01-19T20:02:12+00:00",
          "2021-01-18T00:16:17+00:00",
          "2021-01-14T20:07:55+00:00",
          "2021-01-12T20:11:00+00:00",
          "2021-01-11T00:44:41+00:00",
          "2021-01-08T23:03:34+00:00",
          "2021-01-07T20:08:55+00:00",
          "2021-01-05T21:21:00+00:00",
          "2021-01-04T20:40:23+00:00",
          "2021-01-02T18:12:10+00:00",
          "2020-12-31T18:37:05+00:00",
          "2020-12-30T18:26:35+00:00",
          "2020-12-28T18:54:10+00:00",
          "2020-12-26T19:20:18+00:00",
          "2020-12-24T21:00:26+00:00",
          "2020-12-23T18:07:43+00:00",
          "2020-12-22T20:25:16+00:00",
          "2020-12-20T23:24:06+00:00",
          "2020-12-17T20:58:01+00:00",
          "2020-12-16T22:31:37+00:00",
          "2020-12-14T21:27:56+00:00",
          "2020-12-12T21:02:20+00:00",
          "2020-12-10T18:35:14+00:00",
          "2020-12-08T22:18:35+00:00",
          "2020-12-06T22:05:19+00:00",
          "2020-12-05T18:49:26+00:00",
          "2020-12-03T20:56:23+00:00",
          "2020-12-01T21:38:44+00:00",
          "2020-11-30T22:04:11+00:00",
          "2020-11-28T18:19:12+00:00",
          "2020-11-26T19:21:06+00:00",
          "2020-11-23T21:20:33+00:00",
          "2020-11-22T00:10:17+00:00",
          "2020-11-20T21:31:09+00:00",
          "2020-11-19T21:33:06+00:00",
          "2020-11-16T21:17:51+00:00",
          "2020-11-14T00:23:46+00:00",
          "2020-11-12T19:55:48+00:00",
          "2020-11-09T00:14:17+00:00",
          "2020-11-06T22:33:08+00:00",
          "2020-11-04T20:16:30+00:00",
          "2020-11-03T22:17:58+00:00",
          "2020-11-01T21:21:42+00:00",
          "2020-10-29T20:12:43+00:00",
          "2020-10-27T21:07:59+00:00",
          "2020-10-25T20:33:49+00:00",
          "2020-10-23T21:04:25+00:00",
          "2020-10-21T20:36:20+00:00",
          "2020-10-18T18:27:14+00:00",
          "2020-10-10T22:31:39+00:00",
          "2020-10-08T20:17:44+00:00",
          "2020-10-04T22:47:11+00:00",
          "2020-09-29T00:56:57+00:00",
          "2020-09-26T01:22:29+00:00",
          "2020-09-20T21:24:14+00:00",
          "2020-09-19T17:32:09+00:00",
          "2020-09-06T00:03:41+00:00",
          "2020-08-20T19:48:59+00:00",
          "2020-08-08T23:56:25+00:00",
          "2020-07-29T19:42:13+00:00",
          "2020-07-14T20:26:36+00:00",
          "2020-06-06T20:21:26+00:00",
          "2020-05-17T22:36:32+00:00",
          "2020-05-13T02:12:31+00:00",
          "2020-05-03T21:58:19+00:00",
          "2020-05-03T00:56:17+00:00",
          "2020-04-24T20:32:27+00:00",
          "2020-04-06T21:02:11+00:00",
          "2020-03-07T22:41:22+00:00"
         ],
         "xaxis": "x",
         "y": [
          2.63,
          3.016,
          2.979,
          3.13,
          2.896,
          2.389,
          3.126,
          2.83,
          2.836,
          2.94,
          2.86,
          3.031,
          2.889,
          2.664,
          3.238,
          2.941,
          2.539,
          3.005,
          2.919,
          3.256,
          2.896,
          2.849,
          2.717,
          2.94,
          2.921,
          2.887,
          2.938,
          2.807,
          2.88,
          3.081,
          3.047,
          3.087,
          2.649,
          3.072,
          2.893,
          2.711,
          3.248,
          2.915,
          3.051,
          3.08,
          2.896,
          3.012,
          2.9,
          3.074,
          2.817,
          2.871,
          2.957,
          2.743,
          2.938,
          3.194,
          2.849,
          3.053,
          2.994,
          2.89,
          3.057,
          2.881,
          2.829,
          3,
          2.936,
          2.845,
          3.129,
          2.949,
          2.855,
          2.817,
          3.404,
          2.961,
          2.758,
          2.984,
          2.87,
          2.86,
          2.885,
          2.962,
          2.928,
          2.806,
          2.98,
          2.939,
          2.857,
          2.966,
          2.755,
          2.923,
          2.744,
          2.923,
          2.808,
          2.809,
          2.781,
          2.76,
          3.111,
          2.82,
          2.801,
          2.656,
          2.564,
          2.755,
          2.578,
          2.612,
          2.577,
          1.991,
          2.621,
          2.129,
          3.104,
          3.04,
          2.262,
          2.33,
          2.295,
          2.253,
          2.352,
          2.77,
          3.547,
          3.042,
          2.777,
          3.23,
          2.81,
          3.52,
          2.989,
          2.774,
          2.8,
          2.748,
          3.007,
          2.986,
          2.863,
          2.946,
          3.021,
          2.988,
          2.861,
          3.324,
          2.964,
          3.227,
          2.994,
          3,
          3.436,
          3.403,
          2.876,
          3.008,
          2.887,
          3.019,
          3.122,
          2.886,
          2.823,
          2.823,
          3.277,
          3.254,
          2.896,
          2.707,
          2.757,
          2.836,
          2.767,
          2.674,
          2.845,
          2.817,
          2.688,
          2.853,
          2.784,
          2.722,
          2.862,
          2.792,
          2.846,
          2.885,
          2.966,
          2.944,
          2.811,
          2.786,
          2.701,
          2.856,
          2.822,
          2.792,
          2.697,
          2.897,
          2.741,
          2.826,
          2.719,
          2.965,
          2.821,
          2.726,
          2.919,
          2.784,
          2.694,
          2.849,
          2.714,
          2.715,
          3.074,
          3.018,
          2.783,
          2.724,
          2.81,
          2.854,
          2.87,
          2.719,
          2.942,
          2.902,
          2.686,
          2.738,
          2.921,
          2.704,
          2.799,
          3.12,
          2.855,
          2.778,
          2.905,
          2.76,
          2.932,
          2.862,
          2.778,
          2.64,
          2.86,
          2.728,
          2.761,
          2.832,
          2.866,
          2.854,
          2.847,
          2.677,
          2.748,
          3.144,
          2.997,
          3.068,
          3.035,
          2.963,
          3.27,
          2.951,
          2.843,
          2.861,
          3.074,
          2.838,
          2.858,
          2.875,
          2.817,
          2.793,
          2.857,
          2.801,
          2.692,
          3.133,
          2.96,
          2.866,
          2.918,
          2.768,
          2.699,
          2.778,
          3.035,
          2.84,
          3.1,
          2.991,
          3.023,
          3.18,
          2.895,
          3.124,
          3.106,
          3.381,
          3.405,
          3.038,
          3.111,
          3.061,
          3.088,
          3.036,
          2.989,
          3.351,
          3.122,
          3.102,
          3.153,
          3.27,
          3.107,
          3.05,
          3.18,
          3.129,
          3.365,
          3.228,
          3.091,
          3.034,
          3.301,
          2.9,
          2.649,
          2.934,
          2.914,
          2.921,
          3.036,
          3.008,
          3.02,
          3.017,
          2.937,
          3.124,
          3.124,
          3.028,
          2.824,
          2.888,
          2.937,
          2.86,
          2.984,
          2.952,
          3.071,
          2.824,
          2.98,
          2.836,
          2.879,
          2.871,
          2.955,
          2.961,
          2.791,
          2.718,
          2.928,
          2.759,
          2.77,
          2.868,
          2.816,
          2.834,
          2.653,
          2.767,
          2.698,
          2.661,
          2.661
         ],
         "yaxis": "y"
        }
       ],
       "layout": {
        "height": 500,
        "legend": {
         "tracegroupgap": 0
        },
        "template": {
         "data": {
          "bar": [
           {
            "error_x": {
             "color": "#2a3f5f"
            },
            "error_y": {
             "color": "#2a3f5f"
            },
            "marker": {
             "line": {
              "color": "#E5ECF6",
              "width": 0.5
             },
             "pattern": {
              "fillmode": "overlay",
              "size": 10,
              "solidity": 0.2
             }
            },
            "type": "bar"
           }
          ],
          "barpolar": [
           {
            "marker": {
             "line": {
              "color": "#E5ECF6",
              "width": 0.5
             },
             "pattern": {
              "fillmode": "overlay",
              "size": 10,
              "solidity": 0.2
             }
            },
            "type": "barpolar"
           }
          ],
          "carpet": [
           {
            "aaxis": {
             "endlinecolor": "#2a3f5f",
             "gridcolor": "white",
             "linecolor": "white",
             "minorgridcolor": "white",
             "startlinecolor": "#2a3f5f"
            },
            "baxis": {
             "endlinecolor": "#2a3f5f",
             "gridcolor": "white",
             "linecolor": "white",
             "minorgridcolor": "white",
             "startlinecolor": "#2a3f5f"
            },
            "type": "carpet"
           }
          ],
          "choropleth": [
           {
            "colorbar": {
             "outlinewidth": 0,
             "ticks": ""
            },
            "type": "choropleth"
           }
          ],
          "contour": [
           {
            "colorbar": {
             "outlinewidth": 0,
             "ticks": ""
            },
            "colorscale": [
             [
              0,
              "#0d0887"
             ],
             [
              0.1111111111111111,
              "#46039f"
             ],
             [
              0.2222222222222222,
              "#7201a8"
             ],
             [
              0.3333333333333333,
              "#9c179e"
             ],
             [
              0.4444444444444444,
              "#bd3786"
             ],
             [
              0.5555555555555556,
              "#d8576b"
             ],
             [
              0.6666666666666666,
              "#ed7953"
             ],
             [
              0.7777777777777778,
              "#fb9f3a"
             ],
             [
              0.8888888888888888,
              "#fdca26"
             ],
             [
              1,
              "#f0f921"
             ]
            ],
            "type": "contour"
           }
          ],
          "contourcarpet": [
           {
            "colorbar": {
             "outlinewidth": 0,
             "ticks": ""
            },
            "type": "contourcarpet"
           }
          ],
          "heatmap": [
           {
            "colorbar": {
             "outlinewidth": 0,
             "ticks": ""
            },
            "colorscale": [
             [
              0,
              "#0d0887"
             ],
             [
              0.1111111111111111,
              "#46039f"
             ],
             [
              0.2222222222222222,
              "#7201a8"
             ],
             [
              0.3333333333333333,
              "#9c179e"
             ],
             [
              0.4444444444444444,
              "#bd3786"
             ],
             [
              0.5555555555555556,
              "#d8576b"
             ],
             [
              0.6666666666666666,
              "#ed7953"
             ],
             [
              0.7777777777777778,
              "#fb9f3a"
             ],
             [
              0.8888888888888888,
              "#fdca26"
             ],
             [
              1,
              "#f0f921"
             ]
            ],
            "type": "heatmap"
           }
          ],
          "heatmapgl": [
           {
            "colorbar": {
             "outlinewidth": 0,
             "ticks": ""
            },
            "colorscale": [
             [
              0,
              "#0d0887"
             ],
             [
              0.1111111111111111,
              "#46039f"
             ],
             [
              0.2222222222222222,
              "#7201a8"
             ],
             [
              0.3333333333333333,
              "#9c179e"
             ],
             [
              0.4444444444444444,
              "#bd3786"
             ],
             [
              0.5555555555555556,
              "#d8576b"
             ],
             [
              0.6666666666666666,
              "#ed7953"
             ],
             [
              0.7777777777777778,
              "#fb9f3a"
             ],
             [
              0.8888888888888888,
              "#fdca26"
             ],
             [
              1,
              "#f0f921"
             ]
            ],
            "type": "heatmapgl"
           }
          ],
          "histogram": [
           {
            "marker": {
             "pattern": {
              "fillmode": "overlay",
              "size": 10,
              "solidity": 0.2
             }
            },
            "type": "histogram"
           }
          ],
          "histogram2d": [
           {
            "colorbar": {
             "outlinewidth": 0,
             "ticks": ""
            },
            "colorscale": [
             [
              0,
              "#0d0887"
             ],
             [
              0.1111111111111111,
              "#46039f"
             ],
             [
              0.2222222222222222,
              "#7201a8"
             ],
             [
              0.3333333333333333,
              "#9c179e"
             ],
             [
              0.4444444444444444,
              "#bd3786"
             ],
             [
              0.5555555555555556,
              "#d8576b"
             ],
             [
              0.6666666666666666,
              "#ed7953"
             ],
             [
              0.7777777777777778,
              "#fb9f3a"
             ],
             [
              0.8888888888888888,
              "#fdca26"
             ],
             [
              1,
              "#f0f921"
             ]
            ],
            "type": "histogram2d"
           }
          ],
          "histogram2dcontour": [
           {
            "colorbar": {
             "outlinewidth": 0,
             "ticks": ""
            },
            "colorscale": [
             [
              0,
              "#0d0887"
             ],
             [
              0.1111111111111111,
              "#46039f"
             ],
             [
              0.2222222222222222,
              "#7201a8"
             ],
             [
              0.3333333333333333,
              "#9c179e"
             ],
             [
              0.4444444444444444,
              "#bd3786"
             ],
             [
              0.5555555555555556,
              "#d8576b"
             ],
             [
              0.6666666666666666,
              "#ed7953"
             ],
             [
              0.7777777777777778,
              "#fb9f3a"
             ],
             [
              0.8888888888888888,
              "#fdca26"
             ],
             [
              1,
              "#f0f921"
             ]
            ],
            "type": "histogram2dcontour"
           }
          ],
          "mesh3d": [
           {
            "colorbar": {
             "outlinewidth": 0,
             "ticks": ""
            },
            "type": "mesh3d"
           }
          ],
          "parcoords": [
           {
            "line": {
             "colorbar": {
              "outlinewidth": 0,
              "ticks": ""
             }
            },
            "type": "parcoords"
           }
          ],
          "pie": [
           {
            "automargin": true,
            "type": "pie"
           }
          ],
          "scatter": [
           {
            "marker": {
             "colorbar": {
              "outlinewidth": 0,
              "ticks": ""
             }
            },
            "type": "scatter"
           }
          ],
          "scatter3d": [
           {
            "line": {
             "colorbar": {
              "outlinewidth": 0,
              "ticks": ""
             }
            },
            "marker": {
             "colorbar": {
              "outlinewidth": 0,
              "ticks": ""
             }
            },
            "type": "scatter3d"
           }
          ],
          "scattercarpet": [
           {
            "marker": {
             "colorbar": {
              "outlinewidth": 0,
              "ticks": ""
             }
            },
            "type": "scattercarpet"
           }
          ],
          "scattergeo": [
           {
            "marker": {
             "colorbar": {
              "outlinewidth": 0,
              "ticks": ""
             }
            },
            "type": "scattergeo"
           }
          ],
          "scattergl": [
           {
            "marker": {
             "colorbar": {
              "outlinewidth": 0,
              "ticks": ""
             }
            },
            "type": "scattergl"
           }
          ],
          "scattermapbox": [
           {
            "marker": {
             "colorbar": {
              "outlinewidth": 0,
              "ticks": ""
             }
            },
            "type": "scattermapbox"
           }
          ],
          "scatterpolar": [
           {
            "marker": {
             "colorbar": {
              "outlinewidth": 0,
              "ticks": ""
             }
            },
            "type": "scatterpolar"
           }
          ],
          "scatterpolargl": [
           {
            "marker": {
             "colorbar": {
              "outlinewidth": 0,
              "ticks": ""
             }
            },
            "type": "scatterpolargl"
           }
          ],
          "scatterternary": [
           {
            "marker": {
             "colorbar": {
              "outlinewidth": 0,
              "ticks": ""
             }
            },
            "type": "scatterternary"
           }
          ],
          "surface": [
           {
            "colorbar": {
             "outlinewidth": 0,
             "ticks": ""
            },
            "colorscale": [
             [
              0,
              "#0d0887"
             ],
             [
              0.1111111111111111,
              "#46039f"
             ],
             [
              0.2222222222222222,
              "#7201a8"
             ],
             [
              0.3333333333333333,
              "#9c179e"
             ],
             [
              0.4444444444444444,
              "#bd3786"
             ],
             [
              0.5555555555555556,
              "#d8576b"
             ],
             [
              0.6666666666666666,
              "#ed7953"
             ],
             [
              0.7777777777777778,
              "#fb9f3a"
             ],
             [
              0.8888888888888888,
              "#fdca26"
             ],
             [
              1,
              "#f0f921"
             ]
            ],
            "type": "surface"
           }
          ],
          "table": [
           {
            "cells": {
             "fill": {
              "color": "#EBF0F8"
             },
             "line": {
              "color": "white"
             }
            },
            "header": {
             "fill": {
              "color": "#C8D4E3"
             },
             "line": {
              "color": "white"
             }
            },
            "type": "table"
           }
          ]
         },
         "layout": {
          "annotationdefaults": {
           "arrowcolor": "#2a3f5f",
           "arrowhead": 0,
           "arrowwidth": 1
          },
          "autotypenumbers": "strict",
          "coloraxis": {
           "colorbar": {
            "outlinewidth": 0,
            "ticks": ""
           }
          },
          "colorscale": {
           "diverging": [
            [
             0,
             "#8e0152"
            ],
            [
             0.1,
             "#c51b7d"
            ],
            [
             0.2,
             "#de77ae"
            ],
            [
             0.3,
             "#f1b6da"
            ],
            [
             0.4,
             "#fde0ef"
            ],
            [
             0.5,
             "#f7f7f7"
            ],
            [
             0.6,
             "#e6f5d0"
            ],
            [
             0.7,
             "#b8e186"
            ],
            [
             0.8,
             "#7fbc41"
            ],
            [
             0.9,
             "#4d9221"
            ],
            [
             1,
             "#276419"
            ]
           ],
           "sequential": [
            [
             0,
             "#0d0887"
            ],
            [
             0.1111111111111111,
             "#46039f"
            ],
            [
             0.2222222222222222,
             "#7201a8"
            ],
            [
             0.3333333333333333,
             "#9c179e"
            ],
            [
             0.4444444444444444,
             "#bd3786"
            ],
            [
             0.5555555555555556,
             "#d8576b"
            ],
            [
             0.6666666666666666,
             "#ed7953"
            ],
            [
             0.7777777777777778,
             "#fb9f3a"
            ],
            [
             0.8888888888888888,
             "#fdca26"
            ],
            [
             1,
             "#f0f921"
            ]
           ],
           "sequentialminus": [
            [
             0,
             "#0d0887"
            ],
            [
             0.1111111111111111,
             "#46039f"
            ],
            [
             0.2222222222222222,
             "#7201a8"
            ],
            [
             0.3333333333333333,
             "#9c179e"
            ],
            [
             0.4444444444444444,
             "#bd3786"
            ],
            [
             0.5555555555555556,
             "#d8576b"
            ],
            [
             0.6666666666666666,
             "#ed7953"
            ],
            [
             0.7777777777777778,
             "#fb9f3a"
            ],
            [
             0.8888888888888888,
             "#fdca26"
            ],
            [
             1,
             "#f0f921"
            ]
           ]
          },
          "colorway": [
           "#636efa",
           "#EF553B",
           "#00cc96",
           "#ab63fa",
           "#FFA15A",
           "#19d3f3",
           "#FF6692",
           "#B6E880",
           "#FF97FF",
           "#FECB52"
          ],
          "font": {
           "color": "#2a3f5f"
          },
          "geo": {
           "bgcolor": "white",
           "lakecolor": "white",
           "landcolor": "#E5ECF6",
           "showlakes": true,
           "showland": true,
           "subunitcolor": "white"
          },
          "hoverlabel": {
           "align": "left"
          },
          "hovermode": "closest",
          "mapbox": {
           "style": "light"
          },
          "paper_bgcolor": "white",
          "plot_bgcolor": "#E5ECF6",
          "polar": {
           "angularaxis": {
            "gridcolor": "white",
            "linecolor": "white",
            "ticks": ""
           },
           "bgcolor": "#E5ECF6",
           "radialaxis": {
            "gridcolor": "white",
            "linecolor": "white",
            "ticks": ""
           }
          },
          "scene": {
           "xaxis": {
            "backgroundcolor": "#E5ECF6",
            "gridcolor": "white",
            "gridwidth": 2,
            "linecolor": "white",
            "showbackground": true,
            "ticks": "",
            "zerolinecolor": "white"
           },
           "yaxis": {
            "backgroundcolor": "#E5ECF6",
            "gridcolor": "white",
            "gridwidth": 2,
            "linecolor": "white",
            "showbackground": true,
            "ticks": "",
            "zerolinecolor": "white"
           },
           "zaxis": {
            "backgroundcolor": "#E5ECF6",
            "gridcolor": "white",
            "gridwidth": 2,
            "linecolor": "white",
            "showbackground": true,
            "ticks": "",
            "zerolinecolor": "white"
           }
          },
          "shapedefaults": {
           "line": {
            "color": "#2a3f5f"
           }
          },
          "ternary": {
           "aaxis": {
            "gridcolor": "white",
            "linecolor": "white",
            "ticks": ""
           },
           "baxis": {
            "gridcolor": "white",
            "linecolor": "white",
            "ticks": ""
           },
           "bgcolor": "#E5ECF6",
           "caxis": {
            "gridcolor": "white",
            "linecolor": "white",
            "ticks": ""
           }
          },
          "title": {
           "x": 0.05
          },
          "xaxis": {
           "automargin": true,
           "gridcolor": "white",
           "linecolor": "white",
           "ticks": "",
           "title": {
            "standoff": 15
           },
           "zerolinecolor": "white",
           "zerolinewidth": 2
          },
          "yaxis": {
           "automargin": true,
           "gridcolor": "white",
           "linecolor": "white",
           "ticks": "",
           "title": {
            "standoff": 15
           },
           "zerolinecolor": "white",
           "zerolinewidth": 2
          }
         }
        },
        "title": {
         "text": "average_speed x start_time"
        },
        "width": 800,
        "xaxis": {
         "anchor": "y",
         "domain": [
          0,
          1
         ],
         "title": {
          "text": "start_time"
         }
        },
        "yaxis": {
         "anchor": "x",
         "domain": [
          0,
          1
         ],
         "title": {
          "text": "average_speed"
         }
        }
       }
      }
     },
     "metadata": {},
     "output_type": "display_data"
    }
   ],
   "source": [
    "fig.show()"
   ]
  },
  {
   "cell_type": "code",
   "execution_count": 76,
   "metadata": {},
   "outputs": [
    {
     "data": {
      "text/plain": [
       "str"
      ]
     },
     "execution_count": 76,
     "metadata": {},
     "output_type": "execute_result"
    }
   ],
   "source": [
    "type(strava_activities_clean['start_time'][2])"
   ]
  },
  {
   "cell_type": "code",
   "execution_count": 43,
   "metadata": {},
   "outputs": [],
   "source": []
  },
  {
   "cell_type": "code",
   "execution_count": 66,
   "metadata": {},
   "outputs": [
    {
     "data": {
      "text/plain": [
       "Timestamp('2022-06-28 19:05:39+0000', tz='UTC')"
      ]
     },
     "execution_count": 66,
     "metadata": {},
     "output_type": "execute_result"
    }
   ],
   "source": [
    "pd_dt_obj"
   ]
  },
  {
   "cell_type": "code",
   "execution_count": 65,
   "metadata": {},
   "outputs": [
    {
     "data": {
      "text/plain": [
       "Timestamp('2022-06-28 20:05:39+0000', tz='UTC')"
      ]
     },
     "execution_count": 65,
     "metadata": {},
     "output_type": "execute_result"
    }
   ],
   "source": [
    "pd_dt_obj + pd.Timedelta(3600, unit='sec')"
   ]
  },
  {
   "cell_type": "code",
   "execution_count": 67,
   "metadata": {},
   "outputs": [
    {
     "data": {
      "text/plain": [
       "numpy.datetime64('2022-06-28T19:05:39.000000000')"
      ]
     },
     "execution_count": 67,
     "metadata": {},
     "output_type": "execute_result"
    }
   ],
   "source": [
    "regular_dt_obj"
   ]
  }
 ],
 "metadata": {
  "kernelspec": {
   "display_name": "Python 3.10.4 ('fitenv')",
   "language": "python",
   "name": "python3"
  },
  "language_info": {
   "codemirror_mode": {
    "name": "ipython",
    "version": 3
   },
   "file_extension": ".py",
   "mimetype": "text/x-python",
   "name": "python",
   "nbconvert_exporter": "python",
   "pygments_lexer": "ipython3",
   "version": "3.10.4"
  },
  "orig_nbformat": 4,
  "vscode": {
   "interpreter": {
    "hash": "aa41fd63d626749efe36bc8d2d9c0cee9baac5e0011d961c92820e04ca9bec88"
   }
  }
 },
 "nbformat": 4,
 "nbformat_minor": 2
}
