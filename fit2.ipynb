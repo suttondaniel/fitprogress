{
 "cells": [
  {
   "cell_type": "markdown",
   "metadata": {},
   "source": [
    "#### MVP: \n",
    " * a streamlit dashboard and a tableau dashboard\n",
    " * filter by activities\n",
    " * **total time spent on activites by week**\n",
    "\n",
    "#### ideas for this data: \n",
    " * convert the map data to elevation data\n",
    " * something with the suffer score\n",
    "   * suffer per second? suffer per minute? \n",
    "\n",
    "#### to do\n",
    " * convert start_date column to pandas timestamp "
   ]
  },
  {
   "cell_type": "code",
   "execution_count": 50,
   "metadata": {},
   "outputs": [],
   "source": [
    "import pandas as pd\n",
    "#pd.options.display.max_rows = 999\n",
    "\n",
    "import time\n",
    "import datetime as dt\n",
    "import numpy as np\n",
    "from pathlib import Path\n",
    "import requests\n",
    "import json\n",
    "import urllib3\n",
    "urllib3.disable_warnings(urllib3.exceptions.InsecureRequestWarning)\n",
    "\n",
    "import streamlit as st\n",
    "import time\n",
    "\n",
    "import plotly.express as px\n",
    "import plotly.graph_objs as go\n",
    "#import matplotlib.pyplot as plt\n",
    "\n",
    "pd.options.mode.chained_assignment = None"
   ]
  },
  {
   "cell_type": "code",
   "execution_count": 80,
   "metadata": {},
   "outputs": [],
   "source": [
    "def get_strava_data(csv_file):\n",
    "    with open('strava_tokens.json') as json_file:\n",
    "        strava_tokens = json.load(json_file)\n",
    "\n",
    "    if strava_tokens['expires_at'] < time.time():\n",
    "        response = requests.post(\n",
    "                            url = 'https://www.strava.com/oauth/token',\n",
    "                            data = {\n",
    "                                    'client_id': 88709,\n",
    "                                    'client_secret': '54dab45b88619205ee1e47eb94d0f2d84762a4b2',\n",
    "                                    'grant_type': 'refresh_token',\n",
    "                                    'refresh_token': strava_tokens['refresh_token']\n",
    "                                    }\n",
    "                        ) \n",
    "        new_strava_tokens = response.json() \n",
    "        with open('strava_tokens.json', 'w') as outfile:\n",
    "            json.dump(new_strava_tokens, outfile)\n",
    "        strava_tokens = new_strava_tokens\n",
    "\n",
    "    page = 1\n",
    "    url = \"https://www.strava.com/api/v3/activities\"\n",
    "    access_token = strava_tokens['access_token']\n",
    "\n",
    "    activities = pd.read_csv(csv_file)\n",
    "\n",
    "    while True:\n",
    "        r = requests.get(url + '?access_token=' + access_token + '&per_page=200' + '&page=' + str(page))\n",
    "        r = r.json()\n",
    "        r_df = pd.DataFrame.from_dict(r, orient='columns')\n",
    "        print(r_df.head(5).id)        \n",
    "               \n",
    "        # if there are no new values (i.e. activities) found in r_df, just break.  otherwise keep going\n",
    "        if len([v for v in list(r_df['id']) if v not in list(activities['id'])]) == 0:\n",
    "            activities.drop_duplicates(subset=['id'], inplace=True)\n",
    "            activities.sort_values(by='id', ascending=False, inplace=True)\n",
    "            activities.to_csv(csv_file, index=False)\n",
    "            return activities\n",
    "\n",
    "        if (not r):   # if no results then exit loop\n",
    "            break\n",
    "            \n",
    "        activities = pd.concat([r_df, activities])\n",
    "        page += 1\n",
    "    \n",
    "    activities.drop_duplicates(subset=['id'], inplace=True)\n",
    "    activities.sort_values(by='id', ascending=False, inplace=True)\n",
    "    activities.to_csv(csv_file, index=False)\n",
    "    return activities"
   ]
  },
  {
   "cell_type": "code",
   "execution_count": 74,
   "metadata": {},
   "outputs": [],
   "source": [
    "new_acts = ['7413', '7412', '7411', '7410']\n",
    "old_acts = ['7413', '7412', '7411', '7410']"
   ]
  },
  {
   "cell_type": "code",
   "execution_count": 75,
   "metadata": {},
   "outputs": [
    {
     "data": {
      "text/plain": [
       "True"
      ]
     },
     "execution_count": 75,
     "metadata": {},
     "output_type": "execute_result"
    }
   ],
   "source": [
    "len([v for v in new_acts if v not in old_acts]) == 0"
   ]
  },
  {
   "cell_type": "code",
   "execution_count": 82,
   "metadata": {},
   "outputs": [],
   "source": [
    "#get_strava_data('strava_activities.csv')"
   ]
  },
  {
   "cell_type": "code",
   "execution_count": 227,
   "metadata": {},
   "outputs": [],
   "source": [
    "# always remember to pass index=False to not add an Unnamed column on your export! \n"
   ]
  },
  {
   "cell_type": "code",
   "execution_count": 120,
   "metadata": {},
   "outputs": [
    {
     "data": {
      "text/plain": [
       "17   2022-06-13 02:08:36+00:00\n",
       "Name: start_time, dtype: datetime64[ns, UTC]"
      ]
     },
     "execution_count": 120,
     "metadata": {},
     "output_type": "execute_result"
    }
   ],
   "source": [
    "strava_activities_clean.loc[strava_activities_clean.id == 7299973019, 'start_time']"
   ]
  },
  {
   "cell_type": "code",
   "execution_count": 104,
   "metadata": {},
   "outputs": [
    {
     "ename": "TypeError",
     "evalue": "Series.replace() got an unexpected keyword argument 'day'",
     "output_type": "error",
     "traceback": [
      "\u001b[1;31m---------------------------------------------------------------------------\u001b[0m",
      "\u001b[1;31mTypeError\u001b[0m                                 Traceback (most recent call last)",
      "\u001b[1;32mc:\\Users\\dansu\\Documents\\Python\\fitprogress\\fit2.ipynb Cell 8'\u001b[0m in \u001b[0;36m<cell line: 23>\u001b[1;34m()\u001b[0m\n\u001b[0;32m     <a href='vscode-notebook-cell:/c%3A/Users/dansu/Documents/Python/fitprogress/fit2.ipynb#ch0000006?line=19'>20</a>\u001b[0m \u001b[39m# convert start_time to pandas Timestamp object. then we can access seconds, minutes, hours, etc. and can add the moving_time\u001b[39;00m\n\u001b[0;32m     <a href='vscode-notebook-cell:/c%3A/Users/dansu/Documents/Python/fitprogress/fit2.ipynb#ch0000006?line=20'>21</a>\u001b[0m strava_activities_clean[\u001b[39m'\u001b[39m\u001b[39mstart_time\u001b[39m\u001b[39m'\u001b[39m] \u001b[39m=\u001b[39m pd\u001b[39m.\u001b[39mto_datetime(strava_activities_clean[\u001b[39m'\u001b[39m\u001b[39mstart_time\u001b[39m\u001b[39m'\u001b[39m])\n\u001b[1;32m---> <a href='vscode-notebook-cell:/c%3A/Users/dansu/Documents/Python/fitprogress/fit2.ipynb#ch0000006?line=22'>23</a>\u001b[0m strava_activities_clean\u001b[39m.\u001b[39mloc[strava_activities_clean\u001b[39m.\u001b[39mid \u001b[39m==\u001b[39m \u001b[39m7299973019\u001b[39m, \u001b[39m'\u001b[39m\u001b[39mstart_time\u001b[39m\u001b[39m'\u001b[39m] \u001b[39m=\u001b[39m strava_activities_clean\u001b[39m.\u001b[39;49mloc[strava_activities_clean\u001b[39m.\u001b[39;49mid \u001b[39m==\u001b[39;49m \u001b[39m7299973019\u001b[39;49m, \u001b[39m'\u001b[39;49m\u001b[39mstart_time\u001b[39;49m\u001b[39m'\u001b[39;49m]\u001b[39m.\u001b[39;49mreplace(day\u001b[39m=\u001b[39;49m\u001b[39m12\u001b[39;49m)\n\u001b[0;32m     <a href='vscode-notebook-cell:/c%3A/Users/dansu/Documents/Python/fitprogress/fit2.ipynb#ch0000006?line=24'>25</a>\u001b[0m strava_activities_clean\u001b[39m.\u001b[39mset_index(\u001b[39m'\u001b[39m\u001b[39mstart_time\u001b[39m\u001b[39m'\u001b[39m, inplace\u001b[39m=\u001b[39m\u001b[39mTrue\u001b[39;00m)\n",
      "\u001b[1;31mTypeError\u001b[0m: Series.replace() got an unexpected keyword argument 'day'"
     ]
    }
   ],
   "source": [
    "cols_to_drop = ['Unnamed: 0.1', 'athlete', 'resource_state', 'start_date_local', 'timezone', \n",
    "'utc_offset', 'trainer', 'commute', 'type', 'manual', 'visibility', 'flagged', 'gear_id', 'start_latlng', 'end_latlng', 'display_hide_heartrate_option',\n",
    "'upload_id_str', 'external_id', 'from_accepted_tag', 'total_photo_count', 'athlete.resource_state', 'map.id', 'map.summary_polyline', 'map.resource_state', \n",
    "'average_watts', 'kilojoules', 'device_watts', 'photo_count', 'heartrate_opt_out', 'upload_id', 'athlete.id', 'workout_type',\n",
    "'has_heartrate', 'location_city', 'location_state', 'location_country', 'private', 'has_kudoed', 'Unnamed: 0']\n",
    "\n",
    "strava_activities_raw = pd.read_csv('strava_activities.csv')\n",
    "\n",
    "strava_activities_clean = strava_activities_raw.drop(labels=cols_to_drop, axis=1)\n",
    "\n",
    "# meters to miles\n",
    "strava_activities_clean['distance'] = strava_activities_clean.distance * .000621\n",
    "\n",
    "# might be a fun metric to plot over time. perhaps my suffering per minute has gone down as ive gotten fitter\n",
    "strava_activities_clean['SPM'] = strava_activities_clean.suffer_score / (strava_activities_clean.moving_time / 60)\n",
    "\n",
    "rename = {'start_date': 'start_time'}\n",
    "strava_activities_clean.rename(rename, axis=1, inplace=True)\n",
    "\n",
    "# convert start_time to pandas Timestamp object. then we can access seconds, minutes, hours, etc. and can add the moving_time\n",
    "strava_activities_clean['start_time'] = pd.to_datetime(strava_activities_clean['start_time'])\n",
    "\n",
    "strava_activities_clean.loc[strava_activities_clean.id == 7299973019, 'start_time'] = strava_activities_clean.loc[strava_activities_clean.id == 7299973019, 'start_time'].replace(day=12)\n",
    "\n",
    "strava_activities_clean.set_index('start_time', inplace=True)"
   ]
  },
  {
   "cell_type": "code",
   "execution_count": 94,
   "metadata": {},
   "outputs": [
    {
     "data": {
      "text/plain": [
       "name                                                          Evening Run\n",
       "distance                                                         6.158146\n",
       "moving_time                                                          3467\n",
       "elapsed_time                                                         3499\n",
       "total_elevation_gain                                                233.0\n",
       "sport_type                                                            Run\n",
       "id                                                             7299973019\n",
       "achievement_count                                                       6\n",
       "kudos_count                                                             5\n",
       "comment_count                                                           0\n",
       "athlete_count                                                           1\n",
       "map                     {'id': 'a7299973019', 'summary_polyline': 'q{z...\n",
       "average_speed                                                        2.86\n",
       "max_speed                                                            4.32\n",
       "average_cadence                                                      86.9\n",
       "average_temp                                                         20.0\n",
       "average_heartrate                                                   148.6\n",
       "max_heartrate                                                       170.0\n",
       "elev_high                                                           181.4\n",
       "elev_low                                                             42.8\n",
       "pr_count                                                                5\n",
       "suffer_score                                                         69.0\n",
       "SPM                                                              1.194116\n",
       "Name: 2022-06-13 02:08:36+00:00, dtype: object"
      ]
     },
     "execution_count": 94,
     "metadata": {},
     "output_type": "execute_result"
    }
   ],
   "source": [
    "strava_activities_clean.iloc[17]"
   ]
  },
  {
   "cell_type": "code",
   "execution_count": 95,
   "metadata": {},
   "outputs": [],
   "source": [
    "tst = strava_activities_clean.index[17]"
   ]
  },
  {
   "cell_type": "code",
   "execution_count": 98,
   "metadata": {},
   "outputs": [
    {
     "ename": "TypeError",
     "evalue": "Index does not support mutable operations",
     "output_type": "error",
     "traceback": [
      "\u001b[1;31m---------------------------------------------------------------------------\u001b[0m",
      "\u001b[1;31mTypeError\u001b[0m                                 Traceback (most recent call last)",
      "\u001b[1;32mc:\\Users\\dansu\\Documents\\Python\\fitprogress\\fit2.ipynb Cell 11'\u001b[0m in \u001b[0;36m<cell line: 1>\u001b[1;34m()\u001b[0m\n\u001b[1;32m----> <a href='vscode-notebook-cell:/c%3A/Users/dansu/Documents/Python/fitprogress/fit2.ipynb#ch0000024?line=0'>1</a>\u001b[0m strava_activities_clean\u001b[39m.\u001b[39mindex[\u001b[39m17\u001b[39m] \u001b[39m=\u001b[39m strava_activities_clean\u001b[39m.\u001b[39mindex[\u001b[39m17\u001b[39m]\u001b[39m.\u001b[39mreplace(day\u001b[39m=\u001b[39m\u001b[39m12\u001b[39m)\n",
      "File \u001b[1;32mc:\\ProgramData\\Miniconda3\\envs\\fitenv\\lib\\site-packages\\pandas\\core\\indexes\\base.py:5021\u001b[0m, in \u001b[0;36mIndex.__setitem__\u001b[1;34m(self, key, value)\u001b[0m\n\u001b[0;32m   5019\u001b[0m \u001b[39m@final\u001b[39m\n\u001b[0;32m   5020\u001b[0m \u001b[39mdef\u001b[39;00m \u001b[39m__setitem__\u001b[39m(\u001b[39mself\u001b[39m, key, value):\n\u001b[1;32m-> 5021\u001b[0m     \u001b[39mraise\u001b[39;00m \u001b[39mTypeError\u001b[39;00m(\u001b[39m\"\u001b[39m\u001b[39mIndex does not support mutable operations\u001b[39m\u001b[39m\"\u001b[39m)\n",
      "\u001b[1;31mTypeError\u001b[0m: Index does not support mutable operations"
     ]
    }
   ],
   "source": [
    "strava_activities_clean.index[17] = strava_activities_clean.index[17].replace(day=12)"
   ]
  },
  {
   "cell_type": "code",
   "execution_count": 88,
   "metadata": {},
   "outputs": [
    {
     "data": {
      "text/plain": [
       "start_time\n",
       "2022-04-04 00:00:00+00:00    30.598409\n",
       "2022-04-11 00:00:00+00:00    32.343108\n",
       "2022-04-18 00:00:00+00:00    39.471629\n",
       "2022-04-25 00:00:00+00:00    22.761140\n",
       "2022-05-02 00:00:00+00:00    41.244522\n",
       "2022-05-09 00:00:00+00:00    26.253520\n",
       "2022-05-16 00:00:00+00:00    20.777232\n",
       "2022-05-23 00:00:00+00:00    43.479315\n",
       "2022-05-30 00:00:00+00:00    30.362615\n",
       "2022-06-06 00:00:00+00:00    33.258152\n",
       "2022-06-13 00:00:00+00:00    27.664060\n",
       "2022-06-20 00:00:00+00:00    28.054979\n",
       "2022-06-27 00:00:00+00:00    42.420821\n",
       "2022-07-04 00:00:00+00:00    26.436405\n",
       "2022-07-11 00:00:00+00:00     5.492310\n",
       "Freq: W-MON, Name: distance, dtype: float64"
      ]
     },
     "execution_count": 88,
     "metadata": {},
     "output_type": "execute_result"
    }
   ],
   "source": [
    "# my 6/12 run is showing up as 6/13\n",
    "strava_activities_clean[strava_activities_clean['sport_type'] == 'Run'].resample('W-Mon', closed='left').distance.sum().tail(15)"
   ]
  },
  {
   "cell_type": "code",
   "execution_count": 97,
   "metadata": {},
   "outputs": [],
   "source": [
    "#strava_activities_clean[strava_activities_clean['sport_type'] == 'Run'].head(30)\n"
   ]
  },
  {
   "cell_type": "code",
   "execution_count": 42,
   "metadata": {},
   "outputs": [
    {
     "data": {
      "text/html": [
       "<div>\n",
       "<style scoped>\n",
       "    .dataframe tbody tr th:only-of-type {\n",
       "        vertical-align: middle;\n",
       "    }\n",
       "\n",
       "    .dataframe tbody tr th {\n",
       "        vertical-align: top;\n",
       "    }\n",
       "\n",
       "    .dataframe thead th {\n",
       "        text-align: right;\n",
       "    }\n",
       "</style>\n",
       "<table border=\"1\" class=\"dataframe\">\n",
       "  <thead>\n",
       "    <tr style=\"text-align: right;\">\n",
       "      <th></th>\n",
       "      <th>name</th>\n",
       "      <th>distance</th>\n",
       "      <th>moving_time</th>\n",
       "      <th>elapsed_time</th>\n",
       "      <th>total_elevation_gain</th>\n",
       "      <th>sport_type</th>\n",
       "      <th>id</th>\n",
       "      <th>achievement_count</th>\n",
       "      <th>kudos_count</th>\n",
       "      <th>comment_count</th>\n",
       "      <th>...</th>\n",
       "      <th>max_speed</th>\n",
       "      <th>average_cadence</th>\n",
       "      <th>average_temp</th>\n",
       "      <th>average_heartrate</th>\n",
       "      <th>max_heartrate</th>\n",
       "      <th>elev_high</th>\n",
       "      <th>elev_low</th>\n",
       "      <th>pr_count</th>\n",
       "      <th>suffer_score</th>\n",
       "      <th>SPM</th>\n",
       "    </tr>\n",
       "    <tr>\n",
       "      <th>start_time</th>\n",
       "      <th></th>\n",
       "      <th></th>\n",
       "      <th></th>\n",
       "      <th></th>\n",
       "      <th></th>\n",
       "      <th></th>\n",
       "      <th></th>\n",
       "      <th></th>\n",
       "      <th></th>\n",
       "      <th></th>\n",
       "      <th></th>\n",
       "      <th></th>\n",
       "      <th></th>\n",
       "      <th></th>\n",
       "      <th></th>\n",
       "      <th></th>\n",
       "      <th></th>\n",
       "      <th></th>\n",
       "      <th></th>\n",
       "      <th></th>\n",
       "      <th></th>\n",
       "    </tr>\n",
       "  </thead>\n",
       "  <tbody>\n",
       "    <tr>\n",
       "      <th>2022-06-30 21:39:30+00:00</th>\n",
       "      <td>Afternoon Run</td>\n",
       "      <td>6.014199</td>\n",
       "      <td>3682</td>\n",
       "      <td>3685</td>\n",
       "      <td>314.0</td>\n",
       "      <td>Run</td>\n",
       "      <td>7395188303</td>\n",
       "      <td>11</td>\n",
       "      <td>3</td>\n",
       "      <td>0</td>\n",
       "      <td>...</td>\n",
       "      <td>4.392</td>\n",
       "      <td>84.4</td>\n",
       "      <td>28.0</td>\n",
       "      <td>154.1</td>\n",
       "      <td>180.0</td>\n",
       "      <td>183.2</td>\n",
       "      <td>48.2</td>\n",
       "      <td>6</td>\n",
       "      <td>102.0</td>\n",
       "      <td>1.662140</td>\n",
       "    </tr>\n",
       "    <tr>\n",
       "      <th>2022-06-30 00:12:17+00:00</th>\n",
       "      <td>Afternoon Golf</td>\n",
       "      <td>6.437597</td>\n",
       "      <td>10586</td>\n",
       "      <td>14280</td>\n",
       "      <td>120.0</td>\n",
       "      <td>Golf</td>\n",
       "      <td>7390944431</td>\n",
       "      <td>0</td>\n",
       "      <td>2</td>\n",
       "      <td>0</td>\n",
       "      <td>...</td>\n",
       "      <td>2.624</td>\n",
       "      <td>NaN</td>\n",
       "      <td>28.0</td>\n",
       "      <td>102.5</td>\n",
       "      <td>148.0</td>\n",
       "      <td>93.8</td>\n",
       "      <td>68.4</td>\n",
       "      <td>0</td>\n",
       "      <td>29.0</td>\n",
       "      <td>0.164368</td>\n",
       "    </tr>\n",
       "    <tr>\n",
       "      <th>2022-06-29 19:24:38+00:00</th>\n",
       "      <td>Lunch Run</td>\n",
       "      <td>4.054633</td>\n",
       "      <td>2165</td>\n",
       "      <td>2168</td>\n",
       "      <td>132.0</td>\n",
       "      <td>Run</td>\n",
       "      <td>7389543804</td>\n",
       "      <td>3</td>\n",
       "      <td>1</td>\n",
       "      <td>0</td>\n",
       "      <td>...</td>\n",
       "      <td>4.302</td>\n",
       "      <td>87.0</td>\n",
       "      <td>27.0</td>\n",
       "      <td>150.8</td>\n",
       "      <td>167.0</td>\n",
       "      <td>181.4</td>\n",
       "      <td>49.0</td>\n",
       "      <td>0</td>\n",
       "      <td>47.0</td>\n",
       "      <td>1.302540</td>\n",
       "    </tr>\n",
       "  </tbody>\n",
       "</table>\n",
       "<p>3 rows × 23 columns</p>\n",
       "</div>"
      ],
      "text/plain": [
       "                                     name  distance  moving_time  \\\n",
       "start_time                                                         \n",
       "2022-06-30 21:39:30+00:00   Afternoon Run  6.014199         3682   \n",
       "2022-06-30 00:12:17+00:00  Afternoon Golf  6.437597        10586   \n",
       "2022-06-29 19:24:38+00:00       Lunch Run  4.054633         2165   \n",
       "\n",
       "                           elapsed_time  total_elevation_gain sport_type  \\\n",
       "start_time                                                                 \n",
       "2022-06-30 21:39:30+00:00          3685                 314.0        Run   \n",
       "2022-06-30 00:12:17+00:00         14280                 120.0       Golf   \n",
       "2022-06-29 19:24:38+00:00          2168                 132.0        Run   \n",
       "\n",
       "                                   id  achievement_count  kudos_count  \\\n",
       "start_time                                                              \n",
       "2022-06-30 21:39:30+00:00  7395188303                 11            3   \n",
       "2022-06-30 00:12:17+00:00  7390944431                  0            2   \n",
       "2022-06-29 19:24:38+00:00  7389543804                  3            1   \n",
       "\n",
       "                           comment_count  ...  max_speed average_cadence  \\\n",
       "start_time                                ...                              \n",
       "2022-06-30 21:39:30+00:00              0  ...      4.392            84.4   \n",
       "2022-06-30 00:12:17+00:00              0  ...      2.624             NaN   \n",
       "2022-06-29 19:24:38+00:00              0  ...      4.302            87.0   \n",
       "\n",
       "                           average_temp  average_heartrate  max_heartrate  \\\n",
       "start_time                                                                  \n",
       "2022-06-30 21:39:30+00:00          28.0              154.1          180.0   \n",
       "2022-06-30 00:12:17+00:00          28.0              102.5          148.0   \n",
       "2022-06-29 19:24:38+00:00          27.0              150.8          167.0   \n",
       "\n",
       "                           elev_high  elev_low  pr_count  suffer_score  \\\n",
       "start_time                                                               \n",
       "2022-06-30 21:39:30+00:00      183.2      48.2         6         102.0   \n",
       "2022-06-30 00:12:17+00:00       93.8      68.4         0          29.0   \n",
       "2022-06-29 19:24:38+00:00      181.4      49.0         0          47.0   \n",
       "\n",
       "                                SPM  \n",
       "start_time                           \n",
       "2022-06-30 21:39:30+00:00  1.662140  \n",
       "2022-06-30 00:12:17+00:00  0.164368  \n",
       "2022-06-29 19:24:38+00:00  1.302540  \n",
       "\n",
       "[3 rows x 23 columns]"
      ]
     },
     "execution_count": 42,
     "metadata": {},
     "output_type": "execute_result"
    }
   ],
   "source": [
    "strava_activities_clean.head(3)"
   ]
  },
  {
   "cell_type": "code",
   "execution_count": 106,
   "metadata": {},
   "outputs": [],
   "source": [
    "x = 'start_time'\n",
    "y = 'average_speed'\n",
    "df = strava_activities_clean[(strava_activities_clean.sport_type == 'Run') & (strava_activities_clean.distance.between(3.99, 8.5))]\n",
    "\n",
    "fig = px.scatter(data_frame=df, \n",
    "                        y=y,   # choice \n",
    "                        x=x,\n",
    "                        #hover_data=['distance', 'calories'], \n",
    "                        #labels=dict(x='Date', time='Time', avg_run_cadence='Average Run Cadence', avg_pace='Average Pace'), \n",
    "                        title=str(y + ' x ' + x),\n",
    "                        #size='distance',\n",
    "                        #color='distance',\n",
    "                        template='plotly',\n",
    "                        height=500, \n",
    "                        width=800, \n",
    "                        #trendline='ols'\n",
    "                        )"
   ]
  },
  {
   "cell_type": "code",
   "execution_count": 107,
   "metadata": {},
   "outputs": [
    {
     "data": {
      "application/vnd.plotly.v1+json": {
       "config": {
        "plotlyServerURL": "https://plot.ly"
       },
       "data": [
        {
         "hovertemplate": "start_time=%{x}<br>average_speed=%{y}<extra></extra>",
         "legendgroup": "",
         "marker": {
          "color": "#636efa",
          "symbol": "circle"
         },
         "mode": "markers",
         "name": "",
         "orientation": "v",
         "showlegend": false,
         "type": "scatter",
         "x": [
          "2022-06-30T21:39:30+00:00",
          "2022-06-29T19:24:38+00:00",
          "2022-06-28T19:05:39+00:00",
          "2022-06-24T18:38:54+00:00",
          "2022-06-22T17:42:39+00:00",
          "2022-06-22T02:12:17+00:00",
          "2022-06-20T16:56:29+00:00",
          "2022-06-15T18:51:08+00:00",
          "2022-06-14T20:00:50+00:00",
          "2022-06-13T18:53:51+00:00",
          "2022-06-13T02:08:36+00:00",
          "2022-06-11T22:53:46+00:00",
          "2022-06-08T03:07:34+00:00",
          "2022-06-06T19:11:28+00:00",
          "2022-06-04T23:17:56+00:00",
          "2022-06-02T19:27:41+00:00",
          "2022-06-01T22:27:03+00:00",
          "2022-05-31T18:44:32+00:00",
          "2022-05-27T18:19:44+00:00",
          "2022-05-26T16:42:54+00:00",
          "2022-05-25T18:46:09+00:00",
          "2022-05-24T19:57:02+00:00",
          "2022-05-21T22:46:10+00:00",
          "2022-05-20T22:59:29+00:00",
          "2022-05-18T19:40:15+00:00",
          "2022-05-17T19:58:17+00:00",
          "2022-05-16T19:22:42+00:00",
          "2022-05-13T18:42:01+00:00",
          "2022-05-11T02:18:03+00:00",
          "2022-05-09T18:59:51+00:00",
          "2022-05-06T00:50:20+00:00",
          "2022-05-04T19:20:52+00:00",
          "2022-05-03T19:23:50+00:00",
          "2022-05-02T19:41:50+00:00",
          "2022-04-28T19:38:19+00:00",
          "2022-04-27T19:26:16+00:00",
          "2022-04-26T16:05:22+00:00",
          "2022-04-25T20:55:45+00:00",
          "2022-04-21T17:49:50+00:00",
          "2022-04-20T19:58:09+00:00",
          "2022-04-20T00:51:57+00:00",
          "2022-04-14T19:52:14+00:00",
          "2022-04-13T19:16:41+00:00",
          "2022-04-12T19:19:36+00:00",
          "2022-04-10T18:44:31+00:00",
          "2022-04-08T17:22:06+00:00",
          "2022-04-07T19:00:43+00:00",
          "2022-04-06T19:00:46+00:00",
          "2022-04-05T19:35:07+00:00",
          "2022-03-30T21:40:18+00:00",
          "2022-03-29T20:04:11+00:00",
          "2022-03-28T21:18:03+00:00",
          "2022-03-24T17:06:44+00:00",
          "2022-03-23T19:36:47+00:00",
          "2022-03-22T20:49:06+00:00",
          "2022-03-20T21:47:21+00:00",
          "2022-03-17T19:26:20+00:00",
          "2022-03-16T19:34:11+00:00",
          "2022-03-15T20:34:34+00:00",
          "2022-03-15T00:35:44+00:00",
          "2022-03-11T00:20:48+00:00",
          "2022-03-07T21:10:07+00:00",
          "2022-03-03T20:13:45+00:00",
          "2022-03-02T21:10:10+00:00",
          "2022-02-28T19:41:31+00:00",
          "2022-02-25T21:27:33+00:00",
          "2022-02-24T20:12:53+00:00",
          "2022-02-23T20:20:54+00:00",
          "2022-02-22T19:50:56+00:00",
          "2022-02-17T19:42:45+00:00",
          "2022-02-16T19:45:03+00:00",
          "2022-02-15T15:06:59+00:00",
          "2022-02-14T21:59:05+00:00",
          "2022-02-10T19:48:59+00:00",
          "2022-02-09T19:56:50+00:00",
          "2022-02-08T20:03:13+00:00",
          "2022-02-07T00:11:38+00:00",
          "2022-02-05T22:00:54+00:00",
          "2022-02-03T19:10:48+00:00",
          "2022-02-02T19:48:46+00:00",
          "2022-02-01T20:51:38+00:00",
          "2022-01-29T20:35:40+00:00",
          "2022-01-27T20:35:00+00:00",
          "2022-01-26T20:10:10+00:00",
          "2022-01-25T20:06:00+00:00",
          "2022-01-20T20:14:28+00:00",
          "2022-01-20T00:38:02+00:00",
          "2022-01-18T19:53:45+00:00",
          "2022-01-13T20:59:09+00:00",
          "2022-01-12T20:11:29+00:00",
          "2022-01-11T19:15:25+00:00",
          "2022-01-09T22:40:51+00:00",
          "2022-01-06T20:30:21+00:00",
          "2022-01-05T20:57:51+00:00",
          "2022-01-04T21:07:24+00:00",
          "2022-01-01T20:39:08+00:00",
          "2021-12-30T22:59:51+00:00",
          "2021-12-19T20:43:48+00:00",
          "2021-12-18T21:55:54+00:00",
          "2021-12-17T22:39:52+00:00",
          "2021-12-15T20:53:20+00:00",
          "2021-12-14T15:11:09+00:00",
          "2021-12-13T20:30:39+00:00",
          "2021-12-10T20:43:12+00:00",
          "2021-12-09T19:23:12+00:00",
          "2021-12-07T20:32:53+00:00",
          "2021-12-05T22:02:24+00:00",
          "2021-12-03T20:45:43+00:00",
          "2021-12-01T20:44:04+00:00",
          "2021-11-30T21:35:28+00:00",
          "2021-11-28T20:20:59+00:00",
          "2021-11-25T19:15:31+00:00",
          "2021-11-24T20:07:24+00:00",
          "2021-11-23T20:57:07+00:00",
          "2021-11-22T20:18:34+00:00",
          "2021-11-20T22:32:53+00:00",
          "2021-11-19T21:27:41+00:00",
          "2021-11-11T23:56:36+00:00",
          "2021-11-09T20:33:35+00:00",
          "2021-11-08T19:46:53+00:00",
          "2021-11-05T00:51:23+00:00",
          "2021-11-04T03:02:46+00:00",
          "2021-11-02T20:43:23+00:00",
          "2021-11-01T22:51:27+00:00",
          "2021-10-29T19:12:47+00:00",
          "2021-10-29T00:41:08+00:00",
          "2021-10-26T19:30:07+00:00",
          "2021-10-25T19:13:43+00:00",
          "2021-10-21T19:28:25+00:00",
          "2021-10-19T20:15:35+00:00",
          "2021-10-16T17:07:31+00:00",
          "2021-10-14T22:16:53+00:00",
          "2021-10-13T20:31:31+00:00",
          "2021-10-11T23:38:54+00:00",
          "2021-10-08T18:54:23+00:00",
          "2021-10-07T18:57:16+00:00",
          "2021-10-04T19:26:59+00:00",
          "2021-09-29T20:17:53+00:00",
          "2021-09-28T21:04:00+00:00",
          "2021-09-17T21:39:31+00:00",
          "2021-09-16T02:02:12+00:00",
          "2021-09-14T20:31:25+00:00",
          "2021-09-13T18:34:03+00:00",
          "2021-09-09T18:48:59+00:00",
          "2021-09-07T20:56:48+00:00",
          "2021-09-02T18:49:18+00:00",
          "2021-09-01T01:48:42+00:00",
          "2021-08-29T22:01:54+00:00",
          "2021-08-26T21:57:37+00:00",
          "2021-08-24T21:13:08+00:00",
          "2021-08-19T19:58:15+00:00",
          "2021-08-17T19:44:33+00:00",
          "2021-08-15T21:27:28+00:00",
          "2021-08-12T18:27:25+00:00",
          "2021-08-11T17:45:02+00:00",
          "2021-08-10T19:54:59+00:00",
          "2021-08-03T19:59:31+00:00",
          "2021-08-02T19:18:21+00:00",
          "2021-07-30T18:05:10+00:00",
          "2021-07-28T20:01:16+00:00",
          "2021-07-26T19:27:31+00:00",
          "2021-07-23T02:05:53+00:00",
          "2021-07-20T19:44:44+00:00",
          "2021-07-15T19:24:23+00:00",
          "2021-07-14T19:17:00+00:00",
          "2021-07-13T20:28:32+00:00",
          "2021-07-07T19:38:32+00:00",
          "2021-07-05T22:30:22+00:00",
          "2021-07-01T19:14:37+00:00",
          "2021-06-30T18:03:49+00:00",
          "2021-06-30T01:40:59+00:00",
          "2021-06-24T20:13:27+00:00",
          "2021-06-23T20:09:34+00:00",
          "2021-06-22T19:22:13+00:00",
          "2021-06-17T19:13:34+00:00",
          "2021-06-17T00:55:26+00:00",
          "2021-06-15T20:44:02+00:00",
          "2021-06-10T20:35:44+00:00",
          "2021-06-09T19:51:58+00:00",
          "2021-06-09T00:06:46+00:00",
          "2021-06-03T18:53:49+00:00",
          "2021-06-01T22:20:30+00:00",
          "2021-05-31T01:21:00+00:00",
          "2021-05-27T20:28:59+00:00",
          "2021-05-26T20:07:43+00:00",
          "2021-05-20T00:31:30+00:00",
          "2021-05-14T19:17:16+00:00",
          "2021-05-11T20:06:32+00:00",
          "2021-05-09T18:31:45+00:00",
          "2021-05-06T16:49:57+00:00",
          "2021-05-05T22:30:12+00:00",
          "2021-05-03T00:55:27+00:00",
          "2021-04-29T20:28:43+00:00",
          "2021-04-28T20:10:19+00:00",
          "2021-04-27T20:18:43+00:00",
          "2021-04-22T20:22:30+00:00",
          "2021-04-21T22:12:45+00:00",
          "2021-04-21T00:35:16+00:00",
          "2021-04-15T21:55:11+00:00",
          "2021-04-13T20:51:39+00:00",
          "2021-04-11T22:01:05+00:00",
          "2021-04-08T19:33:06+00:00",
          "2021-04-07T21:49:12+00:00",
          "2021-04-06T20:06:31+00:00",
          "2021-04-01T19:33:48+00:00",
          "2021-03-31T20:01:00+00:00",
          "2021-03-30T19:56:31+00:00",
          "2021-03-28T22:06:13+00:00",
          "2021-03-25T20:24:54+00:00",
          "2021-03-24T15:08:39+00:00",
          "2021-03-23T20:22:26+00:00",
          "2021-03-18T20:39:25+00:00",
          "2021-03-16T21:16:35+00:00",
          "2021-03-11T20:13:08+00:00",
          "2021-03-10T21:14:12+00:00",
          "2021-03-09T21:48:25+00:00",
          "2021-03-04T20:33:29+00:00",
          "2021-03-03T21:04:44+00:00",
          "2021-03-02T20:48:41+00:00",
          "2021-03-01T00:19:40+00:00",
          "2021-02-25T20:36:20+00:00",
          "2021-02-24T20:10:21+00:00",
          "2021-02-23T21:27:33+00:00",
          "2021-02-20T19:02:27+00:00",
          "2021-02-18T21:37:01+00:00",
          "2021-02-16T19:38:28+00:00",
          "2021-02-14T16:51:26+00:00",
          "2021-02-11T18:13:56+00:00",
          "2021-02-10T21:54:22+00:00",
          "2021-02-09T22:03:33+00:00",
          "2021-02-07T22:06:53+00:00",
          "2021-02-04T20:16:40+00:00",
          "2021-02-02T20:41:03+00:00",
          "2021-01-31T18:01:35+00:00",
          "2021-01-28T20:55:20+00:00",
          "2021-01-27T20:43:45+00:00",
          "2021-01-26T21:27:29+00:00",
          "2021-01-21T15:08:18+00:00",
          "2021-01-19T20:02:12+00:00",
          "2021-01-18T00:16:17+00:00",
          "2021-01-14T20:07:55+00:00",
          "2021-01-12T20:11:00+00:00",
          "2021-01-11T00:44:41+00:00",
          "2021-01-08T23:03:34+00:00",
          "2021-01-07T20:08:55+00:00",
          "2021-01-05T21:21:00+00:00",
          "2021-01-04T20:40:23+00:00",
          "2021-01-02T18:12:10+00:00",
          "2020-12-31T18:37:05+00:00",
          "2020-12-30T18:26:35+00:00",
          "2020-12-28T18:54:10+00:00",
          "2020-12-26T19:20:18+00:00",
          "2020-12-24T21:00:26+00:00",
          "2020-12-23T18:07:43+00:00",
          "2020-12-22T20:25:16+00:00",
          "2020-12-20T23:24:06+00:00",
          "2020-12-17T20:58:01+00:00",
          "2020-12-16T22:31:37+00:00",
          "2020-12-14T21:27:56+00:00",
          "2020-12-12T21:02:20+00:00",
          "2020-12-10T18:35:14+00:00",
          "2020-12-08T22:18:35+00:00",
          "2020-12-06T22:05:19+00:00",
          "2020-12-05T18:49:26+00:00",
          "2020-12-03T20:56:23+00:00",
          "2020-12-01T21:38:44+00:00",
          "2020-11-30T22:04:11+00:00",
          "2020-11-28T18:19:12+00:00",
          "2020-11-26T19:21:06+00:00",
          "2020-11-23T21:20:33+00:00",
          "2020-11-22T00:10:17+00:00",
          "2020-11-20T21:31:09+00:00",
          "2020-11-19T21:33:06+00:00",
          "2020-11-16T21:17:51+00:00",
          "2020-11-14T00:23:46+00:00",
          "2020-11-12T19:55:48+00:00",
          "2020-11-09T00:14:17+00:00",
          "2020-11-06T22:33:08+00:00",
          "2020-11-04T20:16:30+00:00",
          "2020-11-03T22:17:58+00:00",
          "2020-11-01T21:21:42+00:00",
          "2020-10-29T20:12:43+00:00",
          "2020-10-27T21:07:59+00:00",
          "2020-10-25T20:33:49+00:00",
          "2020-10-23T21:04:25+00:00",
          "2020-10-21T20:36:20+00:00",
          "2020-10-18T18:27:14+00:00",
          "2020-10-10T22:31:39+00:00",
          "2020-10-08T20:17:44+00:00",
          "2020-10-04T22:47:11+00:00",
          "2020-09-29T00:56:57+00:00",
          "2020-09-26T01:22:29+00:00",
          "2020-09-20T21:24:14+00:00",
          "2020-09-19T17:32:09+00:00",
          "2020-09-06T00:03:41+00:00",
          "2020-08-20T19:48:59+00:00",
          "2020-08-08T23:56:25+00:00",
          "2020-07-29T19:42:13+00:00",
          "2020-07-14T20:26:36+00:00",
          "2020-06-06T20:21:26+00:00",
          "2020-05-17T22:36:32+00:00",
          "2020-05-13T02:12:31+00:00",
          "2020-05-03T21:58:19+00:00",
          "2020-05-03T00:56:17+00:00",
          "2020-04-24T20:32:27+00:00",
          "2020-04-06T21:02:11+00:00",
          "2020-03-07T22:41:22+00:00"
         ],
         "xaxis": "x",
         "y": [
          2.63,
          3.016,
          2.979,
          3.13,
          2.896,
          2.389,
          3.126,
          2.83,
          2.836,
          2.94,
          2.86,
          3.031,
          2.889,
          2.664,
          3.238,
          2.941,
          2.539,
          3.005,
          2.919,
          3.256,
          2.896,
          2.849,
          2.717,
          2.94,
          2.921,
          2.887,
          2.938,
          2.807,
          2.88,
          3.081,
          3.047,
          3.087,
          2.649,
          3.072,
          2.893,
          2.711,
          3.248,
          2.915,
          3.051,
          3.08,
          2.896,
          3.012,
          2.9,
          3.074,
          2.817,
          2.871,
          2.957,
          2.743,
          2.938,
          3.194,
          2.849,
          3.053,
          2.994,
          2.89,
          3.057,
          2.881,
          2.829,
          3,
          2.936,
          2.845,
          3.129,
          2.949,
          2.855,
          2.817,
          3.404,
          2.961,
          2.758,
          2.984,
          2.87,
          2.86,
          2.885,
          2.962,
          2.928,
          2.806,
          2.98,
          2.939,
          2.857,
          2.966,
          2.755,
          2.923,
          2.744,
          2.923,
          2.808,
          2.809,
          2.781,
          2.76,
          3.111,
          2.82,
          2.801,
          2.656,
          2.564,
          2.755,
          2.578,
          2.612,
          2.577,
          1.991,
          2.621,
          2.129,
          3.104,
          3.04,
          2.262,
          2.33,
          2.295,
          2.253,
          2.352,
          2.77,
          3.547,
          3.042,
          2.777,
          3.23,
          2.81,
          3.52,
          2.989,
          2.774,
          2.8,
          2.748,
          3.007,
          2.986,
          2.863,
          2.946,
          3.021,
          2.988,
          2.861,
          3.324,
          2.964,
          3.227,
          2.994,
          3,
          3.436,
          3.403,
          2.876,
          3.008,
          2.887,
          3.019,
          3.122,
          2.886,
          2.823,
          2.823,
          3.277,
          3.254,
          2.896,
          2.707,
          2.757,
          2.836,
          2.767,
          2.674,
          2.845,
          2.817,
          2.688,
          2.853,
          2.784,
          2.722,
          2.862,
          2.792,
          2.846,
          2.885,
          2.966,
          2.944,
          2.811,
          2.786,
          2.701,
          2.856,
          2.822,
          2.792,
          2.697,
          2.897,
          2.741,
          2.826,
          2.719,
          2.965,
          2.821,
          2.726,
          2.919,
          2.784,
          2.694,
          2.849,
          2.714,
          2.715,
          3.074,
          3.018,
          2.783,
          2.724,
          2.81,
          2.854,
          2.87,
          2.719,
          2.942,
          2.902,
          2.686,
          2.738,
          2.921,
          2.704,
          2.799,
          3.12,
          2.855,
          2.778,
          2.905,
          2.76,
          2.932,
          2.862,
          2.778,
          2.64,
          2.86,
          2.728,
          2.761,
          2.832,
          2.866,
          2.854,
          2.847,
          2.677,
          2.748,
          3.144,
          2.997,
          3.068,
          3.035,
          2.963,
          3.27,
          2.951,
          2.843,
          2.861,
          3.074,
          2.838,
          2.858,
          2.875,
          2.817,
          2.793,
          2.857,
          2.801,
          2.692,
          3.133,
          2.96,
          2.866,
          2.918,
          2.768,
          2.699,
          2.778,
          3.035,
          2.84,
          3.1,
          2.991,
          3.023,
          3.18,
          2.895,
          3.124,
          3.106,
          3.381,
          3.405,
          3.038,
          3.111,
          3.061,
          3.088,
          3.036,
          2.989,
          3.351,
          3.122,
          3.102,
          3.153,
          3.27,
          3.107,
          3.05,
          3.18,
          3.129,
          3.365,
          3.228,
          3.091,
          3.034,
          3.301,
          2.9,
          2.649,
          2.934,
          2.914,
          2.921,
          3.036,
          3.008,
          3.02,
          3.017,
          2.937,
          3.124,
          3.124,
          3.028,
          2.824,
          2.888,
          2.937,
          2.86,
          2.984,
          2.952,
          3.071,
          2.824,
          2.98,
          2.836,
          2.879,
          2.871,
          2.955,
          2.961,
          2.791,
          2.718,
          2.928,
          2.759,
          2.77,
          2.868,
          2.816,
          2.834,
          2.653,
          2.767,
          2.698,
          2.661,
          2.661
         ],
         "yaxis": "y"
        }
       ],
       "layout": {
        "height": 500,
        "legend": {
         "tracegroupgap": 0
        },
        "template": {
         "data": {
          "bar": [
           {
            "error_x": {
             "color": "#2a3f5f"
            },
            "error_y": {
             "color": "#2a3f5f"
            },
            "marker": {
             "line": {
              "color": "#E5ECF6",
              "width": 0.5
             },
             "pattern": {
              "fillmode": "overlay",
              "size": 10,
              "solidity": 0.2
             }
            },
            "type": "bar"
           }
          ],
          "barpolar": [
           {
            "marker": {
             "line": {
              "color": "#E5ECF6",
              "width": 0.5
             },
             "pattern": {
              "fillmode": "overlay",
              "size": 10,
              "solidity": 0.2
             }
            },
            "type": "barpolar"
           }
          ],
          "carpet": [
           {
            "aaxis": {
             "endlinecolor": "#2a3f5f",
             "gridcolor": "white",
             "linecolor": "white",
             "minorgridcolor": "white",
             "startlinecolor": "#2a3f5f"
            },
            "baxis": {
             "endlinecolor": "#2a3f5f",
             "gridcolor": "white",
             "linecolor": "white",
             "minorgridcolor": "white",
             "startlinecolor": "#2a3f5f"
            },
            "type": "carpet"
           }
          ],
          "choropleth": [
           {
            "colorbar": {
             "outlinewidth": 0,
             "ticks": ""
            },
            "type": "choropleth"
           }
          ],
          "contour": [
           {
            "colorbar": {
             "outlinewidth": 0,
             "ticks": ""
            },
            "colorscale": [
             [
              0,
              "#0d0887"
             ],
             [
              0.1111111111111111,
              "#46039f"
             ],
             [
              0.2222222222222222,
              "#7201a8"
             ],
             [
              0.3333333333333333,
              "#9c179e"
             ],
             [
              0.4444444444444444,
              "#bd3786"
             ],
             [
              0.5555555555555556,
              "#d8576b"
             ],
             [
              0.6666666666666666,
              "#ed7953"
             ],
             [
              0.7777777777777778,
              "#fb9f3a"
             ],
             [
              0.8888888888888888,
              "#fdca26"
             ],
             [
              1,
              "#f0f921"
             ]
            ],
            "type": "contour"
           }
          ],
          "contourcarpet": [
           {
            "colorbar": {
             "outlinewidth": 0,
             "ticks": ""
            },
            "type": "contourcarpet"
           }
          ],
          "heatmap": [
           {
            "colorbar": {
             "outlinewidth": 0,
             "ticks": ""
            },
            "colorscale": [
             [
              0,
              "#0d0887"
             ],
             [
              0.1111111111111111,
              "#46039f"
             ],
             [
              0.2222222222222222,
              "#7201a8"
             ],
             [
              0.3333333333333333,
              "#9c179e"
             ],
             [
              0.4444444444444444,
              "#bd3786"
             ],
             [
              0.5555555555555556,
              "#d8576b"
             ],
             [
              0.6666666666666666,
              "#ed7953"
             ],
             [
              0.7777777777777778,
              "#fb9f3a"
             ],
             [
              0.8888888888888888,
              "#fdca26"
             ],
             [
              1,
              "#f0f921"
             ]
            ],
            "type": "heatmap"
           }
          ],
          "heatmapgl": [
           {
            "colorbar": {
             "outlinewidth": 0,
             "ticks": ""
            },
            "colorscale": [
             [
              0,
              "#0d0887"
             ],
             [
              0.1111111111111111,
              "#46039f"
             ],
             [
              0.2222222222222222,
              "#7201a8"
             ],
             [
              0.3333333333333333,
              "#9c179e"
             ],
             [
              0.4444444444444444,
              "#bd3786"
             ],
             [
              0.5555555555555556,
              "#d8576b"
             ],
             [
              0.6666666666666666,
              "#ed7953"
             ],
             [
              0.7777777777777778,
              "#fb9f3a"
             ],
             [
              0.8888888888888888,
              "#fdca26"
             ],
             [
              1,
              "#f0f921"
             ]
            ],
            "type": "heatmapgl"
           }
          ],
          "histogram": [
           {
            "marker": {
             "pattern": {
              "fillmode": "overlay",
              "size": 10,
              "solidity": 0.2
             }
            },
            "type": "histogram"
           }
          ],
          "histogram2d": [
           {
            "colorbar": {
             "outlinewidth": 0,
             "ticks": ""
            },
            "colorscale": [
             [
              0,
              "#0d0887"
             ],
             [
              0.1111111111111111,
              "#46039f"
             ],
             [
              0.2222222222222222,
              "#7201a8"
             ],
             [
              0.3333333333333333,
              "#9c179e"
             ],
             [
              0.4444444444444444,
              "#bd3786"
             ],
             [
              0.5555555555555556,
              "#d8576b"
             ],
             [
              0.6666666666666666,
              "#ed7953"
             ],
             [
              0.7777777777777778,
              "#fb9f3a"
             ],
             [
              0.8888888888888888,
              "#fdca26"
             ],
             [
              1,
              "#f0f921"
             ]
            ],
            "type": "histogram2d"
           }
          ],
          "histogram2dcontour": [
           {
            "colorbar": {
             "outlinewidth": 0,
             "ticks": ""
            },
            "colorscale": [
             [
              0,
              "#0d0887"
             ],
             [
              0.1111111111111111,
              "#46039f"
             ],
             [
              0.2222222222222222,
              "#7201a8"
             ],
             [
              0.3333333333333333,
              "#9c179e"
             ],
             [
              0.4444444444444444,
              "#bd3786"
             ],
             [
              0.5555555555555556,
              "#d8576b"
             ],
             [
              0.6666666666666666,
              "#ed7953"
             ],
             [
              0.7777777777777778,
              "#fb9f3a"
             ],
             [
              0.8888888888888888,
              "#fdca26"
             ],
             [
              1,
              "#f0f921"
             ]
            ],
            "type": "histogram2dcontour"
           }
          ],
          "mesh3d": [
           {
            "colorbar": {
             "outlinewidth": 0,
             "ticks": ""
            },
            "type": "mesh3d"
           }
          ],
          "parcoords": [
           {
            "line": {
             "colorbar": {
              "outlinewidth": 0,
              "ticks": ""
             }
            },
            "type": "parcoords"
           }
          ],
          "pie": [
           {
            "automargin": true,
            "type": "pie"
           }
          ],
          "scatter": [
           {
            "marker": {
             "colorbar": {
              "outlinewidth": 0,
              "ticks": ""
             }
            },
            "type": "scatter"
           }
          ],
          "scatter3d": [
           {
            "line": {
             "colorbar": {
              "outlinewidth": 0,
              "ticks": ""
             }
            },
            "marker": {
             "colorbar": {
              "outlinewidth": 0,
              "ticks": ""
             }
            },
            "type": "scatter3d"
           }
          ],
          "scattercarpet": [
           {
            "marker": {
             "colorbar": {
              "outlinewidth": 0,
              "ticks": ""
             }
            },
            "type": "scattercarpet"
           }
          ],
          "scattergeo": [
           {
            "marker": {
             "colorbar": {
              "outlinewidth": 0,
              "ticks": ""
             }
            },
            "type": "scattergeo"
           }
          ],
          "scattergl": [
           {
            "marker": {
             "colorbar": {
              "outlinewidth": 0,
              "ticks": ""
             }
            },
            "type": "scattergl"
           }
          ],
          "scattermapbox": [
           {
            "marker": {
             "colorbar": {
              "outlinewidth": 0,
              "ticks": ""
             }
            },
            "type": "scattermapbox"
           }
          ],
          "scatterpolar": [
           {
            "marker": {
             "colorbar": {
              "outlinewidth": 0,
              "ticks": ""
             }
            },
            "type": "scatterpolar"
           }
          ],
          "scatterpolargl": [
           {
            "marker": {
             "colorbar": {
              "outlinewidth": 0,
              "ticks": ""
             }
            },
            "type": "scatterpolargl"
           }
          ],
          "scatterternary": [
           {
            "marker": {
             "colorbar": {
              "outlinewidth": 0,
              "ticks": ""
             }
            },
            "type": "scatterternary"
           }
          ],
          "surface": [
           {
            "colorbar": {
             "outlinewidth": 0,
             "ticks": ""
            },
            "colorscale": [
             [
              0,
              "#0d0887"
             ],
             [
              0.1111111111111111,
              "#46039f"
             ],
             [
              0.2222222222222222,
              "#7201a8"
             ],
             [
              0.3333333333333333,
              "#9c179e"
             ],
             [
              0.4444444444444444,
              "#bd3786"
             ],
             [
              0.5555555555555556,
              "#d8576b"
             ],
             [
              0.6666666666666666,
              "#ed7953"
             ],
             [
              0.7777777777777778,
              "#fb9f3a"
             ],
             [
              0.8888888888888888,
              "#fdca26"
             ],
             [
              1,
              "#f0f921"
             ]
            ],
            "type": "surface"
           }
          ],
          "table": [
           {
            "cells": {
             "fill": {
              "color": "#EBF0F8"
             },
             "line": {
              "color": "white"
             }
            },
            "header": {
             "fill": {
              "color": "#C8D4E3"
             },
             "line": {
              "color": "white"
             }
            },
            "type": "table"
           }
          ]
         },
         "layout": {
          "annotationdefaults": {
           "arrowcolor": "#2a3f5f",
           "arrowhead": 0,
           "arrowwidth": 1
          },
          "autotypenumbers": "strict",
          "coloraxis": {
           "colorbar": {
            "outlinewidth": 0,
            "ticks": ""
           }
          },
          "colorscale": {
           "diverging": [
            [
             0,
             "#8e0152"
            ],
            [
             0.1,
             "#c51b7d"
            ],
            [
             0.2,
             "#de77ae"
            ],
            [
             0.3,
             "#f1b6da"
            ],
            [
             0.4,
             "#fde0ef"
            ],
            [
             0.5,
             "#f7f7f7"
            ],
            [
             0.6,
             "#e6f5d0"
            ],
            [
             0.7,
             "#b8e186"
            ],
            [
             0.8,
             "#7fbc41"
            ],
            [
             0.9,
             "#4d9221"
            ],
            [
             1,
             "#276419"
            ]
           ],
           "sequential": [
            [
             0,
             "#0d0887"
            ],
            [
             0.1111111111111111,
             "#46039f"
            ],
            [
             0.2222222222222222,
             "#7201a8"
            ],
            [
             0.3333333333333333,
             "#9c179e"
            ],
            [
             0.4444444444444444,
             "#bd3786"
            ],
            [
             0.5555555555555556,
             "#d8576b"
            ],
            [
             0.6666666666666666,
             "#ed7953"
            ],
            [
             0.7777777777777778,
             "#fb9f3a"
            ],
            [
             0.8888888888888888,
             "#fdca26"
            ],
            [
             1,
             "#f0f921"
            ]
           ],
           "sequentialminus": [
            [
             0,
             "#0d0887"
            ],
            [
             0.1111111111111111,
             "#46039f"
            ],
            [
             0.2222222222222222,
             "#7201a8"
            ],
            [
             0.3333333333333333,
             "#9c179e"
            ],
            [
             0.4444444444444444,
             "#bd3786"
            ],
            [
             0.5555555555555556,
             "#d8576b"
            ],
            [
             0.6666666666666666,
             "#ed7953"
            ],
            [
             0.7777777777777778,
             "#fb9f3a"
            ],
            [
             0.8888888888888888,
             "#fdca26"
            ],
            [
             1,
             "#f0f921"
            ]
           ]
          },
          "colorway": [
           "#636efa",
           "#EF553B",
           "#00cc96",
           "#ab63fa",
           "#FFA15A",
           "#19d3f3",
           "#FF6692",
           "#B6E880",
           "#FF97FF",
           "#FECB52"
          ],
          "font": {
           "color": "#2a3f5f"
          },
          "geo": {
           "bgcolor": "white",
           "lakecolor": "white",
           "landcolor": "#E5ECF6",
           "showlakes": true,
           "showland": true,
           "subunitcolor": "white"
          },
          "hoverlabel": {
           "align": "left"
          },
          "hovermode": "closest",
          "mapbox": {
           "style": "light"
          },
          "paper_bgcolor": "white",
          "plot_bgcolor": "#E5ECF6",
          "polar": {
           "angularaxis": {
            "gridcolor": "white",
            "linecolor": "white",
            "ticks": ""
           },
           "bgcolor": "#E5ECF6",
           "radialaxis": {
            "gridcolor": "white",
            "linecolor": "white",
            "ticks": ""
           }
          },
          "scene": {
           "xaxis": {
            "backgroundcolor": "#E5ECF6",
            "gridcolor": "white",
            "gridwidth": 2,
            "linecolor": "white",
            "showbackground": true,
            "ticks": "",
            "zerolinecolor": "white"
           },
           "yaxis": {
            "backgroundcolor": "#E5ECF6",
            "gridcolor": "white",
            "gridwidth": 2,
            "linecolor": "white",
            "showbackground": true,
            "ticks": "",
            "zerolinecolor": "white"
           },
           "zaxis": {
            "backgroundcolor": "#E5ECF6",
            "gridcolor": "white",
            "gridwidth": 2,
            "linecolor": "white",
            "showbackground": true,
            "ticks": "",
            "zerolinecolor": "white"
           }
          },
          "shapedefaults": {
           "line": {
            "color": "#2a3f5f"
           }
          },
          "ternary": {
           "aaxis": {
            "gridcolor": "white",
            "linecolor": "white",
            "ticks": ""
           },
           "baxis": {
            "gridcolor": "white",
            "linecolor": "white",
            "ticks": ""
           },
           "bgcolor": "#E5ECF6",
           "caxis": {
            "gridcolor": "white",
            "linecolor": "white",
            "ticks": ""
           }
          },
          "title": {
           "x": 0.05
          },
          "xaxis": {
           "automargin": true,
           "gridcolor": "white",
           "linecolor": "white",
           "ticks": "",
           "title": {
            "standoff": 15
           },
           "zerolinecolor": "white",
           "zerolinewidth": 2
          },
          "yaxis": {
           "automargin": true,
           "gridcolor": "white",
           "linecolor": "white",
           "ticks": "",
           "title": {
            "standoff": 15
           },
           "zerolinecolor": "white",
           "zerolinewidth": 2
          }
         }
        },
        "title": {
         "text": "average_speed x start_time"
        },
        "width": 800,
        "xaxis": {
         "anchor": "y",
         "domain": [
          0,
          1
         ],
         "title": {
          "text": "start_time"
         }
        },
        "yaxis": {
         "anchor": "x",
         "domain": [
          0,
          1
         ],
         "title": {
          "text": "average_speed"
         }
        }
       }
      }
     },
     "metadata": {},
     "output_type": "display_data"
    }
   ],
   "source": [
    "fig.show()"
   ]
  },
  {
   "cell_type": "code",
   "execution_count": 76,
   "metadata": {},
   "outputs": [
    {
     "data": {
      "text/plain": [
       "str"
      ]
     },
     "execution_count": 76,
     "metadata": {},
     "output_type": "execute_result"
    }
   ],
   "source": [
    "type(strava_activities_clean['start_time'][2])"
   ]
  },
  {
   "cell_type": "code",
   "execution_count": 43,
   "metadata": {},
   "outputs": [],
   "source": []
  },
  {
   "cell_type": "code",
   "execution_count": 66,
   "metadata": {},
   "outputs": [
    {
     "data": {
      "text/plain": [
       "Timestamp('2022-06-28 19:05:39+0000', tz='UTC')"
      ]
     },
     "execution_count": 66,
     "metadata": {},
     "output_type": "execute_result"
    }
   ],
   "source": [
    "pd_dt_obj"
   ]
  },
  {
   "cell_type": "code",
   "execution_count": 65,
   "metadata": {},
   "outputs": [
    {
     "data": {
      "text/plain": [
       "Timestamp('2022-06-28 20:05:39+0000', tz='UTC')"
      ]
     },
     "execution_count": 65,
     "metadata": {},
     "output_type": "execute_result"
    }
   ],
   "source": [
    "pd_dt_obj + pd.Timedelta(3600, unit='sec')"
   ]
  },
  {
   "cell_type": "code",
   "execution_count": 67,
   "metadata": {},
   "outputs": [
    {
     "data": {
      "text/plain": [
       "numpy.datetime64('2022-06-28T19:05:39.000000000')"
      ]
     },
     "execution_count": 67,
     "metadata": {},
     "output_type": "execute_result"
    }
   ],
   "source": [
    "regular_dt_obj"
   ]
  }
 ],
 "metadata": {
  "kernelspec": {
   "display_name": "Python 3.10.4 ('fitenv')",
   "language": "python",
   "name": "python3"
  },
  "language_info": {
   "codemirror_mode": {
    "name": "ipython",
    "version": 3
   },
   "file_extension": ".py",
   "mimetype": "text/x-python",
   "name": "python",
   "nbconvert_exporter": "python",
   "pygments_lexer": "ipython3",
   "version": "3.10.4"
  },
  "orig_nbformat": 4,
  "vscode": {
   "interpreter": {
    "hash": "aa41fd63d626749efe36bc8d2d9c0cee9baac5e0011d961c92820e04ca9bec88"
   }
  }
 },
 "nbformat": 4,
 "nbformat_minor": 2
}
